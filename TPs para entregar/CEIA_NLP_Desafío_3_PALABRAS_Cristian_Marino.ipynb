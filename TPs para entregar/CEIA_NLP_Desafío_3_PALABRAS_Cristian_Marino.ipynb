{
  "nbformat": 4,
  "nbformat_minor": 0,
  "metadata": {
    "colab": {
      "provenance": [],
      "machine_shape": "hm",
      "gpuType": "T4"
    },
    "kernelspec": {
      "name": "python3",
      "display_name": "Python 3"
    },
    "language_info": {
      "name": "python"
    },
    "accelerator": "GPU"
  },
  "cells": [
    {
      "cell_type": "markdown",
      "source": [
        "## TP 3 - NLP - Parte 1: PALABRAS\n",
        "\n",
        "Consigna\n",
        "\n",
        "Seleccionar un corpus de texto sobre el cual entrenar el modelo de lenguaje.\n",
        "\n",
        "Realizar el pre-procesamiento adecuado para tokenizar el corpus, estructurar el dataset y separar entre datos de entrenamiento y validación.\n",
        "\n",
        "Proponer arquitecturas de redes neuronales basadas en unidades recurrentes para implementar un modelo de lenguaje.\n",
        "\n",
        "Con el o los modelos que consideren adecuados, generar nuevas secuencias a partir de secuencias de contexto con las estrategias de greedy search y beam search determístico y estocástico. En este último caso observar el efecto de la temperatura en la generación de secuencias.\n",
        "\n",
        "\n",
        "Sugerencias\n",
        "\n",
        "Durante el entrenamiento, guiarse por el descenso de la perplejidad en los datos de validación para finalizar el entrenamiento. Para ello se provee un callback.\n",
        "\n",
        "Explorar utilizar SimpleRNN (celda de Elman), LSTM y GRU.\n",
        "\n",
        "rmsprop es el optimizador recomendado para la buena convergencia. No obstante se pueden explorar otros."
      ],
      "metadata": {
        "id": "Y3zdTwAljjI6"
      }
    },
    {
      "cell_type": "code",
      "execution_count": 1,
      "metadata": {
        "id": "HXYpyrI43Fdf"
      },
      "outputs": [],
      "source": [
        "import random\n",
        "import io\n",
        "import pickle\n",
        "\n",
        "import numpy as np\n",
        "import pandas as pd\n",
        "import matplotlib.pyplot as plt\n",
        "from sklearn.model_selection import train_test_split\n",
        "\n",
        "from tensorflow import keras\n",
        "from tensorflow.keras import layers\n",
        "from keras.utils import to_categorical\n",
        "from keras.models import Sequential\n",
        "from keras.layers import Dense, LSTM, Embedding, Dropout\n",
        "from tensorflow.keras.losses import SparseCategoricalCrossentropy"
      ]
    },
    {
      "cell_type": "code",
      "source": [
        "from google.colab import drive\n",
        "drive.mount('/content/drive')\n",
        "file_path = '/content/drive/My Drive/NLP CEIA/Agatha_Christie_TheMuerderOfRogerAckroyd.txt'"
      ],
      "metadata": {
        "colab": {
          "base_uri": "https://localhost:8080/"
        },
        "id": "z_IuU0up5rtP",
        "outputId": "de6527bb-e923-43bf-f0e6-11317ceeecc8"
      },
      "execution_count": 2,
      "outputs": [
        {
          "output_type": "stream",
          "name": "stdout",
          "text": [
            "Mounted at /content/drive\n"
          ]
        }
      ]
    },
    {
      "cell_type": "code",
      "source": [
        "# Armar el dataset utilizando salto de línea para separar las oraciones/docs\n",
        "df = pd.read_csv(file_path, sep='/n', header=None)\n",
        "df.head(30)"
      ],
      "metadata": {
        "colab": {
          "base_uri": "https://localhost:8080/",
          "height": 1000
        },
        "id": "TiirtqeW5-8m",
        "outputId": "c22281d9-3dbe-4e3d-8634-9f3c7b6e057e"
      },
      "execution_count": 6,
      "outputs": [
        {
          "output_type": "stream",
          "name": "stderr",
          "text": [
            "<ipython-input-6-52eba8e7f133>:2: ParserWarning: Falling back to the 'python' engine because the 'c' engine does not support regex separators (separators > 1 char and different from '\\s+' are interpreted as regex); you can avoid this warning by specifying engine='python'.\n",
            "  df = pd.read_csv(file_path, sep='/n', header=None)\n"
          ]
        },
        {
          "output_type": "execute_result",
          "data": {
            "text/plain": [
              "                                                    0\n",
              "0   The Project Gutenberg eBook of The murder of R...\n",
              "1   This ebook is for the use of anyone anywhere i...\n",
              "2   most other parts of the world at no cost and w...\n",
              "3   whatsoever. You may copy it, give it away or r...\n",
              "4   of the Project Gutenberg License included with...\n",
              "5   at www.gutenberg.org. If you are not located i...\n",
              "6   you will have to check the laws of the country...\n",
              "7                            before using this eBook.\n",
              "8                  Title: The murder of Roger Ackroyd\n",
              "9                             Author: Agatha Christie\n",
              "10       Release date: October 2, 2022 [eBook #69087]\n",
              "11            Most recently updated: January 31, 2024\n",
              "12                                  Language: English\n",
              "13  Original publication: United States: Grosset &...\n",
              "14  Credits: Emmanuel Ackerman, Robert Tonsing and...\n",
              "15  *** START OF THE PROJECT GUTENBERG EBOOK THE M...\n",
              "16                                      THE MURDER OF\n",
              "17                                      ROGER ACKROYD\n",
              "18                                                 BY\n",
              "19                                    AGATHA CHRISTIE\n",
              "20                                          AUTHOR OF\n",
              "21                            THE SECRET OF CHIMNEYS,\n",
              "22                      THE MURDER ON THE LINKS, Etc.\n",
              "23                                     [Illustration]\n",
              "24                                   GROSSET & DUNLAP\n",
              "25                             PUBLISHERS    NEW YORK\n",
              "26                                   Copyright, 1926,\n",
              "27                    By DODD, MEAD AND COMPANY, Inc.\n",
              "28                                         To Punkie,\n",
              "29                    who likes an orthodox detective"
            ],
            "text/html": [
              "\n",
              "  <div id=\"df-e7c500be-299f-4902-bc60-d35ccc3ce1d7\" class=\"colab-df-container\">\n",
              "    <div>\n",
              "<style scoped>\n",
              "    .dataframe tbody tr th:only-of-type {\n",
              "        vertical-align: middle;\n",
              "    }\n",
              "\n",
              "    .dataframe tbody tr th {\n",
              "        vertical-align: top;\n",
              "    }\n",
              "\n",
              "    .dataframe thead th {\n",
              "        text-align: right;\n",
              "    }\n",
              "</style>\n",
              "<table border=\"1\" class=\"dataframe\">\n",
              "  <thead>\n",
              "    <tr style=\"text-align: right;\">\n",
              "      <th></th>\n",
              "      <th>0</th>\n",
              "    </tr>\n",
              "  </thead>\n",
              "  <tbody>\n",
              "    <tr>\n",
              "      <th>0</th>\n",
              "      <td>The Project Gutenberg eBook of The murder of R...</td>\n",
              "    </tr>\n",
              "    <tr>\n",
              "      <th>1</th>\n",
              "      <td>This ebook is for the use of anyone anywhere i...</td>\n",
              "    </tr>\n",
              "    <tr>\n",
              "      <th>2</th>\n",
              "      <td>most other parts of the world at no cost and w...</td>\n",
              "    </tr>\n",
              "    <tr>\n",
              "      <th>3</th>\n",
              "      <td>whatsoever. You may copy it, give it away or r...</td>\n",
              "    </tr>\n",
              "    <tr>\n",
              "      <th>4</th>\n",
              "      <td>of the Project Gutenberg License included with...</td>\n",
              "    </tr>\n",
              "    <tr>\n",
              "      <th>5</th>\n",
              "      <td>at www.gutenberg.org. If you are not located i...</td>\n",
              "    </tr>\n",
              "    <tr>\n",
              "      <th>6</th>\n",
              "      <td>you will have to check the laws of the country...</td>\n",
              "    </tr>\n",
              "    <tr>\n",
              "      <th>7</th>\n",
              "      <td>before using this eBook.</td>\n",
              "    </tr>\n",
              "    <tr>\n",
              "      <th>8</th>\n",
              "      <td>Title: The murder of Roger Ackroyd</td>\n",
              "    </tr>\n",
              "    <tr>\n",
              "      <th>9</th>\n",
              "      <td>Author: Agatha Christie</td>\n",
              "    </tr>\n",
              "    <tr>\n",
              "      <th>10</th>\n",
              "      <td>Release date: October 2, 2022 [eBook #69087]</td>\n",
              "    </tr>\n",
              "    <tr>\n",
              "      <th>11</th>\n",
              "      <td>Most recently updated: January 31, 2024</td>\n",
              "    </tr>\n",
              "    <tr>\n",
              "      <th>12</th>\n",
              "      <td>Language: English</td>\n",
              "    </tr>\n",
              "    <tr>\n",
              "      <th>13</th>\n",
              "      <td>Original publication: United States: Grosset &amp;...</td>\n",
              "    </tr>\n",
              "    <tr>\n",
              "      <th>14</th>\n",
              "      <td>Credits: Emmanuel Ackerman, Robert Tonsing and...</td>\n",
              "    </tr>\n",
              "    <tr>\n",
              "      <th>15</th>\n",
              "      <td>*** START OF THE PROJECT GUTENBERG EBOOK THE M...</td>\n",
              "    </tr>\n",
              "    <tr>\n",
              "      <th>16</th>\n",
              "      <td>THE MURDER OF</td>\n",
              "    </tr>\n",
              "    <tr>\n",
              "      <th>17</th>\n",
              "      <td>ROGER ACKROYD</td>\n",
              "    </tr>\n",
              "    <tr>\n",
              "      <th>18</th>\n",
              "      <td>BY</td>\n",
              "    </tr>\n",
              "    <tr>\n",
              "      <th>19</th>\n",
              "      <td>AGATHA CHRISTIE</td>\n",
              "    </tr>\n",
              "    <tr>\n",
              "      <th>20</th>\n",
              "      <td>AUTHOR OF</td>\n",
              "    </tr>\n",
              "    <tr>\n",
              "      <th>21</th>\n",
              "      <td>THE SECRET OF CHIMNEYS,</td>\n",
              "    </tr>\n",
              "    <tr>\n",
              "      <th>22</th>\n",
              "      <td>THE MURDER ON THE LINKS, Etc.</td>\n",
              "    </tr>\n",
              "    <tr>\n",
              "      <th>23</th>\n",
              "      <td>[Illustration]</td>\n",
              "    </tr>\n",
              "    <tr>\n",
              "      <th>24</th>\n",
              "      <td>GROSSET &amp; DUNLAP</td>\n",
              "    </tr>\n",
              "    <tr>\n",
              "      <th>25</th>\n",
              "      <td>PUBLISHERS    NEW YORK</td>\n",
              "    </tr>\n",
              "    <tr>\n",
              "      <th>26</th>\n",
              "      <td>Copyright, 1926,</td>\n",
              "    </tr>\n",
              "    <tr>\n",
              "      <th>27</th>\n",
              "      <td>By DODD, MEAD AND COMPANY, Inc.</td>\n",
              "    </tr>\n",
              "    <tr>\n",
              "      <th>28</th>\n",
              "      <td>To Punkie,</td>\n",
              "    </tr>\n",
              "    <tr>\n",
              "      <th>29</th>\n",
              "      <td>who likes an orthodox detective</td>\n",
              "    </tr>\n",
              "  </tbody>\n",
              "</table>\n",
              "</div>\n",
              "    <div class=\"colab-df-buttons\">\n",
              "\n",
              "  <div class=\"colab-df-container\">\n",
              "    <button class=\"colab-df-convert\" onclick=\"convertToInteractive('df-e7c500be-299f-4902-bc60-d35ccc3ce1d7')\"\n",
              "            title=\"Convert this dataframe to an interactive table.\"\n",
              "            style=\"display:none;\">\n",
              "\n",
              "  <svg xmlns=\"http://www.w3.org/2000/svg\" height=\"24px\" viewBox=\"0 -960 960 960\">\n",
              "    <path d=\"M120-120v-720h720v720H120Zm60-500h600v-160H180v160Zm220 220h160v-160H400v160Zm0 220h160v-160H400v160ZM180-400h160v-160H180v160Zm440 0h160v-160H620v160ZM180-180h160v-160H180v160Zm440 0h160v-160H620v160Z\"/>\n",
              "  </svg>\n",
              "    </button>\n",
              "\n",
              "  <style>\n",
              "    .colab-df-container {\n",
              "      display:flex;\n",
              "      gap: 12px;\n",
              "    }\n",
              "\n",
              "    .colab-df-convert {\n",
              "      background-color: #E8F0FE;\n",
              "      border: none;\n",
              "      border-radius: 50%;\n",
              "      cursor: pointer;\n",
              "      display: none;\n",
              "      fill: #1967D2;\n",
              "      height: 32px;\n",
              "      padding: 0 0 0 0;\n",
              "      width: 32px;\n",
              "    }\n",
              "\n",
              "    .colab-df-convert:hover {\n",
              "      background-color: #E2EBFA;\n",
              "      box-shadow: 0px 1px 2px rgba(60, 64, 67, 0.3), 0px 1px 3px 1px rgba(60, 64, 67, 0.15);\n",
              "      fill: #174EA6;\n",
              "    }\n",
              "\n",
              "    .colab-df-buttons div {\n",
              "      margin-bottom: 4px;\n",
              "    }\n",
              "\n",
              "    [theme=dark] .colab-df-convert {\n",
              "      background-color: #3B4455;\n",
              "      fill: #D2E3FC;\n",
              "    }\n",
              "\n",
              "    [theme=dark] .colab-df-convert:hover {\n",
              "      background-color: #434B5C;\n",
              "      box-shadow: 0px 1px 3px 1px rgba(0, 0, 0, 0.15);\n",
              "      filter: drop-shadow(0px 1px 2px rgba(0, 0, 0, 0.3));\n",
              "      fill: #FFFFFF;\n",
              "    }\n",
              "  </style>\n",
              "\n",
              "    <script>\n",
              "      const buttonEl =\n",
              "        document.querySelector('#df-e7c500be-299f-4902-bc60-d35ccc3ce1d7 button.colab-df-convert');\n",
              "      buttonEl.style.display =\n",
              "        google.colab.kernel.accessAllowed ? 'block' : 'none';\n",
              "\n",
              "      async function convertToInteractive(key) {\n",
              "        const element = document.querySelector('#df-e7c500be-299f-4902-bc60-d35ccc3ce1d7');\n",
              "        const dataTable =\n",
              "          await google.colab.kernel.invokeFunction('convertToInteractive',\n",
              "                                                    [key], {});\n",
              "        if (!dataTable) return;\n",
              "\n",
              "        const docLinkHtml = 'Like what you see? Visit the ' +\n",
              "          '<a target=\"_blank\" href=https://colab.research.google.com/notebooks/data_table.ipynb>data table notebook</a>'\n",
              "          + ' to learn more about interactive tables.';\n",
              "        element.innerHTML = '';\n",
              "        dataTable['output_type'] = 'display_data';\n",
              "        await google.colab.output.renderOutput(dataTable, element);\n",
              "        const docLink = document.createElement('div');\n",
              "        docLink.innerHTML = docLinkHtml;\n",
              "        element.appendChild(docLink);\n",
              "      }\n",
              "    </script>\n",
              "  </div>\n",
              "\n",
              "\n",
              "<div id=\"df-ab22b7bb-d260-45cc-b1c9-8d2e1c617740\">\n",
              "  <button class=\"colab-df-quickchart\" onclick=\"quickchart('df-ab22b7bb-d260-45cc-b1c9-8d2e1c617740')\"\n",
              "            title=\"Suggest charts\"\n",
              "            style=\"display:none;\">\n",
              "\n",
              "<svg xmlns=\"http://www.w3.org/2000/svg\" height=\"24px\"viewBox=\"0 0 24 24\"\n",
              "     width=\"24px\">\n",
              "    <g>\n",
              "        <path d=\"M19 3H5c-1.1 0-2 .9-2 2v14c0 1.1.9 2 2 2h14c1.1 0 2-.9 2-2V5c0-1.1-.9-2-2-2zM9 17H7v-7h2v7zm4 0h-2V7h2v10zm4 0h-2v-4h2v4z\"/>\n",
              "    </g>\n",
              "</svg>\n",
              "  </button>\n",
              "\n",
              "<style>\n",
              "  .colab-df-quickchart {\n",
              "      --bg-color: #E8F0FE;\n",
              "      --fill-color: #1967D2;\n",
              "      --hover-bg-color: #E2EBFA;\n",
              "      --hover-fill-color: #174EA6;\n",
              "      --disabled-fill-color: #AAA;\n",
              "      --disabled-bg-color: #DDD;\n",
              "  }\n",
              "\n",
              "  [theme=dark] .colab-df-quickchart {\n",
              "      --bg-color: #3B4455;\n",
              "      --fill-color: #D2E3FC;\n",
              "      --hover-bg-color: #434B5C;\n",
              "      --hover-fill-color: #FFFFFF;\n",
              "      --disabled-bg-color: #3B4455;\n",
              "      --disabled-fill-color: #666;\n",
              "  }\n",
              "\n",
              "  .colab-df-quickchart {\n",
              "    background-color: var(--bg-color);\n",
              "    border: none;\n",
              "    border-radius: 50%;\n",
              "    cursor: pointer;\n",
              "    display: none;\n",
              "    fill: var(--fill-color);\n",
              "    height: 32px;\n",
              "    padding: 0;\n",
              "    width: 32px;\n",
              "  }\n",
              "\n",
              "  .colab-df-quickchart:hover {\n",
              "    background-color: var(--hover-bg-color);\n",
              "    box-shadow: 0 1px 2px rgba(60, 64, 67, 0.3), 0 1px 3px 1px rgba(60, 64, 67, 0.15);\n",
              "    fill: var(--button-hover-fill-color);\n",
              "  }\n",
              "\n",
              "  .colab-df-quickchart-complete:disabled,\n",
              "  .colab-df-quickchart-complete:disabled:hover {\n",
              "    background-color: var(--disabled-bg-color);\n",
              "    fill: var(--disabled-fill-color);\n",
              "    box-shadow: none;\n",
              "  }\n",
              "\n",
              "  .colab-df-spinner {\n",
              "    border: 2px solid var(--fill-color);\n",
              "    border-color: transparent;\n",
              "    border-bottom-color: var(--fill-color);\n",
              "    animation:\n",
              "      spin 1s steps(1) infinite;\n",
              "  }\n",
              "\n",
              "  @keyframes spin {\n",
              "    0% {\n",
              "      border-color: transparent;\n",
              "      border-bottom-color: var(--fill-color);\n",
              "      border-left-color: var(--fill-color);\n",
              "    }\n",
              "    20% {\n",
              "      border-color: transparent;\n",
              "      border-left-color: var(--fill-color);\n",
              "      border-top-color: var(--fill-color);\n",
              "    }\n",
              "    30% {\n",
              "      border-color: transparent;\n",
              "      border-left-color: var(--fill-color);\n",
              "      border-top-color: var(--fill-color);\n",
              "      border-right-color: var(--fill-color);\n",
              "    }\n",
              "    40% {\n",
              "      border-color: transparent;\n",
              "      border-right-color: var(--fill-color);\n",
              "      border-top-color: var(--fill-color);\n",
              "    }\n",
              "    60% {\n",
              "      border-color: transparent;\n",
              "      border-right-color: var(--fill-color);\n",
              "    }\n",
              "    80% {\n",
              "      border-color: transparent;\n",
              "      border-right-color: var(--fill-color);\n",
              "      border-bottom-color: var(--fill-color);\n",
              "    }\n",
              "    90% {\n",
              "      border-color: transparent;\n",
              "      border-bottom-color: var(--fill-color);\n",
              "    }\n",
              "  }\n",
              "</style>\n",
              "\n",
              "  <script>\n",
              "    async function quickchart(key) {\n",
              "      const quickchartButtonEl =\n",
              "        document.querySelector('#' + key + ' button');\n",
              "      quickchartButtonEl.disabled = true;  // To prevent multiple clicks.\n",
              "      quickchartButtonEl.classList.add('colab-df-spinner');\n",
              "      try {\n",
              "        const charts = await google.colab.kernel.invokeFunction(\n",
              "            'suggestCharts', [key], {});\n",
              "      } catch (error) {\n",
              "        console.error('Error during call to suggestCharts:', error);\n",
              "      }\n",
              "      quickchartButtonEl.classList.remove('colab-df-spinner');\n",
              "      quickchartButtonEl.classList.add('colab-df-quickchart-complete');\n",
              "    }\n",
              "    (() => {\n",
              "      let quickchartButtonEl =\n",
              "        document.querySelector('#df-ab22b7bb-d260-45cc-b1c9-8d2e1c617740 button');\n",
              "      quickchartButtonEl.style.display =\n",
              "        google.colab.kernel.accessAllowed ? 'block' : 'none';\n",
              "    })();\n",
              "  </script>\n",
              "</div>\n",
              "\n",
              "    </div>\n",
              "  </div>\n"
            ],
            "application/vnd.google.colaboratory.intrinsic+json": {
              "type": "dataframe",
              "variable_name": "df",
              "summary": "{\n  \"name\": \"df\",\n  \"rows\": 7592,\n  \"fields\": [\n    {\n      \"column\": 0,\n      \"properties\": {\n        \"dtype\": \"string\",\n        \"num_unique_values\": 7500,\n        \"samples\": [\n          \"Ackroyd waited just a minute before replying.\",\n          \"POIROT\\u2019S LITTLE REUNION\",\n          \"discover the truth.\"\n        ],\n        \"semantic_type\": \"\",\n        \"description\": \"\"\n      }\n    }\n  ]\n}"
            }
          },
          "metadata": {},
          "execution_count": 6
        }
      ]
    },
    {
      "cell_type": "code",
      "source": [
        "print(\"Cantidad de documentos:\", df.shape[0])"
      ],
      "metadata": {
        "colab": {
          "base_uri": "https://localhost:8080/"
        },
        "id": "j_CC79-D6nX3",
        "outputId": "8810e66a-88d6-453d-a29e-bfcf3d6afa50"
      },
      "execution_count": 7,
      "outputs": [
        {
          "output_type": "stream",
          "name": "stdout",
          "text": [
            "Cantidad de documentos: 7592\n"
          ]
        }
      ]
    },
    {
      "cell_type": "code",
      "source": [
        "# Usaremos las utilidades de procesamiento de textos y secuencias de Keras\n",
        "from tensorflow.keras.preprocessing.text import Tokenizer # equivalente a ltokenizer de nltk\n",
        "from tensorflow.keras.preprocessing.text import text_to_word_sequence # equivalente a word_tokenize de nltk\n",
        "from tensorflow.keras.utils import pad_sequences # se utilizará para padding"
      ],
      "metadata": {
        "id": "l9N-9JYy6NnN"
      },
      "execution_count": 8,
      "outputs": []
    },
    {
      "cell_type": "code",
      "source": [
        "# cada verso lo guardamos en una lista\n",
        "text = list(df.loc[:,0])\n",
        "text"
      ],
      "metadata": {
        "colab": {
          "base_uri": "https://localhost:8080/"
        },
        "id": "GQWtKxfQ6s4W",
        "outputId": "d1a2c51d-a307-403d-a07e-6091550be768"
      },
      "execution_count": 9,
      "outputs": [
        {
          "output_type": "execute_result",
          "data": {
            "text/plain": [
              "['The Project Gutenberg eBook of The murder of Roger Ackroyd',\n",
              " 'This ebook is for the use of anyone anywhere in the United States and',\n",
              " 'most other parts of the world at no cost and with almost no restrictions',\n",
              " 'whatsoever. You may copy it, give it away or re-use it under the terms',\n",
              " 'of the Project Gutenberg License included with this ebook or online',\n",
              " 'at www.gutenberg.org. If you are not located in the United States,',\n",
              " 'you will have to check the laws of the country where you are located',\n",
              " 'before using this eBook.',\n",
              " 'Title: The murder of Roger Ackroyd',\n",
              " 'Author: Agatha Christie',\n",
              " 'Release date: October 2, 2022 [eBook #69087]',\n",
              " 'Most recently updated: January 31, 2024',\n",
              " 'Language: English',\n",
              " 'Original publication: United States: Grosset & Dunlap',\n",
              " 'Credits: Emmanuel Ackerman, Robert Tonsing and the Online Distributed Proofreading Team at https://www.pgdp.net (This book was produced from images made available by the HathiTrust Digital Library.)',\n",
              " '*** START OF THE PROJECT GUTENBERG EBOOK THE MURDER OF ROGER ACKROYD ***',\n",
              " 'THE MURDER OF',\n",
              " 'ROGER ACKROYD',\n",
              " 'BY',\n",
              " 'AGATHA CHRISTIE',\n",
              " 'AUTHOR OF',\n",
              " 'THE SECRET OF CHIMNEYS,',\n",
              " 'THE MURDER ON THE LINKS, Etc.',\n",
              " '[Illustration]',\n",
              " 'GROSSET & DUNLAP',\n",
              " 'PUBLISHERS    NEW YORK',\n",
              " 'Copyright, 1926,',\n",
              " 'By DODD, MEAD AND COMPANY, Inc.',\n",
              " 'To Punkie,',\n",
              " 'who likes an orthodox detective',\n",
              " 'story, murder, inquest, and suspicion',\n",
              " 'falling on every one in turn!',\n",
              " 'CONTENTS',\n",
              " 'CHAPTER                                                           PAGE',\n",
              " 'I  DR. SHEPPARD AT THE BREAKFAST TABLE                           1',\n",
              " 'II  WHO’S WHO IN KING’S ABBOT                                     7',\n",
              " 'III  THE MAN WHO GREW VEGETABLE MARROWS                           17',\n",
              " 'IV  DINNER AT FERNLY                                             31',\n",
              " 'V  MURDER                                                       49',\n",
              " 'VI  THE TUNISIAN DAGGER                                          65',\n",
              " 'VII  I LEARN MY NEIGHBOR’S PROFESSION                             75',\n",
              " 'VIII  INSPECTOR RAGLAN IS CONFIDENT                                92',\n",
              " 'IX  THE GOLDFISH POND                                           106',\n",
              " 'X  THE PARLORMAID                                              118',\n",
              " 'XI  POIROT PAYS A CALL                                          136',\n",
              " 'XII  ROUND THE TABLE                                             145',\n",
              " 'XIII  THE GOOSE QUILL                                             156',\n",
              " 'XIV  MRS. ACKROYD                                                165',\n",
              " 'XV  GEOFFREY RAYMOND                                            178',\n",
              " 'XVI  AN EVENING AT MAH JONG                                      190',\n",
              " 'XVII  PARKER                                                      202',\n",
              " 'XVIII  CHARLES KENT                                                218',\n",
              " 'XIX  FLORA ACKROYD                                               226',\n",
              " 'XX  MISS RUSSELL                                                238',\n",
              " 'XXI  THE PARAGRAPH IN THE PAPER                                  251',\n",
              " 'XXII  URSULA’S STORY                                              260',\n",
              " 'XXIII  POIROT’S LITTLE REUNION                                     269',\n",
              " 'XXIV  RALPH PATON’S STORY                                         284',\n",
              " 'XXV  THE WHOLE TRUTH                                             289',\n",
              " 'XXVI  AND NOTHING BUT THE TRUTH                                   298',\n",
              " 'XXVII  APOLOGIA                                                    303',\n",
              " 'THE MURDER OF',\n",
              " 'ROGER ACKROYD',\n",
              " 'CHAPTER I',\n",
              " 'DR. SHEPPARD AT THE BREAKFAST TABLE',\n",
              " 'Mrs. Ferrars died on the night of the 16th–17th September—a Thursday. I',\n",
              " 'was sent for at eight o’clock on the morning of Friday the 17th. There',\n",
              " 'was nothing to be done. She had been dead some hours.',\n",
              " 'It was just a few minutes after nine when I reached home once more. I',\n",
              " 'opened the front door with my latch-key, and purposely delayed a few',\n",
              " 'moments in the hall, hanging up my hat and the light overcoat that',\n",
              " 'I had deemed a wise precaution against the chill of an early autumn',\n",
              " 'morning. To tell the truth, I was considerably upset and worried. I am',\n",
              " 'not going to pretend that at that moment I foresaw the events of the',\n",
              " 'next few weeks. I emphatically did not do so. But my instinct told me',\n",
              " 'that there were stirring times ahead.',\n",
              " 'From the dining-room on my left there came the rattle of tea-cups and',\n",
              " 'the short, dry cough of my sister Caroline.',\n",
              " '“Is that you, James?” she called.',\n",
              " 'An unnecessary question, since who else could it be? To tell the',\n",
              " 'truth, it was precisely my sister Caroline who was the cause of my few',\n",
              " 'minutes’ delay. The motto of the mongoose family, so Mr. Kipling tells',\n",
              " 'us, is: “Go and find out.” If Caroline ever adopts a crest, I should',\n",
              " 'certainly suggest a mongoose rampant. One might omit the first part',\n",
              " 'of the motto. Caroline can do any amount of finding out by sitting',\n",
              " 'placidly at home. I don’t know how she manages it, but there it is. I',\n",
              " 'suspect that the servants and the tradesmen constitute her Intelligence',\n",
              " 'Corps. When she goes out, it is not to gather in information, but to',\n",
              " 'spread it. At that, too, she is amazingly expert.',\n",
              " 'It was really this last named trait of hers which was causing me these',\n",
              " 'pangs of indecision. Whatever I told Caroline now concerning the demise',\n",
              " 'of Mrs. Ferrars would be common knowledge all over the village within',\n",
              " 'the space of an hour and a half. As a professional man, I naturally',\n",
              " 'aim at discretion. Therefore I have got into the habit of continually',\n",
              " 'withholding all information possible from my sister. She usually finds',\n",
              " 'out just the same, but I have the moral satisfaction of knowing that I',\n",
              " 'am in no way to blame.',\n",
              " 'Mrs. Ferrars’ husband died just over a year ago, and Caroline has',\n",
              " 'constantly asserted, without the least foundation for the assertion,',\n",
              " 'that his wife poisoned him.',\n",
              " 'She scorns my invariable rejoinder that Mr. Ferrars died of acute',\n",
              " 'gastritis, helped on by habitual over-indulgence in alcoholic',\n",
              " 'beverages. The symptoms of gastritis and arsenical poisoning are not,',\n",
              " 'I agree, unlike, but Caroline bases her accusation on quite different',\n",
              " 'lines.',\n",
              " '“You’ve only got to look at her,” I have heard her say.',\n",
              " 'Mrs. Ferrars, though not in her first youth, was a very attractive',\n",
              " 'woman, and her clothes, though simple, always seemed to fit her very',\n",
              " 'well, but all the same, lots of women buy their clothes in Paris and',\n",
              " 'have not, on that account, necessarily poisoned their husbands.',\n",
              " 'As I stood hesitating in the hall, with all this passing through my',\n",
              " 'mind, Caroline’s voice came again, with a sharper note in it.',\n",
              " '“What on earth are you doing out there, James? Why don’t you come and',\n",
              " 'get your breakfast?”',\n",
              " '“Just coming, my dear,” I said hastily. “I’ve been hanging up my',\n",
              " 'overcoat.”',\n",
              " '“You could have hung up half a dozen overcoats in this time.”',\n",
              " 'She was quite right. I could have.',\n",
              " 'I walked into the dining-room, gave Caroline the accustomed peck on the',\n",
              " 'cheek, and sat down to eggs and bacon. The bacon was rather cold.',\n",
              " '“You’ve had an early call,” remarked Caroline.',\n",
              " '“Yes,” I said. “King’s Paddock. Mrs. Ferrars.”',\n",
              " '“I know,” said my sister.',\n",
              " '“How did you know?”',\n",
              " '“Annie told me.”',\n",
              " 'Annie is the house parlormaid. A nice girl, but an inveterate talker.',\n",
              " 'There was a pause. I continued to eat eggs and bacon. My sister’s nose,',\n",
              " 'which is long and thin, quivered a little at the tip, as it always does',\n",
              " 'when she is interested or excited over anything.',\n",
              " '“Well?” she demanded.',\n",
              " '“A bad business. Nothing to be done. Must have died in her sleep.”',\n",
              " '“I know,” said my sister again.',\n",
              " 'This time I was annoyed.',\n",
              " '“You can’t know,” I snapped. “I didn’t know myself until I got there,',\n",
              " 'and I haven’t mentioned it to a soul yet. If that girl Annie knows, she',\n",
              " 'must be a clairvoyant.”',\n",
              " '“It wasn’t Annie who told me. It was the milkman. He had it from the',\n",
              " 'Ferrars’ cook.”',\n",
              " 'As I say, there is no need for Caroline to go out to get information.',\n",
              " 'She sits at home, and it comes to her.',\n",
              " 'My sister continued:',\n",
              " '“What did she die of? Heart failure?”',\n",
              " '“Didn’t the milkman tell you that?” I inquired sarcastically.',\n",
              " 'Sarcasm is wasted on Caroline. She takes it seriously and answers',\n",
              " 'accordingly.',\n",
              " '“He didn’t know,” she explained.',\n",
              " 'After all, Caroline was bound to hear sooner or later. She might as',\n",
              " 'well hear from me.',\n",
              " '“She died of an overdose of veronal. She’s been taking it lately for',\n",
              " 'sleeplessness. Must have taken too much.”',\n",
              " '“Nonsense,” said Caroline immediately. “She took it on purpose. Don’t',\n",
              " 'tell me!”',\n",
              " 'It is odd how, when you have a secret belief of your own which you do',\n",
              " 'not wish to acknowledge, the voicing of it by some one else will rouse',\n",
              " 'you to a fury of denial. I burst immediately into indignant speech.',\n",
              " '“There you go again,” I said. “Rushing along without rhyme or reason.',\n",
              " 'Why on earth should Mrs. Ferrars wish to commit suicide? A widow,',\n",
              " 'fairly young still, very well off, good health, and nothing to do but',\n",
              " 'enjoy life. It’s absurd.”',\n",
              " '“Not at all. Even you must have noticed how different she has been',\n",
              " 'looking lately. It’s been coming on for the last six months. She’s',\n",
              " 'looked positively hag-ridden. And you have just admitted that she',\n",
              " 'hasn’t been able to sleep.”',\n",
              " '“What is your diagnosis?” I demanded coldly. “An unfortunate love',\n",
              " 'affair, I suppose?”',\n",
              " 'My sister shook her head.',\n",
              " '“_Remorse_,” she said, with great gusto.',\n",
              " '“Remorse?”',\n",
              " '“Yes. You never would believe me when I told you she poisoned her',\n",
              " 'husband. I’m more than ever convinced of it now.”',\n",
              " '“I don’t think you’re very logical,” I objected. “Surely if a woman',\n",
              " 'committed a crime like murder, she’d be sufficiently cold-blooded to',\n",
              " 'enjoy the fruits of it without any weak-minded sentimentality such as',\n",
              " 'repentance.”',\n",
              " 'Caroline shook her head.',\n",
              " '“There probably are women like that—but Mrs. Ferrars wasn’t one of',\n",
              " 'them. She was a mass of nerves. An overmastering impulse drove her on',\n",
              " 'to get rid of her husband because she was the sort of person who simply',\n",
              " 'can’t endure suffering of any kind, and there’s no doubt that the wife',\n",
              " 'of a man like Ashley Ferrars must have had to suffer a good deal——”',\n",
              " 'I nodded.',\n",
              " '“And ever since she’s been haunted by what she did. I can’t help',\n",
              " 'feeling sorry for her.”',\n",
              " 'I don’t think Caroline ever felt sorry for Mrs. Ferrars whilst she was',\n",
              " 'alive. Now that she has gone where (presumably) Paris frocks can no',\n",
              " 'longer be worn, Caroline is prepared to indulge in the softer emotions',\n",
              " 'of pity and comprehension.',\n",
              " 'I told her firmly that her whole idea was nonsense. I was all the more',\n",
              " 'firm because I secretly agreed with some part, at least, of what she',\n",
              " 'had said. But it is all wrong that Caroline should arrive at the truth',\n",
              " 'simply by a kind of inspired guesswork. I wasn’t going to encourage',\n",
              " 'that sort of thing. She will go round the village airing her views, and',\n",
              " 'every one will think that she is doing so on medical data supplied by',\n",
              " 'me. Life is very trying.',\n",
              " '“Nonsense,” said Caroline, in reply to my strictures. “You’ll see. Ten',\n",
              " 'to one she’s left a letter confessing everything.”',\n",
              " '“She didn’t leave a letter of any kind,” I said sharply, and not seeing',\n",
              " 'where the admission was going to land me.',\n",
              " '“Oh!” said Caroline. “So you _did_ inquire about that, did you? I',\n",
              " 'believe, James, that in your heart of hearts, you think very much as I',\n",
              " 'do. You’re a precious old humbug.”',\n",
              " '“One always has to take the possibility of suicide into consideration,”',\n",
              " 'I said repressively.',\n",
              " '“Will there be an inquest?”',\n",
              " '“There may be. It all depends. If I am able to declare myself',\n",
              " 'absolutely satisfied that the overdose was taken accidentally, an',\n",
              " 'inquest might be dispensed with.”',\n",
              " '“And are you absolutely satisfied?” asked my sister shrewdly.',\n",
              " 'I did not answer, but got up from table.',\n",
              " 'CHAPTER II',\n",
              " 'WHO’S WHO IN KING’S ABBOT',\n",
              " 'Before I proceed further with what I said to Caroline and what Caroline',\n",
              " 'said to me, it might be as well to give some idea of what I should',\n",
              " 'describe as our local geography. Our village, King’s Abbot, is, I',\n",
              " 'imagine, very much like any other village. Our big town is Cranchester,',\n",
              " 'nine miles away. We have a large railway station, a small post office,',\n",
              " 'and two rival “General Stores.” Able-bodied men are apt to leave the',\n",
              " 'place early in life, but we are rich in unmarried ladies and retired',\n",
              " 'military officers. Our hobbies and recreations can be summed up in the',\n",
              " 'one word, “gossip.”',\n",
              " 'There are only two houses of any importance in King’s Abbot. One',\n",
              " 'is King’s Paddock, left to Mrs. Ferrars by her late husband. The',\n",
              " 'other, Fernly Park, is owned by Roger Ackroyd. Ackroyd has always',\n",
              " 'interested me by being a man more impossibly like a country squire',\n",
              " 'than any country squire could really be. He reminds one of the',\n",
              " 'red-faced sportsmen who always appeared early in the first act of an',\n",
              " 'old-fashioned musical comedy, the setting being the village green. They',\n",
              " 'usually sang a song about going up to London. Nowadays we have revues,',\n",
              " 'and the country squire has died out of musical fashion.',\n",
              " 'Of course, Ackroyd is not really a country squire. He is an immensely',\n",
              " 'successful manufacturer of (I think) wagon wheels. He is a man of',\n",
              " 'nearly fifty years of age, rubicund of face and genial of manner.',\n",
              " 'He is hand and glove with the vicar, subscribes liberally to parish',\n",
              " 'funds (though rumor has it that he is extremely mean in personal',\n",
              " 'expenditure), encourages cricket matches, Lads’ Clubs, and Disabled',\n",
              " 'Soldiers’ Institutes. He is, in fact, the life and soul of our peaceful',\n",
              " 'village of King’s Abbot.',\n",
              " 'Now when Roger Ackroyd was a lad of twenty-one, he fell in love with,',\n",
              " 'and married, a beautiful woman some five or six years his senior. Her',\n",
              " 'name was Paton, and she was a widow with one child. The history of the',\n",
              " 'marriage was short and painful. To put it bluntly, Mrs. Ackroyd was',\n",
              " 'a dipsomaniac. She succeeded in drinking herself into her grave four',\n",
              " 'years after her marriage.',\n",
              " 'In the years that followed, Ackroyd showed no disposition to make a',\n",
              " 'second matrimonial adventure. His wife’s child by her first marriage',\n",
              " 'was only seven years old when his mother died. He is now twenty-five.',\n",
              " 'Ackroyd has always regarded him as his own son, and has brought him up',\n",
              " 'accordingly, but he has been a wild lad and a continual source of worry',\n",
              " 'and trouble to his stepfather. Nevertheless we are all very fond of',\n",
              " 'Ralph Paton in King’s Abbot. He is such a good-looking youngster for',\n",
              " 'one thing.',\n",
              " 'As I said before, we are ready enough to gossip in our village.',\n",
              " 'Everybody noticed from the first that Ackroyd and Mrs. Ferrars got on',\n",
              " 'very well together. After her husband’s death, the intimacy became',\n",
              " 'more marked. They were always seen about together, and it was freely',\n",
              " 'conjectured that at the end of her period of mourning, Mrs. Ferrars',\n",
              " 'would become Mrs. Roger Ackroyd. It was felt, indeed, that there was a',\n",
              " 'certain fitness in the thing. Roger Ackroyd’s wife had admittedly died',\n",
              " 'of drink. Ashley Ferrars had been a drunkard for many years before his',\n",
              " 'death. It was only fitting that these two victims of alcoholic excess',\n",
              " 'should make up to each other for all that they had previously endured',\n",
              " 'at the hands of their former spouses.',\n",
              " 'The Ferrars only came to live here just over a year ago, but a halo of',\n",
              " 'gossip has surrounded Ackroyd for many years past. All the time that',\n",
              " 'Ralph Paton was growing up to manhood, a series of lady housekeepers',\n",
              " 'presided over Ackroyd’s establishment, and each in turn was regarded',\n",
              " 'with lively suspicion by Caroline and her cronies. It is not too',\n",
              " 'much to say that for at least fifteen years the whole village has',\n",
              " 'confidently expected Ackroyd to marry one of his housekeepers. The last',\n",
              " 'of them, a redoubtable lady called Miss Russell, has reigned undisputed',\n",
              " 'for five years, twice as long as any of her predecessors. It is felt',\n",
              " 'that but for the advent of Mrs. Ferrars, Ackroyd could hardly have',\n",
              " 'escaped. That—and one other factor—the unexpected arrival of a widowed',\n",
              " 'sister-in-law with her daughter from Canada. Mrs. Cecil Ackroyd, widow',\n",
              " 'of Ackroyd’s ne’er-do-well younger brother, has taken up her residence',\n",
              " 'at Fernly Park, and has succeeded, according to Caroline, in putting',\n",
              " 'Miss Russell in her proper place.',\n",
              " 'I don’t know exactly what a “proper place” constitutes—it sounds chilly',\n",
              " 'and unpleasant—but I know that Miss Russell goes about with pinched',\n",
              " 'lips, and what I can only describe as an acid smile, and that she',\n",
              " 'professes the utmost sympathy for “poor Mrs. Ackroyd—dependent on the',\n",
              " 'charity of her husband’s brother. The bread of charity is so bitter, is',\n",
              " 'it not? _I_ should be quite miserable if I did not work for my living.”',\n",
              " 'I don’t know what Mrs. Cecil Ackroyd thought of the Ferrars affair when',\n",
              " 'it came on the tapis. It was clearly to her advantage that Ackroyd',\n",
              " 'should remain unmarried. She was always very charming—not to say',\n",
              " 'gushing—to Mrs. Ferrars when they met. Caroline says that proves less',\n",
              " 'than nothing.',\n",
              " 'Such have been our preoccupations in King’s Abbot for the last few',\n",
              " 'years. We have discussed Ackroyd and his affairs from every standpoint.',\n",
              " 'Mrs. Ferrars has fitted into her place in the scheme.',\n",
              " 'Now there has been a rearrangement of the kaleidoscope. From a mild',\n",
              " 'discussion of probable wedding presents, we have been jerked into the',\n",
              " 'midst of tragedy.',\n",
              " 'Revolving these and sundry other matters in my mind, I went',\n",
              " 'mechanically on my round. I had no cases of special interest to attend,',\n",
              " 'which was, perhaps, as well, for my thoughts returned again and again',\n",
              " 'to the mystery of Mrs. Ferrars’s death. Had she taken her own life?',\n",
              " 'Surely, if she had done so, she would have left some word behind to',\n",
              " 'say what she contemplated doing? Women, in my experience, if they once',\n",
              " 'reach the determination to commit suicide, usually wish to reveal the',\n",
              " 'state of mind that led to the fatal action. They covet the limelight.',\n",
              " 'When had I last seen her? Not for over a week. Her manner then had been',\n",
              " 'normal enough considering—well—considering everything.',\n",
              " 'Then I suddenly remembered that I had seen her, though not to speak',\n",
              " 'to, only yesterday. She had been walking with Ralph Paton, and I had',\n",
              " 'been surprised because I had had no idea that he was likely to be in',\n",
              " 'King’s Abbot. I thought, indeed, that he had quarreled finally with',\n",
              " 'his stepfather. Nothing had been seen of him down here for nearly six',\n",
              " 'months. They had been walking along, side by side, their heads close',\n",
              " 'together, and she had been talking very earnestly.',\n",
              " 'I think I can safely say that it was at this moment that a foreboding',\n",
              " 'of the future first swept over me. Nothing tangible as yet—but a vague',\n",
              " 'premonition of the way things were setting. That earnest _tête-à-tête_',\n",
              " 'between Ralph Paton and Mrs. Ferrars the day before struck me',\n",
              " 'disagreeably.',\n",
              " 'I was still thinking of it when I came face to face with Roger Ackroyd.',\n",
              " '“Sheppard!” he exclaimed. “Just the man I wanted to get hold of. This',\n",
              " 'is a terrible business.”',\n",
              " '“You’ve heard then?”',\n",
              " 'He nodded. He had felt the blow keenly, I could see. His big red cheeks',\n",
              " 'seemed to have fallen in, and he looked a positive wreck of his usual',\n",
              " 'jolly, healthy self.',\n",
              " '“It’s worse than you know,” he said quietly. “Look here, Sheppard, I’ve',\n",
              " 'got to talk to you. Can you come back with me now?”',\n",
              " '“Hardly. I’ve got three patients to see still, and I must be back by',\n",
              " 'twelve to see my surgery patients.”',\n",
              " '“Then this afternoon—no, better still, dine to-night. At 7.30? Will',\n",
              " 'that suit you?”',\n",
              " '“Yes—I can manage that all right. What’s wrong? Is it Ralph?”',\n",
              " 'I hardly knew why I said that—except, perhaps, that it had so often',\n",
              " 'been Ralph.',\n",
              " 'Ackroyd stared blankly at me as though he hardly understood. I began to',\n",
              " 'realize that there must be something very wrong indeed somewhere. I had',\n",
              " 'never seen Ackroyd so upset before.',\n",
              " '“Ralph?” he said vaguely. “Oh! no, it’s not Ralph. Ralph’s in',\n",
              " 'London——Damn! Here’s old Miss Ganett coming. I don’t want to have to',\n",
              " 'talk to her about this ghastly business. See you to-night, Sheppard.',\n",
              " 'Seven-thirty.”',\n",
              " 'I nodded, and he hurried away, leaving me wondering. Ralph in London?',\n",
              " 'But he had certainly been in King’s Abbot the preceding afternoon. He',\n",
              " 'must have gone back to town last night or early this morning, and yet',\n",
              " 'Ackroyd’s manner had conveyed quite a different impression. He had',\n",
              " 'spoken as though Ralph had not been near the place for months.',\n",
              " 'I had no time to puzzle the matter out further. Miss Ganett was upon',\n",
              " 'me, thirsting for information. Miss Ganett has all the characteristics',\n",
              " 'of my sister Caroline, but she lacks that unerring aim in jumping to',\n",
              " 'conclusions which lends a touch of greatness to Caroline’s maneuvers.',\n",
              " 'Miss Ganett was breathless and interrogatory.',\n",
              " 'Wasn’t it sad about poor dear Mrs. Ferrars? A lot of people were saying',\n",
              " 'she had been a confirmed drug-taker for years. So wicked the way',\n",
              " 'people went about saying things. And yet, the worst of it was, there',\n",
              " 'was usually a grain of truth somewhere in these wild statements. No',\n",
              " 'smoke without fire! They were saying too that Mr. Ackroyd had found',\n",
              " 'out about it, and had broken off the engagement—because there _was_ an',\n",
              " 'engagement. She, Miss Ganett, had proof positive of that. Of course _I_',\n",
              " 'must know all about it—doctors always did—but they never tell?',\n",
              " 'And all this with a sharp beady eye on me to see how I reacted to',\n",
              " 'these suggestions. Fortunately long association with Caroline has led',\n",
              " 'me to preserve an impassive countenance, and to be ready with small',\n",
              " 'non-committal remarks.',\n",
              " 'On this occasion I congratulated Miss Ganett on not joining in',\n",
              " 'ill-natured gossip. Rather a neat counterattack, I thought. It left',\n",
              " 'her in difficulties, and before she could pull herself together, I had',\n",
              " 'passed on.',\n",
              " 'I went home thoughtful, to find several patients waiting for me in the',\n",
              " 'surgery.',\n",
              " 'I had dismissed the last of them, as I thought, and was just',\n",
              " 'contemplating a few minutes in the garden before lunch when I perceived',\n",
              " 'one more patient waiting for me. She rose and came towards me as I',\n",
              " 'stood somewhat surprised.',\n",
              " 'I don’t know why I should have been, except that there is a suggestion',\n",
              " 'of cast iron about Miss Russell, a something that is above the ills of',\n",
              " 'the flesh.',\n",
              " 'Ackroyd’s housekeeper is a tall woman, handsome but forbidding in',\n",
              " 'appearance. She has a stern eye, and lips that shut tightly, and I feel',\n",
              " 'that if I were an under housemaid or a kitchenmaid I should run for my',\n",
              " 'life whenever I heard her coming.',\n",
              " '“Good morning, Dr. Sheppard,” said Miss Russell. “I should be much',\n",
              " 'obliged if you would take a look at my knee.”',\n",
              " 'I took a look, but, truth to tell, I was very little wiser when I had',\n",
              " 'done so. Miss Russell’s account of vague pains was so unconvincing that',\n",
              " 'with a woman of less integrity of character I should have suspected a',\n",
              " 'trumped-up tale. It did cross my mind for one moment that Miss Russell',\n",
              " 'might have deliberately invented this affection of the knee in order',\n",
              " 'to pump me on the subject of Mrs. Ferrars’s death, but I soon saw that',\n",
              " 'there, at least, I had misjudged her. She made a brief reference to the',\n",
              " 'tragedy, nothing more. Yet she certainly seemed disposed to linger and',\n",
              " 'chat.',\n",
              " '“Well, thank you very much for this bottle of liniment, doctor,” she',\n",
              " 'said at last. “Not that I believe it will do the least good.”',\n",
              " 'I didn’t think it would either, but I protested in duty bound. After',\n",
              " 'all, it couldn’t do any harm, and one must stick up for the tools of',\n",
              " 'one’s trade.',\n",
              " '“I don’t believe in all these drugs,” said Miss Russell, her eyes',\n",
              " 'sweeping over my array of bottles disparagingly. “Drugs do a lot of',\n",
              " 'harm. Look at the cocaine habit.”',\n",
              " '“Well, as far as that goes——”',\n",
              " '“It’s very prevalent in high society.”',\n",
              " 'I’m sure Miss Russell knows far more about high society than I do. I',\n",
              " 'didn’t attempt to argue with her.',\n",
              " '“Just tell me this, doctor,” said Miss Russell. “Suppose you are really',\n",
              " 'a slave of the drug habit. Is there any cure?”',\n",
              " 'One cannot answer a question like that offhand. I gave her a short',\n",
              " 'lecture on the subject, and she listened with close attention. I still',\n",
              " 'suspected her of seeking information about Mrs. Ferrars.',\n",
              " '“Now, veronal, for instance——” I proceeded.',\n",
              " 'But, strangely enough, she didn’t seem interested in veronal. Instead',\n",
              " 'she changed the subject, and asked me if it was true that there were',\n",
              " 'certain poisons so rare as to baffle detection.',\n",
              " '“Ah!” I said. “You’ve been reading detective stories.”',\n",
              " 'She admitted that she had.',\n",
              " '“The essence of a detective story,” I said, “is to have a rare',\n",
              " 'poison—if possible something from South America, that nobody has ever',\n",
              " 'heard of—something that one obscure tribe of savages use to poison',\n",
              " 'their arrows with. Death is instantaneous, and Western science is',\n",
              " 'powerless to detect it. That is the kind of thing you mean?”',\n",
              " '“Yes. Is there really such a thing?”',\n",
              " 'I shook my head regretfully.',\n",
              " '“I’m afraid there isn’t. There’s _curare_, of course.”',\n",
              " 'I told her a good deal about curare, but she seemed to have lost',\n",
              " 'interest once more. She asked me if I had any in my poison cupboard,',\n",
              " 'and when I replied in the negative I fancy I fell in her estimation.',\n",
              " 'She said she must be getting back, and I saw her out at the surgery',\n",
              " 'door just as the luncheon gong went.',\n",
              " 'I should never have suspected Miss Russell of a fondness for detective',\n",
              " 'stories. It pleases me very much to think of her stepping out of the',\n",
              " 'housekeeper’s room to rebuke a delinquent housemaid, and then returning',\n",
              " 'to a comfortable perusal of _The Mystery of the Seventh Death_, or',\n",
              " 'something of the kind.',\n",
              " 'CHAPTER III',\n",
              " 'THE MAN WHO GREW VEGETABLE MARROWS',\n",
              " 'I told Caroline at lunch time that I should be dining at Fernly. She',\n",
              " 'expressed no objection—on the contrary——',\n",
              " '“Excellent,” she said. “You’ll hear all about it. By the way, what is',\n",
              " 'the trouble with Ralph?”',\n",
              " '“With Ralph?” I said, surprised; “there’s isn’t any.”',\n",
              " '“Then why is he staying at the Three Boars instead of at Fernly Park?”',\n",
              " 'I did not for a minute question Caroline’s statement that Ralph Paton',\n",
              " 'was staying at the local inn. That Caroline said so was enough for me.',\n",
              " '“Ackroyd told me he was in London,” I said. In the surprise of',\n",
              " 'the moment I departed from my valuable rule of never parting with',\n",
              " 'information.',\n",
              " '“Oh!” said Caroline. I could see her nose twitching as she worked on',\n",
              " 'this.',\n",
              " '“He arrived at the Three Boars yesterday morning,” she said. “And he’s',\n",
              " 'still there. Last night he was out with a girl.”',\n",
              " 'That did not surprise me in the least. Ralph, I should say, is out',\n",
              " 'with a girl most nights of his life. But I did rather wonder that he',\n",
              " 'chose to indulge in the pastime in King’s Abbot instead of in the gay',\n",
              " 'metropolis.',\n",
              " '“One of the barmaids?” I asked.',\n",
              " '“No. That’s just it. He went out to meet her. I don’t know who she is.”',\n",
              " '(Bitter for Caroline to have to admit such a thing.)',\n",
              " '“But I can guess,” continued my indefatigable sister.',\n",
              " 'I waited patiently.',\n",
              " '“His cousin.”',\n",
              " '“Flora Ackroyd?” I exclaimed in surprise.',\n",
              " 'Flora Ackroyd is, of course, no relation whatever really to Ralph',\n",
              " 'Paton, but Ralph has been looked upon for so long as practically',\n",
              " 'Ackroyd’s own son, that cousinship is taken for granted.',\n",
              " '“Flora Ackroyd,” said my sister.',\n",
              " '“But why not go to Fernly if he wanted to see her?”',\n",
              " '“Secretly engaged,” said Caroline, with immense enjoyment. “Old Ackroyd',\n",
              " 'won’t hear of it, and they have to meet this way.”',\n",
              " 'I saw a good many flaws in Caroline’s theory, but I forbore to point',\n",
              " 'them out to her. An innocent remark about our new neighbor created a',\n",
              " 'diversion.',\n",
              " 'The house next door, The Larches, has recently been taken by a',\n",
              " 'stranger. To Caroline’s extreme annoyance, she has not been able',\n",
              " 'to find out anything about him, except that he is a foreigner. The',\n",
              " 'Intelligence Corps has proved a broken reed. Presumably the man has',\n",
              " 'milk and vegetables and joints of meat and occasional whitings just',\n",
              " 'like everybody else, but none of the people who make it their business',\n",
              " 'to supply these things seem to have acquired any information. His name,',\n",
              " 'apparently, is Mr. Porrott—a name which conveys an odd feeling of',\n",
              " 'unreality. The one thing we do know about him is that he is interested',\n",
              " 'in the growing of vegetable marrows.',\n",
              " 'But that is certainly not the sort of information that Caroline is',\n",
              " 'after. She wants to know where he comes from, what he does, whether he',\n",
              " 'is married, what his wife was, or is, like, whether he has children,',\n",
              " 'what his mother’s maiden name was—and so on. Somebody very like',\n",
              " 'Caroline must have invented the questions on passports, I think.',\n",
              " '“My dear Caroline,” I said. “There’s no doubt at all about what the',\n",
              " 'man’s profession has been. He’s a retired hairdresser. Look at that',\n",
              " 'mustache of his.”',\n",
              " 'Caroline dissented. She said that if the man was a hairdresser, he',\n",
              " 'would have wavy hair—not straight. All hairdressers did.',\n",
              " 'I cited several hairdressers personally known to me who had straight',\n",
              " 'hair, but Caroline refused to be convinced.',\n",
              " '“I can’t make him out at all,” she said in an aggrieved voice. “I',\n",
              " 'borrowed some garden tools the other day, and he was most polite, but',\n",
              " 'I couldn’t get anything out of him. I asked him point blank at last',\n",
              " 'whether he was a Frenchman, and he said he wasn’t—and somehow I didn’t',\n",
              " 'like to ask him any more.”',\n",
              " 'I began to be more interested in our mysterious neighbor. A man who',\n",
              " 'is capable of shutting up Caroline and sending her, like the Queen of',\n",
              " 'Sheba, empty away must be something of a personality.',\n",
              " '“I believe,” said Caroline, “that he’s got one of those new vacuum',\n",
              " 'cleaners——”',\n",
              " 'I saw a meditated loan and the opportunity of further questioning',\n",
              " 'gleaming from her eye. I seized the chance to escape into the garden.',\n",
              " 'I am rather fond of gardening. I was busily exterminating dandelion',\n",
              " 'roots when a shout of warning sounded from close by and a heavy body',\n",
              " 'whizzed by my ear and fell at my feet with a repellant squelch. It was',\n",
              " 'a vegetable marrow!',\n",
              " 'I looked up angrily. Over the wall, to my left, there appeared a face.',\n",
              " 'An egg-shaped head, partially covered with suspiciously black hair, two',\n",
              " 'immense mustaches, and a pair of watchful eyes. It was our mysterious',\n",
              " 'neighbor, Mr. Porrott.',\n",
              " 'He broke at once into fluent apologies.',\n",
              " '“I demand of you a thousand pardons, monsieur. I am without defense.',\n",
              " 'For some months now I cultivate the marrows. This morning suddenly',\n",
              " 'I enrage myself with these marrows. I send them to promenade',\n",
              " 'themselves—alas! not only mentally but physically. I seize the biggest.',\n",
              " 'I hurl him over the wall. Monsieur, I am ashamed. I prostrate myself.”',\n",
              " 'Before such profuse apologies, my anger was forced to melt. After',\n",
              " 'all, the wretched vegetable hadn’t hit me. But I sincerely hoped that',\n",
              " 'throwing large vegetables over walls was not our new friend’s hobby.',\n",
              " 'Such a habit could hardly endear him to us as a neighbor.',\n",
              " 'The strange little man seemed to read my thoughts.',\n",
              " '“Ah! no,” he exclaimed. “Do not disquiet yourself. It is not with me a',\n",
              " 'habit. But can you figure to yourself, monsieur, that a man may work',\n",
              " 'towards a certain object, may labor and toil to attain a certain kind',\n",
              " 'of leisure and occupation, and then find that, after all, he yearns',\n",
              " 'for the old busy days, and the old occupations that he thought himself',\n",
              " 'so glad to leave?”',\n",
              " '“Yes,” I said slowly. “I fancy that that is a common enough occurrence.',\n",
              " 'I myself am perhaps an instance. A year ago I came into a legacy—enough',\n",
              " 'to enable me to realize a dream. I have always wanted to travel, to see',\n",
              " 'the world. Well, that was a year ago, as I said, and—I am still here.”',\n",
              " 'My little neighbor nodded.',\n",
              " '“The chains of habit. We work to attain an object, and the object',\n",
              " 'gained, we find that what we miss is the daily toil. And mark you,',\n",
              " 'monsieur, my work was interesting work. The most interesting work there',\n",
              " 'is in the world.”',\n",
              " '“Yes?” I said encouragingly. For the moment the spirit of Caroline was',\n",
              " 'strong within me.',\n",
              " '“The study of human nature, monsieur!”',\n",
              " '“Just so,” I said kindly.',\n",
              " 'Clearly a retired hairdresser. Who knows the secrets of human nature',\n",
              " 'better than a hairdresser?',\n",
              " '“Also, I had a friend—a friend who for many years never left my side.',\n",
              " 'Occasionally of an imbecility to make one afraid, nevertheless he was',\n",
              " 'very dear to me. Figure to yourself that I miss even his stupidity.',\n",
              " 'His _naïveté_, his honest outlook, the pleasure of delighting and',\n",
              " 'surprising him by my superior gifts—all these I miss more than I can',\n",
              " 'tell you.”',\n",
              " '“He died?” I asked sympathetically.',\n",
              " '“Not so. He lives and flourishes—but on the other side of the world. He',\n",
              " 'is now in the Argentine.”',\n",
              " '“In the Argentine,” I said enviously.',\n",
              " 'I have always wanted to go to South America. I sighed, and then',\n",
              " 'looked up to find Mr. Porrott eyeing me sympathetically. He seemed an',\n",
              " 'understanding little man.',\n",
              " '“You will go there, yes?” he asked.',\n",
              " 'I shook my head with a sigh.',\n",
              " '“I could have gone,” I said, “a year ago. But I was foolish—and worse',\n",
              " 'than foolish—greedy. I risked the substance for the shadow.”',\n",
              " '“I comprehend,” said Mr. Porrott. “You speculated?”',\n",
              " 'I nodded mournfully, but in spite of myself I felt secretly',\n",
              " 'entertained. This ridiculous little man was so portentously solemn.',\n",
              " '“Not the Porcupine Oilfields?” he asked suddenly.',\n",
              " 'I stared.',\n",
              " '“I thought of them, as a matter of fact, but in the end I plumped for a',\n",
              " 'gold mine in Western Australia.”',\n",
              " 'My neighbor was regarding me with a strange expression which I could',\n",
              " 'not fathom.',\n",
              " '“It is Fate,” he said at last.',\n",
              " '“What is Fate?” I asked irritably.',\n",
              " '“That I should live next to a man who seriously considers Porcupine',\n",
              " 'Oilfields, and also West Australian Gold Mines. Tell me, have you also',\n",
              " 'a penchant for auburn hair?”',\n",
              " 'I stared at him open-mouthed, and he burst out laughing.',\n",
              " '“No, no, it is not the insanity that I suffer from. Make your mind',\n",
              " 'easy. It was a foolish question that I put to you there, for, see you,',\n",
              " 'my friend of whom I spoke was a young man, a man who thought all women',\n",
              " 'good, and most of them beautiful. But you are a man of middle age, a',\n",
              " 'doctor, a man who knows the folly and the vanity of most things in this',\n",
              " 'life of ours. Well, well, we are neighbors. I beg of you to accept and',\n",
              " 'present to your excellent sister my best marrow.”',\n",
              " 'He stooped, and with a flourish produced an immense specimen of the',\n",
              " 'tribe, which I duly accepted in the spirit in which it was offered.',\n",
              " '“Indeed,” said the little man cheerfully, “this has not been a wasted',\n",
              " 'morning. I have made the acquaintance of a man who in some ways',\n",
              " 'resembles my far-off friend. By the way, I should like to ask you a',\n",
              " 'question. You doubtless know every one in this tiny village. Who is the',\n",
              " 'young man with the very dark hair and eyes, and the handsome face. He',\n",
              " 'walks with his head flung back, and an easy smile on his lips?”',\n",
              " 'The description left me in no doubt.',\n",
              " '“That must be Captain Ralph Paton,” I said slowly.',\n",
              " '“I have not seen him about here before?”',\n",
              " '“No, he has not been here for some time. But he is the son—adopted son,',\n",
              " 'rather—of Mr. Ackroyd of Fernly Park.”',\n",
              " 'My neighbor made a slight gesture of impatience.',\n",
              " '“Of course, I should have guessed. Mr. Ackroyd spoke of him many times.”',\n",
              " '“You know Mr. Ackroyd?” I said, slightly surprised.',\n",
              " '“Mr. Ackroyd knew me in London—when I was at work there. I have asked',\n",
              " 'him to say nothing of my profession down here.”',\n",
              " '“I see,” I said, rather amused by this patent snobbery, as I thought it.',\n",
              " 'But the little man went on with an almost grandiloquent smirk.',\n",
              " '“One prefers to remain incognito. I am not anxious for notoriety. I',\n",
              " 'have not even troubled to correct the local version of my name.”',\n",
              " '“Indeed,” I said, not knowing quite what to say.',\n",
              " '“Captain Ralph Paton,” mused Mr. Porrott. “And so he is engaged to Mr.',\n",
              " 'Ackroyd’s niece, the charming Miss Flora.”',\n",
              " '“Who told you so?” I asked, very much surprised.',\n",
              " '“Mr. Ackroyd. About a week ago. He is very pleased about it—has long',\n",
              " 'desired that such a thing should come to pass, or so I understood',\n",
              " 'from him. I even believe that he brought some pressure to bear upon',\n",
              " 'the young man. That is never wise. A young man should marry to please',\n",
              " 'himself—not to please a stepfather from whom he has expectations.”',\n",
              " 'My ideas were completely upset. I could not see Ackroyd taking a',\n",
              " 'hairdresser into his confidence, and discussing the marriage of his',\n",
              " 'niece and stepson with him. Ackroyd extends a genial patronage to the',\n",
              " 'lower orders, but he has a very great sense of his own dignity. I began',\n",
              " 'to think that Porrott couldn’t be a hairdresser after all.',\n",
              " 'To hide my confusion, I said the first thing that came into my head.',\n",
              " '“What made you notice Ralph Paton? His good looks?”',\n",
              " '“No, not that alone—though he is unusually good-looking for an',\n",
              " 'Englishman—what your lady novelists would call a Greek God. No, there',\n",
              " 'was something about that young man that I did not understand.”',\n",
              " 'He said the last sentence in a musing tone of voice which made an',\n",
              " 'indefinable impression upon me. It was as though he was summing up the',\n",
              " 'boy by the light of some inner knowledge that I did not share. It was',\n",
              " 'that impression that was left with me, for at that moment my sister’s',\n",
              " 'voice called me from the house.',\n",
              " 'I went in. Caroline had her hat on, and had evidently just come in from',\n",
              " 'the village. She began without preamble.',\n",
              " '“I met Mr. Ackroyd.”',\n",
              " '“Yes?” I said.',\n",
              " '“I stopped him, of course, but he seemed in a great hurry, and anxious',\n",
              " 'to get away.”',\n",
              " 'I have no doubt but that that was the case. He would feel towards',\n",
              " 'Caroline much as he had felt towards Miss Ganett earlier in the',\n",
              " 'day—perhaps more so. Caroline is less easy to shake off.',\n",
              " '“I asked him at once about Ralph. He was absolutely astonished. Had no',\n",
              " 'idea the boy was down here. He actually said he thought I must have',\n",
              " 'made a mistake. I! A mistake!”',\n",
              " '“Ridiculous,” I said. “He ought to have known you better.”',\n",
              " '“Then he went on to tell me that Ralph and Flora are engaged.”',\n",
              " '“I know that too,” I interrupted, with modest pride.',\n",
              " '“Who told you?”',\n",
              " '“Our new neighbor.”',\n",
              " 'Caroline visibly wavered for a second or two, much as a roulette ball',\n",
              " 'might coyly hover between two numbers. Then she declined the tempting',\n",
              " 'red herring.',\n",
              " '“I told Mr. Ackroyd that Ralph was staying at the Three Boars.”',\n",
              " '“Caroline,” I said, “do you never reflect that you might do a lot of',\n",
              " 'harm with this habit of yours of repeating everything indiscriminately?”',\n",
              " '“Nonsense,” said my sister. “People ought to know things. I consider it',\n",
              " 'my duty to tell them. Mr. Ackroyd was very grateful to me.”',\n",
              " '“Well?” I said, for there was clearly more to come.',\n",
              " '“I think he went straight off to the Three Boars, but if so he didn’t',\n",
              " 'find Ralph there.”',\n",
              " '“No?”',\n",
              " '“No. Because as I was coming back through the wood——”',\n",
              " '“Coming back through the wood?” I interrupted.',\n",
              " 'Caroline had the grace to blush.',\n",
              " '“It was such a lovely day,” she exclaimed. “I thought I would make a',\n",
              " 'little round. The woods with their autumnal tints are so perfect at',\n",
              " 'this time of year.”',\n",
              " 'Caroline does not care a hang for woods at any time of year. Normally',\n",
              " 'she regards them as places where you get your feet damp, and where all',\n",
              " 'kinds of unpleasant things may drop on your head. No, it was good sound',\n",
              " 'mongoose instinct which took her to our local wood. It is the only',\n",
              " 'place adjacent to the village of King’s Abbot where you can talk with',\n",
              " 'a young woman unseen by the whole of the village. It adjoins the Park',\n",
              " 'of Fernly.',\n",
              " '“Well,” I said, “go on.”',\n",
              " '“As I say, I was just coming back through the wood when I heard voices.”',\n",
              " 'Caroline paused.',\n",
              " '“Yes?”',\n",
              " '“One was Ralph Paton’s—I knew it at once. The other was a girl’s. Of',\n",
              " 'course I didn’t mean to listen——”',\n",
              " '“Of course not,” I interjected, with patent sarcasm—which was, however,',\n",
              " 'wasted on Caroline.',\n",
              " '“But I simply couldn’t help overhearing. The girl said something—I',\n",
              " 'didn’t quite catch what it was, and Ralph answered. He sounded very',\n",
              " 'angry. ‘My dear girl,’ he said. ‘Don’t you realize that it is quite',\n",
              " 'on the cards the old man will cut me off with a shilling? He’s been',\n",
              " 'pretty fed up with me for the last few years. A little more would do',\n",
              " 'it. And we need the dibs, my dear. I shall be a very rich man when',\n",
              " 'the old fellow pops off. He’s mean as they make ’em, but he’s rolling',\n",
              " 'in money really. I don’t want him to go altering his will. You leave',\n",
              " 'it to me, and don’t worry.’ Those were his exact words. I remember',\n",
              " 'them perfectly. Unfortunately, just then I stepped on a dry twig or',\n",
              " 'something, and they lowered their voices and moved away. I couldn’t, of',\n",
              " 'course, go rushing after them, so wasn’t able to see who the girl was.”',\n",
              " '“That must have been most vexing,” I said. “I suppose, though, you',\n",
              " 'hurried on to the Three Boars, felt faint, and went into the bar for a',\n",
              " 'glass of brandy, and so were able to see if both the barmaids were on',\n",
              " 'duty?”',\n",
              " '“It wasn’t a barmaid,” said Caroline unhesitatingly. “In fact, I’m',\n",
              " 'almost sure that it was Flora Ackroyd, only——”',\n",
              " '“Only it doesn’t seem to make sense,” I agreed.',\n",
              " '“But if it wasn’t Flora, who could it have been?”',\n",
              " 'Rapidly my sister ran over a list of maidens living in the',\n",
              " 'neighborhood, with profuse reasons for and against.',\n",
              " 'When she paused for breath, I murmured something about a patient, and',\n",
              " 'slipped out.',\n",
              " 'I proposed to make my way to the Three Boars. It seemed likely that',\n",
              " 'Ralph Paton would have returned there by now.',\n",
              " 'I knew Ralph very well—better, perhaps, than any one else in King’s',\n",
              " 'Abbot, for I had known his mother before him, and therefore I',\n",
              " 'understood much in him that puzzled others. He was, to a certain',\n",
              " 'extent, the victim of heredity. He had not inherited his mother’s',\n",
              " 'fatal propensity for drink, but nevertheless he had in him a strain',\n",
              " 'of weakness. As my new friend of this morning had declared, he was',\n",
              " 'extraordinarily handsome. Just on six feet, perfectly proportioned,',\n",
              " 'with the easy grace of an athlete, he was dark, like his mother,',\n",
              " 'with a handsome, sunburnt face always ready to break into a smile.',\n",
              " 'Ralph Paton was of those born to charm easily and without effort. He',\n",
              " 'was self-indulgent and extravagant, with no veneration for anything',\n",
              " 'on earth, but he was lovable nevertheless, and his friends were all',\n",
              " 'devoted to him.',\n",
              " 'Could I do anything with the boy? I thought I could.',\n",
              " 'On inquiry at the Three Boars I found that Captain Paton had just come',\n",
              " 'in. I went up to his room and entered unannounced.',\n",
              " 'For a moment, remembering what I had heard and seen, I was doubtful of',\n",
              " 'my reception, but I need have had no misgivings.',\n",
              " '“Why, it’s Sheppard! Glad to see you.”',\n",
              " 'He came forward to meet me, hand outstretched, a sunny smile lighting',\n",
              " 'up his face.',\n",
              " '“The one person I am glad to see in this infernal place.”',\n",
              " 'I raised my eyebrows.',\n",
              " '“What’s the place been doing?”',\n",
              " 'He gave a vexed laugh.',\n",
              " '“It’s a long story. Things haven’t been going well with me, doctor. But',\n",
              " 'have a drink, won’t you?”',\n",
              " '“Thanks,” I said, “I will.”',\n",
              " 'He pressed the bell, then, coming back, threw himself into a chair.',\n",
              " '“Not to mince matters,” he said gloomily, “I’m in the devil of a mess.',\n",
              " 'In fact, I haven’t the least idea what to do next.”',\n",
              " '“What’s the matter?” I asked sympathetically.',\n",
              " '“It’s my confounded stepfather.”',\n",
              " '“What has he done?”',\n",
              " '“It isn’t what he’s done yet, but what he’s likely to do.”',\n",
              " 'The bell was answered, and Ralph ordered the drinks. When the man had',\n",
              " 'gone again, he sat hunched in the arm-chair, frowning to himself.',\n",
              " '“Is it really—serious?” I asked.',\n",
              " 'He nodded.',\n",
              " '“I’m fairly up against it this time,” he said soberly.',\n",
              " 'The unusual ring of gravity in his voice told me that he spoke the',\n",
              " 'truth. It took a good deal to make Ralph grave.',\n",
              " '“In fact,” he continued, “I can’t see my way ahead.... I’m damned if I',\n",
              " 'can.”',\n",
              " '“If I could help——” I suggested diffidently.',\n",
              " 'But he shook his head very decidedly.',\n",
              " '“Good of you, doctor. But I can’t let you in on this. I’ve got to play',\n",
              " 'a lone hand.”',\n",
              " 'He was silent a minute and then repeated in a slightly different tone',\n",
              " 'of voice:—',\n",
              " '“Yes—I’ve got to play a lone hand....”',\n",
              " 'CHAPTER IV',\n",
              " 'DINNER AT FERNLY',\n",
              " 'It was just a few minutes before half-past seven when I rang the',\n",
              " 'front door bell of Fernly Park. The door was opened with admirable',\n",
              " 'promptitude by Parker, the butler.',\n",
              " 'The night was such a fine one that I had preferred to come on foot. I',\n",
              " 'stepped into the big square hall and Parker relieved me of my overcoat.',\n",
              " 'Just then Ackroyd’s secretary, a pleasant young fellow by the name of',\n",
              " 'Raymond, passed through the hall on his way to Ackroyd’s study, his',\n",
              " 'hands full of papers.',\n",
              " '“Good-evening, doctor. Coming to dine? Or is this a professional call?”',\n",
              " 'The last was in allusion to my black bag, which I had laid down on the',\n",
              " 'oak chest.',\n",
              " 'I explained that I expected a summons to a confinement case at any',\n",
              " 'moment, and so had come out prepared for an emergency call. Raymond',\n",
              " 'nodded, and went on his way, calling over his shoulder:—',\n",
              " '“Go into the drawing-room. You know the way. The ladies will be down in',\n",
              " 'a minute. I must just take these papers to Mr. Ackroyd, and I’ll tell',\n",
              " 'him you’re here.”',\n",
              " 'On Raymond’s appearance Parker had withdrawn, so I was alone in the',\n",
              " 'hall. I settled my tie, glanced in a large mirror which hung there, and',\n",
              " 'crossed to the door directly facing me, which was, as I knew, the door',\n",
              " 'of the drawing-room.',\n",
              " 'I noticed, just as I was turning the handle, a sound from within—the',\n",
              " 'shutting down of a window, I took it to be. I noted it, I may say,',\n",
              " 'quite mechanically, without attaching any importance to it at the time.',\n",
              " 'I opened the door and walked in. As I did so, I almost collided with',\n",
              " 'Miss Russell, who was just coming out. We both apologized.',\n",
              " 'For the first time I found myself appraising the housekeeper and',\n",
              " 'thinking what a handsome woman she must once have been—indeed, as far',\n",
              " 'as that goes, still was. Her dark hair was unstreaked with gray, and',\n",
              " 'when she had a color, as she had at this minute, the stern quality of',\n",
              " 'her looks was not so apparent.',\n",
              " 'Quite subconsciously I wondered whether she had been out, for she was',\n",
              " 'breathing hard, as though she had been running.',\n",
              " '“I’m afraid I’m a few minutes early,” I said.',\n",
              " '“Oh! I don’t think so. It’s gone half-past seven, Dr. Sheppard.” She',\n",
              " 'paused a minute before saying, “I—didn’t know you were expected to',\n",
              " 'dinner to-night. Mr. Ackroyd didn’t mention it.”',\n",
              " 'I received a vague impression that my dining there displeased her in',\n",
              " 'some way, but I couldn’t imagine why.',\n",
              " '“How’s the knee?” I inquired.',\n",
              " '“Much the same, thank you, doctor. I must be going now. Mrs. Ackroyd',\n",
              " 'will be down in a moment. I—I only came in here to see if the flowers',\n",
              " 'were all right.”',\n",
              " 'She passed quickly out of the room. I strolled to the window,',\n",
              " 'wondering at her evident desire to justify her presence in the room. As',\n",
              " 'I did so, I saw what, of course, I might have known all the time had',\n",
              " 'I troubled to give my mind to it, namely, that the windows were long',\n",
              " 'French ones opening on the terrace. The sound I had heard, therefore,',\n",
              " 'could not have been that of a window being shut down.',\n",
              " 'Quite idly, and more to distract my mind from painful thoughts than for',\n",
              " 'any other reason, I amused myself by trying to guess what could have',\n",
              " 'caused the sound in question.',\n",
              " 'Coals on the fire? No, that was not the kind of noise at all. A drawer',\n",
              " 'of the bureau pushed in? No, not that.',\n",
              " 'Then my eye was caught by what, I believe, is called a silver table,',\n",
              " 'the lid of which lifts, and through the glass of which you can see the',\n",
              " 'contents. I crossed over to it, studying the things. There were one',\n",
              " 'or two pieces of old silver, a baby shoe belonging to King Charles',\n",
              " 'the First, some Chinese jade figures, and quite a number of African',\n",
              " 'implements and curios. Wanting to examine one of the jade figures more',\n",
              " 'closely, I lifted the lid. It slipped through my fingers and fell.',\n",
              " 'At once I recognized the sound I had heard. It was this same table lid',\n",
              " 'being shut down gently and carefully. I repeated the action once or',\n",
              " 'twice for my own satisfaction. Then I lifted the lid to scrutinize the',\n",
              " 'contents more closely.',\n",
              " 'I was still bending over the open silver table when Flora Ackroyd came',\n",
              " 'into the room.',\n",
              " 'Quite a lot of people do not like Flora Ackroyd, but nobody can help',\n",
              " 'admiring her. And to her friends she can be very charming. The first',\n",
              " 'thing that strikes you about her is her extraordinary fairness. She has',\n",
              " 'the real Scandinavian pale gold hair. Her eyes are blue—blue as the',\n",
              " 'waters of a Norwegian fiord, and her skin is cream and roses. She has',\n",
              " 'square, boyish shoulders and slight hips. And to a jaded medical man it',\n",
              " 'is very refreshing to come across such perfect health.',\n",
              " 'A simple straight-forward English girl—I may be old-fashioned, but I',\n",
              " 'think the genuine article takes a lot of beating.',\n",
              " 'Flora joined me by the silver table, and expressed heretical doubts as',\n",
              " 'to King Charles I ever having worn the baby shoe.',\n",
              " '“And anyway,” continued Miss Flora, “all this making a fuss about',\n",
              " 'things because some one wore or used them seems to me all nonsense.',\n",
              " 'They’re not wearing or using them now. The pen that George Eliot wrote',\n",
              " '_The Mill on the Floss_ with—that sort of thing—well, it’s only just a',\n",
              " 'pen after all. If you’re really keen on George Eliot, why not get _The',\n",
              " 'Mill on the Floss_ in a cheap edition and read it.”',\n",
              " '“I suppose you never read such old out-of-date stuff, Miss Flora?”',\n",
              " '“You’re wrong, Dr. Sheppard. I love _The Mill on the Floss_.”',\n",
              " 'I was rather pleased to hear it. The things young women read nowadays',\n",
              " 'and profess to enjoy positively frighten me.',\n",
              " '“You haven’t congratulated me yet, Dr. Sheppard,” said Flora. “Haven’t',\n",
              " 'you heard?”',\n",
              " 'She held out her left hand. On the third finger of it was an',\n",
              " 'exquisitely set single pearl.',\n",
              " '“I’m going to marry Ralph, you know,” she went on. “Uncle is very',\n",
              " 'pleased. It keeps me in the family, you see.”',\n",
              " 'I took both her hands in mine.',\n",
              " '“My dear,” I said, “I hope you’ll be very happy.”',\n",
              " '“We’ve been engaged for about a month,” continued Flora in her cool',\n",
              " 'voice, “but it was only announced yesterday. Uncle is going to do up',\n",
              " 'Cross-stones, and give it to us to live in, and we’re going to pretend',\n",
              " 'to farm. Really, we shall hunt all the winter, town for the season, and',\n",
              " 'then go yachting. I love the sea. And, of course, I shall take a great',\n",
              " 'interest in the parish affairs, and attend all the Mothers’ Meetings.”',\n",
              " 'Just then Mrs. Ackroyd rustled in, full of apologies for being late.',\n",
              " 'I am sorry to say I detest Mrs. Ackroyd. She is all chains and teeth',\n",
              " 'and bones. A most unpleasant woman. She has small pale flinty blue',\n",
              " 'eyes, and however gushing her words may be, those eyes of hers always',\n",
              " 'remain coldly speculative.',\n",
              " 'I went across to her, leaving Flora by the window. She gave me a',\n",
              " 'handful of assorted knuckles and rings to squeeze, and began talking',\n",
              " 'volubly.',\n",
              " 'Had I heard about Flora’s engagement? So suitable in every way. The',\n",
              " 'dear young things had fallen in love at first sight. Such a perfect',\n",
              " 'pair, he so dark and she so fair.',\n",
              " '“I can’t tell you, my dear Dr. Sheppard, the relief to a mother’s',\n",
              " 'heart.”',\n",
              " 'Mrs. Ackroyd sighed—a tribute to her mother’s heart, whilst her eyes',\n",
              " 'remained shrewdly observant of me.',\n",
              " '“I was wondering. You are such an old friend of dear Roger’s. We',\n",
              " 'know how much he trusts to your judgment. So difficult for me—in',\n",
              " 'my position, as poor Cecil’s widow. But there are so many tiresome',\n",
              " 'things—settlements, you know—all that. I fully believe that Roger',\n",
              " 'intends to make settlements upon dear Flora, but, as you know, he is',\n",
              " 'just a _leetle_ peculiar about money. Very usual, I’ve heard, amongst',\n",
              " 'men who are captains of industry. I wondered, you know, if you could',\n",
              " 'just _sound_ him on the subject? Flora is so fond of you. We feel you',\n",
              " 'are quite an old friend, although we have only really known you just',\n",
              " 'over two years.”',\n",
              " 'Mrs. Ackroyd’s eloquence was cut short as the drawing-room door opened',\n",
              " 'once more. I was pleased at the interruption. I hate interfering in',\n",
              " 'other people’s affairs, and I had not the least intention of tackling',\n",
              " 'Ackroyd on the subject of Flora’s settlements. In another moment I',\n",
              " 'should have been forced to tell Mrs. Ackroyd as much.',\n",
              " '“You know Major Blunt, don’t you, doctor?”',\n",
              " '“Yes, indeed,” I said.',\n",
              " 'A lot of people know Hector Blunt—at least by repute. He has shot more',\n",
              " 'wild animals in unlikely places than any man living, I suppose. When',\n",
              " 'you mention him, people say: “Blunt—you don’t mean the big game man, do',\n",
              " 'you?”',\n",
              " 'His friendship with Ackroyd has always puzzled me a little. The two men',\n",
              " 'are so totally dissimilar. Hector Blunt is perhaps five years Ackroyd’s',\n",
              " 'junior. They made friends early in life, and though their ways have',\n",
              " 'diverged, the friendship still holds. About once in two years Blunt',\n",
              " 'spends a fortnight at Fernly, and an immense animal’s head, with an',\n",
              " 'amazing number of horns which fixes you with a glazed stare as soon',\n",
              " 'as you come inside the front door, is a permanent reminder of the',\n",
              " 'friendship.',\n",
              " 'Blunt had entered the room now with his own peculiar, deliberate, yet',\n",
              " 'soft-footed tread. He is a man of medium height, sturdily and rather',\n",
              " 'stockily built. His face is almost mahogany-colored, and is peculiarly',\n",
              " 'expressionless. He has gray eyes that give the impression of always',\n",
              " 'watching something that is happening very far away. He talks little,',\n",
              " 'and what he does say is said jerkily, as though the words were forced',\n",
              " 'out of him unwillingly.',\n",
              " 'He said now: “How are you, Sheppard?” in his usual abrupt fashion, and',\n",
              " 'then stood squarely in front of the fireplace looking over our heads as',\n",
              " 'though he saw something very interesting happening in Timbuctoo.',\n",
              " '“Major Blunt,” said Flora, “I wish you’d tell me about these African',\n",
              " 'things. I’m sure you know what they all are.”',\n",
              " 'I have heard Hector Blunt described as a woman hater, but I noticed',\n",
              " 'that he joined Flora at the silver table with what might be described',\n",
              " 'as alacrity. They bent over it together.',\n",
              " 'I was afraid Mrs. Ackroyd would begin talking about settlements again,',\n",
              " 'so I made a few hurried remarks about the new sweet pea. I knew there',\n",
              " 'was a new sweet pea because the _Daily Mail_ had told me so that',\n",
              " 'morning. Mrs. Ackroyd knows nothing about horticulture, but she is the',\n",
              " 'kind of woman who likes to appear well-informed about the topics of the',\n",
              " 'day, and she, too, reads the _Daily Mail_. We were able to converse',\n",
              " 'quite intelligently until Ackroyd and his secretary joined us, and',\n",
              " 'immediately afterwards Parker announced dinner.',\n",
              " 'My place at table was between Mrs. Ackroyd and Flora. Blunt was on Mrs.',\n",
              " 'Ackroyd’s other side, and Geoffrey Raymond next to him.',\n",
              " 'Dinner was not a cheerful affair. Ackroyd was visibly preoccupied. He',\n",
              " 'looked wretched, and ate next to nothing. Mrs. Ackroyd, Raymond, and',\n",
              " 'I kept the conversation going. Flora seemed affected by her uncle’s',\n",
              " 'depression, and Blunt relapsed into his usual taciturnity.',\n",
              " 'Immediately after dinner Ackroyd slipped his arm through mine and led',\n",
              " 'me off to his study.',\n",
              " '“Once we’ve had coffee, we shan’t be disturbed again,” he explained. “I',\n",
              " 'told Raymond to see to it that we shouldn’t be interrupted.”',\n",
              " 'I studied him quietly without appearing to do so. He was clearly under',\n",
              " 'the influence of some strong excitement. For a minute or two he paced',\n",
              " 'up and down the room, then, as Parker entered with the coffee tray, he',\n",
              " 'sank into an arm-chair in front of the fire.',\n",
              " 'The study was a comfortable apartment. Book-shelves lined one wall of',\n",
              " 'it. The chairs were big and covered in dark blue leather. A large desk',\n",
              " 'stood by the window and was covered with papers neatly docketed and',\n",
              " 'filed. On a round table were various magazines and sporting papers.',\n",
              " '“I’ve had a return of that pain after food lately,” remarked Ackroyd',\n",
              " 'casually, as he helped himself to coffee. “You must give me some more',\n",
              " 'of those tablets of yours.”',\n",
              " 'It struck me that he was anxious to convey the impression that our',\n",
              " 'conference was a medical one. I played up accordingly.',\n",
              " '“I thought as much. I brought some up with me.”',\n",
              " '“Good man. Hand them over now.”',\n",
              " '“They’re in my bag in the hall. I’ll get them.”',\n",
              " 'Ackroyd arrested me.',\n",
              " '“Don’t you trouble. Parker will get them. Bring in the doctor’s bag,',\n",
              " 'will you, Parker?”',\n",
              " '“Very good, sir.”',\n",
              " 'Parker withdrew. As I was about to speak, Ackroyd threw up his hand.',\n",
              " '“Not yet. Wait. Don’t you see I’m in such a state of nerves that I can',\n",
              " 'hardly contain myself?”',\n",
              " 'I saw that plainly enough. And I was very uneasy. All sorts of',\n",
              " 'forebodings assailed me.',\n",
              " 'Ackroyd spoke again almost immediately.',\n",
              " '“Make certain that window’s closed, will you?” he asked.',\n",
              " 'Somewhat surprised, I got up and went to it. It was not a French',\n",
              " 'window, but one of the ordinary sash type. The heavy blue velvet',\n",
              " 'curtains were drawn in front of it, but the window itself was open at',\n",
              " 'the top.',\n",
              " 'Parker reëntered the room with my bag while I was still at the window.',\n",
              " '“That’s all right,” I said, emerging again into the room.',\n",
              " '“You’ve put the latch across?”',\n",
              " '“Yes, yes. What’s the matter with you, Ackroyd?”',\n",
              " 'The door had just closed behind Parker, or I would not have put the',\n",
              " 'question.',\n",
              " 'Ackroyd waited just a minute before replying.',\n",
              " '“I’m in hell,” he said slowly, after a minute. “No, don’t bother with',\n",
              " 'those damned tablets. I only said that for Parker. Servants are so',\n",
              " 'curious. Come here and sit down. The door’s closed too, isn’t it?”',\n",
              " '“Yes. Nobody can overhear; don’t be uneasy.”',\n",
              " '“Sheppard, nobody knows what I’ve gone through in the last twenty-four',\n",
              " 'hours. If a man’s house ever fell in ruins about him, mine has about',\n",
              " 'me. This business of Ralph’s is the last straw. But we won’t talk about',\n",
              " 'that now. It’s the other—the other——! I don’t know what to do about it.',\n",
              " 'And I’ve got to make up my mind soon.”',\n",
              " '“What’s the trouble?”',\n",
              " 'Ackroyd remained silent for a minute or two. He seemed curiously averse',\n",
              " 'to begin. When he did speak, the question he asked came as a complete',\n",
              " 'surprise. It was the last thing I expected.',\n",
              " '“Sheppard, you attended Ashley Ferrars in his last illness, didn’t you?”',\n",
              " '“Yes, I did.”',\n",
              " 'He seemed to find even greater difficulty in framing his next question.',\n",
              " '“Did you never suspect—did it ever enter your head—that—well, that he',\n",
              " 'might have been poisoned?”',\n",
              " 'I was silent for a minute or two. Then I made up my mind what to say.',\n",
              " 'Roger Ackroyd was not Caroline.',\n",
              " '“I’ll tell you the truth,” I said. “At the time I had no suspicion',\n",
              " 'whatever, but since—well, it was mere idle talk on my sister’s part',\n",
              " 'that first put the idea into my head. Since then I haven’t been able to',\n",
              " 'get it out again. But, mind you, I’ve no foundation whatever for that',\n",
              " 'suspicion.”',\n",
              " '“He _was_ poisoned,” said Ackroyd.',\n",
              " 'He spoke in a dull heavy voice.',\n",
              " ...]"
            ]
          },
          "metadata": {},
          "execution_count": 9
        }
      ]
    },
    {
      "cell_type": "code",
      "source": [
        "# segmentamos el texto con la utilidad de Keras\n",
        "segmented_sentences = [text_to_word_sequence(sentence) for sentence in text]"
      ],
      "metadata": {
        "id": "YUU8J1TT6w1F"
      },
      "execution_count": 10,
      "outputs": []
    },
    {
      "cell_type": "code",
      "source": [
        "print(text[0])\n",
        "print (segmented_sentences[0])"
      ],
      "metadata": {
        "colab": {
          "base_uri": "https://localhost:8080/"
        },
        "id": "rXnuUGyg66Ce",
        "outputId": "d3b9ea22-dd24-48cd-9601-a8e834f57613"
      },
      "execution_count": 11,
      "outputs": [
        {
          "output_type": "stream",
          "name": "stdout",
          "text": [
            "The Project Gutenberg eBook of The murder of Roger Ackroyd\n",
            "['the', 'project', 'gutenberg', 'ebook', 'of', 'the', 'murder', 'of', 'roger', 'ackroyd']\n"
          ]
        }
      ]
    },
    {
      "cell_type": "code",
      "source": [
        "#Quiero ver qué sucede con oraciones con caracteres especiales\n",
        "print(text[10])\n",
        "print (segmented_sentences[10])"
      ],
      "metadata": {
        "colab": {
          "base_uri": "https://localhost:8080/"
        },
        "id": "O8PeNFjF7Acu",
        "outputId": "7b8cdcd6-7d52-44cc-8e6a-8f25a8cf00c4"
      },
      "execution_count": 12,
      "outputs": [
        {
          "output_type": "stream",
          "name": "stdout",
          "text": [
            "Release date: October 2, 2022 [eBook #69087]\n",
            "['release', 'date', 'october', '2', '2022', 'ebook', '69087']\n"
          ]
        }
      ]
    },
    {
      "cell_type": "code",
      "source": [
        "# calculamos la longitud de cada secuencia\n",
        "length_sentences = [len(sentence) for sentence in segmented_sentences]\n",
        "length_sentences[10]"
      ],
      "metadata": {
        "colab": {
          "base_uri": "https://localhost:8080/"
        },
        "id": "GlQyA5N67NFO",
        "outputId": "a8858e3f-4694-4185-cf6e-b3fe9021092d"
      },
      "execution_count": 13,
      "outputs": [
        {
          "output_type": "execute_result",
          "data": {
            "text/plain": [
              "7"
            ]
          },
          "metadata": {},
          "execution_count": 13
        }
      ]
    },
    {
      "cell_type": "code",
      "source": [
        "min(length_sentences)"
      ],
      "metadata": {
        "colab": {
          "base_uri": "https://localhost:8080/"
        },
        "id": "y8niisbl7wE5",
        "outputId": "580e55ba-6358-43a0-f572-4abf6723b61b"
      },
      "execution_count": 19,
      "outputs": [
        {
          "output_type": "execute_result",
          "data": {
            "text/plain": [
              "0"
            ]
          },
          "metadata": {},
          "execution_count": 19
        }
      ]
    },
    {
      "cell_type": "code",
      "source": [
        "max(length_sentences)"
      ],
      "metadata": {
        "colab": {
          "base_uri": "https://localhost:8080/"
        },
        "id": "WYO-_LUa79fZ",
        "outputId": "fa92fd31-cafc-42a3-97ba-4737068b13ca"
      },
      "execution_count": 20,
      "outputs": [
        {
          "output_type": "execute_result",
          "data": {
            "text/plain": [
              "29"
            ]
          },
          "metadata": {},
          "execution_count": 20
        }
      ]
    },
    {
      "cell_type": "code",
      "source": [
        "from collections import Counter\n",
        "# Contar las ocurrencias de cada elemento\n",
        "contador = Counter(length_sentences)\n",
        "\n",
        "# Obtener el elemento más común\n",
        "elemento_mas_comun, cantidad = contador.most_common(1)[0]\n",
        "\n",
        "print(f\"El valor que más se repite es: {elemento_mas_comun}, con {cantidad} ocurrencias.\")"
      ],
      "metadata": {
        "colab": {
          "base_uri": "https://localhost:8080/"
        },
        "id": "rXJpDkUA8mI5",
        "outputId": "41a30e21-96fd-4817-c96c-b0dba7c8dd27"
      },
      "execution_count": 23,
      "outputs": [
        {
          "output_type": "stream",
          "name": "stdout",
          "text": [
            "El valor que más se repite es: 13, con 1127 ocurrencias.\n"
          ]
        }
      ]
    },
    {
      "cell_type": "code",
      "source": [
        "# podemos ver su distribución\n",
        "plt.hist(length_sentences,bins=30)\n",
        "plt.show()"
      ],
      "metadata": {
        "colab": {
          "base_uri": "https://localhost:8080/",
          "height": 430
        },
        "id": "bm8hP2pm7Yr3",
        "outputId": "69047502-e2ff-4ed2-beac-ac2fc44904b4"
      },
      "execution_count": 16,
      "outputs": [
        {
          "output_type": "display_data",
          "data": {
            "text/plain": [
              "<Figure size 640x480 with 1 Axes>"
            ],
            "image/png": "[encoded data removed]"
          },
          "metadata": {}
        }
      ]
    },
    {
      "cell_type": "code",
      "source": [
        "max_context_size = int(np.percentile(length_sentences, 90)-1)\n",
        "\n",
        "# max_context_size = int(np.ceil(np.mean(length_sentences))) # criterio de media\n",
        "# max_context_size = int(np.ceil(np.median(length_sentences))) # criterio de mediana\n",
        "print(f'max_context_size: {max_context_size}')"
      ],
      "metadata": {
        "colab": {
          "base_uri": "https://localhost:8080/"
        },
        "id": "lI4dzmba7bwn",
        "outputId": "cdbb4b5e-bcdc-47b8-b768-1ef81eed8b3b"
      },
      "execution_count": 24,
      "outputs": [
        {
          "output_type": "stream",
          "name": "stdout",
          "text": [
            "max_context_size: 13\n"
          ]
        }
      ]
    },
    {
      "cell_type": "code",
      "source": [
        "# instanciamos el tokenizador\n",
        "tok = Tokenizer()\n",
        "\n",
        "# El tokenizer \"aprende\" las palabras que se usaran\n",
        "# Se construye (fit) una vez por proyecto, se aplica N veces (tal cual un encoder)\n",
        "# El token 0 es reservado y no es asignado. Se utiliza para designar a palabras\n",
        "# fuera del vocabulario aprendido\n",
        "tok.fit_on_texts(segmented_sentences)\n",
        "\n",
        "# Convertimos las palabras a números\n",
        "# entran palabras -> salen números\n",
        "tokenized_sentences = tok.texts_to_sequences(segmented_sentences)"
      ],
      "metadata": {
        "id": "fJwbqiey8-pe"
      },
      "execution_count": 25,
      "outputs": []
    },
    {
      "cell_type": "code",
      "source": [
        "tokenized_sentences[0]"
      ],
      "metadata": {
        "colab": {
          "base_uri": "https://localhost:8080/"
        },
        "id": "X74VGbf_9FOm",
        "outputId": "201dd6e0-2471-4273-faa3-2dba769be83d"
      },
      "execution_count": 26,
      "outputs": [
        {
          "output_type": "execute_result",
          "data": {
            "text/plain": [
              "[1, 129, 284, 660, 5, 1, 243, 5, 244, 33]"
            ]
          },
          "metadata": {},
          "execution_count": 26
        }
      ]
    },
    {
      "cell_type": "code",
      "source": [
        "segmented_sentences[0]"
      ],
      "metadata": {
        "colab": {
          "base_uri": "https://localhost:8080/"
        },
        "id": "o0jKUgrT9IYW",
        "outputId": "e0b6c1b0-6ac4-40bd-818f-229920f7467d"
      },
      "execution_count": 27,
      "outputs": [
        {
          "output_type": "execute_result",
          "data": {
            "text/plain": [
              "['the',\n",
              " 'project',\n",
              " 'gutenberg',\n",
              " 'ebook',\n",
              " 'of',\n",
              " 'the',\n",
              " 'murder',\n",
              " 'of',\n",
              " 'roger',\n",
              " 'ackroyd']"
            ]
          },
          "metadata": {},
          "execution_count": 27
        }
      ]
    },
    {
      "cell_type": "code",
      "source": [
        "tokenized_sentences_train, tokenized_sentences_val, _, _ = train_test_split(tokenized_sentences, tokenized_sentences, test_size=0.2, random_state=42)"
      ],
      "metadata": {
        "id": "7u1kgKA29Knu"
      },
      "execution_count": 28,
      "outputs": []
    },
    {
      "cell_type": "code",
      "source": [
        "tok_sent = []\n",
        "\n",
        "for sent in tokenized_sentences_train:\n",
        "\n",
        "  # si la secuencia tiene más términos que el tamaño de contexto máximo,\n",
        "  # armo varias sub-secuencias de tamaño máximo\n",
        "  if len(sent) > (max_context_size+1):\n",
        "    extra = len(sent)-(max_context_size+1) + 1\n",
        "    for i in range(extra):\n",
        "      tok_sent.append(sent[i:i+max_context_size+1])\n",
        "  else: # si la secuencia tiene menos términos el tamaño de contexto máximo, dejo la secuencia como está\n",
        "    tok_sent.append(sent)"
      ],
      "metadata": {
        "id": "LSlAwHkH9WN_"
      },
      "execution_count": 29,
      "outputs": []
    },
    {
      "cell_type": "code",
      "source": [
        "len(tok_sent)"
      ],
      "metadata": {
        "colab": {
          "base_uri": "https://localhost:8080/"
        },
        "id": "kLZ5Rwz29fe2",
        "outputId": "c465be03-9635-4a93-8f05-c33c822e9f8e"
      },
      "execution_count": 30,
      "outputs": [
        {
          "output_type": "execute_result",
          "data": {
            "text/plain": [
              "6792"
            ]
          },
          "metadata": {},
          "execution_count": 30
        }
      ]
    },
    {
      "cell_type": "code",
      "source": [
        "tok_sent_augm = []\n",
        "\n",
        "for sent in tok_sent:\n",
        "\n",
        "  # generamos todas las sub-secuencias\n",
        "  subseq = [sent[:i+2] for i in range(len(sent)-1)]\n",
        "  # en esta línea paddeamos al tamaño de contexto máximo\n",
        "  tok_sent_augm.append(pad_sequences(subseq, maxlen=max_context_size+1, padding='pre'))"
      ],
      "metadata": {
        "id": "wBq6v3yL9hyW"
      },
      "execution_count": 31,
      "outputs": []
    },
    {
      "cell_type": "code",
      "source": [
        "len(tok_sent_augm)"
      ],
      "metadata": {
        "colab": {
          "base_uri": "https://localhost:8080/"
        },
        "id": "Oe3wF62b9yW2",
        "outputId": "6558c401-3c24-4cf1-c0b2-36d7d2b2a16e"
      },
      "execution_count": 33,
      "outputs": [
        {
          "output_type": "execute_result",
          "data": {
            "text/plain": [
              "6792"
            ]
          },
          "metadata": {},
          "execution_count": 33
        }
      ]
    },
    {
      "cell_type": "code",
      "source": [
        "# finalmente concatenamos todas las secuencias en un único array de numpy\n",
        "train_seqs = np.concatenate(tok_sent_augm, axis=0)"
      ],
      "metadata": {
        "id": "s6ZtKp6p92mR"
      },
      "execution_count": 34,
      "outputs": []
    },
    {
      "cell_type": "code",
      "source": [
        "#Tenemos 64 mil seqs con tamaño 14 (13+1)\n",
        "train_seqs.shape"
      ],
      "metadata": {
        "colab": {
          "base_uri": "https://localhost:8080/"
        },
        "id": "M5rrtxYL9_w6",
        "outputId": "69c7b632-ceac-4409-cb8d-04ec6390d74f"
      },
      "execution_count": 35,
      "outputs": [
        {
          "output_type": "execute_result",
          "data": {
            "text/plain": [
              "(64293, 14)"
            ]
          },
          "metadata": {},
          "execution_count": 35
        }
      ]
    },
    {
      "cell_type": "code",
      "source": [
        "# y de aquí sacamos las entradas y los targets que consumirá nuestro sistema en\n",
        "# tiempo de entrenamiento\n",
        "X = train_seqs[:,:-1]\n",
        "y = train_seqs[:,1:]"
      ],
      "metadata": {
        "id": "CkmPD28E-B-0"
      },
      "execution_count": 77,
      "outputs": []
    },
    {
      "cell_type": "code",
      "source": [
        "X.shape, y.shape"
      ],
      "metadata": {
        "colab": {
          "base_uri": "https://localhost:8080/"
        },
        "id": "t0SqltQU-RyG",
        "outputId": "9eb05c3e-5f43-4b93-b21b-4a687abfa2d5"
      },
      "execution_count": 39,
      "outputs": [
        {
          "output_type": "execute_result",
          "data": {
            "text/plain": [
              "((64293, 13), (64293, 13))"
            ]
          },
          "metadata": {},
          "execution_count": 39
        }
      ]
    },
    {
      "cell_type": "code",
      "source": [
        "# Palabras del vocabulario\n",
        "vocab_size=len(tok.index_word)\n",
        "vocab_size"
      ],
      "metadata": {
        "colab": {
          "base_uri": "https://localhost:8080/"
        },
        "id": "jGnZIER_-avW",
        "outputId": "a69e945e-3700-428d-bd06-c8c5976716f8"
      },
      "execution_count": 48,
      "outputs": [
        {
          "output_type": "execute_result",
          "data": {
            "text/plain": [
              "7175"
            ]
          },
          "metadata": {},
          "execution_count": 48
        }
      ]
    },
    {
      "cell_type": "code",
      "source": [
        "# El índice para cada palabra\n",
        "# El sistema las ordena de las más populares a las menos populares\n",
        "print(tok.word_index)"
      ],
      "metadata": {
        "colab": {
          "base_uri": "https://localhost:8080/"
        },
        "id": "99Awc7_o-jK-",
        "outputId": "c68969be-4c95-4e42-d1c6-f68085705daf"
      },
      "execution_count": 43,
      "outputs": [
        {
          "output_type": "stream",
          "name": "stdout",
          "text": [
            "{'the': 1, '”': 2, 'i': 3, 'to': 4, 'of': 5, 'a': 6, 'and': 7, 'that': 8, 'you': 9, 'was': 10, 'he': 11, 'it': 12, 'in': 13, 'said': 14, 'is': 15, 'at': 16, 'with': 17, 'me': 18, 'have': 19, 'not': 20, 'his': 21, 'her': 22, 'had': 23, 'she': 24, 'for': 25, 'poirot': 26, 'my': 27, 'as': 28, 'on': 29, 'but': 30, 'be': 31, 'him': 32, 'ackroyd': 33, 'all': 34, '“i': 35, 'been': 36, 'this': 37, 'so': 38, 'one': 39, 'what': 40, 'there': 41, 'from': 42, 'out': 43, 'about': 44, 'by': 45, 'very': 46, 'do': 47, 'know': 48, 'we': 49, 'caroline': 50, 'or': 51, 'no': 52, 'if': 53, 'an': 54, 'up': 55, 'ralph': 56, 'then': 57, 'were': 58, 'man': 59, 'are': 60, 'did': 61, 'mr': 62, '“you': 63, 'flora': 64, 'see': 65, 'miss': 66, 'inspector': 67, 'little': 68, 'has': 69, 'who': 70, 'would': 71, 'must': 72, 'will': 73, 'think': 74, 'any': 75, 'say': 76, 'into': 77, 'mrs': 78, 'when': 79, 'parker': 80, 'asked': 81, 'just': 82, 'some': 83, 'now': 84, 'went': 85, 'your': 86, 'don’t': 87, 'blunt': 88, 'time': 89, 'door': 90, 'last': 91, 'like': 92, 'more': 93, 'came': 94, 'can': 95, 'down': 96, 'something': 97, 'room': 98, 'us': 99, 'night': 100, 'tell': 101, 'paton': 102, 'raymond': 103, 'come': 104, 'good': 105, 'after': 106, 'which': 107, 'house': 108, 'could': 109, 'got': 110, 'should': 111, 'they': 112, 'here': 113, 'way': 114, 'over': 115, 'two': 116, 'back': 117, 'them': 118, 'might': 119, '“yes': 120, 'other': 121, '“what': 122, 'hand': 123, '“it': 124, 'looked': 125, 'never': 126, 'things': 127, 'quite': 128, 'project': 129, 'may': 130, 'again': 131, 'much': 132, 'm': 133, 'took': 134, '“but': 135, 'before': 136, 'heard': 137, 'go': 138, 'thought': 139, 'sheppard': 140, 'am': 141, 'saw': 142, 'head': 143, '“the': 144, 'thing': 145, 'well': 146, 'make': 147, '“and': 148, 'right': 149, 'sir': 150, 'left': 151, 'course': 152, 'told': 153, 'truth': 154, 'once': 155, 'only': 156, 'why': 157, 'work': 158, 'nothing': 159, 'always': 160, 'own': 161, 'made': 162, 'voice': 163, 'girl': 164, 'window': 165, 'really': 166, 'i’m': 167, 'away': 168, 'table': 169, 'moment': 170, 'question': 171, 'believe': 172, 'than': 173, 'such': 174, 'want': 175, 'minute': 176, 'nine': 177, 'our': 178, 'where': 179, 'russell': 180, 'going': 181, 'through': 182, 'face': 183, 'friend': 184, 'money': 185, 'morning': 186, 'ten': 187, 'most': 188, '“that': 189, 'too': 190, 'though': 191, 'gutenberg™': 192, 'fernly': 193, 'first': 194, 'myself': 195, 'idea': 196, 'mean': 197, 'found': 198, 'eyes': 199, 'ursula': 200, 'rather': 201, 'kind': 202, 'being': 203, 'dr': 204, 'minutes': 205, 'mind': 206, 'anything': 207, 'young': 208, 'it’s': 209, 'himself': 210, 'sister': 211, 'get': 212, 'didn’t': 213, 'still': 214, 'chair': 215, '1': 216, 'round': 217, 'find': 218, 'how': 219, 'nodded': 220, 'put': 221, 'ackroyd’s': 222, 'doctor': 223, 'sure': 224, 'raglan': 225, 'seemed': 226, 'can’t': 227, 'off': 228, 'take': 229, 'i’ve': 230, '“no': 231, 'evening': 232, 'ferrars': 233, 'same': 234, 'ganett': 235, 'every': 236, 'without': 237, '“well': 238, 'those': 239, 'study': 240, 'major': 241, '‖': 242, 'murder': 243, 'roger': 244, 'give': 245, '“he': 246, 'old': 247, 'case': 248, 'remember': 249, 'turned': 250, 'dear': 251, 'everything': 252, 'seen': 253, 'gave': 254, 'matter': 255, 'call': 256, 'their': 257, 'does': 258, 'day': 259, 'few': 260, 'these': 261, '“': 262, 'knew': 263, 'yes': 264, 'done': 265, 'half': 266, 'ask': 267, 'colonel': 268, 'story': 269, 'look': 270, 'let': 271, '“a': 272, '“not': 273, 'certain': 274, 'three': 275, 'past': 276, '“i’m': 277, 'police': 278, 'least': 279, '“oh': 280, 'place': 281, 'words': 282, 'summer': 283, 'gutenberg': 284, 'home': 285, 'hall': 286, 'woman': 287, 'enough': 288, 'death': 289, '“it’s': 290, 'upon': 291, 'mademoiselle': 292, 'doing': 293, 'coming': 294, 'long': 295, 'even': 296, 'looking': 297, 'person': 298, 'indeed': 299, 'people': 300, 'that’s': 301, 'read': 302, 'captain': 303, 'james': 304, 'information': 305, 'yet': 306, 'fact': 307, 'side': 308, 'works': 309, 'shook': 310, 'manner': 311, 'exactly': 312, 'speak': 313, 'far': 314, '“ah': 315, 'spoke': 316, 'shall': 317, 'murmured': 318, 'forward': 319, 'else': 320, '“how': 321, 'great': 322, 'small': 323, 'word': 324, 'better': 325, 'he’s': 326, 'point': 327, 'understand': 328, 'dagger': 329, 'kent': 330, 'whole': 331, 'since': 332, 'remarked': 333, 'life': 334, 'name': 335, 'brought': 336, 'cried': 337, 'pounds': 338, 'against': 339, 'ever': 340, 'stood': 341, 'taken': 342, 'able': 343, 'suppose': 344, 'felt': 345, '—': 346, 'uncle': 347, 'outside': 348, 'bourne': 349, 'chapter': 350, 'knows': 351, 'five': 352, 'perhaps': 353, 'wanted': 354, 'stared': 355, 'open': 356, 'seems': 357, 'another': 358, 'quarter': 359, 'clear': 360, 'use': 361, 'almost': 362, 'new': 363, 'poirot’s': 364, 'opened': 365, 'possible': 366, 'later': 367, 'gone': 368, 'big': 369, 'years': 370, 'many': 371, 'poor': 372, 'electronic': 373, 'king’s': 374, 'explained': 375, 'leave': 376, 'known': 377, 'also': 378, 'telephone': 379, 'silence': 380, 'year': 381, 'sat': 382, 'business': 383, 'hear': 384, 'suddenly': 385, 'began': 386, 'passed': 387, 'paused': 388, '“if': 389, 'suggested': 390, '“that’s': 391, 'murderer': 392, 'dictaphone': 393, 'under': 394, 'dead': 395, 'part': 396, 'along': 397, 'you’re': 398, 'because': 399, 'twenty': 400, 'met': 401, 'lot': 402, 'rose': 403, 'soon': 404, 'slowly': 405, 'silver': 406, 'held': 407, 'states': 408, 'terms': 409, 'abbot': 410, 'o’clock': 411, '“is': 412, 'village': 413, 'hour': 414, 'ago': 415, 'foundation': 416, 'help': 417, 'answer': 418, 'clearly': 419, 'behind': 420, 'yesterday': 421, 'surprised': 422, 'body': 423, 'yourself': 424, 'interesting': 425, 'both': 426, 'arm': 427, 'set': 428, '“to': 429, 'e': 430, '“i’ve': 431, 'continued': 432, 'bad': 433, 'wish': 434, '“there': 435, 'crime': 436, 'cranchester': 437, 'hands': 438, 'talking': 439, 'between': 440, 'saying': 441, '“my': 442, 'terrace': 443, 'position': 444, 'copyright': 445, 'charles': 446, 'front': 447, 'simple': 448, 'until': 449, 'love': 450, 'there’s': 451, 'agreed': 452, 'wrong': 453, 'letter': 454, 'sharply': 455, '“so': 456, 'end': 457, 'says': 458, 'thirty': 459, 'fire': 460, 'true': 461, 'afraid': 462, 'meet': 463, '“do': 464, '“in': 465, 'secretary': 466, 'full': 467, 'conversation': 468, 'its': 469, 'shoes': 470, 'discovered': 471, 'suspicion': 472, 'dinner': 473, 'geoffrey': 474, 'park': 475, 'each': 476, 'afternoon': 477, 'attention': 478, '“this': 479, 'doesn’t': 480, 'i’ll': 481, 'having': 482, 'melrose': 483, 'hercule': 484, 'hammond': 485, 'detective': 486, 'next': 487, 'whatever': 488, 'account': 489, 'wasn’t': 490, '“she': 491, 'child': 492, 'together': 493, 'cannot': 494, '“now': 495, 'seem': 496, 'surprise': 497, 'stranger': 498, 'questions': 499, 'feet': 500, 'ought': 501, '“why': 502, '“very': 503, 'paid': 504, 'message': 505, 'speaking': 506, 'path': 507, 'license': 508, 'sent': 509, 'certainly': 510, 'reason': 511, 'alive': 512, 'herself': 513, 'lady': 514, 'quietly': 515, '“then': 516, 'eye': 517, 'couldn’t': 518, 'admit': 519, 'straight': 520, 'present': 521, 'anxious': 522, 'liverpool': 523, 'boots': 524, 'agreement': 525, 'united': 526, 'world': 527, 'parlormaid': 528, 'paragraph': 529, 'sitting': 530, 'caroline’s': 531, 'need': 532, 'noticed': 533, 'admitted': 534, 'further': 535, 'station': 536, 'trouble': 537, 'hardly': 538, 'leaving': 539, 'near': 540, 'several': 541, 'subject': 542, 'thousand': 543, 'object': 544, '“mr': 545, 'tone': 546, 'butler': 547, 'papers': 548, 'drew': 549, 'eh': 550, 'facts': 551, 'paper': 552, 'early': 553, 'servants': 554, 'agree': 555, 'haven’t': 556, 'she’s': 557, 'odd': 558, 'late': 559, 'likely': 560, 'close': 561, 'patients': 562, 'instead': 563, 'isn’t': 564, 'boars': 565, 'wonder': 566, 'black': 567, 'best': 568, 'slightly': 569, '“who': 570, '’': 571, 'fellow': 572, 'raised': 573, 'drawing': 574, 'received': 575, 'inside': 576, 'closed': 577, 'low': 578, 'you’ve': 579, '“quite': 580, 'pocket': 581, '“we': 582, 'keep': 583, 'asking': 584, 'dryly': 585, 'copy': 586, 'paton’s': 587, 'friday': 588, 'comes': 589, 'taking': 590, 'doubt': 591, 'mother': 592, 'expected': 593, 'exclaimed': 594, 'hold': 595, 'usual': 596, 'talk': 597, 'impression': 598, 'towards': 599, 'housekeeper': 600, 'theory': 601, 'pair': 602, 'easy': 603, 'dark': 604, 'others': 605, 'laid': 606, 'handle': 607, 'you’d': 608, '“did': 609, 'dropped': 610, 'he’d': 611, 'observed': 612, 'already': 613, 'important': 614, 'gravely': 615, 'following': 616, 'thoughtfully': 617, 'necessary': 618, 'donations': 619, 'secret': 620, 'jong': 621, 'died': 622, 'times': 623, 'short': 624, 'family': 625, 'goes': 626, '“just': 627, 'immediately': 628, '“one': 629, 'satisfied': 630, 'large': 631, 'retired': 632, 'married': 633, 'shut': 634, 'arrived': 635, 'days': 636, 'mine': 637, 'whom': 638, '“of': 639, 'please': 640, 'actually': 641, 'moved': 642, 'bell': 643, 'shoulder': 644, 'across': 645, 'joined': 646, 'hector': 647, 'disturbed': 648, 'desk': 649, 'curious': 650, 'curiously': 651, 'wouldn’t': 652, 'meant': 653, 'oh': 654, 'piece': 655, 'particular': 656, 'handed': 657, 'bien': 658, 'trademark': 659, 'ebook': 660, 'book': 661, 'pond': 662, 'mah': 663, 'called': 664, 'habit': 665, 'knowing': 666, 'different': 667, 'inquired': 668, 'bound': 669, 'sort': 670, 'surely': 671, 'led': 672, '“good': 673, 'thank': 674, 'either': 675, 'replied': 676, 'fancy': 677, 'whether': 678, 'chance': 679, 'instance': 680, 'stopped': 681, 'interrupted': 682, 'sound': 683, 'declared': 684, 'gray': 685, 'real': 686, 'hope': 687, 'kept': 688, '“when': 689, 'means': 690, 'hesitated': 691, 'added': 692, 'billiard': 693, 'hiding': 694, 'evidence': 695, '“they': 696, 'smiling': 697, 'air': 698, '3': 699, 'literary': 700, 'archive': 701, 'country': 702, 'grosset': 703, 'turn': 704, 'quill': 705, 'husband': 706, 'mentioned': 707, 'whilst': 708, 'trying': 709, 'reply': 710, 'showed': 711, 'interest': 712, 'surgery': 713, 'hurried': 714, 'duty': 715, 'getting': 716, 'won’t': 717, 'hair': 718, 'mysterious': 719, 'monsieur': 720, 'ideas': 721, 'yours': 722, 'perfect': 723, 'list': 724, 'entered': 725, 'ring': 726, 'used': 727, 'they’re': 728, 'blue': 729, 'flora’s': 730, 'afterwards': 731, 'we’ve': 732, 'drawn': 733, 'killed': 734, 'i’d': 735, 'occurred': 736, 'bed': 737, 'locked': 738, 'bedroom': 739, 'handkerchief': 740, 'happened': 741, '“nothing': 742, 'latter': 743, 'explanation': 744, 'interview': 745, 'visit': 746, '“m': 747, 'walk': 748, 'scrap': 749, 'lawyer': 750, 'alibi': 751, 'upset': 752, 'knowledge': 753, 'interested': 754, 'heart': 755, 'six': 756, 'affair': 757, 'simply': 758, 'longer': 759, 'local': 760, 'men': 761, 'marriage': 762, 'four': 763, 'second': 764, 'matters': 765, 'returned': 766, 'mystery': 767, 'state': 768, 'thinking': 769, 'realize': 770, 'waiting': 771, 'somewhat': 772, 'order': 773, 'granted': 774, 'larches': 775, 'refused': 776, 'wall': 777, 'broke': 778, 'forced': 779, 'figure': 780, 'glad': 781, 'gold': 782, 'beg': 783, 'notice': 784, 'looks': 785, 'boy': 786, '“as': 787, 'however': 788, 'perfectly': 789, 'puzzled': 790, 'rang': 791, 'alone': 792, 'wondered': 793, 'hard': 794, 'shoulders': 795, 'difficult': 796, 'game': 797, 'uncle’s': 798, '“don’t': 799, '“i’ll': 800, 'impossible': 801, 'stairs': 802, '“where': 803, 'master': 804, 'motive': 805, 'show': 806, 'constable': 807, 'access': 808, 'explain': 809, 'glance': 810, 'news': 811, 'blackmail': 812, 'given': 813, '“perhaps': 814, 'hundred': 815, 'f': 816, 'www': 817, 'laws': 818, 'using': 819, 'produced': 820, 'inquest': 821, 'light': 822, 'dining': 823, 'usually': 824, '“you’ve': 825, 'women': 826, 'demanded': 827, 'purpose': 828, 'burst': 829, '“surely': 830, 'importance': 831, 'red': 832, 'beautiful': 833, 'followed': 834, 'stepfather': 835, 'became': 836, 'law': 837, 'smile': 838, 'walking': 839, 'ralph’s': 840, 'engagement': 841, 'lunch': 842, 'run': 843, 'lost': 844, '“there’s': 845, 'wants': 846, 'somebody': 847, 'opportunity': 848, 'hadn’t': 849, 'nature': 850, 'confidence': 851, 'pretty': 852, 'ran': 853, 'eyebrows': 854, 'laugh': 855, 'play': 856, 'color': 857, 'quickly': 858, 'caught': 859, 'lid': 860, '“all': 861, 'you’ll': 862, 'roger’s': 863, 'amongst': 864, 'begin': 865, 'tray': 866, 'return': 867, 'itself': 868, 'telling': 869, 'fear': 870, 'gates': 871, 'pulled': 872, 'upstairs': 873, 'murdered': 874, 'lay': 875, 'staircase': 876, 'fingerprints': 877, 'fool': 878, '“mademoiselle': 879, 'dog': 880, 'smiled': 881, '“certainly': 882, 'laughed': 883, 'pay': 884, 'org': 885, 'english': 886, 'dunlap': 887, 'start': 888, 'amount': 889, 'therefore': 890, 'wife': 891, 'seriously': 892, 'months': 893, 'drove': 894, 'feeling': 895, 'medical': 896, 'imagine': 897, 'appeared': 898, 'fashion': 899, 'fell': 900, 'lips': 901, 'struck': 902, 'what’s': 903, 'garden': 904, 'patient': 905, 'handsome': 906, 'suspected': 907, 'listened': 908, 'changed': 909, 'reading': 910, 'nobody': 911, 'staying': 912, 'statement': 913, 'encouragingly': 914, 'spite': 915, 'accepted': 916, 'slight': 917, 'hide': 918, 'voices': 919, 'answered': 920, 'exact': 921, 'bag': 922, 'turning': 923, 'pushed': 924, 'carefully': 925, 'extraordinary': 926, '“you’re': 927, 'remained': 928, 'shouldn’t': 929, 'uneasy': 930, 'sit': 931, 'public': 932, 'till': 933, 'free': 934, 'queer': 935, 'lodge': 936, 'wind': 937, 'circumstances': 938, 'finished': 939, '“miss': 940, 'davis': 941, 'standing': 942, 'neither': 943, 'keeping': 944, 'beginning': 945, 'method': 946, 'leaves': 947, 'during': 948, 'cells': 949, 'written': 950, 'prints': 951, 'american': 952, 'realized': 953, 'carter': 954, 'ellerby': 955, 's': 956, 'including': 957, 'refund': 958, 'date': 959, '2': 960, 'goose': 961, 'wise': 962, 'tea': 963, 'suspect': 964, 'within': 965, 'helped': 966, 'walked': 967, 'nice': 968, 'annoyed': 969, '“nonsense': 970, 'fairly': 971, 'committed': 972, 'probably': 973, 'prepared': 974, 'pity': 975, 'nowadays': 976, 'grave': 977, 'son': 978, 'fond': 979, 'gossip': 980, 'living': 981, 'ferrars’s': 982, 'terrible': 983, '“ralph': 984, 'drug': 985, 'dismissed': 986, 'feel': 987, 'knee': 988, 'one’s': 989, 'high': 990, 'deal': 991, 'neighbor': 992, 'demand': 993, 'pleased': 994, 'completely': 995, 'god': 996, 'wood': 997, 'care': 998, 'born': 999, '“what’s': 1000, 'silent': 1001, 'repeated': 1002, 'running': 1003, 'number': 1004, 'peculiar': 1005, 'bring': 1006, 'curtains': 1007, 'top': 1008, 'while': 1009, 'difficulty': 1010, '“can': 1011, 'lie': 1012, 'letters': 1013, 'watched': 1014, 'below': 1015, '“parker': 1016, 'makes': 1017, 'lobby': 1018, 'careful': 1019, 'white': 1020, 'gate': 1021, 'merely': 1022, 'conceal': 1023, 'nodding': 1024, 'drive': 1025, 'dare': 1026, '“dr': 1027, 'stupid': 1028, '“are': 1029, 'aback': 1030, '9': 1031, 'elsie': 1032, 'girls': 1033, 'nor': 1034, 'shrugged': 1035, 'forty': 1036, 'brown': 1037, 'guilty': 1038, 'lying': 1039, 'concealing': 1040, 'scene': 1041, 'provide': 1042, 'experiment': 1043, 'whistle': 1044, 'manuscript': 1045, 'u': 1046, 'forth': 1047, 'fee': 1048, 'located': 1049, 'goldfish': 1050, 'reunion': 1051, 'hours': 1052, 'overcoat': 1053, 'cause': 1054, '“go': 1055, 'naturally': 1056, 'poisoned': 1057, 'earth': 1058, 'excited': 1059, 'suicide': 1060, 'coldly': 1061, 'weak': 1062, 'sorry': 1063, 'seeing': 1064, 'possibility': 1065, 'absolutely': 1066, 'town': 1067, 'office': 1068, 'nearly': 1069, 'seven': 1070, 'worry': 1071, 'ready': 1072, 'live': 1073, 'twice': 1074, 'remain': 1075, 'less': 1076, 'special': 1077, 'attend': 1078, 'remembered': 1079, 'self': 1080, 'often': 1081, 'understood': 1082, 'somewhere': 1083, 'touch': 1084, 'broken': 1085, 'except': 1086, 'tall': 1087, 'housemaid': 1088, 'deliberately': 1089, 'harm': 1090, 'cocaine': 1091, 'poisons': 1092, 'stories': 1093, '“flora': 1094, 'engaged': 1095, 'immense': 1096, 'innocent': 1097, 'proved': 1098, 'none': 1099, 'man’s': 1100, 'hairdresser': 1101, 'empty': 1102, 'sounded': 1103, 'send': 1104, 'hoped': 1105, 'strange': 1106, 'busy': 1107, 'middle': 1108, 'description': 1109, 'charming': 1110, 'pass': 1111, 'sense': 1112, 'earlier': 1113, 'stepped': 1114, 'faint': 1115, 'slipped': 1116, 'strain': 1117, 'friends': 1118, 'threw': 1119, 'glanced': 1120, 'desire': 1121, 'presence': 1122, 'drawer': 1123, 'gently': 1124, 'anyway': 1125, 'making': 1126, 'wearing': 1127, 'finger': 1128, 'happy': 1129, 'announced': 1130, 'we’re': 1131, 'sight': 1132, 'watching': 1133, 'coffee': 1134, 'wait': 1135, 'plainly': 1136, 'dreadful': 1137, 'shock': 1138, 'presently': 1139, 'envelope': 1140, 'writing': 1141, 'fancied': 1142, 'rough': 1143, '“thank': 1144, 'car': 1145, 'answering': 1146, 'stand': 1147, 'lock': 1148, '“on': 1149, 'parker’s': 1150, 'picked': 1151, 'aside': 1152, 'studs': 1153, 'inquiries': 1154, 'inspector’s': 1155, 'stay': 1156, 'liked': 1157, '“was': 1158, 'happen': 1159, '“exactly': 1160, 'started': 1161, 'wished': 1162, 'accused': 1163, 'accompany': 1164, 'fresh': 1165, 'chief': 1166, 'opinion': 1167, 'books': 1168, 'details': 1169, 'change': 1170, 'charge': 1171, 'seat': 1172, '“have': 1173, 'considered': 1174, 'dale': 1175, 'sometimes': 1176, 'cambric': 1177, 'triumphantly': 1178, 'forget': 1179, 'chap': 1180, 'removed': 1181, 'lead': 1182, 'party': 1183, 'sum': 1184, 'confess': 1185, 'morrow': 1186, 'blind': 1187, 'general': 1188, 'meaning': 1189, 'superintendent': 1190, 'permission': 1191, 'distributing': 1192, 'copies': 1193, 'ebooks': 1194, 'associated': 1195, 'section': 1196, 'vegetable': 1197, 'marrows': 1198, 'learn': 1199, 'profession': 1200, 'dry': 1201, 'suggest': 1202, 'necessarily': 1203, 'passing': 1204, 'note': 1205, 'cold': 1206, 'annie': 1207, 'pause': 1208, 'absurd': 1209, 'convinced': 1210, 'worn': 1211, '“will': 1212, 'act': 1213, 'regarded': 1214, 'freely': 1215, 'marry': 1216, 'putting': 1217, 'experience': 1218, 'week': 1219, 'finally': 1220, 'future': 1221, 'blow': 1222, 'wreck': 1223, 'remarks': 1224, 'above': 1225, 'appearance': 1226, 'stick': 1227, 'argue': 1228, 'housekeeper’s': 1229, 'remark': 1230, 'escape': 1231, 'dream': 1232, 'daily': 1233, 'kindly': 1234, 'comprehend': 1235, 'ridiculous': 1236, 'expression': 1237, 'ways': 1238, 'gesture': 1239, 'guessed': 1240, 'correct': 1241, 'sentence': 1242, 'evidently': 1243, 'mistake': 1244, 'hang': 1245, 'catch': 1246, 'cut': 1247, '“only': 1248, 'weakness': 1249, 'crossed': 1250, 'quality': 1251, 'ones': 1252, 'fingers': 1253, 'article': 1254, 'wrote': 1255, 'totally': 1256, 'medium': 1257, 'played': 1258, 'arrested': 1259, 'pointed': 1260, 'horror': 1261, 'view': 1262, 'worth': 1263, 'staring': 1264, 'ground': 1265, 'thick': 1266, 'aloud': 1267, 'startled': 1268, 'particularly': 1269, 'coat': 1270, 'collar': 1271, 'whose': 1272, '“mrs': 1273, 'doorway': 1274, '’”': 1275, 'possibly': 1276, 'alarm': 1277, 'household': 1278, 'hesitatingly': 1279, 'doubtfully': 1280, 'hilt': 1281, 'missing': 1282, 'request': 1283, 'rubber': 1284, 'discover': 1285, '“for': 1286, 'queried': 1287, 'clew': 1288, 'forgotten': 1289, 'tried': 1290, 'clean': 1291, 'touched': 1292, 'quiet': 1293, '“let': 1294, 'obvious': 1295, 'hot': 1296, 'giving': 1297, 'investigate': 1298, 'sprang': 1299, 'le': 1300, 'bowed': 1301, 'trust': 1302, 'quick': 1303, '“every': 1304, 'press': 1305, 'result': 1306, 'express': 1307, 'consequence': 1308, 'limited': 1309, 'lucky': 1310, 'corner': 1311, 'force': 1312, 'hastings': 1313, 'cleared': 1314, 'step': 1315, 'sudden': 1316, 'water': 1317, 'legacy': 1318, 'notes': 1319, 'folliott': 1320, 'strictly': 1321, 'job': 1322, 'seek': 1323, 'assure': 1324, 'considerable': 1325, '4': 1326, 'blackmailed': 1327, 'weren’t': 1328, 'listen': 1329, 'glasses': 1330, 'club': 1331, 'support': 1332, 'mile': 1333, 'distribute': 1334, 'distribution': 1335, 'comply': 1336, 'tax': 1337, 'anyone': 1338, 'parts': 1339, 'cost': 1340, 'online': 1341, 'release': 1342, 'language': 1343, 'distributed': 1344, 'available': 1345, 'publishers': 1346, 'york': 1347, 'contents': 1348, 'who’s': 1349, '7': 1350, 'key': 1351, 'hat': 1352, 'pretend': 1353, 'ahead': 1354, 'tells': 1355, 'placidly': 1356, 'intelligence': 1357, 'expert': 1358, 'common': 1359, 'satisfaction': 1360, 'fit': 1361, 'hastily': 1362, '“didn’t': 1363, 'takes': 1364, 'veronal': 1365, 'widow': 1366, 'enjoy': 1367, 'objected': 1368, 'firmly': 1369, 'secretly': 1370, 'arrive': 1371, 'depends': 1372, 'describe': 1373, 'ladies': 1374, 'green': 1375, 'london': 1376, 'successful': 1377, 'wild': 1378, 'nevertheless': 1379, 'husband’s': 1380, 'marked': 1381, 'previously': 1382, 'brother': 1383, 'sounds': 1384, 'wedding': 1385, 'cases': 1386, 'thoughts': 1387, 'heads': 1388, 'vague': 1389, '“sheppard': 1390, 'keenly': 1391, 'cheeks': 1392, 'positive': 1393, 'worse': 1394, '“look': 1395, 'wondering': 1396, 'sharp': 1397, 'suggestions': 1398, 'countenance': 1399, 'difficulties': 1400, 'russell’s': 1401, 'reference': 1402, 'drugs': 1403, 'obscure': 1404, 'regretfully': 1405, 'valuable': 1406, 'guess': 1407, 'waited': 1408, 'practically': 1409, 'mother’s': 1410, 'shutting': 1411, 'questioning': 1412, 'covered': 1413, 'porrott': 1414, 'strong': 1415, 'human': 1416, 'honest': 1417, 'pleasure': 1418, 'foolish': 1419, 'accept': 1420, 'excellent': 1421, '“indeed': 1422, 'amused': 1423, 'orders': 1424, 'share': 1425, 'shake': 1426, 'drop': 1427, 'girl’s': 1428, 'angry': 1429, 'glass': 1430, 'rapidly': 1431, 'breath': 1432, 'break': 1433, 'easily': 1434, 'effort': 1435, 'pressed': 1436, 'summons': 1437, 'mention': 1438, 'pieces': 1439, 'examine': 1440, 'pale': 1441, 'wore': 1442, 'stuff': 1443, 'third': 1444, 'suitable': 1445, 'shot': 1446, 'abrupt': 1447, 'fireplace': 1448, 'described': 1449, 'bent': 1450, 'chairs': 1451, 'neatly': 1452, 'various': 1453, 'ordinary': 1454, 'hell': 1455, 'complete': 1456, 'confession': 1457, 'blood': 1458, 'forgive': 1459, 'blackmailing': 1460, 'sums': 1461, 'mad': 1462, 'momentary': 1463, 'scoundrel': 1464, 'concerned': 1465, 'posted': 1466, 'pardon': 1467, 'clock': 1468, 'reminded': 1469, 'satisfy': 1470, 'acquiesced': 1471, '“your': 1472, '“come': 1473, 'sign': 1474, 'draw': 1475, 'instant': 1476, 'disarranged': 1477, 'gentleman': 1478, 'accident': 1479, 'sill': 1480, 'footmarks': 1481, 'suspicious': 1482, '“never': 1483, 'supposing': 1484, 'excuse': 1485, 'bringing': 1486, 'leads': 1487, 'private': 1488, 'wide': 1489, 'stolen': 1490, 'promised': 1491, 'throat': 1492, 'decided': 1493, 'intended': 1494, 'form': 1495, 'weapon': 1496, 'carrying': 1497, 'mildly': 1498, 'accompanied': 1499, 'stop': 1500, 'county': 1501, 'wonderful': 1502, 'commented': 1503, 'direct': 1504, 'docteur': 1505, 'twinkle': 1506, 'thus': 1507, 'immediate': 1508, 'situation': 1509, 'solution': 1510, 'mistaken': 1511, 'prefer': 1512, 'indicated': 1513, 'softly': 1514, 'shown': 1515, 'individual': 1516, '10': 1517, 'watch': 1518, 'test': 1519, 'inquiringly': 1520, 'ears': 1521, 'fishy': 1522, 'footprints': 1523, 'spot': 1524, 'sold': 1525, 'uncertainly': 1526, 'nasty': 1527, 'politely': 1528, 'thinks': 1529, 'paying': 1530, 'exceedingly': 1531, 'older': 1532, '“which': 1533, 'provided': 1534, 'box': 1535, 'bearing': 1536, '“see': 1537, 'blackmailer': 1538, 'novels': 1539, 'allowed': 1540, 'meeting': 1541, 'line': 1542, 'actions': 1543, 'greeted': 1544, 'failed': 1545, 'discovery': 1546, '“really': 1547, 'try': 1548, 'tiles': 1549, 'shanghai': 1550, 'deceived': 1551, 'leaned': 1552, 'clever': 1553, 'phrase': 1554, 'protected': 1555, '“project': 1556, 'gutenberg”': 1557, 'compliance': 1558, 'donate': 1559, 'replacement': 1560, 'volunteers': 1561, 'anywhere': 1562, 'check': 1563, 'library': 1564, 'links': 1565, 'illustration': 1566, 'company': 1567, 'page': 1568, 'grew': 1569, 'x': 1570, 'ursula’s': 1571, 'eight': 1572, 'reached': 1573, 'cough': 1574, 'delay': 1575, 'finding': 1576, 'professional': 1577, 'finds': 1578, 'hung': 1579, 'paddock': 1580, 'thin': 1581, 'sleep': 1582, 'soul': 1583, 'cook': 1584, 'wasted': 1585, 'lately': 1586, 'commit': 1587, 'positively': 1588, 'hasn’t': 1589, 'unfortunate': 1590, 'she’d': 1591, 'sufficiently': 1592, 'nerves': 1593, 'ashley': 1594, 'nonsense': 1595, 'firm': 1596, 'supplied': 1597, '“you’ll': 1598, 'proceed': 1599, 'post': 1600, 'rich': 1601, 'squire': 1602, 'faced': 1603, 'setting': 1604, 'lad': 1605, 'history': 1606, 'everybody': 1607, 'drink': 1608, 'canada': 1609, 'according': 1610, 'bitter': 1611, 'affairs': 1612, 'jerked': 1613, 'tragedy': 1614, 'mechanically': 1615, 'reach': 1616, 'fatal': 1617, 'earnestly': 1618, 'swept': 1619, 'fallen': 1620, 'vaguely': 1621, 'spoken': 1622, 'confirmed': 1623, 'worst': 1624, 'proof': 1625, 'ill': 1626, 'neat': 1627, 'suggestion': 1628, 'cast': 1629, 'cross': 1630, 'invented': 1631, 'society': 1632, 'proceeded': 1633, 'america': 1634, 'departed': 1635, '“his': 1636, 'created': 1637, 'polite': 1638, 'capable': 1639, 'personality': 1640, 'warning': 1641, 'heavy': 1642, 'suspiciously': 1643, 'spirit': 1644, 'secrets': 1645, 'superior': 1646, 'sympathetically': 1647, 'lives': 1648, 'irritably': 1649, 'laughing': 1650, 'acquaintance': 1651, 'flung': 1652, 'niece': 1653, 'pressure': 1654, 'bear': 1655, 'consider': 1656, 'grateful': 1657, 'lowered': 1658, 'barmaid': 1659, 'neighborhood': 1660, 'vexed': 1661, 'fine': 1662, 'foot': 1663, 'square': 1664, 'pleasant': 1665, 'chest': 1666, 'raymond’s': 1667, 'directly': 1668, 'apparent': 1669, 'subconsciously': 1670, 'i—i': 1671, 'windows': 1672, 'french': 1673, 'wanting': 1674, 'closely': 1675, 'lifted': 1676, 'recognized': 1677, 'strikes': 1678, 'fair': 1679, 'hate': 1680, 'intention': 1681, 'amazing': 1682, 'stare': 1683, '“major': 1684, 'mail': 1685, 'shan’t': 1686, 'sorts': 1687, 'overhear': 1688, 'greater': 1689, '“at': 1690, 'mere': 1691, 'allow': 1692, 'property': 1693, 'revelation': 1694, 'among': 1695, 'swear': 1696, 'responsibility': 1697, 'publicity': 1698, 'we’ll': 1699, 'calls': 1700, 'road': 1701, 'propose': 1702, 'sheet': 1703, 'headed': 1704, 'determined': 1705, 'embarrassed': 1706, 'listening': 1707, 'opposite': 1708, 'direction': 1709, 'curiosity': 1710, 'kitchen': 1711, 'ruefully': 1712, 'telephoning': 1713, '“from': 1714, 'tapped': 1715, 'rising': 1716, 'wiped': 1717, 'stretched': 1718, 'gingerly': 1719, 'mustn’t': 1720, 'disturb': 1721, 'shaking': 1722, 'drawers': 1723, 'disappeared': 1724, 'points': 1725, '“naturally': 1726, '“any': 1727, '“h’m': 1728, 'stabbed': 1729, 'whisky': 1730, 'entirely': 1731, 'dressing': 1732, '“we’re': 1733, 'equally': 1734, 'unlocked': 1735, 'breast': 1736, 'member': 1737, 'depend': 1738, 'placed': 1739, 'china': 1740, 'spare': 1741, '“we’ll': 1742, 'steps': 1743, 'effect': 1744, 'supposed': 1745, 'newspapers': 1746, 'marks': 1747, 'invited': 1748, 'identify': 1749, 'trivial': 1750, 'apologetically': 1751, 'grin': 1752, '“she’s': 1753, 'nervously': 1754, 'silenced': 1755, 'ushered': 1756, 'choose': 1757, 'eagerly': 1758, 'plan': 1759, 'official': 1760, 'themselves': 1761, 'obtained': 1762, 'aid': 1763, '“went': 1764, 'believed': 1765, 'assented': 1766, 'colonel’s': 1767, 'grate': 1768, 'observe': 1769, 'rest': 1770, '“about': 1771, 'methods': 1772, 'ah': 1773, 'reflected': 1774, 'wednesday': 1775, 'belgian': 1776, 'duties': 1777, 'tongue': 1778, 'gaze': 1779, 'bow': 1780, '—in': 1781, 'stress': 1782, 'graveled': 1783, 'fixed': 1784, 'interests': 1785, '“does': 1786, 'mud': 1787, 'father': 1788, 'flush': 1789, 'address': 1790, 'aren’t': 1791, 'sleeve': 1792, 'adopted': 1793, 'c’est': 1794, 'stayed': 1795, 'persuaded': 1796, '“without': 1797, 'hurt': 1798, 'bills': 1799, 'unpleasantness': 1800, 'marby': 1801, 'think——”': 1802, 'uncomfortable': 1803, 'nervous': 1804, 'familiar': 1805, 'practice': 1806, 'beside': 1807, 'permitted': 1808, 'importantly': 1809, 'overheard': 1810, 'consult': 1811, '“james': 1812, 'monday': 1813, 'throw': 1814, 'foreign': 1815, 'street': 1816, 'entendu': 1817, 'frankly': 1818, 'strike': 1819, 'mesdames': 1820, 'responsible': 1821, 'announcement': 1822, 'courage': 1823, 'cup': 1824, 'accent': 1825, 'précisément': 1826, 'servant': 1827, 'stormy': 1828, 'oui': 1829, 'inclined': 1830, 'task': 1831, 'vital': 1832, 'beforehand': 1833, 'hastened': 1834, 'coincidence': 1835, 'tremendous': 1836, 'pot': 1837, '“by': 1838, 'conscience': 1839, 'rate': 1840, 'patted': 1841, 'east': 1842, '“chow': 1843, '‘from': 1844, 'kill': 1845, 'applicable': 1846, 'magnificent': 1847, 'hayes': 1848, 'mon': 1849, 'ami': 1850, 'incredulously': 1851, 'nephew': 1852, 'useful': 1853, 'receptacle': 1854, 'mechanical': 1855, 'costs': 1856, 'blacker': 1857, 'efforts': 1858, 'wireless': 1859, 'you—you': 1860, 'mood': 1861, 'paragraphs': 1862, 'sides': 1863, 'parted': 1864, 'unless': 1865, 'sonia': 1866, 'zane': 1867, 'editions': 1868, 'creating': 1869, 'copying': 1870, 'mission': 1871, '8': 1872, 'c': 1873, 'collection': 1874, 'displaying': 1875, 'format': 1876, 'status': 1877, 'holder': 1878, 'fees': 1879, 'providing': 1880, 'requirements': 1881, '5': 1882, 'website': 1883, '•': 1884, 'owner': 1885, 'contact': 1886, 'damages': 1887, 'whatsoever': 1888, 're': 1889, 'included': 1890, 'original': 1891, 'likes': 1892, 'breakfast': 1893, 'tunisian': 1894, 'latch': 1895, 'hanging': 1896, 'precaution': 1897, 'considerably': 1898, 'mongoose': 1899, 'corps': 1900, 'gather': 1901, 'hers': 1902, 'concerning': 1903, 'discretion': 1904, 'moral': 1905, 'clothes': 1906, 'paris': 1907, 'husbands': 1908, 'eggs': 1909, 'bacon': 1910, 'sister’s': 1911, 'nose': 1912, 'failure': 1913, 'accordingly': 1914, 'overdose': 1915, 'health': 1916, '“an': 1917, 'indulge': 1918, 'declare': 1919, 'miles': 1920, 'officers': 1921, 'fashioned': 1922, 'extremely': 1923, 'personal': 1924, 'former': 1925, 'growing': 1926, 'series': 1927, 'confidently': 1928, 'escaped': 1929, 'arrival': 1930, 'daughter': 1931, 'cecil': 1932, 'proper': 1933, 'sympathy': 1934, '“poor': 1935, 'advantage': 1936, 'probable': 1937, 'action': 1938, 'twelve': 1939, 'manage': 1940, 'preceding': 1941, 'conveyed': 1942, 'puzzle': 1943, 'conclusions': 1944, 'wicked': 1945, 'smoke': 1946, 'fortunately': 1947, 'stern': 1948, 'kitchenmaid': 1949, 'obliged': 1950, 'character': 1951, 'disposed': 1952, 'protested': 1953, 'tools': 1954, 'attempt': 1955, 'poison': 1956, 'western': 1957, '“with': 1958, 'inn': 1959, '“ackroyd': 1960, 'rule': 1961, 'parting': 1962, 'worked': 1963, 'relation': 1964, 'diversion': 1965, 'annoyance': 1966, 'foreigner': 1967, 'apparently': 1968, 'blank': 1969, 'somehow': 1970, 'sending': 1971, 'seized': 1972, 'egg': 1973, 'apologies': 1974, 'mentally': 1975, 'anger': 1976, 'throwing': 1977, 'walls': 1978, 'occasionally': 1979, 'argentine': 1980, 'understanding': 1981, 'shadow': 1982, 'duly': 1983, 'tiny': 1984, 'walks': 1985, 'patent': 1986, 'incognito': 1987, 'mused': 1988, 'expectations': 1989, 'lower': 1990, 'confusion': 1991, 'hurry': 1992, 'numbers': 1993, '“caroline': 1994, 'grace': 1995, 'adjacent': 1996, 'cards': 1997, 'unfortunately': 1998, 'bar': 1999, 'reasons': 2000, 'extent': 2001, 'devoted': 2002, 'inquiry': 2003, 'gloomily': 2004, 'devil': 2005, 'frowning': 2006, 'gravity': 2007, 'decidedly': 2008, 'lone': 2009, 'preferred': 2010, 'calling': 2011, 'noted': 2012, '“how’s': 2013, 'flowers': 2014, 'strolled': 2015, 'opening': 2016, 'caused': 2017, 'bureau': 2018, 'studying': 2019, 'shoe': 2020, 'belonging': 2021, 'chinese': 2022, 'fuss': 2023, 'george': 2024, 'mill': 2025, 'floss': 2026, 'edition': 2027, 'keeps': 2028, 'sea': 2029, 'meetings': 2030, 'handful': 2031, 'rings': 2032, 'relief': 2033, 'tiresome': 2034, 'settlements': 2035, 'friendship': 2036, 'built': 2037, 'excitement': 2038, 'filed': 2039, '“they’re': 2040, 'withdrew': 2041, 'contain': 2042, 'sash': 2043, 'type': 2044, 'dull': 2045, 'carry': 2046, 'objection': 2047, 'sake': 2048, 'picture': 2049, 'quicker': 2050, 'fat': 2051, 'exaggerated': 2052, 'impressions': 2053, 'salver': 2054, 'handing': 2055, 'stone': 2056, 'write': 2057, 'relations': 2058, 'undone': 2059, 'church': 2060, 'mister': 2061, 'device': 2062, 'receiver': 2063, 'they’ve': 2064, 'unmoved': 2065, '“me': 2066, '“excuse': 2067, '‘': 2068, 'joke': 2069, 'keyhole': 2070, 'sideways': 2071, 'visible': 2072, 'moving': 2073, 'signs': 2074, 'mask': 2075, 'blunt’s': 2076, 'thief': 2077, 'floor': 2078, 'mouth': 2079, 'gentlemen': 2080, '“plain': 2081, 'value': 2082, 'climbed': 2083, 'strangers': 2084, 'ability': 2085, 'respectful': 2086, 'recognize': 2087, 'fragment': 2088, 'distinctly': 2089, 'frequent': 2090, 'see——”': 2091, 'thing’s': 2092, 'length': 2093, 'soda': 2094, 'main': 2095, 'gain': 2096, 'pantry': 2097, 'silk': 2098, 'cry': 2099, 'gives': 2100, 'hinted': 2101, 'obviously': 2102, 'deny': 2103, '“ye': 2104, 'es': 2105, 'attentively': 2106, 'blade': 2107, 'wound': 2108, 'cutting': 2109, 'dangerous': 2110, 'creep': 2111, 'registered': 2112, 'outer': 2113, 'fetch': 2114, '“absolutely': 2115, 'trace': 2116, 'hesitation': 2117, 'card': 2118, 'drank': 2119, 'concealed': 2120, 'he’ll': 2121, 'privately': 2122, 'funny': 2123, 'detectives': 2124, 'active': 2125, 'persuade': 2126, 'hints': 2127, 'rushed': 2128, 'unnoticed': 2129, 'there——”': 2130, 'stamped': 2131, 'working': 2132, 'tack': 2133, 'manners': 2134, 'breton': 2135, 'arranged': 2136, 'formal': 2137, 'money——”': 2138, 'narrative': 2139, 'ce': 2140, 'reputation': 2141, 'successes': 2142, 'solemnly': 2143, 'latest': 2144, 'class': 2145, 'grow': 2146, 'pairs': 2147, '“would': 2148, 'alternative': 2149, 'recovered': 2150, 'traveled': 2151, 'approval': 2152, '“anything': 2153, 'grandfather': 2154, 'arrange': 2155, 'approach': 2156, 'returns': 2157, 'happens': 2158, 'search': 2159, 'debonair': 2160, 'delighted': 2161, 'representative': 2162, 'purchase': 2163, 'service': 2164, 'lose': 2165, 'raising': 2166, 'letting': 2167, 'fall': 2168, 'soothingly': 2169, 'degree': 2170, 'difference': 2171, 'names': 2172, '45': 2173, 'match': 2174, 'servants’': 2175, 'hears': 2176, 'leaning': 2177, 'footsteps': 2178, 'inherits': 2179, 'truthfully': 2180, 'laughter': 2181, 'interrupting': 2182, 'thankful': 2183, 'expect': 2184, 'smoking': 2185, 'microscopic': 2186, 'intense': 2187, 'elbow': 2188, 'invitation': 2189, 'cat': 2190, 'r': 2191, 'march': 2192, 'acting': 2193, 'cautiously': 2194, '“had': 2195, 'provisions': 2196, 'legal': 2197, '“such': 2198, 'as——': 2199, 'fortune': 2200, 'wealthy': 2201, 'steady': 2202, 'casual': 2203, 'troubles': 2204, 'lack': 2205, '“he’s': 2206, 'penny': 2207, 'resented': 2208, 'respected': 2209, 'powers': 2210, 'arrangement': 2211, 'distress': 2212, 'expenses': 2213, 'flushed': 2214, 'bewildered': 2215, '‘i': 2216, 'references': 2217, 'pursed': 2218, 'neck': 2219, 'selected': 2220, 'loss': 2221, '“since': 2222, 'needed': 2223, 'sunday': 2224, 'background': 2225, 'lady’s': 2226, 'winning': 2227, 'vanished': 2228, '“ursula': 2229, 'thoroughly': 2230, 'mixed': 2231, 'russian': 2232, 'grand': 2233, 'managed': 2234, 'fiction': 2235, 'complacently': 2236, 'appeal': 2237, 'liberty': 2238, 'vulgar': 2239, 'liver': 2240, 'talked': 2241, 'gets': 2242, 'steward': 2243, 'significantly': 2244, 'fortunate': 2245, 'absence': 2246, 'irrelevant': 2247, 'l’inspecteur': 2248, 'awkward': 2249, 'board': 2250, 'grows': 2251, 'guilt': 2252, 'papa': 2253, 'formally': 2254, 'abruptly': 2255, 'motives': 2256, 'pas': 2257, 'et': 2258, 'protest': 2259, 'swelled': 2260, 'invent': 2261, 'speaks': 2262, '“because': 2263, 'romance': 2264, 'maid': 2265, 'attracted': 2266, 'searched': 2267, 'starched': 2268, 'theories': 2269, 'mais': 2270, 'beyond': 2271, 'expecting': 2272, 'assistance': 2273, 'independent': 2274, 'advice': 2275, 'shrewd': 2276, 'scream': 2277, 'scotch': 2278, 'delicate': 2279, 'flash': 2280, 'spur': 2281, 'refrained': 2282, 'accepting': 2283, 'revealed': 2284, 'cared': 2285, 'hotel': 2286, 'ganett’s': 2287, 'clara': 2288, 'success': 2289, 'comfortably': 2290, 'medlar': 2291, 'jelly': 2292, '“two': 2293, 'arise': 2294, 'hidden': 2295, 'concealments': 2296, 'evenings': 2297, 'passes': 2298, 'india': 2299, 'discarded': 2300, '“pung': 2301, 'chow': 2302, 'greatest': 2303, 'fail': 2304, 'train': 2305, 'triumph': 2306, 'witness': 2307, 'useless': 2308, 'actual': 2309, 'imagined': 2310, 'dreamed': 2311, 'mental': 2312, 'appears': 2313, 'staff': 2314, 'tooth': 2315, 'detained': 2316, 'connected': 2317, 'bit': 2318, 'prevent': 2319, 'physical': 2320, 'remind': 2321, 'tentative': 2322, '“charles': 2323, 'kent’s': 2324, 'obtaining': 2325, 'conclusion': 2326, 'buried': 2327, 'loves': 2328, 'especially': 2329, 'save': 2330, 'dared': 2331, 'badly': 2332, 'unknown': 2333, 'grief': 2334, 'examined': 2335, '“horrible': 2336, 'crumpled': 2337, 'newspaper': 2338, 'marches': 2339, 'debts': 2340, 'timed': 2341, 'reticence': 2342, 'supposition': 2343, 'remove': 2344, 'receive': 2345, 'wrapper': 2346, 'modern': 2347, 'printed': 2348, 'wherever': 2349, 'dunlap’s': 2350, 'diana': 2351, 'city': 2352, 'rafael': 2353, 'desert': 2354, 'royalties': 2355, 'complying': 2356, 'derivative': 2357, 'obtain': 2358, 'entity': 2359, 'performing': 2360, 'additional': 2361, 'user': 2362, 'royalty': 2363, 'payments': 2364, 'defect': 2365, 'defective': 2366, 'equipment': 2367, 'disclaimer': 2368, 'liability': 2369, 'warranties': 2370, 'limitation': 2371, 'foundation’s': 2372, 'restrictions': 2373, 'author': 2374, 'agatha': 2375, 'christie': 2376, 'recently': 2377, 'updated': 2378, '31': 2379, 'publication': 2380, 'ii': 2381, 'iii': 2382, 'iv': 2383, 'v': 2384, 'vi': 2385, 'vii': 2386, 'neighbor’s': 2387, 'viii': 2388, 'confident': 2389, 'ix': 2390, 'xi': 2391, 'pays': 2392, 'xii': 2393, 'xiii': 2394, 'xiv': 2395, 'xv': 2396, 'xvi': 2397, 'xvii': 2398, 'xviii': 2399, 'xix': 2400, 'xx': 2401, 'xxi': 2402, 'xxii': 2403, 'xxiii': 2404, 'xxiv': 2405, 'xxv': 2406, 'xxvi': 2407, 'xxvii': 2408, 'apologia': 2409, 'moments': 2410, 'worried': 2411, 'events': 2412, 'weeks': 2413, 'emphatically': 2414, 'instinct': 2415, 'stirring': 2416, 'rattle': 2417, 'cups': 2418, 'unnecessary': 2419, 'precisely': 2420, 'minutes’': 2421, 'motto': 2422, 'spread': 2423, 'aim': 2424, 'withholding': 2425, 'ferrars’': 2426, 'invariable': 2427, 'gastritis': 2428, 'alcoholic': 2429, 'poisoning': 2430, 'unlike': 2431, 'youth': 2432, 'buy': 2433, 'accustomed': 2434, 'eat': 2435, 'tip': 2436, 'milkman': 2437, 'sarcastically': 2438, 'answers': 2439, 'belief': 2440, 'speech': 2441, 'rhyme': 2442, 'gusto': 2443, 'logical': 2444, 'impulse': 2445, 'rid': 2446, 'suffer': 2447, 'haunted': 2448, 'presumably': 2449, 'comprehension': 2450, 'inspired': 2451, 'encourage': 2452, 'data': 2453, 'inquire': 2454, 'humbug': 2455, 'shrewdly': 2456, 'railway': 2457, 'unmarried': 2458, 'military': 2459, 'houses': 2460, 'musical': 2461, 'comedy': 2462, 'sang': 2463, 'song': 2464, 'fifty': 2465, 'age': 2466, 'genial': 2467, 'glove': 2468, 'parish': 2469, 'peaceful': 2470, 'painful': 2471, 'succeeded': 2472, 'drinking': 2473, 'youngster': 2474, 'period': 2475, 'mourning': 2476, 'become': 2477, 'fitness': 2478, 'fitting': 2479, 'victims': 2480, 'housekeepers': 2481, 'advent': 2482, 'unexpected': 2483, 'chilly': 2484, 'acid': 2485, 'utmost': 2486, 'charity': 2487, 'miserable': 2488, 'preoccupations': 2489, 'fitted': 2490, 'scheme': 2491, 'mild': 2492, 'midst': 2493, 'reveal': 2494, 'normal': 2495, 'safely': 2496, 'premonition': 2497, 'tête': 2498, '“hardly': 2499, 'dine': 2500, '30': 2501, 'suit': 2502, 'blankly': 2503, 'ghastly': 2504, 'jumping': 2505, 'maneuvers': 2506, 'taker': 2507, 'statements': 2508, 'reacted': 2509, 'preserve': 2510, 'non': 2511, 'congratulated': 2512, 'iron': 2513, 'tightly': 2514, 'whenever': 2515, 'trumped': 2516, 'tale': 2517, 'chat': 2518, 'bottle': 2519, 'trade': 2520, 'array': 2521, 'goes——”': 2522, 'lecture': 2523, 'seeking': 2524, 'strangely': 2525, 'rare': 2526, 'detection': 2527, 'south': 2528, 'tribe': 2529, 'instantaneous': 2530, 'curare': 2531, 'negative': 2532, 'gong': 2533, 'pleases': 2534, 'stepping': 2535, 'returning': 2536, 'comfortable': 2537, 'expressed': 2538, 'twitching': 2539, 'nights': 2540, 'chose': 2541, 'barmaids': 2542, 'patiently': 2543, 'forbore': 2544, 'milk': 2545, 'vegetables': 2546, 'joints': 2547, 'acquired': 2548, 'children': 2549, 'maiden': 2550, 'mustache': 2551, 'hairdressers': 2552, 'personally': 2553, 'frenchman': 2554, 'ear': 2555, 'marrow': 2556, 'angrily': 2557, 'shaped': 2558, 'mustaches': 2559, 'promenade': 2560, 'ashamed': 2561, 'profuse': 2562, 'wretched': 2563, 'hit': 2564, 'hobby': 2565, 'toil': 2566, 'attain': 2567, 'and—i': 2568, 'chains': 2569, 'surprising': 2570, 'sighed': 2571, 'eyeing': 2572, 'sigh': 2573, 'solemn': 2574, 'porcupine': 2575, 'oilfields': 2576, 'plumped': 2577, 'fate': 2578, 'west': 2579, 'mouthed': 2580, 'ours': 2581, 'neighbors': 2582, 'stooped': 2583, 'offered': 2584, 'cheerfully': 2585, 'doubtless': 2586, 'impatience': 2587, 'notoriety': 2588, 'troubled': 2589, 'version': 2590, 'himself—not': 2591, 'discussing': 2592, 'indefinable': 2593, 'modest': 2594, 'pride': 2595, 'visibly': 2596, 'ball': 2597, 'declined': 2598, 'repeating': 2599, '“people': 2600, '“coming': 2601, 'blush': 2602, 'lovely': 2603, 'woods': 2604, 'regards': 2605, 'places': 2606, 'unpleasant': 2607, '’em': 2608, 'altering': 2609, 'victim': 2610, 'extraordinarily': 2611, 'extravagant': 2612, 'veneration': 2613, 'doubtful': 2614, 'outstretched': 2615, 'lighting': 2616, 'mess': 2617, 'damned': 2618, 'oak': 2619, 'tie': 2620, 'facing': 2621, 'apologized': 2622, '“much': 2623, 'baby': 2624, 'king': 2625, 'jade': 2626, 'figures': 2627, 'african': 2628, 'curios': 2629, 'admiring': 2630, 'skin': 2631, 'cream': 2632, 'genuine': 2633, 'doubts': 2634, 'pen': 2635, 'eliot': 2636, '“we’ve': 2637, 'month': 2638, 'farm': 2639, 'hunt': 2640, 'detest': 2641, 'teeth': 2642, 'judgment': 2643, 'cecil’s': 2644, 'fully': 2645, 'leetle': 2646, 'although': 2647, 'eloquence': 2648, 'interruption': 2649, 'interfering': 2650, 'unlikely': 2651, 'diverged': 2652, 'horns': 2653, 'permanent': 2654, 'soft': 2655, 'footed': 2656, 'expressionless': 2657, 'happening': 2658, 'unwillingly': 2659, 'squarely': 2660, 'sweet': 2661, 'pea': 2662, 'appear': 2663, 'informed': 2664, 'cheerful': 2665, 'ate': 2666, 'appearing': 2667, 'sank': 2668, 'leather': 2669, 'magazines': 2670, 'food': 2671, 'casually': 2672, 'tablets': 2673, 'convey': 2674, 'conference': 2675, 'doctor’s': 2676, 'replying': 2677, 'door’s': 2678, 'attended': 2679, 'enter': 2680, 'consented': 2681, 'elapsed': 2682, 'she—she': 2683, 'brute': 2684, 'citizen': 2685, 'utterly': 2686, 'monotonous': 2687, 'arose': 2688, 'anxiety': 2689, 'frankness': 2690, 'awful': 2691, 'promise': 2692, 'rake': 2693, 'fastened': 2694, 'penalty': 2695, 'fro': 2696, 'reckoned': 2697, 'strongest': 2698, 'desperation': 2699, 'collected': 2700, 'diverted': 2701, 'whisper': 2702, 'hearing': 2703, 'unfolded': 2704, 'spared': 2705, 'impulsively': 2706, 'urge': 2707, 'pig': 2708, 'arguments': 2709, 'unread': 2710, 'smug': 2711, 'shifty': 2712, 'uneducated': 2713, '“these': 2714, 'yawned': 2715, 'properly': 2716, 'impatiently': 2717, 'shocked': 2718, 'practical': 2719, 'heels': 2720, '“allow': 2721, 'build': 2722, 'applied': 2723, 'wake': 2724, 'quarters': 2725, 'ladies’': 2726, 'stooping': 2727, 'in—or': 2728, 'alarmed': 2729, 'advanced': 2730, 'shining': 2731, 'brow': 2732, 'inform': 2733, 'stricken': 2734, 'incredulous': 2735, 'where’s': 2736, 'emotion': 2737, 'stolid': 2738, 'composure': 2739, 'pince': 2740, 'nez': 2741, 'polished': 2742, 'burglary': 2743, 'containing': 2744, 'pealed': 2745, 'confused': 2746, 'murmur': 2747, 'terribly': 2748, '“none': 2749, '“half': 2750, 'bolted': 2751, 'strode': 2752, 'torch': 2753, 'powerful': 2754, 'pikestaff': 2755, 'nerve': 2756, 'tracks': 2757, 'chime': 2758, 'thanks': 2759, 'fix': 2760, '“probably': 2761, 'respectfully': 2762, 'corrected': 2763, 'volunteered': 2764, 'purse': 2765, 'accede': 2766, 'vent': 2767, 'apologetic': 2768, '“you’d': 2769, '“i’d': 2770, 'interposed': 2771, 'bathroom': 2772, 'blocked': 2773, 'knocked': 2774, 'depart': 2775, 'descended': 2776, 'wrapped': 2777, 'robbery': 2778, 'composedly': 2779, 'grunt': 2780, 'specially': 2781, 'forgot': 2782, '“won’t': 2783, 'safety': 2784, '“bad': 2785, 'whispered': 2786, 'carried': 2787, 'downstairs': 2788, '“looked': 2789, 'eavesdropping': 2790, '“blackmail': 2791, 'imagination': 2792, 'favorable': 2793, 'narrated': 2794, 'involved': 2795, 'term': 2796, 'entering': 2797, 'how’s': 2798, 'temper': 2799, 'visitor': 2800, '“anyway': 2801, 'exchange': 2802, 'slip': 2803, 'curio': 2804, 'surveying': 2805, 'mug': 2806, 'sharpness': 2807, '“lord': 2808, 'edge': 2809, 'toy': 2810, '“may': 2811, 'thorough': 2812, 'technical': 2813, 'judge': 2814, 'toe': 2815, '“something': 2816, 'ruffled': 2817, 'efficient': 2818, 'tedious': 2819, 'infinitely': 2820, 'noticing': 2821, '“we’d': 2822, 'summoned': 2823, 'posed': 2824, 'dismissal': 2825, '“rather': 2826, 'chuckle': 2827, 'inviting': 2828, 'companion': 2829, 'dim': 2830, 'spirits': 2831, 'ascend': 2832, '“fiddlesticks': 2833, 'serious': 2834, 'sofa': 2835, 'twisting': 2836, 'resolute': 2837, 'mean—the': 2838, '“remember': 2839, 'directness': 2840, 'grudgingly': 2841, '“be': 2842, 'countered': 2843, '“leaving': 2844, 'luggage': 2845, 'horrid': 2846, 'weaselly': 2847, 'murderers': 2848, 'favorite': 2849, 'cap': 2850, 'lapse': 2851, '“monsieur': 2852, 'serve': 2853, 'to—to——”': 2854, '“money': 2855, 'scent': 2856, 'regret': 2857, 'enjoined': 2858, 'ceiling': 2859, 'departure': 2860, 'previous': 2861, 'aware': 2862, 'stiffly': 2863, 'introduce': 2864, 'officer': 2865, 'introduced': 2866, 'plain': 2867, 'directed': 2868, 'investigation': 2869, 'luck': 2870, 'saved': 2871, 'raglan’s': 2872, 'remarkable': 2873, 'admire': 2874, 'assist': 2875, 'honored': 2876, 'scotland': 2877, 'yard': 2878, 'developments': 2879, 'instantly': 2880, 'bull': 2881, 'alike': 2882, 'compare': 2883, '“or': 2884, 'panic': 2885, '“except': 2886, 'indicate': 2887, 'electric': 2888, 'pattern': 2889, 'trained': 2890, 'observation': 2891, '“i—i': 2892, 'blunt——”': 2893, 'error': 2894, 'patient’s': 2895, 'swiftly': 2896, 'burned': 2897, 'triumphant': 2898, 'butler’s': 2899, '“raymond': 2900, 'unimportant': 2901, 'otherwise': 2902, '“but——”': 2903, '“everything': 2904, 'entrance': 2905, 'traced': 2906, '23': 2907, 'trains': 2908, 'sorted': 2909, 'connection': 2910, 'north': 2911, 'chances': 2912, 'les': 2913, 'destroyed': 2914, 'knitting': 2915, 'brows': 2916, 'impatient': 2917, 'dressed': 2918, 'plays': 2919, 'horses': 2920, 'frowned': 2921, 'brusquely': 2922, 'kindness': 2923, 'marvelous': 2924, 'brain': 2925, 'psychology': 2926, 'broadly': 2927, 'p': 2928, 'follows': 2929, '55': 2930, '—went': 2931, 'cooper': 2932, 'jones': 2933, 'pulling': 2934, 'fits': 2935, 'slips': 2936, 'jumped': 2937, 'wear': 2938, 'spring': 2939, 'wet': 2940, 'regular': 2941, 'farther': 2942, 'lingered': 2943, 'replace': 2944, 'rustic': 2945, 'seats': 2946, 'folded': 2947, 'detached': 2948, 'palm': 2949, 'quoted': 2950, 'knack': 2951, 'enclosed': 2952, 'paved': 2953, 'recess': 2954, 'pursuing': 2955, 'trees': 2956, 'attitude': 2957, 'outright': 2958, 'me—i': 2959, 'malice': 2960, 'tan': 2961, 'opera': 2962, 'distance': 2963, 'africa': 2964, 'decent': 2965, 'all——”': 2966, 'moment’s': 2967, 'natural': 2968, 'consoling': 2969, '“things': 2970, 'hunter': 2971, 'scheming': 2972, 'stirred': 2973, '“like': 2974, 'mélisande': 2975, '“married': 2976, 'dreadfully': 2977, 'clearing': 2978, 'join': 2979, 'apologize': 2980, 'disappearing': 2981, 'bushes': 2982, 'gleam': 2983, 'anybody': 2984, 'move': 2985, 'chin': 2986, '“inspector': 2987, 'tactfully': 2988, 'bottom': 2989, 'precautions': 2990, 'gazed': 2991, 'ceremony': 2992, 'couple': 2993, 'habits': 2994, 'reproachfully': 2995, '“hercule': 2996, 'risk': 2997, 'contained': 2998, '13th': 2999, 'inspecting': 3000, 'undertone': 3001, 'heartily': 3002, 'justice': 3003, 'interpolated': 3004, 'charitable': 3005, 'income': 3006, 'shares': 3007, 'possessed': 3008, 'loud': 3009, '“speak': 3010, 'strolling': 3011, 'tuesday': 3012, '“rum': 3013, '“were': 3014, 'similar': 3015, 'trusted': 3016, 'touching': 3017, 'reluctance': 3018, 'highly': 3019, 'characteristic': 3020, 'money—a': 3021, 'jaw': 3022, 'silly': 3023, 'identification': 3024, 'cash': 3025, 'require': 3026, 'due': 3027, 'intact': 3028, 'accurate': 3029, 'faith': 3030, '“here': 3031, 'roll': 3032, 'counted': 3033, 'sixty': 3034, 'other’s': 3035, '“either': 3036, 'missed': 3037, 'respectable': 3038, 'rolled': 3039, 'roused': 3040, 'wave': 3041, 'accusing': 3042, '“twenty': 3043, 'rearranging': 3044, 'precise': 3045, 'grange': 3046, 'breaking': 3047, 'said——”': 3048, 'whereas': 3049, 'fourth': 3050, 'pointing': 3051, 'confirmation': 3052, 'then——”': 3053, 'coughed': 3054, 'rearrange': 3055, 'meaningless': 3056, 'meditations': 3057, 'mistress': 3058, 'covers': 3059, 'untidy': 3060, 'ease': 3061, 'satisfactory': 3062, 'folliott’s': 3063, 'underlying': 3064, 'nervousness': 3065, 'tinge': 3066, 'judged': 3067, 'rendered': 3068, 'suppressed': 3069, 'prince': 3070, 'paul': 3071, 'dancer': 3072, 'intriguing': 3073, 'hinting': 3074, 'solved': 3075, 'super': 3076, 'rooms': 3077, 'royal': 3078, 'strained': 3079, 'innuendoes': 3080, 'coarse': 3081, 'me—and': 3082, 'bitterly': 3083, 'produce': 3084, '“might': 3085, 'puts': 3086, 'memory': 3087, 'liner': 3088, 'meaningly': 3089, '“precisely': 3090, '“another': 3091, 'tortuous': 3092, 'interpreted': 3093, 'price': 3094, 'joint': 3095, 'detail': 3096, 'england': 3097, 'comment': 3098, 'dire': 3099, '—the': 3100, 'nowhere': 3101, 'arms': 3102, 'enlarged': 3103, 'loops': 3104, 'referred': 3105, 'correspond': 3106, 'overlooking': 3107, 'mean——”': 3108, 'suggesting': 3109, 'verify': 3110, 'gloves': 3111, 'confusing': 3112, 'ignorance': 3113, 'occur': 3114, 'unconcern': 3115, 'dust': 3116, 'assembled': 3117, '“messieurs': 3118, 'damning': 3119, 'innocence': 3120, 'asks': 3121, '“mother': 3122, 'runs': 3123, 'loath': 3124, 'results': 3125, 'control': 3126, 'tearfully': 3127, 'shrill': 3128, 'protests': 3129, 'appreciate': 3130, '“can’t': 3131, 'congratulate': 3132, 'messieurs': 3133, 'aged': 3134, 'probability': 3135, 'imperturbable': 3136, 'irish': 3137, 'siphon': 3138, 'chocolate': 3139, 'twinkled': 3140, 'employ': 3141, 'hazarded': 3142, 'subconscious': 3143, 'liable': 3144, 'secrecy': 3145, 'takers': 3146, 'sniff': 3147, 'rendezvous': 3148, '—mr': 3149, 'league': 3150, 'accomplice': 3151, '“decidedly': 3152, 'separate': 3153, 'stole': 3154, 'elsewhere': 3155, 'feared': 3156, 'divided': 3157, 'distinct': 3158, 'presented': 3159, 'contributed': 3160, 'belongs': 3161, 'urgent': 3162, 'prostrated': 3163, 'tonic': 3164, 'concluded': 3165, 'occasioned': 3166, 'power': 3167, 'creature': 3168, 'insisted': 3169, 'apply': 3170, 'spiteful': 3171, 'premises': 3172, 'frilled': 3173, 'martyrdom': 3174, 'hundreds': 3175, '“those': 3176, 'mounted': 3177, 'abusive': 3178, 'becoming': 3179, 'careless': 3180, 'adopt': 3181, 'surface': 3182, 'punch': 3183, 'prompted': 3184, 'conduct': 3185, 'crying': 3186, 'encouraged': 3187, 'puzzling': 3188, 'subtle': 3189, 'briefly': 3190, '“aren’t': 3191, 'jam': 3192, 'tasted': 3193, 'agitation': 3194, 'indiscreet': 3195, 'nick': 3196, 'onwards': 3197, 'prick': 3198, 'assumed': 3199, 'energetically': 3200, 'guest': 3201, 'chink': 3202, 'rubbing': 3203, 'guests': 3204, 'permit': 3205, 'owing': 3206, 'bamboos': 3207, 'circles': 3208, 'frequently': 3209, 'interestedly': 3210, 'discard': 3211, 'male': 3212, 'intent': 3213, 'pung': 3214, 'dragon': 3215, 'mayn’t': 3216, 'faces': 3217, 'characters': 3218, 'dragons': 3219, 'avoid': 3220, 'friendly': 3221, 'brisk': 3222, 'pretending': 3223, 'variety': 3224, 'distracted': 3225, 'counters': 3226, 'urged': 3227, '“after': 3228, 'genially': 3229, 'intoxicated': 3230, 'upwards': 3231, 'reckless': 3232, '“mark': 3233, 'wildfire': 3234, 'reproaches': 3235, 'occupied': 3236, 'ventured': 3237, 'glancing': 3238, 'you—i': 3239, 'pleasantly': 3240, '“take': 3241, 'seated': 3242, '“sir': 3243, 'injured': 3244, 'rapped': 3245, 'addicted': 3246, 'smoothly': 3247, 'sincerity': 3248, 'bank': 3249, 'perceive': 3250, 'purchased': 3251, 'credible': 3252, 'unfinished': 3253, 'acted': 3254, 'reserve': 3255, 'straightway': 3256, 'brings': 3257, 'claim': 3258, 'chops': 3259, 'embarrassment': 3260, 'seldom': 3261, 'vegetarian': 3262, 'diet': 3263, 'dentist': 3264, 'tout': 3265, 'aches': 3266, 'insists': 3267, 'gazing': 3268, 'alibis': 3269, 'rise': 3270, 'cigarette': 3271, 'occurs': 3272, 'wives': 3273, 'exposure': 3274, 'so—the': 3275, '“afterwards': 3276, 'danger': 3277, 'arises': 3278, '“poirot': 3279, 'visited': 3280, 'dope': 3281, 'japp': 3282, 'juncture': 3283, 'gent': 3284, 'croaked': 3285, 'receiving': 3286, 'row': 3287, 'civil': 3288, '“under': 3289, 'birthplace': 3290, 'mock': 3291, 'sage': 3292, 'dropping': 3293, 'balmy': 3294, 'murdering': 3295, 'false': 3296, 'prove': 3297, 'tossed': 3298, 'purely': 3299, 'constant': 3300, 'wit’s': 3301, 'persisted': 3302, 'implored': 3303, 'hopelessly': 3304, 'loyal': 3305, 'kid': 3306, 'anguish': 3307, 'nursing': 3308, 'valiant': 3309, 'worthless': 3310, 'proud': 3311, 'deep': 3312, 'disapproval': 3313, 'mechanism': 3314, 'appointment': 3315, 'contrary': 3316, 'holding': 3317, 'aspect': 3318, 'ça': 3319, 'beamed': 3320, 'assured': 3321, 'follow': 3322, 'print': 3323, 'beats': 3324, 'upright': 3325, 'display': 3326, 'defiance': 3327, 'resemblance': 3328, 'terror': 3329, 'flared': 3330, '“ought': 3331, 'charged': 3332, 'render': 3333, 'switched': 3334, 'hurriedly': 3335, 'elaborate': 3336, '“pumping': 3337, 'dealt': 3338, 'confidences': 3339, 'screw': 3340, 'glimpse': 3341, 'enjoyed': 3342, 'strict': 3343, 'complex': 3344, '“yet': 3345, 'earn': 3346, 'despite': 3347, 'dictated': 3348, 'playing': 3349, 'hole': 3350, 'duplicity': 3351, 'unforgivable': 3352, 'stealing': 3353, 'ruined': 3354, '“until': 3355, 'music': 3356, 'madame': 3357, 'forefinger': 3358, 'stumbling': 3359, 'hotter': 3360, 'chapters': 3361, 'plate': 3362, 'workshop': 3363, 'finish': 3364, 'recorded': 3365, 'faithfully': 3366, 'grouped': 3367, 'machine': 3368, 'invention': 3369, 'trap': 3370, 'persons': 3371, 'apron': 3372, 'problem': 3373, 'displayed': 3374, 'learnt': 3375, 'gasped': 3376, 'saturday': 3377, 'add': 3378, 'criminal': 3379, 'discrepancy': 3380, 'learned': 3381, 'arriving': 3382, 'ledge': 3383, 'footwear': 3384, 'climb': 3385, 'stars': 3386, 'taste': 3387, 'vida': 3388, 'hurst': 3389, 'marsh': 3390, 'marries': 3391, 'sabatini': 3392, 'school': 3393, 'saint': 3394, 'grey’s': 3395, 'canyon': 3396, 'trail': 3397, 'italics': 3398, 'pages': 3399, 'errors': 3400, 'owns': 3401, 'protect': 3402, 'concept': 3403, 'research': 3404, 'redistribution': 3405, 'promoting': 3406, 'redistributing': 3407, 'intellectual': 3408, 'destroy': 3409, 'b': 3410, 'domain': 3411, 'based': 3412, 'prominently': 3413, 'copied': 3414, '6': 3415, 'vanilla': 3416, 'ascii”': 3417, 'specified': 3418, 'prepare': 3419, 'receipt': 3420, 'accordance': 3421, '90': 3422, 'computer': 3423, 'damage': 3424, 'warranty': 3425, 'breach': 3426, 'lieu': 3427, 'electronically': 3428, 'implied': 3429, 'readable': 3430, 'widest': 3431, 'computers': 3432, 'generations': 3433, 'exempt': 3434, 'federal': 3435, 'contributions': 3436, 'email': 3437, 'solicit': 3438, 'title': 3439, 'october': 3440, '2022': 3441, '69087': 3442, 'january': 3443, '2024': 3444, 'credits': 3445, 'emmanuel': 3446, 'ackerman': 3447, 'robert': 3448, 'tonsing': 3449, 'proofreading': 3450, 'team': 3451, 'https': 3452, 'pgdp': 3453, 'net': 3454, 'images': 3455, 'hathitrust': 3456, 'digital': 3457, 'chimneys': 3458, 'etc': 3459, '1926': 3460, 'dodd': 3461, 'mead': 3462, 'inc': 3463, 'punkie': 3464, 'orthodox': 3465, 'falling': 3466, '17': 3467, '49': 3468, '65': 3469, '75': 3470, '92': 3471, '106': 3472, '118': 3473, '136': 3474, '145': 3475, '156': 3476, '165': 3477, '178': 3478, '190': 3479, '202': 3480, '218': 3481, '226': 3482, '238': 3483, '251': 3484, '260': 3485, '269': 3486, '284': 3487, '289': 3488, '298': 3489, '303': 3490, '16th–17th': 3491, 'september—a': 3492, 'thursday': 3493, '17th': 3494, 'purposely': 3495, 'delayed': 3496, 'deemed': 3497, 'chill': 3498, 'autumn': 3499, 'foresaw': 3500, 'kipling': 3501, 'adopts': 3502, 'crest': 3503, 'rampant': 3504, 'omit': 3505, 'manages': 3506, 'tradesmen': 3507, 'constitute': 3508, 'amazingly': 3509, 'named': 3510, 'trait': 3511, 'causing': 3512, 'pangs': 3513, 'indecision': 3514, 'demise': 3515, 'space': 3516, 'continually': 3517, 'blame': 3518, 'constantly': 3519, 'asserted': 3520, 'assertion': 3521, 'scorns': 3522, 'rejoinder': 3523, 'acute': 3524, 'habitual': 3525, 'indulgence': 3526, 'beverages': 3527, 'symptoms': 3528, 'arsenical': 3529, 'bases': 3530, 'accusation': 3531, 'lines': 3532, 'attractive': 3533, 'lots': 3534, 'hesitating': 3535, 'sharper': 3536, 'dozen': 3537, 'overcoats': 3538, 'peck': 3539, 'cheek': 3540, '“king’s': 3541, '“annie': 3542, 'inveterate': 3543, 'talker': 3544, 'quivered': 3545, 'snapped': 3546, 'clairvoyant': 3547, 'sits': 3548, 'die': 3549, 'sarcasm': 3550, 'sooner': 3551, 'sleeplessness': 3552, 'acknowledge': 3553, 'voicing': 3554, 'rouse': 3555, 'fury': 3556, 'denial': 3557, 'indignant': 3558, '“rushing': 3559, 'hag': 3560, 'ridden': 3561, 'diagnosis': 3562, 'remorse': 3563, '“remorse': 3564, 'blooded': 3565, 'fruits': 3566, 'minded': 3567, 'sentimentality': 3568, 'repentance': 3569, 'that—but': 3570, 'mass': 3571, 'overmastering': 3572, 'endure': 3573, 'suffering': 3574, 'deal——”': 3575, 'frocks': 3576, 'softer': 3577, 'emotions': 3578, 'guesswork': 3579, 'airing': 3580, 'views': 3581, 'strictures': 3582, 'confessing': 3583, 'admission': 3584, 'land': 3585, 'hearts': 3586, 'precious': 3587, 'consideration': 3588, 'repressively': 3589, 'accidentally': 3590, 'dispensed': 3591, 'geography': 3592, 'rival': 3593, '“general': 3594, 'stores': 3595, 'bodied': 3596, 'apt': 3597, 'hobbies': 3598, 'recreations': 3599, 'summed': 3600, '“gossip': 3601, 'owned': 3602, 'impossibly': 3603, 'reminds': 3604, 'sportsmen': 3605, 'revues': 3606, 'immensely': 3607, 'manufacturer': 3608, 'wagon': 3609, 'wheels': 3610, 'rubicund': 3611, 'vicar': 3612, 'subscribes': 3613, 'liberally': 3614, 'funds': 3615, 'rumor': 3616, 'expenditure': 3617, 'encourages': 3618, 'cricket': 3619, 'matches': 3620, 'lads’': 3621, 'clubs': 3622, 'disabled': 3623, 'soldiers’': 3624, 'institutes': 3625, 'senior': 3626, 'bluntly': 3627, 'dipsomaniac': 3628, 'disposition': 3629, 'matrimonial': 3630, 'adventure': 3631, 'wife’s': 3632, 'continual': 3633, 'source': 3634, 'intimacy': 3635, 'conjectured': 3636, 'admittedly': 3637, 'drunkard': 3638, 'excess': 3639, 'endured': 3640, 'spouses': 3641, 'halo': 3642, 'surrounded': 3643, 'manhood': 3644, 'presided': 3645, 'establishment': 3646, 'lively': 3647, 'cronies': 3648, 'fifteen': 3649, 'redoubtable': 3650, 'reigned': 3651, 'undisputed': 3652, 'predecessors': 3653, 'that—and': 3654, 'factor—the': 3655, 'widowed': 3656, 'ne’er': 3657, 'younger': 3658, 'residence': 3659, '“proper': 3660, 'place”': 3661, 'constitutes—it': 3662, 'unpleasant—but': 3663, 'pinched': 3664, 'professes': 3665, 'ackroyd—dependent': 3666, 'bread': 3667, 'tapis': 3668, 'charming—not': 3669, 'gushing—to': 3670, 'proves': 3671, 'discussed': 3672, 'standpoint': 3673, 'rearrangement': 3674, 'kaleidoscope': 3675, 'discussion': 3676, 'presents': 3677, 'revolving': 3678, 'sundry': 3679, 'contemplated': 3680, 'determination': 3681, 'covet': 3682, 'limelight': 3683, 'considering—well—considering': 3684, 'quarreled': 3685, 'foreboding': 3686, 'tangible': 3687, 'yet—but': 3688, 'earnest': 3689, 'à': 3690, 'disagreeably': 3691, 'jolly': 3692, 'healthy': 3693, 'afternoon—no': 3694, '“yes—i': 3695, 'that—except': 3696, 'london——damn': 3697, 'here’s': 3698, 'thirsting': 3699, 'characteristics': 3700, 'lacks': 3701, 'unerring': 3702, 'lends': 3703, 'greatness': 3704, 'breathless': 3705, 'interrogatory': 3706, 'sad': 3707, 'grain': 3708, 'engagement—because': 3709, 'it—doctors': 3710, 'did—but': 3711, 'beady': 3712, 'association': 3713, 'impassive': 3714, 'committal': 3715, 'occasion': 3716, 'joining': 3717, 'natured': 3718, 'counterattack': 3719, 'pull': 3720, 'thoughtful': 3721, 'contemplating': 3722, 'perceived': 3723, 'ills': 3724, 'flesh': 3725, 'forbidding': 3726, 'wiser': 3727, 'pains': 3728, 'unconvincing': 3729, 'integrity': 3730, 'affection': 3731, 'pump': 3732, 'misjudged': 3733, 'brief': 3734, 'linger': 3735, 'liniment': 3736, 'sweeping': 3737, 'bottles': 3738, 'disparagingly': 3739, '“drugs': 3740, 'prevalent': 3741, '“suppose': 3742, 'slave': 3743, 'cure': 3744, 'offhand': 3745, 'instance——”': 3746, 'baffle': 3747, 'essence': 3748, 'poison—if': 3749, 'of—something': 3750, 'savages': 3751, 'arrows': 3752, 'science': 3753, 'powerless': 3754, 'detect': 3755, 'cupboard': 3756, 'estimation': 3757, 'luncheon': 3758, 'fondness': 3759, 'rebuke': 3760, 'delinquent': 3761, 'perusal': 3762, 'seventh': 3763, 'objection—on': 3764, 'contrary——': 3765, '“excellent': 3766, 'pastime': 3767, 'gay': 3768, 'metropolis': 3769, 'indefatigable': 3770, 'cousin': 3771, 'cousinship': 3772, '“secretly': 3773, 'enjoyment': 3774, '“old': 3775, 'flaws': 3776, 'extreme': 3777, 'reed': 3778, 'meat': 3779, 'occasional': 3780, 'whitings': 3781, 'supply': 3782, 'porrott—a': 3783, 'conveys': 3784, 'unreality': 3785, 'was—and': 3786, 'passports': 3787, 'dissented': 3788, 'wavy': 3789, 'hair—not': 3790, 'cited': 3791, 'aggrieved': 3792, 'borrowed': 3793, 'wasn’t—and': 3794, 'queen': 3795, 'sheba': 3796, 'vacuum': 3797, 'cleaners——”': 3798, 'meditated': 3799, 'loan': 3800, 'gleaming': 3801, 'gardening': 3802, 'busily': 3803, 'exterminating': 3804, 'dandelion': 3805, 'roots': 3806, 'shout': 3807, 'whizzed': 3808, 'repellant': 3809, 'squelch': 3810, 'partially': 3811, 'watchful': 3812, 'fluent': 3813, 'pardons': 3814, 'defense': 3815, 'cultivate': 3816, 'enrage': 3817, 'themselves—alas': 3818, 'physically': 3819, 'seize': 3820, 'biggest': 3821, 'hurl': 3822, 'prostrate': 3823, 'melt': 3824, 'sincerely': 3825, 'friend’s': 3826, 'endear': 3827, 'disquiet': 3828, 'labor': 3829, 'leisure': 3830, 'occupation': 3831, 'yearns': 3832, 'occupations': 3833, 'occurrence': 3834, 'legacy—enough': 3835, 'enable': 3836, 'travel': 3837, 'gained': 3838, 'mark': 3839, '“also': 3840, 'friend—a': 3841, 'imbecility': 3842, 'stupidity': 3843, 'naïveté': 3844, 'outlook': 3845, 'delighting': 3846, 'gifts—all': 3847, 'flourishes—but': 3848, 'enviously': 3849, 'foolish—and': 3850, 'foolish—greedy': 3851, 'risked': 3852, 'substance': 3853, 'speculated': 3854, 'mournfully': 3855, 'entertained': 3856, 'portentously': 3857, 'australia': 3858, 'regarding': 3859, 'fathom': 3860, 'considers': 3861, 'australian': 3862, 'mines': 3863, 'penchant': 3864, 'auburn': 3865, 'insanity': 3866, 'folly': 3867, 'vanity': 3868, 'flourish': 3869, 'specimen': 3870, 'resembles': 3871, 'son—adopted': 3872, 'rather—of': 3873, 'london—when': 3874, 'snobbery': 3875, 'grandiloquent': 3876, 'smirk': 3877, 'prefers': 3878, '“captain': 3879, 'it—has': 3880, 'desired': 3881, 'stepson': 3882, 'extends': 3883, 'patronage': 3884, 'dignity': 3885, 'alone—though': 3886, 'unusually': 3887, 'englishman—what': 3888, 'novelists': 3889, 'greek': 3890, 'musing': 3891, 'summing': 3892, 'inner': 3893, 'preamble': 3894, 'day—perhaps': 3895, 'astonished': 3896, '“ridiculous': 3897, '“our': 3898, 'wavered': 3899, 'roulette': 3900, 'coyly': 3901, 'hover': 3902, 'tempting': 3903, 'herring': 3904, 'reflect': 3905, 'indiscriminately': 3906, 'wood——”': 3907, 'autumnal': 3908, 'tints': 3909, 'normally': 3910, 'damp': 3911, 'kinds': 3912, 'unseen': 3913, 'adjoins': 3914, 'paton’s—i': 3915, 'listen——”': 3916, 'interjected': 3917, 'sarcasm—which': 3918, 'overhearing': 3919, 'something—i': 3920, '‘my': 3921, '‘don’t': 3922, 'shilling': 3923, 'fed': 3924, 'dibs': 3925, 'pops': 3926, 'rolling': 3927, 'twig': 3928, 'rushing': 3929, 'vexing': 3930, 'brandy': 3931, 'unhesitatingly': 3932, 'only——”': 3933, 'maidens': 3934, 'proposed': 3935, 'well—better': 3936, 'heredity': 3937, 'inherited': 3938, 'propensity': 3939, 'proportioned': 3940, 'athlete': 3941, 'sunburnt': 3942, 'charm': 3943, 'indulgent': 3944, 'lovable': 3945, 'unannounced': 3946, 'remembering': 3947, 'reception': 3948, 'misgivings': 3949, 'sunny': 3950, 'infernal': 3951, '“thanks': 3952, 'mince': 3953, 'confounded': 3954, 'ordered': 3955, 'drinks': 3956, 'hunched': 3957, 'really—serious': 3958, 'soberly': 3959, 'unusual': 3960, 'help——”': 3961, 'diffidently': 3962, '“yes—i’ve': 3963, 'admirable': 3964, 'promptitude': 3965, 'relieved': 3966, 'allusion': 3967, 'confinement': 3968, 'emergency': 3969, 'withdrawn': 3970, 'settled': 3971, 'mirror': 3972, 'within—the': 3973, 'attaching': 3974, 'collided': 3975, 'appraising': 3976, 'been—indeed': 3977, 'unstreaked': 3978, 'breathing': 3979, '“i—didn’t': 3980, 'displeased': 3981, 'evident': 3982, 'justify': 3983, 'namely': 3984, 'idly': 3985, 'distract': 3986, 'coals': 3987, 'noise': 3988, 'lifts': 3989, 'implements': 3990, 'scrutinize': 3991, 'bending': 3992, 'fairness': 3993, 'scandinavian': 3994, 'blue—blue': 3995, 'waters': 3996, 'norwegian': 3997, 'fiord': 3998, 'roses': 3999, 'boyish': 4000, 'hips': 4001, 'jaded': 4002, 'refreshing': 4003, 'girl—i': 4004, 'beating': 4005, 'heretical': 4006, 'with—that': 4007, 'thing—well': 4008, 'keen': 4009, 'cheap': 4010, 'profess': 4011, 'frighten': 4012, '“haven’t': 4013, 'exquisitely': 4014, 'single': 4015, 'pearl': 4016, '“uncle': 4017, 'cool': 4018, 'stones': 4019, 'winter': 4020, 'season': 4021, 'yachting': 4022, 'mothers’': 4023, 'rustled': 4024, 'bones': 4025, 'flinty': 4026, 'gushing': 4027, 'speculative': 4028, 'assorted': 4029, 'knuckles': 4030, 'squeeze': 4031, 'volubly': 4032, 'sighed—a': 4033, 'tribute': 4034, 'observant': 4035, 'trusts': 4036, 'me—in': 4037, 'things—settlements': 4038, 'know—all': 4039, 'intends': 4040, 'captains': 4041, 'industry': 4042, 'people’s': 4043, 'tackling': 4044, 'blunt—at': 4045, 'repute': 4046, 'animals': 4047, '“blunt—you': 4048, 'dissimilar': 4049, 'junior': 4050, 'holds': 4051, 'spends': 4052, 'fortnight': 4053, 'animal’s': 4054, 'fixes': 4055, 'glazed': 4056, 'reminder': 4057, 'deliberate': 4058, 'tread': 4059, 'height': 4060, 'sturdily': 4061, 'stockily': 4062, 'mahogany': 4063, 'colored': 4064, 'peculiarly': 4065, 'talks': 4066, 'jerkily': 4067, 'timbuctoo': 4068, 'hater': 4069, 'alacrity': 4070, 'horticulture': 4071, 'topics': 4072, 'reads': 4073, 'converse': 4074, 'intelligently': 4075, 'preoccupied': 4076, 'affected': 4077, 'depression': 4078, 'relapsed': 4079, 'taciturnity': 4080, '“once': 4081, 'studied': 4082, 'influence': 4083, 'paced': 4084, 'apartment': 4085, 'shelves': 4086, 'lined': 4087, 'docketed': 4088, 'sporting': 4089, 'pain': 4090, 'forebodings': 4091, 'assailed': 4092, '“make': 4093, 'window’s': 4094, 'velvet': 4095, 'reëntered': 4096, 'emerging': 4097, 'bother': 4098, 'ruins': 4099, 'straw': 4100, 'other—the': 4101, 'other——': 4102, 'averse': 4103, 'illness': 4104, 'framing': 4105, 'suspect—did': 4106, 'head—that—well': 4107, 'since—well': 4108, 'idle': 4109, '“yesterday': 4110, 'advice—i': 4111, 'weight': 4112, 'hatred': 4113, 'the—the': 4114, 'repulsion': 4115, 'lover': 4116, 'love’s': 4117, 'fundamentally': 4118, 'wholesome': 4119, 'abiding': 4120, 'confessed': 4121, 'along—who': 4122, 'huge': 4123, 'throb': 4124, 'supposing—oh': 4125, 'greeting': 4126, 'course——”': 4127, 'groaned': 4128, 'household—but': 4129, 'misunderstood': 4130, 'accessory': 4131, 'stunned': 4132, 'hours—made': 4133, 'steadfastly': 4134, 'hammer': 4135, 'obscene': 4136, 'vulture': 4137, 'scot': 4138, 'zigzagged': 4139, 'villain': 4140, 'punished': 4141, 'me—before': 4142, 'choosing': 4143, 'revenged': 4144, 'bid': 4145, 'her——”': 4146, 'noiselessly': 4147, 'before—before——”': 4148, 'ripped': 4149, 'enclosure': 4150, 'spied': 4151, 'that——': 4152, '“nerves': 4153, 'sheets': 4154, '—a': 4155, 'that—i': 4156, 'punishment': 4157, 'unsteadily': 4158, '“later': 4159, '“read': 4160, 'reddening': 4161, 'essentially': 4162, 'vain': 4163, 'oily': 4164, 'palpable': 4165, 'untruth': 4166, 'moon': 4167, 'overcast': 4168, 'chimed': 4169, 'cannoned': 4170, 'hoarse': 4171, 'unnecessarily': 4172, 'fictitious': 4173, 'transparent': 4174, 'clocks': 4175, 'bates': 4176, 'stuffed': 4177, 'extra': 4178, 'dressings': 4179, 'shouted': 4180, 'chain': 4181, 'impassivity': 4182, 'notified': 4183, 'ghost': 4184, 'murdered——”': 4185, 'gasp': 4186, 'hoax': 4187, '“fancy': 4188, '“still': 4189, 'accompanying': 4190, 'sir——': 4191, 'traversed': 4192, 'flight': 4193, 'nimbly': 4194, '“key': 4195, 'verified': 4196, 'rattled': 4197, 'bedrooms': 4198, 'comprehendingly': 4199, 'banged': 4200, 'frantically': 4201, 'bawled': 4202, 'still—silence': 4203, 'assault': 4204, 'hurled': 4205, 'staggered': 4206, 'twisted': 4207, 'metalwork': 4208, 'recumbent': 4209, 'hiss': 4210, '“stabbed': 4211, 'be’ind': 4212, '“’orrible': 4213, 'moist': 4214, 'wiping': 4215, 'perspiring': 4216, 'attained': 4217, 'impetuously': 4218, 'detected': 4219, 'beneath': 4220, 'peering': 4221, 'regained': 4222, 'habitually': 4223, '“robbery': 4224, 'stab': 4225, '“roger': 4226, 'enemy': 4227, '“must': 4228, 'burglars': 4229, 'sorting': 4230, 'tampered': 4231, 'motion': 4232, '“been': 4233, '“beyond': 4234, 'extinct—an': 4235, 'matter—i': 4236, 'away—for': 4237, '“well—i': 4238, 'least—perhaps': 4239, 'fullest': 4240, 'flashed': 4241, 'defined': 4242, 'soles': 4243, 'inwards': 4244, 'overlapping': 4245, 'outwards': 4246, 'valuables': 4247, '“man': 4248, 'there—maybe': 4249, 'asleep': 4250, 'evening—just': 4251, 'inquiring': 4252, 'at—let': 4253, 'see—about': 4254, '—er——”': 4255, 'creeping': 4256, 'affirmatively': 4257, '“june': 4258, 'june': 4259, '‘the': 4260, 'late’—that': 4261, 'saying—‘of': 4262, 'sheppard——”': 4263, '“——does': 4264, 'loans': 4265, 'subscriptions': 4266, 'musingly': 4267, 'rousing': 4268, 'absorption': 4269, 'closer': 4270, 'bestowed': 4271, 'stammer': 4272, 'proposing': 4273, 'thought—well': 4274, 'dawn': 4275, 'flustered': 4276, 'bolting': 4277, 'accomplished': 4278, '“jones': 4279, 'deferentially': 4280, 'communication': 4281, 'suite': 4282, 'appended': 4283, 'sketch': 4284, 'wing': 4285, 'adjoining': 4286, 'lavatory': 4287, 'stairs‖‖‖': 4288, 'lawn': 4289, 'slipping': 4290, 'voiced': 4291, 'instructions': 4292, 'errand': 4293, 'pink': 4294, 'kimono': 4295, 'civilly': 4296, 'room—the': 4297, 'divan': 4298, 'collect': 4299, 'recollections': 4300, '‘good': 4301, 'tired': 4302, 'kissed': 4303, 'frock': 4304, '‘tell': 4305, 'quite—certain': 4306, 'unobtrusive': 4307, 'patting': 4308, 'rocklike': 4309, 'demeanor': 4310, 'comfort': 4311, 'roger——”': 4312, 'dilating': 4313, 'fainted': 4314, 'revived': 4315, 'nicely': 4316, 'definite': 4317, 'squashed': 4318, 'stranger’s': 4319, 'unfamiliar': 4320, 'haltingly': 4321, 'roughness': 4322, 'disguise': 4323, 'grimly': 4324, 'glued': 4325, 'instituting': 4326, 'garbled': 4327, 'decision': 4328, 'decide': 4329, 'interjecting': 4330, '“most': 4331, 'bad—it': 4332, 'for—a': 4333, 'household’s': 4334, 'elastic': 4335, 'continuing': 4336, 'uproar': 4337, 'choleric': 4338, '“mightn’t': 4339, 'night—well': 4340, 'right—perhaps': 4341, 'mind—or': 4342, 'panic—and': 4343, 'dark—we': 4344, 'appearances': 4345, 'concentrating': 4346, 'astride': 4347, 'unique—a': 4348, 'adorned': 4349, 'mantelpiece': 4350, 'art': 4351, 'narrow': 4352, 'tapering': 4353, 'elaborately': 4354, 'intertwined': 4355, 'metals': 4356, 'workmanship': 4357, 'testing': 4358, 'appreciative': 4359, 'grimace': 4360, 'man—as': 4361, 'butter': 4362, 'examination': 4363, 'delivered': 4364, 'assailant': 4365, '“butlers': 4366, 'cats': 4367, 'devoid': 4368, 'average': 4369, 'awe': 4370, 'declining': 4371, 'thrilled': 4372, 'locking': 4373, 'exhibit': 4374, '“ever': 4375, '“why—i': 4376, 'believe—i’m': 4377, 'morocco—no': 4378, 'tunis': 4379, 'daggers': 4380, '“nice': 4381, 'ingenuous': 4382, 'excitedly': 4383, '“saw': 4384, '“wrong': 4385, '“lot': 4386, 'blurting': 4387, 'grunted': 4388, 'this—er—curio': 4389, 'profound': 4390, 'skepticism': 4391, 'detail—a': 4392, 'it—but': 4393, 'open—which': 4394, 'aggressively': 4395, 'glided': 4396, 'tartar': 4397, 'ajar': 4398, 'somebody—i’ll': 4399, 'somebody—could': 4400, 'jar': 4401, 'pack': 4402, 'amusement': 4403, 'diary': 4404, 'oblige': 4405, '“souvenirs': 4406, 'humble': 4407, 'forthcoming': 4408, 'buoyant': 4409, 'brutal': 4410, 'employer': 4411, 'resilience': 4412, 'cocoa': 4413, 'extracted': 4414, 'contented': 4415, 'pronouncement': 4416, 'unforgivably': 4417, 'greet': 4418, 'faded': 4419, 'composed': 4420, 'waste': 4421, 'things—just': 4422, 'bothered': 4423, 'fogey': 4424, '“extraordinary': 4425, 'referring': 4426, 'to—possibly': 4427, 'driving': 4428, 'wisely': 4429, 'occasions': 4430, 'tact': 4431, 'guided': 4432, 'advise': 4433, 'drag': 4434, 'heeded': 4435, 'past—wicked': 4436, 'even—but': 4437, 'home—after': 4438, 'momentarily': 4439, 'astounded': 4440, 'evening—and—and': 4441, 'defiantly': 4442, 'gone—anywhere': 4443, 'morning—inspector': 4444, 'davis’s': 4445, 'snorted': 4446, 'laying': 4447, 'nicest': 4448, 'restrained': 4449, 'pronouncements': 4450, 'precision': 4451, 'horrible': 4452, 'offer': 4453, '“wants': 4454, 'if—if': 4455, 'plunged': 4456, 'embodying': 4457, 'inserting': 4458, '“tell': 4459, 'imperious': 4460, 'inn—this': 4461, 'boars—last': 4462, 'to—shall': 4463, 'say—reassure': 4464, 'jeune': 4465, 'homme': 4466, '“reassure': 4467, 'this—captain': 4468, 'theme': 4469, 'forthwith': 4470, 'glum': 4471, '“weaselly': 4472, 'recognizing': 4473, 'thunder': 4474, 'exhilarated': 4475, 'officer’s': 4476, 'amateurs': 4477, 'butting': 4478, 'vengeful': 4479, 'stolidity': 4480, 'hampered': 4481, 'courteously': 4482, 'advertise': 4483, 'contribute': 4484, 'lightened': 4485, 'thawing': 4486, 'enormously': 4487, 'permits': 4488, 'flattered': 4489, 'gracious': 4490, 'fellow’s': 4491, 'i—er—know': 4492, 'parties': 4493, 'kudos': 4494, 'unobtrusively': 4495, 'glory': 4496, 'breezily': 4497, 'louder': 4498, 'bunkum': 4499, 'funk': 4500, 'admiration': 4501, 'respect': 4502, 'grass': 4503, 'gentleman’s': 4504, 'warmly': 4505, 'upward': 4506, 'stoop': 4507, '“maybe': 4508, 'tonelessly': 4509, 'here—shoes': 4510, 'tampers': 4511, 'branched': 4512, 'deferential': 4513, 'unlocking': 4514, 'removal': 4515, 'found—where': 4516, '“colonel': 4517, 'obliging': 4518, 'searching': 4519, 'appearance—nothing': 4520, 'permit——”': 4521, 'transferred': 4522, 'exclamation': 4523, 'append': 4524, 'voilà': 4525, 'qui': 4526, 'est': 4527, 'curieux': 4528, '“curious': 4529, 'resemble': 4530, 'cover': 4531, 'at—ten': 4532, 'unbearably': 4533, 'temperature': 4534, 'methodically': 4535, 'afforded': 4536, 'animated': 4537, '15': 4538, 'sanguine': 4539, 'junction': 4540, 'expresses': 4541, 'shunted': 4542, 'boxes': 4543, '19': 4544, 'bustle': 4545, 'straightened': 4546, 'ornament': 4547, 'bookcases': 4548, 'indescribable': 4549, 'angle': 4550, 'house—to': 4551, '“five': 4552, '—it': 4553, 'before—that': 4554, 'surroundings': 4555, '“young': 4556, 'ou': 4557, 'tous': 4558, 'deux': 4559, 'privilege': 4560, 'work——hallo': 4561, '“want': 4562, 'humoredly': 4563, 'out—so—last': 4564, 'secretary’s': 4565, 'second’s': 4566, 'curtis': 4567, 'troute': 4568, 'purchasing': 4569, 'enabled': 4570, 'haired': 4571, 'serge': 4572, 'presentable': 4573, '“somewhere': 4574, 'solicitor': 4575, 'here—how': 4576, 'fulfills': 4577, 'punctiliously': 4578, 'amuse': 4579, 'sport': 4580, '“private': 4581, 'secretaries': 4582, 'golf': 4583, 'tennis': 4584, 'courses—i': 4585, '“race': 4586, 'racing': 4587, 'things”—he': 4588, 'bookcase': 4589, 'spoke—“are': 4590, 'dumb': 4591, 'sometimes—chairs': 4592, 'tables—they': 4593, 'eyebrow': 4594, 'quizzically': 4595, '‘why': 4596, 'puffed': 4597, 'blinking': 4598, 'ridiculously': 4599, 'trespass': 4600, 'waylaid': 4601, 'muttered': 4602, 'excused': 4603, 'grim': 4604, '“next': 4605, '“though': 4606, 'murders': 4607, 'promptness': 4608, 'with—method': 4609, 'say—method': 4610, 'watchword': 4611, 'lesser': 4612, 'differences': 4613, 'bitten': 4614, 'psychoanalysis': 4615, 'man——”': 4616, 'grinning': 4617, 'script': 4618, 'confirms': 4619, '—billiard': 4620, '—9': 4621, '47': 4622, '—as': 4623, 'gladys': 4624, '—upstairs': 4625, 'mary': 4626, 'thripp': 4627, '—servants’': 4628, 'eighteen': 4629, 'interpolation': 4630, 'disposes': 4631, 'effectually': 4632, 'lodge—mary': 4633, 'black—was': 4634, 'immovable': 4635, 'flaw': 4636, 'thereabouts': 4637, 'refusing': 4638, 'way—through': 4639, 'baffled': 4640, 'steals': 4641, 'climbs': 4642, 'and—well': 4643, 'shone': 4644, 'cleverest': 4645, 'mistakes': 4646, 'older—see': 4647, 'unluckily': 4648, 'welled': 4649, 'yards': 4650, 'termination': 4651, 'boggy': 4652, 'crossing': 4653, 'women’s': 4654, 'way—and': 4655, 'house—a': 4656, 'quit': 4657, 'croquet': 4658, 'deck': 4659, 'knees': 4660, 'crawling': 4661, 'much——”': 4662, 'stiffening': 4663, 'unclosing': 4664, 'stiff': 4665, 'torn': 4666, 'shrugging': 4667, 'dart': 4668, 'quill—a': 4669, 'this—': 4670, 'laundry': 4671, 'starch': 4672, 'une': 4673, 'belle': 4674, 'propriété': 4675, 'appreciatively': 4676, 'inheritance': 4677, 'before—eh': 4678, 'inutile': 4679, '“more': 4680, 'dutch': 4681, 'yew': 4682, 'hedges': 4683, 'bordered': 4684, 'flower': 4685, 'beds': 4686, 'wooded': 4687, 'slope': 4688, 'splendid': 4689, 'countryside': 4690, '“england': 4691, 'straying': 4692, 'prospect': 4693, '“hush': 4694, 'humming': 4695, 'snatch': 4696, 'dancing': 4697, 'dress': 4698, 'joy': 4699, 'pirouette': 4700, 'toes': 4701, 'draperies': 4702, 'swung': 4703, 'cheery': 4704, 'reddened': 4705, 'different—it': 4706, 'humility': 4707, 'undercurrent': 4708, 'methuselah': 4709, 'johnny': 4710, '“faust': 4711, 'beggar': 4712, 'rum': 4713, 'creaking': 4714, 'tree': 4715, 'trunk': 4716, 'expedition—shooting': 4717, '“expect': 4718, 'know—shoot': 4719, '“care': 4720, 'skins': 4721, 'communicativeness': 4722, '“time': 4723, '“not—not': 4724, 'go——”': 4725, '“if—if': 4726, '“it—it’s': 4727, 'spite—in': 4728, 'grieve': 4729, 'awfully': 4730, 'coast': 4731, 'construction': 4732, 'ass': 4733, 'knows—utterly': 4734, 'burglar': 4735, '“i—oh': 4736, '“i’m—i’ll': 4737, 'heartless': 4738, 'been—mr': 4739, 'it—twenty': 4740, '“mean': 4741, 'freedom—life—no': 4742, 'scraping': 4743, 'lying——”': 4744, '“lying': 4745, '“pretending': 4746, 'castoff': 4747, 'year’s': 4748, 'coats': 4749, 'skirts': 4750, 'hats': 4751, 'let’s': 4752, 'to——”': 4753, 'thrust': 4754, 'poking': 4755, 'bright': 4756, 'was—looks': 4757, 'brooch': 4758, 'crown': 4759, '“mélisande': 4760, 'reflectively—“she’s': 4761, 'operas': 4762, 'sadly': 4763, '“funny': 4764, 'pleasure—worse': 4765, 'racket': 4766, 'natives': 4767, 'tom': 4768, 'toms': 4769, 'flint': 4770, 'lift': 4771, 'briskly': 4772, 'extravagantly': 4773, 'compliment': 4774, 'listener': 4775, 'blushes': 4776, 'encountered': 4777, 'terrace——”': 4778, '“pardon': 4779, 'study——”': 4780, 'weed': 4781, 'mildest': 4782, '“thought': 4783, 'saw—a': 4784, '“speaking': 4785, '“yes—that’s': 4786, 'think——': 4787, 'laboriously': 4788, '“took': 4789, '“afraid': 4790, '“chair': 4791, 'no—why': 4792, 'examining': 4793, 'resentfully': 4794, 'sneaked': 4795, 'and—and': 4796, 'to—to': 4797, 'shield': 4798, 'glitters': 4799, 'knelt': 4800, 'baring': 4801, 'eddied': 4802, 'swirled': 4803, 'fervent': 4804, 'protestations': 4805, '“nearly': 4806, 'is—very': 4807, 'drops': 4808, 'finicking': 4809, 'disarranging': 4810, 'costume': 4811, 'attaining': 4812, 'everything—everything': 4813, 'showing': 4814, 'circlet': 4815, 'woman’s': 4816, 'commanded': 4817, 'inscription': 4818, 'intend': 4819, 'communicative': 4820, 'dried': 4821, 'aggressive': 4822, '“lawyer”': 4823, 'sheppard—also': 4824, 'perplexity': 4825, '“please': 4826, 'handling': 4827, 'confidential': 4828, 'embrasure': 4829, 'them—then': 4830, 'intruding': 4831, 'behalf': 4832, '“however': 4833, 'circumstantial': 4834, 'chronic': 4835, 'condition': 4836, 'applying': 4837, 'acquainted': 4838, 'principal': 4839, 'shorn': 4840, 'phraseology': 4841, 'legacies': 4842, 'bequests——”': 4843, 'emma': 4844, 'hospitals——”': 4845, 'bequests': 4846, 'pounds’': 4847, 'lifetime': 4848, 'residue—including': 4849, 'son—to': 4850, 'plaintively': 4851, '“regard': 4852, 'irises': 4853, '“magnificent': 4854, 'pleasing': 4855, 'fogey’s': 4856, 'colleagues': 4857, 'mamma': 4858, 'know—but': 4859, 'apprehensively': 4860, 'replies': 4861, 'seeming': 4862, 'compris': 4863, 'prophesied': 4864, 'me—full': 4865, 'now—three': 4866, 'later—ackroyd’s': 4867, 'dead—you': 4868, 'fascinating': 4869, 'woman—but': 4870, 'deep—one': 4871, '“last': 4872, 'here—she': 4873, '“how—changed': 4874, 'riddance': 4875, 'uncharitable': 4876, '“ashley': 4877, '“blackguard': 4878, 'money—or': 4879, 'sympathized': 4880, '“nothing—disturbing': 4881, 'aboveboard': 4882, 'fractious': 4883, 'trooped': 4884, 'incredible': 4885, 'producing': 4886, '“hurt': 4887, '—not': 4888, 'safeguard': 4889, 'feelings': 4890, 'lashes': 4891, 'peculiar—not': 4892, '—about': 4893, 'allowance': 4894, 'fal': 4895, 'lals': 4896, 'for—so': 4897, 'man—but—now': 4898, 'it—yes': 4899, 'it—very': 4900, 'strongly': 4901, 'towels': 4902, 'holes': 4903, 'leap': 4904, 'pounds—fancy': 4905, '—to': 4906, 'admired': 4907, 'rectitude': 4908, 'independence': 4909, 'hated': 4910, 'stemming': 4911, 'consternation': 4912, '“inevitable': 4913, 'barks': 4914, 'arrange——”': 4915, 'limits': 4916, 'accident——”': 4917, 'brutally': 4918, 'patience': 4919, 'brunt': 4920, 'dread': 4921, '“ready': 4922, 'cashed': 4923, 'cheque': 4924, 'wages': 4925, 'elicited': 4926, 'supplementary': 4927, 'sunlight': 4928, 'rosewood': 4929, 'honesty': 4930, 'hotly': 4931, 'wallet': 4932, '“impossible': 4933, 'springing': 4934, 'total': 4935, 'amounted': 4936, '“but—i': 4937, 'bulgy': 4938, 'sometime': 4939, 'nutshell': 4940, 'attends': 4941, 'froid': 4942, 'ladylike': 4943, 'worker': 4944, 'fault': 4945, 'yourselves': 4946, 'tidying': 4947, 'elsie’s': 4948, 'flare': 4949, 'disdainfully': 4950, 'you—or': 4951, 'objects': 4952, '“that’ll': 4953, 'clipped': 4954, 'fastener': 4955, '“reads': 4956, 'richard': 4957, '“let’s': 4958, 'readily': 4959, 'concern': 4960, 'devoting': 4961, 'bade': 4962, 'but——”': 4963, 'flown': 4964, 'rage': 4965, '“leave': 4966, 'girl—yes': 4967, 'minute’s': 4968, 'compiled': 4969, 'pencil': 4970, 'hard—so': 4971, 'relaxed': 4972, 'spun': 4973, '—she': 4974, 'specify': 4975, 'muttering': 4976, 'all—yes': 4977, 'possible—but': 4978, 'then—ah': 4979, 'in—in': 4980, 'appointed': 4981, 'place—otherwise': 4982, 'whirled': 4983, '—fourteen': 4984, 'but—i': 4985, 'assumption': 4986, 'inspector—for': 4987, 'stupid—has': 4988, 'truth—and': 4989, 'unturned': 4990, 'entrusted': 4991, 'intelligible': 4992, 'smart': 4993, 'bare': 4994, 'bits': 4995, 'etchings': 4996, 'shabby': 4997, 'inspection': 4998, 'bartolozzi': 4999, 'employed': 5000, 'utterance': 5001, 'cordiality': 5002, 'froze': 5003, 'two—i': 5004, 'are—that': 5005, 'frozen': 5006, 'spark': 5007, 'apology': 5008, 'it—it': 5009, 'practitioner': 5010, 'questions—minded': 5011, 'intensely': 5012, 'unused': 5013, 'deception': 5014, 'consequently': 5015, 'acutely': 5016, 'centering': 5017, 'around': 5018, 'defeated': 5019, 'disturbing': 5020, 'exultation': 5021, 'blaze': 5022, 'newsmongers': 5023, '“guess': 5024, 'complacency': 5025, 'members': 5026, 'sister—your': 5027, 'mauretania—the': 5028, 'snippets': 5029, 'duchess—one': 5030, 'czar’s': 5031, 'daughters': 5032, 'bolsheviks': 5033, 'baffling': 5034, 'threatened': 5035, 'involve': 5036, 'gratitude': 5037, 'emerald': 5038, 'pin': 5039, 'size': 5040, 'plover’s': 5041, 'littered': 5042, 'rubies': 5043, 'pearls': 5044, 'emeralds': 5045, 'clients': 5046, 'be—to': 5047, 'ingenuity': 5048, 'unerringly': 5049, 'elderly': 5050, 'duchess': 5051, 'caroline—probably': 5052, 'expressions': 5053, 'link': 5054, 'world—my': 5055, 'princes': 5056, 'émigrés': 5057, 'spectacles': 5058, 'grumpy': 5059, 'pill': 5060, 'medicine': 5061, 'prescribing': 5062, '“damn': 5063, 'locally': 5064, 'makings': 5065, 'psychological': 5066, 'insight': 5067, 'overflowing': 5068, 'purring': 5069, 'functions': 5070, '“modesty': 5071, 'horribly': 5072, 'induced': 5073, 'disappearance': 5074, 'halter': 5075, 'unruffled': 5076, 'identical': 5077, 'retorted': 5078, 'sapiently': 5079, 'she’ll': 5080, 'accord': 5081, 'romantic': 5082, 'fairy': 5083, 'trashy': 5084, 'unbelievingly': 5085, 'checking': 5086, 'bennett': 5087, 'dolly': 5088, 'grice': 5089, 'needle': 5090, 'see—that’s': 5091, 'evans': 5092, 'ulcer': 5093, 'lastly——”': 5094, 'climax': 5095, 'hissed': 5096, 'approved': 5097, 'style—aided': 5098, 's’s': 5099, 'disposal': 5100, 'untruthfully': 5101, 'darkly': 5102, 'don': 5103, 'mauve': 5104, 'blouse': 5105, 'locket': 5106, 'arouse': 5107, 'least——': 5108, 'persistent': 5109, 'coal': 5110, 'obediently': 5111, 'peace': 5112, 'proceedings': 5113, 'coroner': 5114, 'unduly': 5115, 'stressed': 5116, 'one—but': 5117, 'whichever': 5118, 'wired': 5119, 'port': 5120, 'everywhere': 5121, 'alert': 5122, 'frequenting': 5123, 'cordon': 5124, 'evade': 5125, 'left—there': 5126, '“unless': 5127, 'demurred': 5128, 'harps': 5129, 'clews': 5130, '“beware': 5131, 'blind—the': 5132, 'blind—': 5133, 'alley': 5134, 'it—the': 5135, 'fingerprints—they': 5136, 'faked': 5137, 'fake': 5138, 'true—they’re': 5139, 'flinging': 5140, 'photographs': 5141, 'whorls': 5142, 'spend': 5143, 'cosmetics': 5144, 'fussily': 5145, '“including': 5146, 'alternatives': 5147, 'two——”': 5148, 'religious': 5149, 'victim’s': 5150, 'whorls—see': 5151, 'backwards': 5152, 'flecked': 5153, 'speck': 5154, 'disappointed': 5155, 'endeavored': 5156, 'patronizing': 5157, 'twinkling': 5158, 'amour': 5159, 'propre': 5160, 'devices': 5161, '“little': 5162, 'fernly—poirot': 5163, 'chairman': 5164, 'plea': 5165, 'whereabouts': 5166, 'minute”—as': 5167, 'speak—“say': 5168, 'explaining': 5169, 'silence—this': 5170, 'flight—what': 5171, '“too': 5172, 'leant': 5173, 'entrap': 5174, 'you—swear': 5175, 'solemnly—that': 5176, 'of—of': 5177, 'rap': 5178, 'hardened': 5179, 'intimates': 5180, 'plaintive': 5181, 'peculiar—most': 5182, '“providence': 5183, 'devout': 5184, 'providence—a': 5185, 'divinity': 5186, 'shapes': 5187, 'ends': 5188, 'shakespeare’s': 5189, 'almighty': 5190, 'ankles': 5191, 'irresponsible': 5192, 'ringing': 5193, 'loosen': 5194, 'tension': 5195, 'reproach': 5196, 'trusting': 5197, 'heart—i': 5198, 'raids': 5199, 'upsetting': 5200, 'estate': 5201, 'violently': 5202, 'shell': 5203, 'obstinately': 5204, 'money—with': 5205, 'intentions': 5206, 'aghast': 5207, 'searchingly': 5208, 'precipitate': 5209, 'disloyal': 5210, 'appealed': 5211, 'loyalty': 5212, 'misunderstand': 5213, 'you—ask': 5214, 'solemnly—to': 5215, 'postpone': 5216, 'frown': 5217, 'de': 5218, 'blagues': 5219, 'hands—you': 5220, 'hamper': 5221, 'continue': 5222, 'ugly': 5223, 'seeker': 5224, 'contradiction': 5225, 'know—in': 5226, 'provocatively': 5227, 'hurling': 5228, 'flinched': 5229, 'excepting': 5230, 'humored': 5231, 'mean—in': 5232, '“but—just': 5233, 'unimportant—trivial—which': 5234, 'challenging': 5235, 'truth—the': 5236, 'dommage': 5237, 'hospitably': 5238, 'brewing': 5239, 'beverage': 5240, 'obscurely': 5241, '“true': 5242, 'untrue': 5243, 'doings': 5244, 'grumpily': 5245, 'evasively': 5246, '“eh': 5247, 'say—fishy': 5248, 'femmes': 5249, 'generalized': 5250, 'haphazard—and': 5251, 'miracle': 5252, 'adds': 5253, 'together—and': 5254, 'intuition': 5255, 'skilled': 5256, 'sip': 5257, 'indulgently': 5258, 'engine': 5259, 'sees': 5260, 'cares': 5261, 'one—to': 5262, 'evening—always': 5263, 'necessary—i': 5264, 'first—dr': 5265, 'truth—or': 5266, 'man—and': 5267, 'stranger—just': 5268, 'so—but': 5269, 'hallucination': 5270, 'him—that': 5271, 'heroin': 5272, '‘snow': 5273, '“diamorphine': 5274, 'hydrochloride': 5275, 'convenient': 5276, 'parlormaid’s': 5277, 'dismiss': 5278, 'confirm': 5279, 'bewilder': 5280, 'clearer': 5281, 'scribbled': 5282, 'excellent—you': 5283, 'logically——”': 5284, 'alas': 5285, '—at': 5286, 'evidenced': 5287, 'scrape': 5288, 'unaccounted': 5289, 'chair——”': 5290, 'shoved': 5291, 'unconsciously': 5292, '“given': 5293, 'reconsidered': 5294, 'refusal': 5295, 'unexplained': 5296, 'phut': 5297, 'him—after': 5298, 'interview—well': 5299, 'that—act': 5300, 'guiltily': 5301, '“motive': 5302, 'some—how': 5303, 'say—scrape': 5304, '—which': 5305, '“dear': 5306, 'disagree': 5307, 'motives—it': 5308, 'chronicled': 5309, 'phase': 5310, 'ranges': 5311, 'discoveries—as': 5312, 'ring—he': 5313, 'formed': 5314, 'watson': 5315, 'sherlock': 5316, 'piecemeal': 5317, 'elucidation': 5318, 'jig': 5319, 'ended': 5320, 'renown': 5321, 'incidents': 5322, 'unmeaning': 5323, 'chronological': 5324, 'extremis': 5325, 'concede': 5326, 'etiquette': 5327, 'bony': 5328, 'bedside': 5329, 'spurious': 5330, 'geniality': 5331, 'practitioners': 5332, 'reaction': 5333, 'precluded': 5334, '“bunkum': 5335, 'incapable': 5336, 'approaches': 5337, 'scene—yesterday': 5338, 'cue': 5339, '“doctor': 5340, 'frenchman—or': 5341, 'belgian—or': 5342, 'bullying': 5343, 'meant—shouting': 5344, 'glimmering': 5345, 'upstart': 5346, 'too—just': 5347, 'comic': 5348, 'revue': 5349, 'he—he—positively': 5350, 'tangent': 5351, '“servants': 5352, 'round—and': 5353, 'balance': 5354, 'naturally—she’s': 5355, 'repeat': 5356, 'sometimes—nothing': 5357, 'outpourings': 5358, 'justified': 5359, 'though—as': 5360, 'though——and': 5361, 'tearful': 5362, 'poirot—explain': 5363, 'know—because': 5364, 'know—nobody': 5365, 'know—what': 5366, 'contend': 5367, 'martyrdom—a': 5368, 'dead—but': 5369, 'smallest': 5370, 'bill': 5371, 'over—just': 5372, 'miserly': 5373, 'wealthiest': 5374, 'dab': 5375, 'in——”': 5376, 'appealingly': 5377, 'condole': 5378, 'striking': 5379, 'peculiarity': 5380, 'altered—became': 5381, 'fluttering': 5382, 'gentleman—as': 5383, 'letters—both': 5384, 'bruce': 5385, 'macpherson': 5386, 'colin': 5387, 'macdonald': 5388, 'semitic': 5389, 'ancestry': 5390, '“ten': 5391, 'reminiscently': 5392, 'gathered': 5393, 'testamentary': 5394, 'will—not': 5395, 'prying—but': 5396, 'arrangements': 5397, 'ingeniously': 5398, 'ugliness': 5399, 'naked': 5400, 'misjudge': 5401, 'represent': 5402, 'afternoon——”': 5403, 'swallowed': 5404, 'study—i': 5405, 'there—i': 5406, 'underhand': 5407, 'heaped': 5408, 'impulsive': 5409, 'keys—very': 5410, 'him—in': 5411, 'helpfully': 5412, 'diplomatic': 5413, 'revealing': 5414, 'secretive': 5415, 'subterfuges': 5416, 'defence': 5417, 'subterfuge': 5418, 'specks': 5419, 'looked—quite': 5420, 'contemptuous': 5421, 'ma’am': 5422, 'caps': 5423, 'aprons': 5424, '‘not': 5425, 'home’': 5426, 'scruples': 5427, 'gurgling': 5428, 'noises': 5429, 'parlormaids': 5430, 'table——let': 5431, 'qualities': 5432, 'she’s—odd': 5433, 'educated': 5434, '‘what’s': 5435, '‘nothing': 5436, 'sheer': 5437, 'genius': 5438, 'rouge': 5439, 'powder': 5440, '“yes—i—you': 5441, 'see—there': 5442, 'silver—very': 5443, 'fetched': 5444, 'christy’s': 5445, 'went—and—and': 5446, 'valued': 5447, 'comments': 5448, 'merits': 5449, 'abstract': 5450, 'surreptitious': 5451, 'designs': 5452, 'honorable': 5453, 'handkerchiefs': 5454, 'recalled': 5455, 'anxiously': 5456, 'justifications': 5457, 'heretofore': 5458, '“indeed—indeed': 5459, 'appealing': 5460, '“between': 5461, 'eager': 5462, 'affirmative': 5463, 'droop': 5464, 'helping': 5465, 'instincts': 5466, 'solemnity': 5467, 'unbelievably': 5468, 'altogether': 5469, 'grasp': 5470, 'hangs': 5471, 'dense': 5472, 'annie’s': 5473, 'dearest': 5474, 'simplicity': 5475, 'coöperated': 5476, 'loyally': 5477, 'speed': 5478, 'scored': 5479, 'tactics': 5480, 'challenge': 5481, 'mixture': 5482, 'wrung': 5483, 'react': 5484, 'hovering': 5485, '“he’d': 5486, '“came': 5487, 'exhausted': 5488, 'topic': 5489, '“across': 5490, '“curiosity': 5491, 'besetting': 5492, 'sin': 5493, 'exist': 5494, '“stuff': 5495, 'mending': 5496, 'beastly': 5497, 'honors': 5498, 'enigma': 5499, 'automatically': 5500, '“sit': 5501, 'stifling': 5502, 'mania': 5503, 'discuss': 5504, 'banalities': 5505, '“first—this—from': 5506, '“information—of': 5507, 'clears': 5508, 'confirming': 5509, 'patently': 5510, 'presence—which': 5511, 'tampering': 5512, '“whom': 5513, 'flicker': 5514, 'discomposure': 5515, 'crestfallen': 5516, 'explanations': 5517, 'morning—is': 5518, 'interview—apart': 5519, 'detecting': 5520, 'budget': 5521, 'dated': 5522, '16th': 5523, 'september': 5524, 'dealing': 5525, 'smuggling': 5526, 'lurid': 5527, 'picturesque': 5528, 'catechized': 5529, 'awkwardly': 5530, 'seating': 5531, 'en': 5532, 'verité': 5533, 'pricking': 5534, 'plead': 5535, 'consequence—just': 5536, 'debt—badly': 5537, 'engaging': 5538, 'likable': 5539, 'policeman—don’t': 5540, 'money—think': 5541, 'watertight': 5542, 'thundered': 5543, 'bagatelle—but': 5544, 'room—who': 5545, 'crimes': 5546, 'sufficient': 5547, 'relativity': 5548, 'benefit': 5549, 'uttering': 5550, 'nonchalantly': 5551, 'englishmen': 5552, 'thing—their': 5553, '“sometimes': 5554, 'mightn’t': 5555, 'abstracted': 5556, 'parker—not': 5557, 'murderer—no': 5558, 'terrorized': 5559, 'before—no': 5560, 'widens': 5561, 'field': 5562, 'confide': 5563, 'reconstruct': 5564, 'him—ah': 5565, 'suave': 5566, 'enact': 5567, 'repaired': 5568, 'decanter': 5569, 'seemingly': 5570, 'custom': 5571, '“reconstruction': 5572, 'hall—so': 5573, 'was—where': 5574, 'allez': 5575, '“play': 5576, 'recollection': 5577, 'theatrical': 5578, '“admirable': 5579, 'dignified': 5580, '“has': 5581, 'know——”': 5582, 'admiringly': 5583, 'wrinkled': 5584, 'is—is': 5585, '“put': 5586, 'retracing': 5587, 'entertainment': 5588, 'popular': 5589, 'goloshes': 5590, 'waterproofs': 5591, 'partake': 5592, 'cake': 5593, 'sandwiches': 5594, 'progress': 5595, 'bridge—chatty': 5596, 'bridge': 5597, 'irritated': 5598, 'partner': 5599, 'criticisms': 5600, 'acrimonious': 5601, 'assisting': 5602, 'disentangle': 5603, 'wraps': 5604, '“reminds': 5605, 'afghan': 5606, 'deuce': 5607, 'it—that’s': 5608, 'tabulated': 5609, '“depend': 5610, 'poured': 5611, '“washing': 5612, 'facetiously': 5613, 'right—washing': 5614, 'juggled': 5615, 'tins': 5616, 'bully': 5617, 'beef': 5618, 'plum': 5619, 'apple': 5620, 'war': 5621, 'determinedly': 5622, 'idiosyncrasies': 5623, '“shall': 5624, 'competition': 5625, 'quickest': 5626, 'tile': 5627, '“three': 5628, '“unpung': 5629, 'claiming': 5630, '“pung—no—unpung': 5631, '“four': 5632, 'significance': 5633, 'villages': 5634, 'temporarily': 5635, '‘chee’': 5636, '‘chow': 5637, 'crushed': 5638, 'affects': 5639, 'pose': 5640, 'bluff': 5641, 'indifferent': 5642, 'bamboo': 5643, 'now—it': 5644, 'circle': 5645, '‘who': 5646, 'deceased': 5647, 'her—very': 5648, 'opinion—and': 5649, 'stabbing': 5650, 'underworld': 5651, 'criminals': 5652, 'angels': 5653, 'france': 5654, 'thing—a': 5655, 'bazaars': 5656, 'interminable': 5657, 'event': 5658, 'corrections': 5659, 'faulty': 5660, 'arithmetic': 5661, '“east': 5662, '“chow—i': 5663, '“their': 5664, '“no—unpung': 5665, '“far': 5666, 'kong': 5667, 'pungs': 5668, 'clara—my': 5669, 'know—is': 5670, 'opinion—elsie’s—i': 5671, 'gang': 5672, 'girl—she’s': 5673, 'out—very': 5674, 'unnatural': 5675, 'girls’': 5676, 'family—all': 5677, 'impertinent': 5678, 'outwardly': 5679, 'respectful—but': 5680, 'barefaced': 5681, 'uninterested': 5682, '“talking': 5683, '“eh—what': 5684, '“mah': 5685, 'doubles': 5686, 'conception': 5687, 'cleverly': 5688, 'enormous': 5689, 'poorest': 5690, 'severely': 5691, 'saying—about': 5692, 'map': 5693, 'remark—i': 5694, 'us—which': 5695, 'gone—it': 5696, 'rack': 5697, 'reproved': 5698, 'clumsiness': 5699, 'heartedly': 5700, '“cranchester': 5701, 'objections': 5702, 'dislodges': 5703, 'inventive': 5704, 'exercises': 5705, 'consisting': 5706, 'suits': 5707, 'chows': 5708, 'imperturbably': 5709, 'festive': 5710, 'birds': 5711, 'pattering': 5712, 'sly': 5713, 'hint': 5714, 'disfavor': 5715, 'counsel': 5716, '“wise': 5717, 'fellows': 5718, 'dodges': 5719, 'say—that': 5720, 'overwhelmed': 5721, 'winning—going': 5722, '“tin': 5723, 'ho—the': 5724, 'bulged': 5725, '“upon': 5726, 'goaded': 5727, 'gibes': 5728, 'treasure': 5729, '“march': 5730, 'babel': 5731, 'suppositions': 5732, 'evolved': 5733, 'propounded': 5734, 'g': 5735, 'r’': 5736, 'surnames': 5737, 'evening—about': 5738, 'carryings': 5739, 'anybody——”': 5740, 'admires': 5741, 'her—may': 5742, 'artful': 5743, 'meekly': 5744, 'exhilaration': 5745, 'tin': 5746, 'ho': 5747, 'spreading': 5748, 'wholesale': 5749, 'funeral': 5750, 'eleven': 5751, 'melancholy': 5752, 'impressive': 5753, 'indiscretion': 5754, 'transpired': 5755, 'await': 5756, 'this—that': 5757, 'or——”': 5758, 'tinged': 5759, 'reduced': 5760, 'awaiting': 5761, 'pray': 5762, 'deposited': 5763, 'articles': 5764, 'bend': 5765, 'morning—eh': 5766, 'master—private': 5767, 'beaming': 5768, 'experiments': 5769, 'excite': 5770, 'farce': 5771, 'i—i’ve': 5772, 'never—never': 5773, 'been——”': 5774, '“insulted': 5775, 'wasn’t—i——”': 5776, 'sir——”': 5777, 'bermuda': 5778, 'trouble—a': 5779, 'partly': 5780, 'hushed': 5781, 'flabbily': 5782, 'reluctantly': 5783, 'ashen': 5784, 'moaned': 5785, '“honest': 5786, 'didn’t—i': 5787, 'nerve—the': 5788, 'god’s': 5789, 'well——”': 5790, '“well—well': 5791, 'pickings': 5792, 'you—to': 5793, 'presume': 5794, 'slim': 5795, 'perused': 5796, 'entries': 5797, '£500': 5798, 'national': 5799, 'savings': 5800, 'certificates': 5801, 'saved—the': 5802, 'with—er—my': 5803, 'flutter': 5804, 'year—very': 5805, 'rank': 5806, 'outsider': 5807, 'won': 5808, 'jubilee': 5809, 'it—£20': 5810, 'not—so': 5811, '“going': 5812, 'that—unless': 5813, 'actor': 5814, 'indeed—he': 5815, 'genuinely': 5816, 'believes': 5817, 'case—who——”': 5818, 'accomplish': 5819, 'else——”': 5820, 'sentences': 5821, 'sheepishly': 5822, 'inadvertently': 5823, 'commands': 5824, 'sensation': 5825, 'flying': 5826, 'leapt': 5827, 'hammond’s': 5828, 'swift': 5829, 'lawyer’s': 5830, 'relate': 5831, 'recital': 5832, '“during': 5833, 'securities': 5834, 'reinvested': 5835, 'lived': 5836, 'totaled': 5837, 'excuses': 5838, 'deranged': 5839, 'derange': 5840, 'disorder': 5841, 'n’est': 5842, '“disturbed': 5843, 'zealous': 5844, 'je': 5845, 'ne': 5846, 'pense': 5847, 'banked': 5848, 'scale': 5849, 'or—well—major': 5850, 'desperately': 5851, '—that': 5852, 'yet—of': 5853, 'folk': 5854, 'eating': 5855, 'lunch—the': 5856, 'regaled': 5857, 'tripe': 5858, 'onions': 5859, 'productive': 5860, 'daunted': 5861, 'mendacity': 5862, 'adhered': 5863, 'descanted': 5864, 'ecstatically': 5865, 'delights': 5866, 'nut': 5867, 'cutlets': 5868, 'welsh': 5869, 'rarebit': 5870, 'dangers': 5871, '“flesh”': 5872, 'foods': 5873, 'attacked': 5874, 'enlightened': 5875, 'ample': 5876, 'bewilderment': 5877, 'ache': 5878, 'collapsed': 5879, 'pricked': 5880, 'balloon': 5881, 'vicious': 5882, 'here—weak': 5883, 'dragging': 5884, 'personalities': 5885, 'are—oh': 5886, 'that——”': 5887, 'gallant': 5888, '“eight': 5889, 'heaven': 5890, 'mischief': 5891, 'adventuress': 5892, 'blowing': 5893, '“adventuress': 5894, 'snort': 5895, 'adventuresses——”': 5896, 'sticks': 5897, 'not—how': 5898, 'say—my': 5899, 'métier': 5900, 'caroline——”': 5901, 'interrupt': 5902, 'betters': 5903, 'sun': 5904, 'chicken': 5905, 'one—and': 5906, 'curling': 5907, 'gentle': 5908, 'man—a': 5909, 'weakness—deep': 5910, 'be—and': 5911, 'difficulties—or': 5912, 'stumble': 5913, 'secret—a': 5914, 'involving': 5915, 'out—to': 5916, 'money—he': 5917, 'desires': 5918, 'it—and': 5919, 'it—just': 5920, 'more—and': 5921, 'becomes': 5922, 'greedy': 5923, 'greed': 5924, 'overreaches': 5925, 'likes—but': 5926, 'graves': 5927, 'husbands’': 5928, 'fling': 5929, 'winds': 5930, 'bay': 5931, 'proclaiming': 5932, 'proverb': 5933, 'golden': 5934, 'was—say': 5935, 'fiber': 5936, 'blunted': 5937, 'desperate': 5938, 'fighting': 5939, 'losing': 5940, 'battle': 5941, 'ruin': 5942, 'spell': 5943, 'merciless': 5944, 'analysis': 5945, 'ruthless': 5946, 'vision': 5947, 'condemn': 5948, 'unheard': 5949, 'replacing': 5950, 'jubilantly': 5951, 'customer': 5952, 'phone': 5953, 'nothing’s': 5954, 'muddle—that’s': 5955, 'feasible': 5956, 'saving': 5957, '“precious': 5958, 'wary': 5959, 'bird': 5960, 'abuse': 5961, 'welcomed': 5962, 'acclamation': 5963, 'moosior': 5964, 'retirement': 5965, 'monotony': 5966, '“description': 5967, 'circulated': 5968, '——': 5969, 'knowingly': 5970, 'unofficially': 5971, 'primly': 5972, 'parley': 5973, 'prisoner': 5974, 'evidences': 5975, 'strength': 5976, 'seed': 5977, 'cherished': 5978, 'illusion': 5979, '“stand': 5980, 'visitors': 5981, 'glared': 5982, 'sullenly': 5983, 'waver': 5984, 'height’s': 5985, 'hell’s': 5986, '“recognize': 5987, 'narrowed': 5988, '“snow': 5989, 'cock': 5990, 'duck': 5991, 'sanction': 5992, 'saloon': 5993, 'kicked': 5994, 'notebook': 5995, '“inquiries': 5996, 'complain': 5997, 'warned': 5998, 'concerns': 5999, 'cops': 6000, 'grinned': 6001, 'blown': 6002, 'britisher': 6003, 'meditatively': 6004, '“why’s': 6005, 'brick': 6006, 'we’d': 6007, 'story’s': 6008, 'arrested—rather': 6009, 'him—the': 6010, 'fast': 6011, 'famous': 6012, 'roar': 6013, '“many’s': 6014, 'fanciful': 6015, 'lunched': 6016, 'unravelled': 6017, 'thread': 6018, 'overestimated': 6019, 'query': 6020, 'pityingly': 6021, 'hailed': 6022, 'sally': 6023, 'remembers': 6024, 'photograph': 6025, 'mentions': 6026, 'him—she': 6027, 'refuses': 6028, '“obstinate': 6029, 'mule': 6030, 'wire': 6031, 'maliciously': 6032, 'discomfiture': 6033, 'uncomprehendingly': 6034, 'overspread': 6035, 'forehead': 6036, '“bit': 6037, 'crumpet': 6038, 'docile': 6039, 'hatter': 6040, 'rests': 6041, 'everybody’s': 6042, 'instill': 6043, 'decency': 6044, '“jump': 6045, 'acquaint': 6046, 'bee': 6047, 'bonnet': 6048, 'knows—there': 6049, 'courtesy': 6050, '“seems': 6051, 'o': 6052, 'k': 6053, 'pretences': 6054, 'ruddy': 6055, 'disgruntled': 6056, 'retrieved': 6057, 'designed': 6058, 'not—but': 6059, 'you——”': 6060, 'protestingly': 6061, 'deaf—nor': 6062, 'wrong—the': 6063, 'wrong—premises': 6064, 'heavily': 6065, 'not—': 6066, 'me—no': 6067, 'day—you': 6068, '“but—where': 6069, 'idea—yes': 6070, 'bills—there': 6071, 'comparatively': 6072, 'descends': 6073, 'is—parker': 6074, 'stairs—parker': 6075, 'rush': 6076, 'door—with': 6077, 'repetition': 6078, 'hinges': 6079, 'jumps': 6080, 'theft': 6081, 'learns': 6082, 'provocation': 6083, 'thief—especially': 6084, 'esteem': 6085, 'retain': 6086, 'fist': 6087, 'thump': 6088, '“it’s—it’s': 6089, 'you—you’ve': 6090, 'tackle': 6091, 'willingly': 6092, 'whiter': 6093, 'stay—please—yes': 6094, 'suggests': 6095, 'leading': 6096, 'shifted': 6097, 'frank': 6098, 'lasted': 6099, 'thief—yes': 6100, 'nightmare': 6101, 'huskily': 6102, 'cheating': 6103, 'promising': 6104, 'pay—oh': 6105, 'sorry—because': 6106, 'underneath': 6107, 'despicable': 6108, 'that—as': 6109, 'thief—but': 6110, 'despise': 6111, 'myself—but': 6112, 'ralph—it': 6113, 'sticking': 6114, 'see—always': 6115, 'hid': 6116, 'flat': 6117, 'shielding': 6118, 'jerky': 6119, '“monsieur—a': 6120, 'fantasy': 6121, 'truly': 6122, 'say—it': 6123, 'offended': 6124, 'detaining': 6125, 'things—why': 6126, 'disgraceful': 6127, 'good—that': 6128, 'poirot—do': 6129, 'restlessness': 6130, 'closing': 6131, 'rivet': 6132, 'd’you': 6133, 'capitaine': 6134, 'paton—but': 6135, 'insupportable': 6136, 'love—no': 6137, 'cloud': 6138, 'honor': 6139, 'ignored': 6140, '“d’you': 6141, 'inarticulate': 6142, 'disability': 6143, 'to—the': 6144, '“think': 6145, 'lonely': 6146, 'danish': 6147, 'grip': 6148, 'wince': 6149, 'tenderly': 6150, 'kind—the': 6151, 'jolt': 6152, 'punctuated': 6153, 'complaints': 6154, 'alters': 6155, 'unhappily': 6156, 'discoveries': 6157, 'thirty—that’s': 6158, 'kent—we': 6159, 'awhile': 6160, 'now—nine': 6161, 'ackroyd—asking': 6162, 'clear—it': 6163, 'direction—over': 6164, 'dang': 6165, 'telephoned': 6166, 'superfluous': 6167, 'workshop—i': 6168, 'hates': 6169, 'workroom': 6170, 'wreak': 6171, 'havoc': 6172, 'dustpan': 6173, 'brush': 6174, 'adjusting': 6175, 'interior': 6176, 'denounced': 6177, 'wholly': 6178, 'unreliable': 6179, 'said—in': 6180, 'ushering': 6181, 'bang': 6182, '“aha': 6183, '“finished': 6184, 'tilting': 6185, 'savors': 6186, 'delicious': 6187, 'complot': 6188, 'understand—and': 6189, 'intrigue': 6190, 'matter—which': 6191, 'house—for': 6192, 'presuming': 6193, 'pincers': 6194, 'development': 6195, 'kaleidoscope—the': 6196, 'changes': 6197, 'grumbled': 6198, '“according': 6199, 'fog': 6200, 'surprised—but': 6201, 'expostulated': 6202, '“that—perhaps': 6203, 'not—like': 6204, 'raglan—startled': 6205, 'something—so': 6206, 'pour': 6207, 'profited': 6208, 'chaos': 6209, 'induce': 6210, 'grant': 6211, 'favor': 6212, 'notepaper': 6213, 'tragic': 6214, 'embarking': 6215, 'dumbfounded': 6216, '“but—but': 6217, 'stipulating': 6218, 'bench': 6219, 'machinery': 6220, 'débris': 6221, 'labors': 6222, 'sympathetic': 6223, 'inventions': 6224, 'own—trifling': 6225, 'inventor': 6226, 'bell—that': 6227, 'remnants': 6228, 'beauty': 6229, 'anew': 6230, 'unwonted': 6231, 'startlingly': 6232, 'inward': 6233, 'outward': 6234, 'manifestation': 6235, 'russell—i': 6236, 'muscle': 6237, 'trifle': 6238, 'wider': 6239, 'me—the': 6240, 'painfully': 6241, 'ladylike—were': 6242, 'timbre': 6243, 'imperceptible': 6244, 'nod': 6245, '“fortunately': 6246, '“lucky': 6247, 'fernly—who': 6248, 'movement': 6249, 'arisen': 6250, 'drain': 6251, 'swaying': 6252, 'said—miss': 6253, '“then——': 6254, 'head—he': 6255, 'reassuringly': 6256, 'yes—but': 6257, 'him——”': 6258, 'him—saying': 6259, 'discreet': 6260, 'flamed': 6261, 'ago—long': 6262, 'ago—down': 6263, 'surname': 6264, 'lodging': 6265, 'passage': 6266, 'so—so': 6267, 'inkling—it': 6268, 'boy—before': 6269, '“straight': 6270, 'detour': 6271, 'i——”': 6272, 'kind—very': 6273, 'morning’s': 6274, 'morning—some': 6275, 'untraceable': 6276, 'undesirable': 6277, '“stay': 6278, 'succession': 6279, 'anticipated': 6280, 'shameless': 6281, 'sarcastic': 6282, 'absently': 6283, 'animation': 6284, 'stating': 6285, 'untruly': 6286, 'crippen': 6287, 'broadmoor—it’s': 6288, 'imbecile': 6289, 'pitch': 6290, 'institution': 6291, 'exasperated': 6292, '“pretty': 6293, 'spontaneously': 6294, 'screwed': 6295, 'christian': 6296, 'martyr': 6297, 'enjoying': 6298, '“early': 6299, '“before': 6300, 'window—the': 6301, 'flapping': 6302, 'muffled': 6303, 'mysteriously': 6304, 'breathed': 6305, 'amazed': 6306, 'inflicted': 6307, 'death—it': 6308, 'omniscient': 6309, 'james—at': 6310, '“having': 6311, 'endowed': 6312, 'treble': 6313, 'portion': 6314, 'skirted': 6315, 'imaginable': 6316, 'blandly': 6317, 'impervious': 6318, 'bowling': 6319, 'successfully': 6320, 'reduce': 6321, '“delighted': 6322, 'your—er—guest': 6323, 'reposes': 6324, 'tramp': 6325, 'irrelevancy': 6326, 'commission': 6327, 'house—that': 6328, 'ambassador': 6329, 'them—yes': 6330, 'dislike': 6331, 'oyster': 6332, 'unjust': 6333, 'interpretation': 6334, 'grounds': 6335, 'rejoin': 6336, 'hour’s': 6337, 'sipping': 6338, 'graciously': 6339, 'happiness': 6340, 'needs': 6341, 'man—some': 6342, 'reliable': 6343, 'distinguished': 6344, 'arrest': 6345, 'shuddered': 6346, '“geoffrey': 6347, 'mistake—a—what': 6348, 'canard': 6349, 'newspaper’s': 6350, 'forbidden': 6351, 'disgrace': 6352, 'deliver': 6353, 'man—he': 6354, 'terrified': 6355, 'borrow': 6356, 'hypnosis': 6357, 'shouts': 6358, '‘steal’': 6359, 'inhibition—or': 6360, '—i': 6361, 'mix': 6362, 'words—and': 6363, 'misunderstanding': 6364, 'way—it': 6365, 'together—hector': 6366, 'secretary—with': 6367, 'severe': 6368, 'reassure': 6369, 'thereupon': 6370, 'starts': 6371, 'edgeways': 6372, 'homewards': 6373, 'weeping': 6374, 'child—but': 6375, 'mutely': 6376, 'outburst': 6377, 'sobs': 6378, 'see—everything': 6379, 'scandal': 6380, 'mongering': 6381, 'ordeal': 6382, '——”': 6383, 'inserted': 6384, '“newspaper': 6385, 'also——”': 6386, 'that—yes': 6387, 'verity': 6388, 'innocent—but': 6389, 'know—even': 6390, 'settling': 6391, 'masquerading': 6392, '“masquerading': 6393, 'wager': 6394, 'reproduce': 6395, 'seven—impoverished': 6396, 'gentlefolk': 6397, 'eldest': 6398, 'nursery': 6399, 'governess—the': 6400, 'untrained': 6401, 'scorned': 6402, 'label': 6403, '“lady': 6404, 'aloofness': 6405, 'job—quick': 6406, 'competent': 6407, 'plenty': 6408, 'culminated': 6409, 'marrying': 6410, 'penniless': 6411, 'deed': 6412, 'leaf': 6413, 'easier': 6414, 'liabilities': 6415, 'enraged': 6416, 'bidden': 6417, 'beat': 6418, 'bush': 6419, 'innate': 6420, 'grasped': 6421, 'pretence': 6422, 'wishes—they': 6423, 'horizon': 6424, 'financially': 6425, 'envisage': 6426, 'interval': 6427, 'stipulated': 6428, 'instinctively': 6429, 'inherent': 6430, 'distaste': 6431, 'welcome': 6432, 'crucial': 6433, 'announce': 6434, 'ralph—only': 6435, 'apathetic': 6436, 'bombshell': 6437, 'acrimoniously': 6438, 'steadfast': 6439, 'sought': 6440, 'one—it': 6441, 'obsessed': 6442, 'deceit': 6443, 'practiced': 6444, 'rancor': 6445, 'mainly': 6446, '“entrap”': 6447, 'irretrievably': 6448, 'prospects': 6449, 'reproached': 6450, 'alter': 6451, 'will—i': 6452, 'consistently': 6453, 'implications': 6454, 'minutes—not': 6455, 'insistence': 6456, 'reflection': 6457, '“yes—but': 6458, '“prove': 6459, 'surely—oh': 6460, 'think—they': 6461, 'dawning': 6462, '“nobody': 6463, 'indignantly': 6464, 'murmuring': 6465, 'candidly': 6466, 'stepfather’s': 6467, 'cruel': 6468, 'night—so': 6469, 'say—wouldn’t': 6470, 'coldest': 6471, 'cruelest': 6472, 'mind—trying': 6473, 'conceited': 6474, 'unflattering': 6475, 'untwisting': 6476, 'wondered—but': 6477, 'couldn’t—he': 6478, 'openly': 6479, 'bagatelle': 6480, 'rien': 6481, 'du': 6482, 'know—did': 6483, 'wagging': 6484, 'eloquently': 6485, 'torment': 6486, 'you—be': 6487, 'anyway—eh': 6488, 'mademoiselle—i': 6489, 'madame—to': 6490, 'straightening': 6491, 'tips': 6492, 'longing': 6493, 'you—the': 6494, 'resides': 6495, 'me—yes': 6496, 'unawares—without': 6497, 'behold': 6498, 'record': 6499, 'sparkled': 6500, 'hastings’s': 6501, 'narratives': 6502, 'to—unique': 6503, 'opportunity—probably': 6504, 'incoherent': 6505, 'floundered': 6506, 'embrace': 6507, 'mercifully': 6508, 'magnificent—you': 6509, 'epatant': 6510, 'them—this': 6511, 'racked': 6512, 'brains': 6513, 'stammered': 6514, 'little—er—': 6515, 'comic—as': 6516, 'trivialities': 6517, 'rummaged': 6518, 'pile': 6519, 'supped': 6520, 'correctly': 6521, 'understands': 6522, 'piled': 6523, 'you—on': 6524, 'modesty': 6525, 'thought—what': 6526, 'obtrude—in': 6527, 'scenes': 6528, 'blushed': 6529, 'candid': 6530, 'jesting': 6531, 'meticulous': 6532, 'exactly—though': 6533, 'becomingly': 6534, 'reticent': 6535, 'stage': 6536, 'performance': 6537, 'suspects': 6538, 'sirops': 6539, 'biscuits': 6540, 'lamp': 6541, 'straighten': 6542, 'mats': 6543, 'fussy': 6544, 'lamps': 6545, 'presumed': 6546, 'twilight': 6547, 'readiness': 6548, '“some': 6549, 'scientific': 6550, 'bands': 6551, 'wrists': 6552, 'register': 6553, 'begin—but': 6554, 'shriek': 6555, 'forestalled': 6556, 'am—very': 6557, 'behaved': 6558, 'badly—especially': 6559, 'needn’t': 6560, 'pat': 6561, 'meeting’s': 6562, 'wail': 6563, '“isn’t': 6564, 'shortly': 6565, '“excepting': 6566, 'banter': 6567, 'whistled': 6568, '“whew': 6569, 'guessing': 6570, 'ripple': 6571, 'uneasiness': 6572, 'trap—a': 6573, 'john': 6574, 'elizabeth': 6575, 'ackroyd——”': 6576, 'wailed': 6577, 'sternly': 6578, 'things—a': 6579, 'maid’s': 6580, 'maids—ursula': 6581, 'parlormaid—had': 6582, 'night—the': 6583, 'drugs—and': 6584, 'atlantic': 6585, 'sniffing': 6586, '‘snow’': 6587, 'assume': 6588, 'significant': 6589, 'cures': 6590, 'conjunction': 6591, 'ring—a': 6592, 'ring—with': 6593, 'afternoon—a': 6594, 'succeeding': 6595, 'orderly': 6596, '“incidentally': 6597, 'wishing': 6598, 'unexpectedly': 6599, 'cleverest—my': 6600, 'audacious': 6601, 'impressed': 6602, 'lodged': 6603, 'liar': 6604, 'alone—except': 6605, '“blunt': 6606, 'give—but': 6607, 'thing—the': 6608, 'them—has': 6609, 'dictating': 6610, 'letter——”': 6611, '“even': 6612, 'was—well—going': 6613, 'represented': 6614, 'invest': 6615, 'childish': 6616, 'right—no': 6617, 'explains': 6618, 'scraps': 6619, 'fragments': 6620, 'dictation': 6621, 'deduced': 6622, 'conscious': 6623, 'different—the': 6624, 'bourne’s': 6625, 'brilliant': 6626, 'essential': 6627, 'unchanged': 6628, 'paton——': 6629, 'steadily': 6630, 'funked': 6631, 'court': 6632, 'law—and': 6633, 'forward——”': 6634, 'is——”': 6635, 'paton——”': 6636, '“always': 6637, 'idée': 6638, 'fixe': 6639, 'is—': 6640, 'dramatic': 6641, 'exclamations': 6642, 'cries': 6643, 'eloquent': 6644, 'séance': 6645, 'table—just': 6646, 'suspicions': 6647, 'hoping': 6648, 'did——”': 6649, 'attach': 6650, 'ralph—or': 6651, 'loved': 6652, 'incriminate': 6653, 'resolve': 6654, 'filled': 6655, 'gap': 6656, 'bunk': 6657, 'graphically': 6658, 'attempted': 6659, 'rude': 6660, 'insulted': 6661, 'her—in': 6662, 'manner—that': 6663, 'doing——”': 6664, 'released': 6665, 'culpable': 6666, 'lodgings': 6667, 'unfit': 6668, 'homes': 6669, 'identifying': 6670, 'formalities': 6671, '“caroline’s': 6672, 'truthful': 6673, 'went—but': 6674, 'abashed': 6675, 'model': 6676, 'tramped': 6677, 'lanes': 6678, 'next—what': 6679, 'alive—or': 6680, 'but—it’s': 6681, 'this—to': 6682, 'yes—i': 6683, 'invite': 6684, 'knew—at': 6685, 'tense': 6686, 'telegram': 6687, 'tore': 6688, 'resonant': 6689, 'know—which': 6690, 'know—now': 6691, 'message—from': 6692, 'steamer': 6693, 'bowing': 6694, 'remember—': 6695, 'obeyed': 6696, 'logs': 6697, 'boot': 6698, 'witnessed': 6699, 'gigantic': 6700, 'bombast—that': 6701, '“playing': 6702, 'comedy”': 6703, 'reality': 6704, 'menace': 6705, 'words—a': 6706, 'indisputable': 6707, 'cigarettes': 6708, 'smoked': 6709, '“use': 6710, 'approvingly': 6711, 'open—not': 6712, 'formerly': 6713, 'ackroyd—before': 6714, 'bait': 6715, 'merci': 6716, 'heroic': 6717, 'guard': 6718, 'out—and': 6719, 'freedom': 6720, 'stump': 6721, 'reflective': 6722, 'indisputably': 6723, 'deduction': 6724, 'judging': 6725, 'was—that': 6726, 'of—in': 6727, 'probability—the': 6728, 'très': 6729, 'preference': 6730, 'fact—the': 6731, 'supreme': 6732, 'that—the': 6733, 'parker—it': 6734, 'abandoned': 6735, 'obscured': 6736, 'window—only': 6737, '—but': 6738, 'chair—and': 6739, 'shadowy': 6740, '“supposing': 6741, 'inkling': 6742, 'eliminated': 6743, 'root': 6744, 'theory—but': 6745, 'night—why': 6746, 'effects': 6747, 'table—why': 6748, 'focused': 6749, 'bulk—it': 6750, 'shape': 6751, 'fitted——”': 6752, 'dictate': 6753, 'typist': 6754, 'turns': 6755, 'speaking—not': 6756, '“possibly': 6757, 'exclude': 6758, 'likelihood': 6759, 'applied—something': 6760, 'qualifications': 6761, 'imaginary': 6762, 'portrait': 6763, 'hypothesis': 6764, 'inmates': 6765, 'soled': 6766, 'crepe': 6767, '‘clean': 6768, 'ascertain': 6769, 'cleaned': 6770, 'evening—in': 6771, 'alike—the': 6772, 'point—laying': 6773, 'order—i': 6774, 'frankly—to': 6775, 'investigations': 6776, '—he': 6777, 'fact—having': 6778, 'murderer—a': 6779, 'purloin': 6780, 'recall': 6781, 'recapitulate—now': 6782, 'dictaphone—such': 6783, 'fact—': 6784, 'you—right': 6785, '“discrepancy': 6786, 'agreed—you': 6787, 'included—that': 6788, 'house—less': 6789, 'nine—both': 6790, 'night—not': 6791, 'dawdle': 6792, 'so—he': 6793, 'unfastened': 6794, 'climbing': 6795, 'struggle': 6796, 'left—as': 6797, 'race': 6798, 'ackroyd—it': 6799, 'home—and': 6800, 'alibi—since': 6801, 'brooding': 6802, '“safety': 6803, 'attending': 6804, 'unable': 6805, 'accounting': 6806, 'speculation—then': 6807, 'mercy': 6808, 'rally': 6809, 'plausible': 6810, 'block': 6811, 'depended': 6812, 'notion': 6813, 'seas': 6814, 'orion': 6815, 'sailed': 6816, 'follows—': 6817, '‘no': 6818, 'said—your': 6819, 'interesting—but': 6820, 'sphere': 6821, 'politics': 6822, 'said—the': 6823, 'willing': 6824, 'sleeping': 6825, 'draught': 6826, 'cleared—': 6827, 'va': 6828, 'sans': 6829, 'yours—but': 6830, 'abandoning': 6831, 'prolific': 6832, 'unwise': 6833, 'succeed': 6834, '“whatever': 6835, 'yawn': 6836, 'instructive': 6837, 'politeness': 6838, 'tired—but': 6839, 'published': 6840, 'failures': 6841, 'pan': 6842, 'disaster': 6843, 'confiding': 6844, 'honest—didn’t': 6845, 'psychologically': 6846, 'afterthought': 6847, 'handy': 6848, 'agitated': 6849, 'refuting': 6850, 'ralph—well': 6851, 'adjust': 6852, 'writer': 6853, 'neater': 6854, 'clever—based': 6855, 'principle': 6856, 'judicious': 6857, 'little—just': 6858, 'shove': 6859, 'push': 6860, 'logically': 6861, 'agog': 6862, '“strain': 6863, 'enclose': 6864, 'then—what': 6865, 'poetic': 6866, '—including': 6867, 'refer': 6868, 'comprising': 6869, 'prominent': 6870, 'writers': 6871, 'titles': 6872, 'from—books': 6873, 'catalog': 6874, 'foremost': 6875, 'authors': 6876, '“romances': 6877, 'widely': 6878, 'serialized': 6879, 'throughout': 6880, 'society—more': 6881, 'gripping': 6882, 'arthur': 6883, 'vane': 6884, 'senses': 6885, 'nancy': 6886, 'gage': 6887, 'trials': 6888, 'tribulations': 6889, 'superficialities': 6890, 'everlasting': 6891, 'san': 6892, 'francisco': 6893, 'smooth': 6894, 'sailing': 6895, 'harrowing': 6896, 'experiences': 6897, 'sequel': 6898, 'continues': 6899, 'falls': 6900, 'sabatini’s': 6901, 'jesi': 6902, 'diminutive': 6903, 'italian': 6904, 'switzerland': 6905, 'lycee': 6906, 'oporto': 6907, 'portugal': 6908, 'today': 6909, 'alexandre': 6910, 'dumas': 6911, 'lion’s': 6912, 'shame': 6913, 'motley': 6914, 'trampling': 6915, 'lilies': 6916, 'doom': 6917, 'banner': 6918, 'carolinian': 6919, 'martin’s': 6920, 'wilding': 6921, 'fortune’s': 6922, 'bardelys': 6923, 'snare': 6924, 'hawk': 6925, 'scaramouche': 6926, 'tonto': 6927, 'rim': 6928, 'tappan’s': 6929, 'burro': 6930, 'vanishing': 6931, 'thundering': 6932, 'herd': 6933, 'wanderer': 6934, 'wasteland': 6935, 'rider': 6936, 'forest': 6937, 'wheat': 6938, 'border': 6939, 'legion': 6940, 'rainbow': 6941, 'heritage': 6942, 'riders': 6943, 'purple': 6944, 'plainsmen': 6945, 'star': 6946, 'ranger': 6947, 'betty': 6948, 'beast': 6949, 'scouts': 6950, '“buffalo': 6951, 'bill”': 6952, 'helen': 6953, 'cody': 6954, 'wetmore': 6955, 'foreword': 6956, 'grey': 6957, 'boys': 6958, 'roping': 6959, 'lions': 6960, 'ken': 6961, 'ward': 6962, 'jungle': 6963, 'lion': 6964, 'forester': 6965, 'pitcher': 6966, 'outfield': 6967, 'baseball': 6968, 'transcriber’s': 6969, 'text': 6970, 'underscores': 6971, 'typographical': 6972, 'silently': 6973, 'one—the': 6974, 'renamed': 6975, 'rules': 6976, 'creation': 6977, 'reports': 6978, 'performances': 6979, 'modified': 6980, 'away—you': 6981, 'commercial': 6982, 'file': 6983, 'abide': 6984, 'cease': 6985, 'possession': 6986, 'foundation”': 6987, 'pglaf': 6988, 'compilation': 6989, 'unprotected': 6990, 'sharing': 6991, 'attached': 6992, 'd': 6993, 'govern': 6994, 'countries': 6995, 'addition': 6996, 'downloading': 6997, 'representations': 6998, 'accessed': 6999, 'performed': 7000, 'viewed': 7001, 'derived': 7002, 'texts': 7003, 'indicating': 7004, 'charges': 7005, 'imposed': 7006, 'linked': 7007, 'unlink': 7008, 'detach': 7009, 'files': 7010, 'perform': 7011, 'redistribute': 7012, 'convert': 7013, 'binary': 7014, 'compressed': 7015, 'nonproprietary': 7016, 'proprietary': 7017, 'processing': 7018, 'hypertext': 7019, 'expense': 7020, 'exporting': 7021, 'alternate': 7022, 'include': 7023, 'viewing': 7024, 'reasonable': 7025, '20': 7026, 'gross': 7027, 'profits': 7028, 'derive': 7029, 'calculated': 7030, 'calculate': 7031, 'taxes': 7032, 'owed': 7033, '60': 7034, 'legally': 7035, 'required': 7036, 'periodic': 7037, '“information': 7038, 'notifies': 7039, 'discontinue': 7040, 'reported': 7041, 'group': 7042, 'manager': 7043, 'employees': 7044, 'expend': 7045, 'transcribe': 7046, 'proofread': 7047, 'stored': 7048, '“defects': 7049, 'incomplete': 7050, 'inaccurate': 7051, 'corrupt': 7052, 'transcription': 7053, 'infringement': 7054, 'damaged': 7055, 'disk': 7056, 'virus': 7057, 'codes': 7058, '“right': 7059, 'refund”': 7060, 'disclaim': 7061, 'remedies': 7062, 'negligence': 7063, 'contract': 7064, 'distributor': 7065, 'indirect': 7066, 'consequential': 7067, 'punitive': 7068, 'incidental': 7069, 'elect': 7070, 'opportunities': 7071, '‘as': 7072, 'is’': 7073, 'merchantability': 7074, 'disclaimers': 7075, 'exclusion': 7076, 'types': 7077, 'violates': 7078, 'maximum': 7079, 'invalidity': 7080, 'unenforceability': 7081, 'provision': 7082, 'void': 7083, 'remaining': 7084, 'indemnity': 7085, 'indemnify': 7086, 'agent': 7087, 'employee': 7088, 'production': 7089, 'promotion': 7090, 'harmless': 7091, 'indirectly': 7092, 'alteration': 7093, 'modification': 7094, 'additions': 7095, 'deletions': 7096, 'synonymous': 7097, 'formats': 7098, 'obsolete': 7099, 'exists': 7100, 'financial': 7101, 'critical': 7102, 'reaching': 7103, 'gutenberg™’s': 7104, 'goals': 7105, 'ensuring': 7106, '2001': 7107, 'secure': 7108, 'sections': 7109, 'profit': 7110, '501': 7111, 'educational': 7112, 'corporation': 7113, 'organized': 7114, 'mississippi': 7115, 'internal': 7116, 'revenue': 7117, 'ein': 7118, '64': 7119, '6221541': 7120, 'deductible': 7121, 'state’s': 7122, '809': 7123, '1500': 7124, 'salt': 7125, 'lake': 7126, 'ut': 7127, '84116': 7128, '801': 7129, '596': 7130, '1887': 7131, 'survive': 7132, 'widespread': 7133, 'increasing': 7134, 'licensed': 7135, 'accessible': 7136, 'outdated': 7137, '000': 7138, 'maintaining': 7139, 'irs': 7140, 'regulating': 7141, 'charities': 7142, '50': 7143, 'uniform': 7144, 'paperwork': 7145, 'locations': 7146, 'determine': 7147, 'solicitation': 7148, 'prohibition': 7149, 'unsolicited': 7150, 'donors': 7151, 'offers': 7152, 'international': 7153, 'gratefully': 7154, 'treatment': 7155, 'swamp': 7156, 'web': 7157, 'current': 7158, 'donation': 7159, 'addresses': 7160, 'checks': 7161, 'credit': 7162, 'professor': 7163, 'michael': 7164, 'hart': 7165, 'originator': 7166, 'shared': 7167, 'loose': 7168, 'network': 7169, 'volunteer': 7170, 'pg': 7171, 'facility': 7172, 'includes': 7173, 'subscribe': 7174, 'newsletter': 7175}\n"
          ]
        }
      ]
    },
    {
      "cell_type": "code",
      "source": [
        "# Cantidad de veces quea aparece cada palabra en cada \"documento\"\n",
        "# (1 documento = 1 caso de entrada)\n",
        "print(tok.word_docs)"
      ],
      "metadata": {
        "colab": {
          "base_uri": "https://localhost:8080/"
        },
        "id": "Ab13pbkb-x6H",
        "outputId": "f05c83bb-bbd5-4cad-d03b-46cfc3c11913"
      },
      "execution_count": 46,
      "outputs": [
        {
          "output_type": "stream",
          "name": "stdout",
          "text": [
            "defaultdict(<class 'int'>, {'ackroyd': 334, 'roger': 44, 'murder': 45, 'gutenberg': 35, 'the': 2729, 'of': 1420, 'ebook': 13, 'project': 83, 'states': 22, 'anywhere': 4, 'in': 910, 'anyone': 5, 'united': 16, 'use': 27, 'and': 1212, 'is': 558, 'for': 440, 'this': 282, 'no': 193, 'almost': 27, 'other': 85, 'with': 518, 'at': 563, 'world': 17, 'restrictions': 2, 'parts': 5, 'cost': 5, 'most': 57, 'or': 192, 'copy': 14, 'whatsoever': 3, 'away': 61, 'give': 45, 'you': 983, 'under': 24, 'terms': 22, 'it': 882, 're': 3, 'may': 79, 'license': 18, 'included': 3, 'online': 5, 'org': 9, 'located': 7, 'are': 168, 'if': 194, 'not': 474, 'www': 10, 'will': 147, 'country': 12, 'check': 4, 'laws': 9, 'to': 1782, 'where': 58, 'have': 481, 'using': 10, 'before': 79, 'title': 1, 'agatha': 2, 'author': 2, 'christie': 2, 'date': 8, '2022': 1, 'october': 1, 'release': 5, '2': 8, '69087': 1, 'recently': 2, 'january': 1, 'updated': 2, '2024': 1, '31': 2, 'language': 5, 'english': 8, 'publication': 2, 'original': 3, 'dunlap': 9, 'grosset': 12, 'ackerman': 1, 'pgdp': 1, 'library': 4, 'images': 1, 'tonsing': 1, 'from': 254, 'team': 1, 'https': 1, 'digital': 1, 'made': 65, 'was': 943, 'available': 5, 'emmanuel': 1, 'proofreading': 1, 'credits': 1, 'distributed': 5, 'by': 234, 'book': 13, 'produced': 10, 'hathitrust': 1, 'net': 1, 'robert': 1, 'start': 9, 'chimneys': 1, 'secret': 14, 'on': 397, 'etc': 1, 'links': 4, 'illustration': 4, 'publishers': 5, 'york': 5, 'new': 27, 'copyright': 21, '1926': 1, 'company': 4, 'dodd': 1, 'mead': 1, 'inc': 1, 'punkie': 1, 'detective': 19, 'likes': 3, 'orthodox': 1, 'who': 158, 'an': 194, 'suspicion': 20, 'inquest': 10, 'story': 39, 'one': 270, 'every': 42, 'falling': 1, 'turn': 12, 'contents': 5, 'page': 4, 'chapter': 28, '1': 41, 'i': 1829, 'table': 60, 'dr': 52, 'breakfast': 3, 'sheppard': 75, 'ii': 2, 'who’s': 5, '7': 5, 'king’s': 26, 'abbot': 23, 'grew': 4, 'iii': 2, 'marrows': 6, 'man': 167, '17': 1, 'vegetable': 6, 'fernly': 55, 'dinner': 20, 'iv': 2, 'v': 2, '49': 1, 'dagger': 30, '65': 1, 'tunisian': 3, 'vi': 2, 'neighbor’s': 2, 'profession': 6, 'learn': 6, '75': 1, 'vii': 2, 'my': 419, 'confident': 2, '92': 1, 'viii': 2, 'inspector': 163, 'raglan': 49, '106': 1, 'goldfish': 7, 'pond': 13, 'ix': 2, 'x': 4, 'parlormaid': 17, '118': 1, 'a': 1402, 'xi': 2, 'call': 41, 'pays': 2, 'poirot': 436, '136': 1, '145': 1, 'round': 51, 'xii': 2, '156': 1, 'xiii': 2, 'quill': 11, 'goose': 8, '165': 1, 'mrs': 149, 'xiv': 2, 'raymond': 102, 'xv': 2, '178': 1, 'geoffrey': 20, '190': 1, 'evening': 47, 'mah': 12, 'xvi': 2, 'jong': 14, 'parker': 139, 'xvii': 2, '202': 1, 'charles': 21, '218': 1, 'xviii': 2, 'kent': 30, '226': 1, 'flora': 165, 'xix': 2, 'xx': 2, 'russell': 59, 'miss': 164, '238': 1, 'xxi': 2, '251': 1, 'paragraph': 17, 'paper': 16, 'ursula’s': 4, 'xxii': 2, '260': 1, 'xxiii': 2, '269': 1, 'poirot’s': 27, 'little': 163, 'reunion': 7, '284': 1, 'paton’s': 15, 'ralph': 176, 'xxiv': 2, 'truth': 67, '289': 1, 'xxv': 2, 'whole': 30, 'but': 372, '298': 1, 'xxvi': 2, 'nothing': 66, 'apologia': 2, '303': 1, 'xxvii': 2, 'died': 14, 'ferrars': 46, 'thursday': 1, 'night': 102, 'september—a': 1, '16th–17th': 1, 'o’clock': 23, '17th': 1, 'sent': 18, 'morning': 58, 'friday': 14, 'there': 267, 'eight': 4, 'done': 40, 'had': 441, 'hours': 7, 'she': 425, 'be': 348, 'been': 286, 'dead': 24, 'some': 132, 'home': 34, 'when': 144, 'after': 100, 'minutes': 52, 'once': 67, 'more': 107, 'reached': 4, 'few': 40, 'just': 136, 'nine': 59, 'purposely': 1, 'opened': 27, 'front': 21, 'door': 109, 'delayed': 1, 'latch': 3, 'key': 5, 'hat': 5, 'hanging': 3, 'overcoat': 7, 'that': 1051, 'hall': 35, 'up': 186, 'light': 10, 'moments': 2, 'against': 29, 'early': 16, 'autumn': 1, 'chill': 1, 'precaution': 3, 'wise': 8, 'deemed': 1, 'am': 75, 'tell': 103, 'worried': 2, 'considerably': 3, 'upset': 11, 'events': 2, 'moment': 61, 'going': 59, 'pretend': 5, 'foresaw': 1, 'emphatically': 2, 'instinct': 2, 'next': 19, 'told': 68, 'me': 509, 'did': 167, 'weeks': 2, 'do': 212, 'so': 279, 'times': 14, 'stirring': 2, 'ahead': 5, 'were': 168, 'tea': 8, 'cups': 2, 'room': 104, 'left': 70, 'rattle': 2, 'dining': 10, 'came': 108, 'dry': 6, 'short': 14, 'sister': 52, 'caroline': 204, 'cough': 4, '“is': 23, 'james': 33, 'called': 13, '”': 2588, 'could': 98, 'since': 30, 'else': 31, 'unnecessary': 2, 'question': 61, 'cause': 7, 'precisely': 2, 'mr': 164, 'minutes’': 2, 'delay': 4, 'motto': 2, 'tells': 5, 'family': 14, 'kipling': 1, 'mongoose': 3, '“go': 7, 'out': 243, 'find': 51, 'crest': 1, 'ever': 29, 'should': 98, 'us': 104, 'adopts': 1, 'suggest': 6, 'omit': 1, 'might': 84, 'first': 55, 'part': 24, 'certainly': 18, 'rampant': 1, 'can': 107, 'amount': 9, 'any': 148, 'sitting': 17, 'finding': 4, 'don’t': 118, 'how': 50, 'manages': 1, 'know': 213, 'placidly': 5, 'servants': 16, 'constitute': 1, 'intelligence': 5, 'suspect': 8, 'tradesmen': 1, 'her': 421, 'corps': 3, 'goes': 14, 'gather': 3, 'information': 33, 'expert': 5, 'too': 55, 'spread': 2, 'amazingly': 1, 'named': 1, 'these': 41, 'trait': 1, 'hers': 3, 'causing': 1, 'last': 111, 'really': 62, 'which': 97, 'demise': 1, 'indecision': 1, 'concerning': 3, 'whatever': 19, 'now': 132, 'pangs': 1, 'knowledge': 11, 'over': 93, 'would': 159, 'within': 8, 'all': 318, 'common': 5, 'village': 23, 'hour': 23, 'naturally': 7, 'as': 369, 'professional': 4, 'space': 1, 'half': 39, 'got': 98, 'therefore': 9, 'aim': 2, 'into': 149, 'continually': 1, 'discretion': 3, 'habit': 13, 'withholding': 2, 'usually': 10, 'finds': 4, 'possible': 27, 'knowing': 13, 'moral': 3, 'same': 47, 'satisfaction': 5, 'way': 95, 'blame': 1, 'husband': 12, 'has': 157, 'ferrars’': 2, 'ago': 23, 'year': 25, 'assertion': 1, 'asserted': 1, 'least': 36, 'constantly': 1, 'foundation': 23, 'without': 45, 'poisoned': 7, 'him': 330, 'his': 451, 'wife': 9, 'scorns': 1, 'invariable': 2, 'acute': 1, 'rejoinder': 1, 'indulgence': 1, 'alcoholic': 2, 'gastritis': 2, 'helped': 8, 'habitual': 1, 'arsenical': 1, 'symptoms': 1, 'beverages': 1, 'poisoning': 2, 'accusation': 1, 'bases': 1, 'quite': 83, 'unlike': 2, 'different': 13, 'agree': 16, 'lines': 1, 'heard': 79, 'say': 153, 'look': 39, '“you’ve': 10, 'only': 67, 'very': 222, 'attractive': 1, 'youth': 2, 'though': 56, 'clothes': 3, 'always': 66, 'woman': 33, 'simple': 21, 'seemed': 49, 'fit': 5, 'well': 72, 'lots': 1, 'women': 10, 'buy': 2, 'their': 39, 'paris': 3, 'account': 19, 'husbands': 3, 'necessarily': 6, 'hesitating': 1, 'stood': 29, 'through': 59, 'passing': 6, 'sharper': 1, 'voice': 64, 'caroline’s': 17, 'note': 6, 'mind': 53, 'again': 78, 'why': 65, 'earth': 7, 'come': 100, '“what': 83, 'doing': 34, 'get': 52, 'your': 121, 'hastily': 5, '“i’ve': 22, 'dear': 43, 'said': 790, 'coming': 34, '“just': 14, 'time': 116, 'dozen': 1, 'hung': 4, '“you': 162, 'overcoats': 1, 'right': 71, 'accustomed': 2, 'walked': 8, 'gave': 43, 'peck': 1, 'cheek': 1, 'eggs': 3, 'bacon': 2, 'down': 107, 'sat': 25, 'cold': 6, 'rather': 54, 'remarked': 30, '“yes': 87, 'paddock': 4, '“king’s': 1, '“i': 307, '“how': 31, '“annie': 1, 'inveterate': 1, 'nice': 8, 'annie': 6, 'girl': 64, 'talker': 1, 'house': 99, 'eat': 2, 'pause': 6, 'sister’s': 3, 'continued': 22, 'nose': 3, 'tip': 2, 'does': 39, 'long': 34, 'quivered': 1, 'thin': 4, 'anything': 52, 'excited': 7, 'interested': 11, 'demanded': 10, '“well': 46, 'must': 157, 'business': 25, '“a': 38, 'bad': 22, 'sleep': 4, 'annoyed': 8, 'snapped': 1, 'didn’t': 51, 'until': 21, 'myself': 55, 'can’t': 49, 'knows': 28, 'haven’t': 16, 'mentioned': 12, 'soul': 4, 'yet': 33, 'clairvoyant': 1, 'milkman': 2, 'wasn’t': 19, '“it': 85, 'he': 930, 'cook': 4, 'go': 79, 'need': 17, 'sits': 1, 'comes': 15, 'die': 1, 'failure': 3, 'heart': 11, '“didn’t': 5, 'sarcastically': 2, 'inquired': 13, 'sarcasm': 1, 'wasted': 4, 'takes': 5, 'answers': 2, 'seriously': 9, 'accordingly': 3, '“he': 44, 'explained': 26, 'bound': 13, 'sooner': 1, 'later': 27, 'hear': 25, 'veronal': 5, 'taking': 15, 'overdose': 3, 'lately': 4, 'she’s': 16, '“she': 19, 'taken': 29, 'much': 79, 'sleeplessness': 1, 'immediately': 14, 'purpose': 10, '“nonsense': 8, 'took': 80, 'odd': 15, 'own': 66, 'belief': 2, 'wish': 22, 'acknowledge': 1, 'voicing': 1, 'rouse': 1, 'burst': 10, 'denial': 1, 'indignant': 1, 'speech': 2, 'fury': 1, '“there': 22, 'rhyme': 2, 'reason': 18, 'along': 24, '“rushing': 1, 'suicide': 7, 'commit': 4, 'widow': 5, 'off': 49, 'still': 52, 'health': 3, 'young': 52, 'good': 99, 'fairly': 8, 'it’s': 53, 'life': 29, 'absurd': 6, 'enjoy': 5, 'even': 34, 'noticed': 17, '“not': 38, 'six': 11, 'months': 9, 'looking': 34, 'admitted': 16, 'ridden': 1, 'looked': 85, 'hag': 1, 'positively': 4, 'able': 29, 'hasn’t': 4, 'unfortunate': 4, 'diagnosis': 1, 'coldly': 7, '“an': 3, 'love': 19, 'suppose': 29, 'affair': 11, 'head': 75, 'shook': 32, 'gusto': 2, '“': 41, 'great': 31, 'remorse': 1, '“remorse': 1, 'never': 82, 'believe': 61, 'i’m': 57, 'convinced': 6, 'than': 61, 'logical': 2, '“surely': 10, 'think': 156, 'you’re': 24, 'objected': 5, 'she’d': 4, 'committed': 8, 'like': 109, 'sufficiently': 4, 'blooded': 1, 'crime': 22, 'fruits': 1, 'sentimentality': 1, 'such': 61, 'weak': 7, 'minded': 1, 'repentance': 1, 'probably': 8, 'that—but': 1, 'drove': 9, 'mass': 1, 'them': 87, 'impulse': 2, 'overmastering': 1, 'nerves': 4, 'sort': 13, 'rid': 2, 'because': 24, 'simply': 11, 'person': 34, 'there’s': 21, 'kind': 54, 'doubt': 14, 'suffering': 1, 'endure': 1, 'suffer': 2, 'deal——”': 1, 'ashley': 4, 'nodded': 51, 'what': 275, 'help': 23, '“and': 72, 'haunted': 2, 'feeling': 9, 'sorry': 7, 'felt': 29, 'whilst': 12, 'frocks': 1, 'presumably': 2, 'gone': 27, 'alive': 18, 'worn': 6, 'indulge': 3, 'longer': 11, 'softer': 1, 'prepared': 8, 'emotions': 1, 'comprehension': 2, 'pity': 8, 'firmly': 5, 'idea': 55, 'nonsense': 4, 'agreed': 21, 'firm': 4, 'secretly': 5, 'arrive': 5, 'wrong': 21, 'encourage': 2, 'guesswork': 1, 'inspired': 2, 'views': 1, 'airing': 1, 'thing': 74, 'medical': 9, 'data': 2, 'supplied': 4, 'trying': 12, 'reply': 11, 'strictures': 1, 'ten': 53, '“you’ll': 4, 'see': 166, 'confessing': 1, 'letter': 21, 'everything': 44, 'leave': 26, 'sharply': 21, 'seeing': 7, 'land': 1, 'admission': 1, '“so': 21, 'inquire': 2, 'about': 233, '“oh': 36, 'hearts': 1, 'old': 43, 'precious': 1, 'humbug': 2, 'take': 49, 'possibility': 7, 'consideration': 1, '“one': 14, 'repressively': 1, '“will': 6, 'declare': 3, 'depends': 5, 'absolutely': 7, 'accidentally': 1, 'satisfied': 14, 'dispensed': 1, 'shrewdly': 2, 'asked': 140, 'answer': 23, 'further': 17, 'proceed': 4, 'describe': 5, 'geography': 1, 'local': 11, 'our': 59, 'cranchester': 21, 'big': 27, 'town': 7, 'imagine': 9, 'small': 31, 'railway': 2, 'station': 17, 'large': 14, 'we': 205, 'post': 4, 'miles': 3, 'office': 7, 'two': 90, 'apt': 1, 'men': 11, 'bodied': 1, 'stores': 1, '“general': 1, 'rival': 1, 'ladies': 5, 'retired': 14, 'unmarried': 2, 'place': 36, 'rich': 4, 'military': 2, 'recreations': 1, 'hobbies': 1, 'officers': 3, 'summed': 1, '“gossip': 1, 'word': 31, 'importance': 10, 'houses': 2, 'late': 16, 'park': 20, 'owned': 1, 'being': 54, 'squire': 4, 'impossibly': 1, 'reminds': 1, 'act': 6, 'sportsmen': 1, 'red': 10, 'faced': 4, 'appeared': 9, 'comedy': 2, 'setting': 4, 'musical': 2, 'fashioned': 3, 'they': 94, 'green': 5, 'revues': 1, 'nowadays': 8, 'song': 2, 'sang': 2, 'london': 5, 'fashion': 9, 'course': 69, 'immensely': 1, 'wheels': 1, 'successful': 5, 'manufacturer': 1, 'wagon': 1, 'years': 27, 'age': 2, 'rubicund': 1, 'nearly': 7, 'genial': 2, 'fifty': 2, 'face': 57, 'manner': 32, 'liberally': 1, 'vicar': 1, 'hand': 84, 'subscribes': 1, 'parish': 2, 'glove': 2, 'personal': 3, 'funds': 1, 'mean': 55, 'rumor': 1, 'extremely': 3, 'clubs': 1, 'encourages': 1, 'lads’': 1, 'cricket': 1, 'disabled': 1, 'matches': 1, 'expenditure': 1, 'peaceful': 2, 'institutes': 1, 'soldiers’': 1, 'fact': 33, 'lad': 4, 'twenty': 23, 'fell': 9, 'senior': 1, 'married': 14, 'beautiful': 10, 'five': 28, 'name': 30, 'child': 19, 'paton': 101, 'history': 4, 'marriage': 11, 'put': 50, 'bluntly': 1, 'painful': 2, 'succeeded': 2, 'four': 11, 'grave': 8, 'herself': 18, 'drinking': 2, 'dipsomaniac': 1, 'disposition': 1, 'showed': 12, 'followed': 10, 'make': 71, 'matrimonial': 1, 'wife’s': 1, 'second': 11, 'adventure': 1, 'mother': 15, 'seven': 7, 'son': 8, 'brought': 30, 'regarded': 6, 'continual': 1, 'source': 1, 'worry': 7, 'wild': 5, 'fond': 8, 'trouble': 17, 'nevertheless': 5, 'stepfather': 10, 'youngster': 2, 'enough': 35, 'gossip': 8, 'ready': 7, 'everybody': 4, 'husband’s': 5, 'became': 10, 'death': 35, 'together': 19, 'intimacy': 1, 'seen': 42, 'freely': 6, 'marked': 5, 'conjectured': 1, 'mourning': 2, 'end': 21, 'period': 2, 'become': 2, 'indeed': 34, 'certain': 37, 'admittedly': 1, 'ackroyd’s': 50, 'fitness': 2, 'drunkard': 1, 'drink': 4, 'many': 26, 'excess': 1, 'fitting': 2, 'victims': 2, 'each': 20, 'endured': 1, 'previously': 5, 'spouses': 1, 'hands': 22, 'former': 3, 'halo': 1, 'live': 7, 'here': 96, 'past': 37, 'surrounded': 1, 'housekeepers': 2, 'lady': 18, 'growing': 3, 'series': 3, 'manhood': 1, 'presided': 1, 'establishment': 1, 'cronies': 1, 'lively': 1, 'fifteen': 1, 'confidently': 3, 'marry': 6, 'expected': 15, 'redoubtable': 1, 'undisputed': 1, 'reigned': 1, 'twice': 7, 'predecessors': 1, 'hardly': 17, 'advent': 2, 'unexpected': 2, 'factor—the': 1, 'widowed': 1, 'escaped': 3, 'arrival': 3, 'that—and': 1, 'daughter': 3, 'cecil': 3, 'law': 10, 'canada': 4, 'residence': 1, 'ne’er': 1, 'brother': 5, 'younger': 1, 'putting': 6, 'according': 4, 'proper': 3, 'chilly': 2, 'exactly': 32, 'place”': 1, '“proper': 1, 'constitutes—it': 1, 'sounds': 5, 'pinched': 1, 'unpleasant—but': 1, 'smile': 10, 'acid': 2, 'lips': 9, 'ackroyd—dependent': 1, '“poor': 3, 'sympathy': 3, 'utmost': 2, 'professes': 1, 'charity': 1, 'bread': 1, 'bitter': 4, 'living': 8, 'work': 62, 'miserable': 2, 'thought': 75, 'advantage': 3, 'clearly': 23, 'tapis': 1, 'remain': 7, 'charming—not': 1, 'less': 7, 'proves': 1, 'gushing—to': 1, 'met': 24, 'says': 21, 'preoccupations': 2, 'affairs': 4, 'standpoint': 1, 'discussed': 1, 'fitted': 2, 'scheme': 2, 'kaleidoscope': 1, 'rearrangement': 1, 'mild': 2, 'discussion': 1, 'jerked': 4, 'probable': 3, 'presents': 1, 'wedding': 5, 'tragedy': 4, 'midst': 2, 'matters': 11, 'sundry': 1, 'revolving': 1, 'went': 127, 'mechanically': 4, 'special': 7, 'cases': 5, 'attend': 7, 'interest': 12, 'thoughts': 5, 'returned': 11, 'perhaps': 28, 'ferrars’s': 8, 'mystery': 11, 'surely': 13, 'behind': 23, 'experience': 6, 'contemplated': 1, 'reach': 3, 'determination': 1, 'reveal': 2, 'state': 11, 'action': 3, 'led': 13, 'covet': 1, 'fatal': 4, 'limelight': 1, 'then': 175, 'week': 6, 'considering—well—considering': 1, 'normal': 2, 'speak': 32, 'remembered': 7, 'suddenly': 25, 'walking': 10, 'yesterday': 23, 'likely': 16, 'surprised': 23, 'quarreled': 1, 'finally': 6, 'side': 29, 'heads': 5, 'close': 16, 'talking': 22, 'earnestly': 4, 'foreboding': 1, 'safely': 2, 'swept': 4, 'yet—but': 1, 'future': 5, 'vague': 5, 'tangible': 1, 'à': 1, 'premonition': 2, 'earnest': 1, 'tête': 1, 'things': 85, 'day': 41, 'between': 22, 'struck': 9, 'disagreeably': 1, 'thinking': 11, 'hold': 15, '“sheppard': 5, 'exclaimed': 15, 'wanted': 28, 'terrible': 8, 'blow': 6, 'keenly': 5, 'cheeks': 5, 'wreck': 6, 'fallen': 4, 'usual': 15, 'positive': 5, 'jolly': 1, 'healthy': 1, 'self': 7, 'i’ve': 47, '“look': 5, '“it’s': 35, 'worse': 5, 'quietly': 18, 'back': 90, 'talk': 15, '“hardly': 2, 'patients': 16, 'three': 38, 'twelve': 3, 'surgery': 12, 'better': 31, 'dine': 2, 'afternoon—no': 1, '“then': 18, '30': 2, 'suit': 2, 'manage': 3, 'what’s': 9, '“yes—i': 1, 'knew': 41, 'that—except': 1, 'often': 7, 'understood': 7, 'blankly': 2, 'began': 25, 'stared': 28, 'somewhere': 7, 'realize': 11, 'something': 107, 'vaguely': 4, 'ralph’s': 10, '“ralph': 8, 'london——damn': 1, 'ganett': 46, 'here’s': 1, 'want': 59, 'ghastly': 2, 'thirty': 21, 'hurried': 12, 'leaving': 17, 'wondering': 5, 'preceding': 3, 'afternoon': 20, 'conveyed': 3, 'impression': 15, 'spoken': 4, 'near': 17, 'puzzle': 3, 'upon': 35, 'matter': 43, 'thirsting': 1, 'characteristics': 1, 'lacks': 1, 'jumping': 2, 'unerring': 1, 'touch': 7, 'greatness': 1, 'lends': 1, 'conclusions': 3, 'maneuvers': 2, 'interrogatory': 1, 'breathless': 1, 'sad': 1, 'lot': 24, 'saying': 21, 'poor': 26, 'people': 34, 'drug': 7, 'wicked': 3, 'confirmed': 4, 'taker': 2, 'worst': 4, 'grain': 1, 'statements': 2, 'found': 55, 'smoke': 3, 'fire': 21, 'engagement—because': 1, 'broken': 7, 'proof': 4, 'engagement': 10, 'it—doctors': 1, 'did—but': 1, 'eye': 18, 'beady': 1, 'reacted': 2, 'sharp': 5, 'fortunately': 3, 'association': 1, 'suggestions': 5, 'preserve': 2, 'countenance': 5, 'impassive': 1, 'remarks': 6, 'committal': 1, 'non': 2, 'occasion': 1, 'joining': 1, 'congratulated': 2, 'ill': 4, 'neat': 4, 'counterattack': 1, 'natured': 1, 'difficulties': 5, 'pull': 1, 'passed': 25, 'several': 17, 'thoughtful': 1, 'waiting': 11, 'dismissed': 8, 'contemplating': 1, 'lunch': 10, 'garden': 9, 'perceived': 1, 'towards': 15, 'patient': 9, 'rose': 24, 'somewhat': 11, 'suggestion': 4, 'except': 7, 'iron': 2, 'cast': 4, 'above': 6, 'ills': 1, 'flesh': 1, 'forbidding': 1, 'housekeeper': 15, 'handsome': 9, 'tall': 7, 'shut': 14, 'appearance': 6, 'feel': 8, 'tightly': 2, 'stern': 3, 'kitchenmaid': 3, 'housemaid': 7, 'run': 10, 'whenever': 2, '“good': 13, 'knee': 7, 'obliged': 3, 'wiser': 1, 'unconvincing': 1, 'pains': 1, 'russell’s': 5, 'character': 3, 'integrity': 1, 'suspected': 9, 'tale': 2, 'trumped': 2, 'cross': 4, 'affection': 1, 'deliberately': 7, 'order': 11, 'invented': 4, 'soon': 24, 'subject': 17, 'saw': 76, 'pump': 1, 'misjudged': 1, 'brief': 1, 'reference': 5, 'linger': 1, 'disposed': 3, 'chat': 2, 'liniment': 1, 'doctor': 50, 'thank': 13, 'bottle': 2, 'protested': 3, 'either': 13, 'duty': 12, 'tools': 3, 'couldn’t': 18, 'stick': 6, 'harm': 7, 'trade': 2, 'one’s': 8, 'eyes': 53, 'drugs': 5, 'array': 2, 'disparagingly': 1, 'sweeping': 1, 'bottles': 1, '“drugs': 1, 'cocaine': 7, 'goes——”': 2, 'far': 32, 'society': 4, 'prevalent': 1, 'high': 8, 'sure': 50, 'attempt': 3, 'argue': 6, '“suppose': 1, 'cure': 1, 'slave': 1, 'cannot': 19, 'offhand': 1, 'attention': 20, 'lecture': 2, 'listened': 9, 'seeking': 2, 'instance——”': 1, 'proceeded': 4, '“now': 19, 'seem': 19, 'instead': 16, 'strangely': 2, 'changed': 9, 'true': 21, 'poisons': 7, 'rare': 2, 'detection': 2, 'baffle': 1, 'stories': 7, '“ah': 32, 'reading': 9, '“the': 75, 'essence': 1, 'south': 2, 'america': 4, 'poison—if': 1, 'nobody': 9, 'obscure': 5, 'of—something': 1, 'savages': 1, 'tribe': 2, 'poison': 3, 'western': 3, 'science': 1, 'instantaneous': 2, 'arrows': 1, 'powerless': 1, 'detect': 1, 'regretfully': 5, 'afraid': 21, 'curare': 2, '“i’m': 37, 'isn’t': 16, 'lost': 10, 'deal': 8, 'cupboard': 1, 'fancy': 13, 'replied': 13, 'estimation': 1, 'negative': 2, 'getting': 12, 'gong': 2, 'luncheon': 1, 'fondness': 1, 'pleases': 2, 'stepping': 2, 'rebuke': 1, 'returning': 2, 'housekeeper’s': 6, 'delinquent': 1, 'comfortable': 2, 'perusal': 1, 'seventh': 1, 'contrary——': 1, 'objection—on': 1, 'expressed': 2, '“excellent': 1, '“with': 3, '“there’s': 10, 'staying': 9, 'boars': 16, 'statement': 9, 'minute': 61, 'inn': 3, 'surprise': 19, '“ackroyd': 3, 'parting': 3, 'departed': 4, 'rule': 3, 'valuable': 5, 'twitching': 2, 'worked': 3, 'arrived': 14, 'he’s': 29, 'wonder': 16, 'nights': 2, 'pastime': 1, 'chose': 2, 'gay': 1, 'metropolis': 1, 'barmaids': 2, '“no': 48, 'meet': 21, 'that’s': 34, 'admit': 18, 'indefatigable': 1, 'guess': 5, '“but': 80, 'waited': 5, 'patiently': 2, 'cousin': 1, '“his': 4, '“flora': 7, 'relation': 3, 'practically': 5, 'cousinship': 1, 'granted': 11, '“old': 1, 'enjoyment': 1, '“secretly': 1, 'engaged': 7, 'immense': 7, 'won’t': 12, 'point': 31, 'flaws': 1, 'theory': 15, 'forbore': 2, 'created': 4, 'neighbor': 8, 'remark': 6, 'innocent': 7, 'diversion': 3, 'larches': 11, 'extreme': 1, 'annoyance': 3, 'stranger': 19, 'foreigner': 3, 'proved': 7, 'reed': 1, 'meat': 1, 'milk': 2, 'occasional': 1, 'vegetables': 2, 'whitings': 1, 'joints': 2, 'none': 7, 'acquired': 2, 'supply': 1, 'porrott—a': 1, 'apparently': 3, 'conveys': 1, 'unreality': 1, 'whether': 13, 'wants': 10, 'children': 2, 'mother’s': 5, 'somebody': 10, 'maiden': 2, 'was—and': 1, 'passports': 1, 'questions': 19, '“my': 22, 'hairdresser': 7, 'man’s': 7, 'mustache': 2, 'dissented': 1, 'wavy': 1, 'hair—not': 1, 'hairdressers': 2, 'straight': 18, 'known': 26, 'cited': 1, 'personally': 2, 'hair': 12, 'refused': 10, 'aggrieved': 1, 'borrowed': 1, 'polite': 4, 'blank': 3, 'frenchman': 2, 'wasn’t—and': 1, 'somehow': 3, 'ask': 40, 'mysterious': 12, 'sending': 3, 'capable': 4, 'shutting': 5, 'queen': 1, 'empty': 7, 'sheba': 1, 'personality': 4, 'vacuum': 1, 'those': 46, '“that': 57, 'cleaners——”': 1, 'meditated': 1, 'opportunity': 10, 'questioning': 5, 'loan': 1, 'seized': 3, 'chance': 13, 'escape': 6, 'gleaming': 1, 'gardening': 1, 'busily': 1, 'exterminating': 1, 'dandelion': 1, 'shout': 1, 'body': 23, 'sounded': 7, 'roots': 1, 'heavy': 4, 'warning': 4, 'ear': 2, 'feet': 19, 'repellant': 1, 'whizzed': 1, 'squelch': 1, 'marrow': 2, 'wall': 11, 'angrily': 2, 'partially': 1, 'covered': 5, 'egg': 3, 'black': 16, 'shaped': 2, 'suspiciously': 4, 'watchful': 1, 'pair': 15, 'mustaches': 2, 'porrott': 5, 'fluent': 1, 'apologies': 3, 'broke': 11, 'demand': 8, 'defense': 1, 'monsieur': 12, 'pardons': 1, 'thousand': 16, 'cultivate': 1, 'enrage': 1, 'promenade': 2, 'send': 7, 'seize': 1, 'biggest': 1, 'physically': 1, 'themselves—alas': 1, 'mentally': 3, 'ashamed': 2, 'prostrate': 1, 'hurl': 1, 'profuse': 2, 'forced': 11, 'anger': 3, 'melt': 1, 'hadn’t': 10, 'hoped': 7, 'hit': 2, 'sincerely': 1, 'wretched': 2, 'throwing': 3, 'walls': 3, 'hobby': 2, 'friend’s': 1, 'endear': 1, 'strange': 7, 'read': 34, 'yourself': 23, 'disquiet': 1, '“do': 20, 'figure': 11, 'toil': 2, 'labor': 1, 'attain': 2, 'object': 16, 'occupation': 1, 'yearns': 1, 'leisure': 1, 'himself': 53, 'busy': 7, 'days': 14, 'occupations': 1, 'glad': 11, 'occurrence': 1, 'slowly': 24, 'instance': 13, 'legacy—enough': 1, 'enable': 1, 'travel': 1, 'dream': 6, 'and—i': 2, 'chains': 2, 'mark': 1, 'daily': 6, 'gained': 1, 'interesting': 22, 'spirit': 4, 'encouragingly': 9, 'strong': 5, 'study': 46, 'nature': 10, 'human': 5, 'kindly': 6, 'secrets': 4, '“also': 1, 'friend—a': 1, 'friend': 59, 'occasionally': 3, 'imbecility': 1, 'stupidity': 1, 'pleasure': 5, 'delighting': 1, 'outlook': 1, 'naïveté': 1, 'honest': 5, 'superior': 4, 'gifts—all': 1, 'surprising': 2, 'sympathetically': 4, 'lives': 4, 'flourishes—but': 1, 'argentine': 3, '“in': 21, 'enviously': 1, 'sighed': 2, 'eyeing': 2, 'understanding': 3, 'yes': 41, 'sigh': 2, 'foolish—and': 1, 'risked': 1, 'foolish—greedy': 1, 'substance': 1, 'shadow': 3, 'comprehend': 6, 'speculated': 1, 'spite': 9, 'mournfully': 1, 'ridiculous': 6, 'entertained': 1, 'solemn': 2, 'portentously': 1, 'oilfields': 2, 'porcupine': 2, 'plumped': 2, 'gold': 11, 'mine': 14, 'australia': 1, 'expression': 6, 'regarding': 1, 'fathom': 1, 'fate': 2, 'irritably': 4, 'considers': 1, 'australian': 1, 'west': 2, 'also': 25, 'mines': 1, 'penchant': 1, 'auburn': 1, 'mouthed': 2, 'laughing': 4, 'open': 28, 'insanity': 1, 'easy': 15, 'foolish': 4, 'spoke': 32, 'whom': 14, 'middle': 7, 'folly': 1, 'vanity': 1, 'ours': 2, 'beg': 11, 'neighbors': 2, 'accept': 5, 'excellent': 5, 'best': 16, 'present': 18, 'stooped': 2, 'specimen': 1, 'flourish': 1, 'duly': 3, 'offered': 2, 'accepted': 9, '“this': 20, '“indeed': 5, 'cheerfully': 2, 'ways': 6, 'acquaintance': 4, 'resembles': 1, 'tiny': 3, 'doubtless': 2, 'dark': 15, 'walks': 3, 'flung': 4, 'description': 7, 'captain': 34, 'son—adopted': 1, 'rather—of': 1, 'impatience': 2, 'slight': 9, 'gesture': 6, 'guessed': 6, '“of': 14, 'slightly': 16, '“mr': 17, 'london—when': 1, 'amused': 5, 'snobbery': 1, 'patent': 3, 'grandiloquent': 1, 'smirk': 1, 'anxious': 18, 'notoriety': 2, 'prefers': 1, 'incognito': 3, 'troubled': 2, 'version': 2, 'correct': 6, '“captain': 1, 'mused': 3, 'charming': 7, 'niece': 4, '“who': 16, 'pleased': 8, 'it—has': 1, 'desired': 1, 'pass': 7, 'bear': 4, 'pressure': 4, 'please': 14, 'expectations': 3, 'himself—not': 2, 'ideas': 12, 'completely': 8, 'confidence': 10, 'discussing': 2, 'stepson': 1, 'patronage': 1, 'extends': 1, 'orders': 5, 'lower': 3, 'dignity': 1, 'sense': 7, 'confusion': 3, 'hide': 9, 'notice': 11, 'looks': 11, 'unusually': 1, 'alone—though': 1, 'greek': 1, 'god': 8, 'englishman—what': 1, 'novelists': 1, 'understand': 31, 'tone': 17, 'sentence': 6, 'musing': 1, 'summing': 1, 'indefinable': 2, 'boy': 11, 'inner': 1, 'share': 5, 'evidently': 6, 'preamble': 1, 'hurry': 3, 'stopped': 13, 'case': 45, 'earlier': 7, 'day—perhaps': 1, 'shake': 5, 'astonished': 1, 'actually': 14, 'mistake': 5, 'ought': 18, '“ridiculous': 1, 'interrupted': 13, 'pride': 2, 'modest': 2, '“our': 1, 'visibly': 2, 'wavered': 1, 'roulette': 1, 'ball': 2, 'declined': 2, 'hover': 1, 'tempting': 1, 'coyly': 1, 'numbers': 3, 'herring': 1, '“caroline': 3, 'reflect': 1, 'repeating': 2, 'yours': 12, 'indiscriminately': 1, '“people': 2, 'consider': 4, 'grateful': 4, 'wood——”': 1, '“coming': 2, 'wood': 8, 'grace': 3, 'blush': 2, 'lovely': 2, 'woods': 2, 'tints': 1, 'perfect': 12, 'autumnal': 1, 'care': 8, 'normally': 1, 'hang': 6, 'regards': 2, 'damp': 1, 'places': 2, 'kinds': 1, 'drop': 5, 'unpleasant': 2, 'sound': 13, 'adjacent': 3, 'unseen': 1, 'adjoins': 1, '“as': 11, 'voices': 9, 'paused': 25, 'paton’s—i': 1, 'girl’s': 5, 'listen——”': 1, 'however': 11, 'sarcasm—which': 1, 'interjected': 1, 'overhearing': 1, 'something—i': 1, 'catch': 6, 'answered': 9, '‘don’t': 1, 'angry': 5, '‘my': 1, '’': 16, 'cards': 3, 'cut': 6, 'shilling': 1, 'pretty': 10, 'fed': 1, 'dibs': 1, 'shall': 32, 'fellow': 16, 'pops': 1, '’em': 2, 'rolling': 1, 'money': 59, 'altering': 2, 'exact': 9, 'words': 36, 'remember': 45, 'stepped': 7, 'unfortunately': 3, 'perfectly': 11, 'twig': 1, 'moved': 14, 'lowered': 4, 'rushing': 1, 'vexing': 1, 'bar': 3, 'faint': 7, 'both': 23, 'glass': 5, 'brandy': 1, 'unhesitatingly': 1, 'barmaid': 4, 'only——”': 1, '“only': 6, 'doesn’t': 20, 'ran': 10, 'maidens': 1, 'rapidly': 5, 'list': 11, 'neighborhood': 4, 'reasons': 3, 'murmured': 32, 'breath': 5, 'slipped': 7, 'proposed': 1, 'well—better': 1, 'puzzled': 11, 'others': 15, 'inherited': 1, 'heredity': 1, 'extent': 3, 'victim': 2, 'propensity': 1, 'strain': 7, 'declared': 13, 'weakness': 6, 'extraordinarily': 2, 'proportioned': 1, 'athlete': 1, 'break': 5, 'sunburnt': 1, 'born': 8, 'easily': 5, 'charm': 1, 'effort': 5, 'veneration': 2, 'indulgent': 1, 'extravagant': 2, 'lovable': 1, 'friends': 7, 'devoted': 3, 'inquiry': 3, 'unannounced': 1, 'entered': 12, 'remembering': 1, 'doubtful': 2, 'misgivings': 1, 'reception': 1, '“why': 19, 'lighting': 2, 'outstretched': 2, 'sunny': 1, 'forward': 32, 'infernal': 1, 'eyebrows': 10, 'raised': 16, '“what’s': 8, 'laugh': 10, 'vexed': 4, '“thanks': 1, 'bell': 14, 'chair': 52, 'threw': 7, 'pressed': 5, 'mess': 2, 'gloomily': 3, 'mince': 1, 'devil': 3, 'confounded': 1, 'ordered': 1, 'drinks': 1, 'arm': 23, 'hunched': 1, 'frowning': 3, 'really—serious': 1, 'soberly': 1, 'unusual': 1, 'gravity': 3, 'ring': 12, 'damned': 2, '“if': 25, 'suggested': 25, 'help——”': 1, 'diffidently': 1, 'decidedly': 3, 'play': 10, 'let': 38, 'lone': 3, 'repeated': 8, 'silent': 8, '—': 29, '“yes—i’ve': 1, 'rang': 11, 'admirable': 1, 'promptitude': 1, 'butler': 17, 'foot': 4, 'preferred': 3, 'fine': 4, 'relieved': 1, 'square': 4, 'pleasant': 4, 'secretary': 21, 'full': 21, 'papers': 17, 'laid': 15, 'allusion': 1, 'bag': 9, 'chest': 4, 'oak': 2, 'summons': 5, 'confinement': 1, 'emergency': 1, 'shoulder': 14, 'calling': 3, 'drawing': 16, 'i’ll': 20, 'alone': 11, 'withdrawn': 1, 'raymond’s': 4, 'settled': 1, 'glanced': 7, 'tie': 2, 'mirror': 1, 'directly': 4, 'facing': 2, 'crossed': 6, 'turning': 9, 'handle': 15, 'within—the': 1, 'noted': 3, 'window': 63, 'attaching': 1, 'collided': 1, 'apologized': 2, 'appraising': 1, 'been—indeed': 1, 'unstreaked': 1, 'gray': 13, 'color': 10, 'quality': 6, 'apparent': 4, 'wondered': 11, 'subconsciously': 4, 'hard': 11, 'running': 8, 'breathing': 1, '“i—didn’t': 1, 'mention': 5, 'received': 16, 'displeased': 1, '“how’s': 3, '“much': 2, 'i—i': 4, 'flowers': 3, 'strolled': 3, 'quickly': 10, 'justify': 1, 'presence': 7, 'desire': 7, 'evident': 1, 'namely': 1, 'windows': 4, 'french': 4, 'opening': 3, 'ones': 5, 'terrace': 22, 'distract': 1, 'idly': 1, 'caused': 3, 'drawer': 7, 'noise': 1, 'coals': 1, 'pushed': 9, 'bureau': 3, 'silver': 24, 'caught': 10, 'lid': 10, 'lifts': 1, 'studying': 3, 'king': 2, 'shoe': 3, 'belonging': 3, 'pieces': 5, 'baby': 2, 'figures': 2, 'number': 8, 'african': 2, 'jade': 2, 'chinese': 3, 'implements': 1, 'wanting': 4, 'curios': 2, 'examine': 5, 'fingers': 6, 'lifted': 4, 'closely': 4, 'recognized': 4, 'carefully': 9, 'gently': 7, 'scrutinize': 1, 'bending': 1, 'admiring': 2, 'extraordinary': 9, 'fairness': 1, 'strikes': 4, 'scandinavian': 1, 'real': 13, 'blue—blue': 1, 'pale': 5, 'skin': 2, 'cream': 2, 'roses': 1, 'waters': 1, 'fiord': 1, 'norwegian': 1, 'shoulders': 11, 'hips': 1, 'boyish': 1, 'jaded': 1, 'across': 14, 'refreshing': 1, 'girl—i': 1, 'genuine': 2, 'beating': 1, 'article': 6, 'heretical': 1, 'doubts': 2, 'joined': 14, 'having': 20, 'anyway': 7, '“all': 10, 'making': 7, 'fuss': 3, 'wore': 5, 'used': 12, 'seems': 28, 'wearing': 7, 'george': 3, 'they’re': 12, 'wrote': 6, 'pen': 2, 'eliot': 2, 'floss': 3, 'thing—well': 1, 'with—that': 1, 'mill': 3, 'keen': 1, 'edition': 3, 'cheap': 1, 'stuff': 5, '“you’re': 9, 'profess': 1, 'frighten': 1, '“haven’t': 1, 'third': 5, 'finger': 6, 'held': 24, 'single': 1, 'pearl': 1, 'set': 23, 'exquisitely': 1, '“uncle': 1, 'keeps': 3, 'you’ll': 10, 'happy': 7, 'hope': 13, '“we’ve': 2, 'month': 2, 'cool': 1, 'uncle': 29, 'announced': 7, 'we’re': 7, 'stones': 1, 'winter': 1, 'hunt': 2, 'farm': 2, 'season': 1, 'yachting': 1, 'sea': 3, 'mothers’': 1, 'meetings': 3, 'rustled': 1, 'detest': 2, 'teeth': 2, 'flinty': 1, 'blue': 12, 'bones': 1, 'gushing': 1, 'speculative': 1, 'knuckles': 1, 'rings': 3, 'handful': 3, 'squeeze': 1, 'assorted': 1, 'volubly': 1, 'flora’s': 12, 'suitable': 5, 'sight': 7, 'fair': 4, 'relief': 3, 'tribute': 1, 'sighed—a': 1, 'remained': 9, 'observant': 1, 'roger’s': 10, 'me—in': 1, 'difficult': 11, 'judgment': 2, 'trusts': 1, 'position': 22, 'cecil’s': 2, 'tiresome': 3, 'know—all': 1, 'fully': 2, 'things—settlements': 1, 'intends': 1, 'settlements': 3, 'peculiar': 8, 'leetle': 2, 'amongst': 10, 'industry': 1, 'captains': 1, 'although': 2, 'eloquence': 2, 'interfering': 2, 'interruption': 2, 'hate': 4, 'intention': 4, 'people’s': 1, 'tackling': 1, 'another': 28, 'major': 45, 'blunt': 119, 'blunt—at': 1, 'repute': 1, 'hector': 14, 'shot': 5, 'unlikely': 2, 'animals': 1, 'game': 11, '“blunt—you': 1, 'friendship': 3, 'dissimilar': 1, 'totally': 6, 'junior': 1, 'diverged': 2, 'holds': 1, 'fortnight': 1, 'animal’s': 1, 'spends': 1, 'horns': 2, 'amazing': 4, 'stare': 4, 'fixes': 1, 'glazed': 1, 'reminder': 1, 'inside': 16, 'permanent': 2, 'deliberate': 1, 'medium': 5, 'height': 1, 'tread': 1, 'footed': 2, 'sturdily': 1, 'soft': 2, 'mahogany': 1, 'colored': 1, 'stockily': 1, 'built': 3, 'peculiarly': 1, 'expressionless': 2, 'talks': 1, 'happening': 2, 'watching': 7, 'jerkily': 1, 'unwillingly': 2, 'abrupt': 5, 'squarely': 2, 'fireplace': 5, 'timbuctoo': 1, 'you’d': 15, '“major': 4, 'described': 5, 'hater': 1, 'bent': 5, 'alacrity': 1, 'begin': 10, 'pea': 2, 'sweet': 2, 'mail': 4, 'horticulture': 1, 'appear': 2, 'informed': 2, 'topics': 1, 'converse': 1, 'reads': 1, 'intelligently': 1, 'afterwards': 11, 'preoccupied': 1, 'cheerful': 2, 'ate': 2, 'conversation': 21, 'affected': 1, 'kept': 13, 'uncle’s': 11, 'taciturnity': 1, 'relapsed': 1, 'depression': 1, 'we’ve': 11, 'shan’t': 4, 'disturbed': 14, 'coffee': 7, '“once': 1, 'shouldn’t': 9, 'appearing': 2, 'studied': 1, 'excitement': 3, 'influence': 1, 'paced': 1, 'tray': 10, 'sank': 2, 'shelves': 1, 'apartment': 1, 'lined': 1, 'desk': 14, 'chairs': 5, 'leather': 2, 'neatly': 5, 'docketed': 1, 'various': 5, 'filed': 3, 'magazines': 2, 'sporting': 1, 'return': 10, 'pain': 1, 'food': 2, 'casually': 2, 'tablets': 2, 'convey': 2, 'played': 6, 'conference': 2, '“they’re': 3, 'arrested': 6, 'doctor’s': 2, 'bring': 8, '“don’t': 11, '“very': 19, 'sir': 68, 'withdrew': 3, 'wait': 7, 'contain': 3, 'sorts': 4, 'uneasy': 9, 'plainly': 7, 'forebodings': 1, 'assailed': 1, '“make': 1, 'window’s': 1, 'closed': 16, 'ordinary': 5, 'sash': 3, 'type': 3, 'velvet': 1, 'itself': 10, 'curtains': 8, 'drawn': 12, 'top': 8, 'reëntered': 1, 'while': 8, 'emerging': 1, '“that’s': 25, 'replying': 2, 'hell': 5, 'bother': 1, 'curious': 14, 'door’s': 2, 'sit': 9, 'overhear': 4, 'ruins': 1, 'straw': 1, 'other——': 1, 'other—the': 1, 'averse': 1, 'curiously': 14, 'complete': 5, 'illness': 1, 'attended': 2, 'difficulty': 8, 'greater': 4, 'framing': 1, 'enter': 2, 'suspect—did': 1, '“did': 15, 'head—that—well': 1, '“i’ll': 11, '“at': 4, 'mere': 4, 'since—well': 1, 'idle': 1, 'dull': 3, '“when': 12, '“yesterday': 1, 'telling': 10, 'advice—i': 1, 'weight': 1, 'carry': 3, '“can': 8, 'confession': 5, 'consented': 2, 'allow': 4, 'public': 9, 'pointed': 6, 'elapsed': 2, 'objection': 3, 'property': 4, 'hatred': 1, 'brute': 2, 'she—she': 2, 'means': 11, 'the—the': 1, 'dreadful': 7, 'blood': 5, 'horror': 6, 'repulsion': 1, 'lover': 1, 'forgive': 5, 'fundamentally': 1, 'love’s': 1, 'sake': 3, 'citizen': 2, 'turned': 45, 'abiding': 1, 'wholesome': 1, 'revelation': 4, 'utterly': 2, 'confessed': 1, 'low': 16, 'monotonous': 2, 'sums': 5, 'along—who': 1, 'huge': 1, 'blackmailing': 5, 'mad': 5, 'arose': 2, 'picture': 3, 'momentary': 5, 'throb': 1, 'supposing—oh': 1, 'anxiety': 2, 'impossible': 11, 'greeting': 1, 'frankness': 2, 'wouldn’t': 14, 'course——”': 1, 'you’ve': 16, 'groaned': 1, 'dropped': 15, 'household—but': 1, 'among': 4, 'misunderstood': 1, 'shock': 7, 'awful': 2, 'accessory': 1, 'stunned': 1, 'quicker': 3, 'promise': 2, 'till': 9, 'hours—made': 1, 'steadfastly': 1, 'scoundrel': 4, 'hammer': 1, 'fat': 3, 'concerned': 5, 'swear': 4, 'meant': 14, 'exaggerated': 3, 'view': 6, 'lie': 8, 'responsibility': 4, 'rake': 2, 'he’d': 15, 'killed': 12, 'obscene': 1, 'fastened': 2, 'vulture': 1, 'scot': 1, 'free': 8, 'paid': 19, 'penalty': 2, 'publicity': 4, 'zigzagged': 1, 'fro': 2, 'punished': 1, 'villain': 1, 'reckoned': 2, 'presently': 7, 'we’ll': 4, 'strongest': 2, 'message': 19, 'me—before': 1, 'choosing': 1, 'revenged': 1, 'desperation': 2, 'bid': 1, 'worth': 6, 'impressions': 3, 'her——”': 1, 'noiselessly': 1, 'salver': 3, 'letters': 8, 'handing': 3, 'collected': 2, 'diverted': 2, 'staring': 6, 'stone': 3, 'envelope': 7, 'ground': 6, 'writing': 7, 'whisper': 2, 'posted': 5, 'before—before——”': 1, 'enclosure': 1, 'ripped': 1, 'drew': 17, 'thick': 6, '“quite': 16, 'queer': 9, 'watched': 8, 'spied': 1, 'that——': 1, 'hearing': 2, '“nerves': 1, 'aloud': 6, 'sheets': 1, 'unfolded': 2, '—a': 1, 'calls': 4, 'that—i': 1, 'road': 4, 'punishment': 1, 'propose': 4, 'write': 3, 'relations': 3, 'spared': 2, 'fear': 10, 'sheet': 4, 'unsteadily': 1, '“later': 1, 'cried': 30, '“read': 1, 'impulsively': 2, 'reddening': 1, 'pardon': 5, 'i’d': 12, 'urge': 2, 'headed': 4, 'essentially': 1, 'pig': 2, 'determined': 4, 'arguments': 2, 'vain': 1, 'unread': 2, 'hesitated': 13, 'undone': 3, 'startled': 6, 'occurred': 12, 'embarrassed': 4, 'listening': 4, 'oily': 1, 'smug': 2, 'shifty': 2, 'particularly': 6, 'fancied': 7, 'palpable': 1, 'untruth': 1, 'overcast': 1, 'moon': 1, 'clock': 5, 'chimed': 1, 'church': 3, 'lodge': 9, 'gates': 10, 'opposite': 4, 'cannoned': 1, 'direction': 4, 'hoarse': 1, 'mister': 3, 'pulled': 10, 'collar': 6, 'coat': 6, 'rough': 7, 'uneducated': 2, '“these': 2, 'added': 13, '“thank': 7, 'unnecessarily': 1, 'reminded': 5, 'whose': 6, 'curiosity': 4, 'fictitious': 1, 'satisfy': 5, 'device': 3, 'transparent': 1, 'yawned': 2, 'bed': 12, 'acquiesced': 5, 'clocks': 1, 'wind': 9, 'locked': 12, 'properly': 2, 'kitchen': 4, 'quarter': 28, 'stairs': 11, 'below': 8, 'telephone': 26, '“mrs': 6, 'bates': 1, 'ruefully': 4, 'receiver': 3, 'dressings': 1, 'stuffed': 1, 'extra': 1, 'upstairs': 10, '“parker': 8, 'they’ve': 3, '“from': 4, 'telephoning': 4, 'shouted': 1, 'murdered': 10, 'car': 7, 'impatiently': 2, 'answering': 7, 'impassivity': 1, 'chain': 1, 'doorway': 6, 'unmoved': 3, '“where': 11, 'master': 11, 'stand': 7, '“your': 5, 'police': 36, 'notified': 1, 'ghost': 1, 'murdered——”': 1, 'gasp': 1, 'oh': 14, '“me': 3, 'hoax': 1, '“excuse': 3, '‘': 3, 'speaking': 19, '’”': 6, 'joke': 3, 'shocked': 2, '“fancy': 1, '“still': 1, 'billiard': 13, 'practical': 2, 'makes': 8, 'accompanying': 1, 'sir——': 1, '“come': 5, 'traversed': 1, 'heels': 2, 'flight': 1, 'lobby': 8, 'bedroom': 12, 'tapped': 4, '“allow': 2, 'nimbly': 1, 'build': 2, 'applied': 2, 'keyhole': 3, 'lock': 7, '“key': 1, '“on': 7, 'rising': 4, 'possibly': 6, 'verified': 1, 'parker’s': 7, 'wake': 2, 'rattled': 1, 'household': 6, 'alarm': 6, 'hesitatingly': 6, 'quarters': 2, 'ladies’': 2, 'bedrooms': 1, 'frantically': 1, 'banged': 1, 'comprehendingly': 1, 'bawled': 1, 'stooping': 2, 'sign': 5, 'still—silence': 1, 'in—or': 2, 'doubtfully': 6, 'alarmed': 2, 'picked': 7, 'advanced': 2, 'assault': 1, 'hurled': 1, 'staggered': 1, 'visible': 3, 'sideways': 3, 'metalwork': 1, 'shining': 2, 'twisted': 1, 'piece': 14, 'recumbent': 1, 'hiss': 1, 'draw': 5, '“stabbed': 1, '“’orrible': 1, 'be’ind': 1, 'moist': 1, 'stretched': 4, 'brow': 2, 'wiped': 4, 'handkerchief': 12, 'hilt': 6, 'gingerly': 4, 'mustn’t': 4, 'inform': 2, 'happened': 12, 'wiping': 1, 'perspiring': 1, 'careful': 8, 'disturb': 4, 'moving': 3, 'attained': 1, 'incredulous': 2, 'stricken': 2, 'outside': 29, 'where’s': 2, 'impetuously': 1, 'white': 8, 'aside': 7, 'lay': 10, '“nothing': 12, 'instant': 5, 'beneath': 1, 'stolid': 2, 'emotion': 2, 'detected': 1, 'signs': 3, 'peering': 1, 'mask': 3, 'blunt’s': 3, 'pince': 2, 'regained': 1, 'nez': 2, 'composure': 2, 'polished': 2, 'observed': 15, 'shaking': 4, 'habitually': 1, '“robbery': 1, 'burglary': 2, 'stab': 1, 'motive': 11, 'enemy': 1, '“must': 1, '“roger': 1, 'thief': 3, 'burglars': 1, 'disarranged': 5, 'sorting': 1, 'missing': 6, 'show': 11, 'drawers': 4, 'tampered': 1, 'motion': 1, 'floor': 3, 'disappeared': 4, 'containing': 2, 'mouth': 3, 'murmur': 2, 'pealed': 2, 'confused': 2, 'constable': 11, 'terribly': 2, 'gentlemen': 3, 'gentleman': 5, 'accident': 5, '“none': 2, '“been': 1, '“beyond': 1, 'extinct—an': 1, 'matter—i': 1, 'points': 4, 'murderer': 25, 'away—for': 1, 'clear': 28, 'circumstances': 9, '“well—i': 1, '“naturally': 4, 'least—perhaps': 1, '“half': 2, 'bolted': 2, 'request': 6, 'strode': 2, 'its': 20, 'fullest': 1, 'torch': 2, 'sill': 5, 'pocket': 16, 'flashed': 1, 'defined': 1, 'footmarks': 5, 'powerful': 2, 'shoes': 21, 'rubber': 6, 'studs': 7, 'soles': 1, 'inwards': 1, 'overlapping': 1, 'outwards': 1, '“plain': 3, '“any': 4, 'valuables': 1, 'pikestaff': 2, 'discover': 6, 'particular': 14, 'value': 3, 'climbed': 3, '“man': 1, '“h’m': 4, 'asleep': 1, 'there—maybe': 1, 'stabbed': 4, 'nerve': 2, 'tracks': 2, 'strangers': 3, 'suspicious': 5, 'gate': 8, 'evening—just': 1, 'chime': 2, 'ability': 3, 'inquiries': 7, 'fix': 2, 'inquiring': 1, 'thanks': 2, 'at—let': 1, 'see—about': 1, '“probably': 2, 'respectfully': 2, '“for': 6, 'already': 15, 'queried': 6, '—er——”': 1, 'respectful': 3, 'creeping': 1, 'merely': 8, 'affirmatively': 1, 'recognize': 3, 'corrected': 2, '“june': 1, 'june': 1, '“never': 5, 'volunteered': 2, 'fragment': 3, 'supposing': 5, 'distinctly': 3, '‘the': 1, 'late’—that': 1, 'purse': 2, 'frequent': 3, 'accede': 2, 'saying—‘of': 1, 'sheppard——”': 1, 'subscriptions': 1, 'loans': 1, '“——does': 1, 'finished': 9, 'musingly': 1, 'clew': 6, 'important': 15, 'see——”': 3, 'length': 3, 'rousing': 1, 'thing’s': 3, 'absorption': 1, 'apologetic': 2, 'vent': 2, 'inspector’s': 7, 'excuse': 5, '“miss': 9, 'whisky': 4, 'soda': 3, 'bringing': 5, 'closer': 1, 'bestowed': 1, '“you’d': 2, 'stammer': 1, 'proposing': 1, 'forgotten': 6, '“i’d': 2, 'thought—well': 1, 'dawn': 1, 'flustered': 1, 'bolting': 1, 'accomplished': 1, 'staircase': 10, 'stay': 7, '“jones': 1, 'interposed': 2, 'deferentially': 1, 'main': 3, 'access': 11, 'leads': 5, 'gain': 3, 'bathroom': 2, 'communication': 1, 'blocked': 2, 'liked': 7, 'entirely': 4, 'suite': 1, 'private': 5, 'appended': 1, 'explain': 11, 'wing': 1, 'sketch': 1, 'knocked': 2, 'adjoining': 1, 'lavatory': 1, 'pantry': 3, 'stairs‖‖‖': 1, '‖': 24, 'path': 19, 'lawn': 1, 'summer': 36, 'glance': 11, 'slipping': 1, 'voiced': 1, 'instructions': 1, 'latter': 12, 'depart': 2, '“we': 16, 'dressing': 4, 'errand': 1, 'descended': 2, 'silk': 3, 'pink': 1, 'kimono': 1, 'wrapped': 2, '“we’re': 4, 'civilly': 1, 'robbery': 2, 'room—the': 1, 'composedly': 2, 'wide': 5, 'divan': 1, 'stolen': 5, '“was': 7, 'happen': 7, '“exactly': 7, 'collect': 1, 'recollections': 1, '‘good': 1, 'tired': 1, 'kissed': 1, 'grunt': 2, 'frock': 1, 'specially': 2, 'forgot': 2, '‘tell': 1, '“won’t': 2, 'quite—certain': 1, 'started': 7, 'hiding': 13, 'unobtrusive': 1, 'patting': 1, 'rocklike': 1, 'demeanor': 1, 'safety': 2, 'promised': 5, 'comfort': 1, '“bad': 2, 'news': 10, 'roger——”': 1, 'dilating': 1, 'whispered': 2, 'gravely': 15, 'cry': 3, 'throat': 5, 'fainted': 1, 'carried': 2, 'revived': 1, 'downstairs': 2, 'nicely': 1, 'definite': 1, 'squashed': 1, 'conceal': 8, '“looked': 2, 'stranger’s': 1, 'unfamiliar': 1, 'haltingly': 1, 'roughness': 1, 'tried': 6, 'wished': 7, 'equally': 4, 'disguise': 1, 'unlocked': 4, 'davis': 9, 'grimly': 1, 'blackmail': 11, 'eavesdropping': 2, '“blackmail': 2, 'imagination': 2, 'glued': 1, 'instituting': 1, 'garbled': 1, 'decision': 1, 'breast': 4, 'decide': 1, 'clean': 6, 'decided': 5, 'favorable': 2, 'narrated': 2, 'interjecting': 1, '“most': 1, 'bad—it': 1, 'gives': 3, 'for—a': 1, 'hinted': 3, 'member': 4, 'term': 2, 'household’s': 1, 'elastic': 1, 'involved': 2, 'obviously': 3, 'entering': 2, 'how’s': 2, 'intended': 5, 'continuing': 1, 'accused': 7, 'uproar': 1, 'choleric': 1, 'temper': 2, '“mightn’t': 1, 'visitor': 2, 'night—well': 1, 'right—perhaps': 1, 'panic—and': 1, 'mind—or': 1, 'depend': 4, 'deny': 3, 'es': 3, '“ye': 3, '“anyway': 2, 'exchange': 2, 'keep': 16, 'dark—we': 1, 'slip': 2, 'evidence': 13, 'appearances': 1, 'concentrating': 1, 'astride': 1, 'form': 5, 'weapon': 5, 'unique—a': 1, 'curio': 2, 'attentively': 3, 'surveying': 2, 'blade': 3, 'carrying': 5, 'wound': 3, 'mug': 2, 'china': 4, 'placed': 4, 'adorned': 1, 'mantelpiece': 1, 'art': 1, 'nodding': 8, 'narrow': 1, 'tapering': 1, 'metals': 1, 'workmanship': 1, 'elaborately': 1, 'intertwined': 1, 'testing': 1, 'sharpness': 2, 'touched': 6, 'grimace': 1, 'appreciative': 1, '“lord': 2, 'edge': 2, 'drive': 8, 'cutting': 3, 'butter': 1, 'toy': 2, 'man—as': 1, 'dangerous': 3, '“may': 2, 'examination': 1, 'thorough': 2, '“we’ll': 4, 'spare': 4, 'technical': 2, 'delivered': 1, 'handed': 14, 'standing': 9, 'assailant': 1, 'cats': 1, 'creep': 3, '“butlers': 1, 'dare': 8, 'fingerprints': 10, 'effect': 4, 'judge': 2, 'steps': 4, 'mildly': 5, 'devoid': 1, 'supposed': 4, 'newspapers': 4, 'average': 1, 'marks': 4, 'toe': 2, 'awe': 1, 'registered': 3, 'declining': 1, 'accompany': 7, 'invited': 4, 'thrilled': 1, 'locking': 1, 'outer': 3, 'exhibit': 1, '“ever': 1, '“why—i': 1, 'believe—i’m': 1, 'given': 11, 'morocco—no': 1, 'tunis': 1, 'daggers': 1, 'fetch': 3, '“something': 2, '“nice': 1, 'ingenuous': 1, 'ruffled': 2, 'efficient': 2, 'accompanied': 5, 'excitedly': 1, 'quiet': 6, '“saw': 1, '“wrong': 1, '“lot': 1, 'blurting': 1, 'grunted': 1, 'identify': 4, '“absolutely': 3, 'this—er—curio': 1, 'apologetically': 4, 'trivial': 4, 'profound': 1, 'trace': 3, 'skepticism': 1, 'detail—a': 1, 'explanation': 12, 'tedious': 2, 'infinitely': 2, 'noticing': 2, 'it—but': 1, '“we’d': 2, 'summoned': 2, 'posed': 2, 'fresh': 7, 'open—which': 1, 'aggressively': 1, 'stop': 5, 'hesitation': 3, 'dismissal': 2, 'glided': 1, 'tartar': 1, '“rather': 2, 'eh': 17, '“let': 6, 'ajar': 1, '“they': 12, 'somebody—i’ll': 1, 'somebody—could': 1, 'chief': 7, 'melrose': 20, 'colonel': 40, 'county': 5, 'jar': 1, 'pack': 1, 'amusement': 1, 'chuckle': 2, 'opinion': 7, 'inviting': 2, 'diary': 1, 'obvious': 6, 'companion': 2, 'oblige': 1, 'card': 3, 'grin': 4, 'humble': 1, '“souvenirs': 1, 'forthcoming': 1, 'buoyant': 1, 'brutal': 1, 'spirits': 2, 'dim': 2, 'employer': 1, 'resilience': 1, 'cocoa': 1, 'drank': 3, 'extracted': 1, 'hot': 6, 'facts': 17, 'contented': 1, 'giving': 6, 'ascend': 2, '“fiddlesticks': 2, 'fool': 10, 'pronouncement': 1, 'following': 15, 'unforgivably': 1, 'serious': 2, 'greet': 1, 'concealed': 3, '“she’s': 4, 'sofa': 2, 'twisting': 2, 'nervously': 4, 'faded': 1, 'resolute': 2, 'composed': 1, '“dr': 8, 'he’ll': 3, 'interview': 12, 'privately': 3, 'waste': 1, '“to': 23, 'funny': 3, 'mean—the': 2, 'hercule': 20, 'detectives': 3, 'things—just': 1, 'wonderful': 5, 'books': 7, 'm': 80, 'bothered': 1, 'fogey': 1, '“extraordinary': 1, 'commented': 5, 'referring': 1, 'to—possibly': 1, 'investigate': 6, 'stupid': 8, 'driving': 1, '“remember': 2, 'active': 3, 'persuade': 3, 'wisely': 1, 'occasions': 1, 'hints': 3, 'direct': 5, 'directness': 2, 'tact': 1, 'details': 7, 'grudgingly': 2, 'advise': 1, 'guided': 1, '“be': 2, 'drag': 1, 'sprang': 6, 'rushed': 3, 'heeded': 1, 'neither': 9, 'past—wicked': 1, 'even—but': 1, 'home—after': 1, 'silenced': 4, 'visit': 12, 'momentarily': 1, 'unnoticed': 3, 'countered': 2, 'there——”': 3, 'astounded': 1, 'evening—and—and': 1, 'defiantly': 1, 'gone—anywhere': 1, 'luggage': 2, '“leaving': 2, 'stamped': 3, 'tack': 3, 'working': 3, 'horrid': 2, 'morning—inspector': 1, 'weaselly': 2, 'change': 7, 'davis’s': 1, 'snorted': 1, '“are': 8, 'laying': 1, 'keeping': 9, 'manners': 3, 'nicest': 1, 'murderers': 2, 'restrained': 1, 'pronouncements': 1, 'favorite': 2, 'beginning': 9, 'cap': 2, 'breton': 3, 'formal': 3, 'ushered': 4, 'arranged': 3, 'precision': 1, 'lapse': 2, 'smiling': 13, 'le': 6, '“monsieur': 2, '“mademoiselle': 10, 'docteur': 5, 'bowed': 6, '“perhaps': 11, 'mademoiselle': 35, 'horrible': 1, 'offer': 1, 'serve': 2, '“wants': 1, 'to—to——”': 2, 'if—if': 1, 'money——”': 3, '“money': 2, 'twinkle': 5, 'dog': 10, 'scent': 2, 'regret': 2, 'plunged': 1, 'enjoined': 2, 'narrative': 3, 'embodying': 1, 'thus': 5, 'inserting': 1, 'silence': 26, 'ceiling': 2, 'departure': 2, 'previous': 2, '“tell': 1, 'imperious': 1, 'inn—this': 1, 'boars—last': 1, 'choose': 4, 'aware': 2, 'stiffly': 2, 'jeune': 1, 'ce': 3, 'say—reassure': 1, 'to—shall': 1, 'homme': 1, '“reassure': 1, 'trust': 6, 'this—captain': 1, 'eagerly': 4, 'theme': 1, 'immediate': 5, 'officer': 2, 'introduce': 2, 'charge': 7, 'forthwith': 1, 'plan': 4, 'glum': 1, 'recognizing': 1, '“weaselly': 1, 'introduced': 2, 'situation': 5, 'thunder': 1, 'officer’s': 1, 'exhilarated': 1, 'plain': 2, 'amateurs': 1, 'butting': 1, 'directed': 2, 'vengeful': 1, 'stolidity': 1, 'official': 4, 'investigation': 2, 'hampered': 1, 'reputation': 3, 'courteously': 1, 'advertise': 1, 'luck': 2, 'themselves': 4, 'saved': 2, 'contribute': 1, 'solution': 5, 'raglan’s': 2, 'lightened': 1, 'remarkable': 2, 'successes': 3, 'thawing': 1, 'aid': 4, 'obtained': 4, 'admire': 2, 'enormously': 1, 'permits': 1, 'honored': 2, 'assist': 2, 'flattered': 1, 'gracious': 1, 'fellow’s': 1, 'yard': 2, 'scotland': 2, 'i—er—know': 1, 'parties': 1, 'kudos': 1, 'unobtrusively': 1, 'solemnly': 3, 'glory': 1, 'louder': 1, 'breezily': 1, 'developments': 2, 'latest': 3, 'bunkum': 1, 'class': 3, 'instantly': 2, 'funk': 1, 'bull': 2, 'admiration': 1, 'respect': 1, 'grass': 1, 'grow': 3, 'gentleman’s': 1, 'mistaken': 5, 'warmly': 1, 'upward': 1, 'stoop': 1, 'tonelessly': 1, '“maybe': 1, '“went': 4, 'believed': 4, 'pairs': 3, 'here—shoes': 1, 'alike': 2, 'compare': 2, 'tampers': 1, 'assented': 4, 'colonel’s': 4, 'branched': 1, '“would': 3, '“or': 2, 'prefer': 5, 'alternative': 3, 'recovered': 3, 'deferential': 1, 'panic': 2, 'unlocking': 1, 'removal': 1, '“except': 2, 'found—where': 1, 'obliging': 1, '“colonel': 1, 'indicate': 2, 'electric': 2, 'discovered': 21, 'pattern': 2, 'traveled': 3, 'quick': 6, 'searching': 1, 'trained': 2, 'observation': 2, 'grate': 4, '“i—i': 2, 'blunt——”': 2, 'method': 9, 'error': 2, 'asking': 16, 'patient’s': 2, 'appearance—nothing': 1, 'observe': 4, 'permit——”': 1, 'swiftly': 2, 'transferred': 1, 'burned': 2, 'triumphant': 2, 'exclamation': 1, 'butler’s': 2, 'rest': 4, 'approval': 3, '“anything': 3, 'indicated': 5, 'grandfather': 3, 'append': 1, 'seat': 7, 'est': 1, 'qui': 1, 'voilà': 1, 'curieux': 1, '“curious': 1, '“raymond': 2, 'unimportant': 2, 'softly': 5, '“about': 4, 'otherwise': 2, 'resemble': 1, '“every': 6, '“have': 7, '“but——”': 2, 'press': 6, 'smiled': 10, 'methods': 4, 'cover': 1, 'at—ten': 1, 'unbearably': 1, 'temperature': 1, 'shown': 5, 'arrange': 3, '“everything': 2, 'methodically': 1, 'individual': 5, 'approach': 3, 'entrance': 2, 'afforded': 1, 'ah': 4, 'returns': 3, 'animated': 1, 'traced': 2, '15': 1, '10': 4, '23': 2, 'liverpool': 18, 'leaves': 9, 'result': 6, 'sanguine': 1, 'happens': 3, 'expresses': 1, 'junction': 1, 'shunted': 1, 'trains': 2, 'sorted': 2, 'boxes': 1, 'connection': 2, 'express': 6, 'north': 2, '19': 1, 'chances': 2, 'bustle': 1, 'ornament': 1, 'bookcases': 1, 'straightened': 1, 'indescribable': 1, 'angle': 1, 'house—to': 1, '“five': 1, '—it': 1, 'before—that': 1, 'surroundings': 1, 'during': 9, '“young': 1, 'les': 2, 'ou': 1, 'deux': 1, 'tous': 1, 'search': 3, 'debonair': 3, 'delighted': 3, 'watch': 4, 'work——hallo': 1, 'privilege': 1, '“want': 1, 'test': 5, 'humoredly': 1, 'out—so—last': 1, '“m': 12, 'second’s': 1, 'secretary’s': 1, 'destroyed': 2, 'consequence': 5, 'reflected': 4, 'brows': 2, 'knitting': 2, 'wednesday': 4, 'curtis': 1, 'troute': 1, 'impatient': 2, 'enabled': 1, 'dictaphone': 24, 'purchasing': 1, 'limited': 6, 'representative': 3, 'purchase': 3, 'dressed': 2, 'haired': 1, 'serge': 1, 'presentable': 1, '“somewhere': 1, 'belgian': 4, 'hammond': 20, 'service': 3, 'inquiringly': 5, 'solicitor': 1, 'air': 13, 'considered': 7, 'here—how': 1, 'duties': 4, 'punctiliously': 1, 'fulfills': 1, 'sport': 1, 'amuse': 1, 'secretaries': 1, '“private': 1, 'tennis': 1, 'golf': 1, 'plays': 2, 'horses': 2, 'courses—i': 1, 'racing': 1, '“race': 1, 'lose': 3, 'tongue': 4, 'ears': 5, 'things”—he': 1, 'spoke—“are': 1, 'dumb': 1, 'bookcase': 1, 'sometimes—chairs': 1, 'tables—they': 1, 'eyebrow': 1, 'quizzically': 1, '‘why': 1, 'puffed': 1, 'blinking': 1, 'ridiculously': 1, 'lucky': 5, 'frowned': 2, 'brusquely': 2, 'kindness': 2, 'trespass': 1, 'waylaid': 1, 'muttered': 1, 'excused': 1, 'raising': 3, 'fall': 3, 'letting': 3, 'corner': 6, 'grim': 1, '“though': 1, 'soothingly': 3, '“next': 1, 'murders': 1, 'gaze': 4, 'marvelous': 2, 'promptness': 1, '“certainly': 10, 'with—method': 1, 'say—method': 1, 'watchword': 1, 'cells': 9, 'brain': 2, 'degree': 3, 'lesser': 1, 'differences': 1, 'psychology': 2, 'bitten': 1, 'man——”': 1, 'psychoanalysis': 1, 'bow': 4, 'aback': 8, 'grinning': 1, 'broadly': 2, 'difference': 3, 'names': 3, '45': 3, '9': 8, 'p': 2, 'script': 1, 'follows': 2, 'written': 9, '—in': 4, 'confirms': 1, '—billiard': 1, '55': 2, '—9': 1, 'match': 3, '—went': 2, 'elsie': 8, 'dale': 7, '47': 1, '—as': 1, 'bourne': 28, 'ursula': 53, 'servants’': 3, 'cooper': 2, 'jones': 2, 'gladys': 1, '—upstairs': 1, '—servants’': 1, 'mary': 1, 'thripp': 1, 'eighteen': 1, 'fishy': 5, 'interpolation': 1, 'disposes': 1, 'effectually': 1, 'black—was': 1, 'pulling': 2, 'lodge—mary': 1, 'immovable': 1, 'fits': 2, 'flaw': 1, 'thereabouts': 1, 'hears': 3, 'refusing': 1, 'way—through': 1, 'baffled': 1, 'steals': 1, 'slips': 2, 'and—well': 1, 'climbs': 1, 'jumped': 2, 'leaning': 3, 'shone': 1, 'cleverest': 1, 'sometimes': 7, 'force': 6, 'mistakes': 1, 'footprints': 5, 'prints': 9, 'older—see': 1, 'wear': 2, 'stress': 4, 'thoughtfully': 15, 'graveled': 4, 'unluckily': 1, 'welled': 1, 'spring': 2, 'termination': 1, 'spot': 5, 'boggy': 1, 'yards': 1, 'wet': 2, 'crossing': 1, 'footsteps': 3, 'women’s': 1, 'laughed': 10, 'way—and': 1, 'regular': 2, 'farther': 2, 'house—a': 1, 'fixed': 4, 'walk': 12, 'lingered': 2, 'replace': 2, 'hastings': 6, 'quit': 1, 'interests': 4, 'seats': 2, 'rustic': 2, 'croquet': 1, 'deck': 1, 'folded': 2, 'knees': 1, 'crawling': 1, 'much——”': 1, 'stiffening': 1, 'detached': 2, 'unclosing': 1, 'palm': 2, 'scrap': 12, 'stiff': 1, 'cambric': 6, 'torn': 1, 'shrugging': 1, 'quill—a': 1, 'dart': 1, 'triumphantly': 7, 'laundry': 1, 'this—': 1, 'starch': 1, 'propriété': 1, 'inherits': 3, 'appreciatively': 1, 'une': 1, 'belle': 1, 'inheritance': 1, 'before—eh': 1, 'truthfully': 3, 'inutile': 1, 'quoted': 2, '“more': 1, 'knack': 2, 'dutch': 1, 'yew': 1, 'enclosed': 2, 'bordered': 1, 'hedges': 1, 'paved': 2, 'beds': 1, 'flower': 1, 'recess': 2, 'pursuing': 2, 'slope': 1, 'wooded': 1, 'trees': 2, 'cleared': 6, 'splendid': 1, 'countryside': 1, 'straying': 1, '“england': 1, 'girls': 8, 'prospect': 1, '“hush': 1, 'snatch': 1, 'step': 5, 'humming': 1, 'dancing': 1, 'dress': 1, 'sudden': 6, 'joy': 1, 'pirouette': 1, 'attitude': 2, 'toes': 1, 'swung': 1, 'draperies': 1, 'outright': 2, 'me—i': 2, 'malice': 2, 'cheery': 1, 'reddened': 1, 'tan': 2, 'different—it': 1, 'humility': 1, 'undercurrent': 1, 'laughter': 3, 'methuselah': 1, 'johnny': 1, 'sold': 5, 'opera': 2, '“faust': 1, 'rum': 1, 'beggar': 1, 'creaking': 1, 'trunk': 1, 'tree': 1, 'distance': 2, 'africa': 2, 'expedition—shooting': 1, 'know—shoot': 1, '“expect': 1, 'skins': 1, '“care': 1, 'decent': 2, 'forget': 7, 'communicativeness': 1, '“time': 1, '“not—not': 1, 'go——”': 1, 'all——”': 2, '“if—if': 1, 'moment’s': 2, '“it—it’s': 1, 'spite—in': 1, 'natural': 2, 'grieve': 1, 'consoling': 2, 'awfully': 1, 'hunter': 2, '“things': 2, 'coast': 1, 'construction': 1, 'chap': 7, 'knows—utterly': 1, 'ass': 1, 'burglar': 1, '“i—oh': 1, '“i’m—i’ll': 1, 'heartless': 1, 'lawyer': 12, 'been—mr': 1, 'it—twenty': 1, 'pounds': 28, '“does': 4, 'freedom—life—no': 1, 'scheming': 2, '“mean': 1, 'lying——”': 1, 'scraping': 1, '“lying': 1, 'interrupting': 3, 'uncertainly': 5, '“pretending': 1, 'castoff': 1, 'nasty': 4, 'thankful': 3, 'skirts': 1, 'coats': 1, 'year’s': 1, 'hats': 1, 'let’s': 1, 'to——”': 1, 'thrust': 1, 'poking': 1, 'was—looks': 1, 'bright': 1, 'mud': 4, 'brooch': 1, 'stirred': 2, 'mélisande': 2, '“like': 2, 'crown': 1, 'water': 6, '“mélisande': 1, 'reflectively—“she’s': 1, 'operas': 1, 'sadly': 1, '“funny': 1, 'racket': 1, 'tom': 1, 'pleasure—worse': 1, 'natives': 1, 'toms': 1, '“married': 2, 'father': 4, 'flint': 1, 'dreadfully': 2, 'lift': 1, 'briskly': 1, 'clearing': 2, 'compliment': 1, 'extravagantly': 1, 'listener': 1, 'apologize': 2, 'blushes': 1, 'join': 2, 'expect': 3, 'politely': 5, 'encountered': 1, 'nor': 8, 'terrace——”': 1, '“pardon': 1, 'smoking': 3, 'study——”': 1, 'weed': 1, 'microscopic': 3, 'removed': 7, 'intense': 3, 'flush': 4, 'mildest': 1, '“thought': 1, 'saw—a': 1, 'disappearing': 2, 'gleam': 2, 'bushes': 2, '“speaking': 1, '“yes—that’s': 1, 'address': 4, 'think——': 1, 'laboriously': 1, '“took': 1, 'anybody': 2, '“afraid': 1, 'move': 2, '“chair': 1, 'no—why': 1, 'shrugged': 8, 'examining': 1, 'chin': 2, 'resentfully': 1, '“inspector': 2, 'thinks': 5, 'sneaked': 1, 'and—and': 1, 'shield': 1, 'to—to': 1, 'aren’t': 4, 'tactfully': 2, 'glitters': 1, 'elbow': 3, 'baring': 1, 'knelt': 1, 'bottom': 2, 'precautions': 2, 'swirled': 1, 'eddied': 1, 'gazed': 2, 'protestations': 1, 'fervent': 1, '“nearly': 1, 'is—very': 1, 'invitation': 3, 'ceremony': 2, 'couple': 2, 'sleeve': 4, 'drops': 1, 'habits': 2, 'finicking': 1, 'cat': 3, 'reproachfully': 2, '“hercule': 2, 'costume': 1, 'risk': 2, 'disarranging': 1, 'attaining': 1, 'necessary': 15, 'everything—everything': 1, 'showing': 1, 'contained': 2, 'circlet': 1, 'woman’s': 1, 'commanded': 1, 'inscription': 1, 'r': 3, '13th': 2, 'march': 3, 'inspecting': 2, 'communicative': 1, 'intend': 1, 'dried': 1, 'aggressive': 1, '“lawyer”': 1, 'sheppard—also': 1, 'perplexity': 1, '“please': 1, 'handling': 1, 'confidential': 1, 'undertone': 2, 'embrasure': 1, 'them—then': 1, 'intruding': 1, 'heartily': 2, 'behalf': 1, 'acting': 3, 'cautiously': 3, 'justice': 2, '“however': 1, 'circumstantial': 1, 'interpolated': 2, 'condition': 1, 'chronic': 1, 'dryly': 16, 'applying': 1, '“had': 3, 'acquainted': 1, 'provisions': 3, 'principal': 1, 'phraseology': 1, 'shorn': 1, 'paying': 5, 'legal': 3, 'bequests——”': 1, 'legacies': 1, 'as——': 3, '“such': 3, 'emma': 1, 'hundred': 11, 'hospitals——”': 1, 'charitable': 2, 'bequests': 1, 'pounds’': 1, 'shares': 2, 'income': 2, 'lifetime': 1, 'residue—including': 1, 'adopted': 4, 'son—to': 1, 'possessed': 2, 'fortune': 3, 'wealthy': 3, 'exceedingly': 4, 'plaintively': 1, 'loud': 2, '“magnificent': 1, '“regard': 1, 'irises': 1, 'pleasing': 1, 'fogey’s': 1, 'lead': 7, 'colleagues': 1, 'mamma': 1, 'know—but': 1, 'apprehensively': 1, '“speak': 2, 'seeming': 1, 'replies': 1, 'c’est': 4, 'compris': 1, 'prophesied': 1, 'stayed': 4, 'strolling': 2, 'now—three': 1, 'me—full': 1, 'later—ackroyd’s': 1, 'dead—you': 1, 'fascinating': 1, 'tuesday': 2, 'deep—one': 1, 'woman—but': 1, 'steady': 3, '“last': 1, 'here—she': 1, '“rum': 2, '“how—changed': 1, 'older': 5, '“were': 2, 'casual': 3, 'uncharitable': 1, 'riddance': 1, '“ashley': 1, '“blackguard': 1, 'money—or': 1, 'troubles': 3, 'lack': 3, '“which': 5, 'legacy': 6, 'persuaded': 4, 'similar': 2, 'sympathized': 1, 'bien': 14, '“he’s': 3, '“nothing—disturbing': 1, 'aboveboard': 1, '“without': 4, 'fractious': 1, 'incredible': 1, 'trooped': 1, 'producing': 1, 'hurt': 4, '“hurt': 1, '—not': 1, 'safeguard': 1, 'trusted': 2, 'feelings': 1, 'touching': 2, 'lashes': 1, 'peculiar—not': 1, '—about': 1, 'allowance': 1, 'bills': 4, 'pay': 10, 'fal': 1, 'reluctance': 2, 'lals': 1, 'for—so': 1, 'man—but—now': 1, 'resented': 3, 'penny': 3, 'it—yes': 1, 'strongly': 1, 'it—very': 1, 'towels': 1, 'holes': 1, 'highly': 2, 'leap': 1, 'characteristic': 2, 'pounds—fancy': 1, 'money—a': 2, '—to': 1, 'admired': 1, 'respected': 3, 'rectitude': 1, 'independence': 1, 'hated': 1, 'stemming': 1, 'provided': 5, 'jaw': 2, 'consternation': 1, '“inevitable': 1, 'barks': 1, 'arrange——”': 1, 'arrangement': 3, 'powers': 3, 'limits': 1, 'accident——”': 1, 'brutally': 1, 'distress': 3, 'patience': 1, 'silly': 2, 'unpleasantness': 4, 'brunt': 1, 'identification': 2, 'dread': 1, '“ready': 1, 'cash': 2, 'require': 2, 'cheque': 1, 'cashed': 1, 'expenses': 3, 'wages': 1, 'due': 2, 'intact': 2, 'box': 5, 'accurate': 2, 'elicited': 1, 'supplementary': 1, 'party': 7, 'sunlight': 1, 'rosewood': 1, 'flushed': 3, 'honesty': 1, 'faith': 2, 'hotly': 1, 'wallet': 1, 'notes': 6, '“here': 2, 'roll': 2, 'counted': 2, 'sixty': 2, '“impossible': 1, 'springing': 1, 'other’s': 2, 'total': 1, 'amounted': 1, 'bewildered': 3, '“but—i': 1, '‘i': 3, 'bulgy': 1, '“either': 2, 'forty': 8, 'sometime': 1, 'nutshell': 1, 'bearing': 5, 'missed': 2, 'attends': 1, 'froid': 1, 'respectable': 2, 'references': 3, 'ladylike': 1, 'worker': 1, 'pursed': 3, 'fault': 1, 'yourselves': 1, 'brown': 8, 'rolled': 2, 'neck': 3, 'tidying': 1, 'elsie’s': 1, 'sum': 7, 'wave': 2, 'roused': 2, 'accusing': 2, 'flare': 1, 'disdainfully': 1, 'you—or': 1, '“twenty': 2, 'objects': 1, 'rearranging': 2, 'precise': 2, '“that’ll': 1, 'selected': 3, 'clipped': 1, 'fastener': 1, 'marby': 4, 'grange': 2, 'richard': 1, 'folliott': 6, '“reads': 1, '“let’s': 1, 'readily': 1, 'loss': 3, 'concern': 1, 'alibi': 12, 'devoting': 1, 'bade': 1, 'breaking': 2, 'but——”': 1, 'flown': 1, 'rage': 1, 'said——”': 2, '“leave': 1, 'whereas': 2, 'fourth': 2, 'girl—yes': 1, 'minute’s': 1, '“see': 5, 'compiled': 1, 'pointing': 2, 'pencil': 1, 'confirmation': 2, 'think——”': 4, 'confess': 7, 'hard—so': 1, 'uncomfortable': 4, 'relaxed': 1, '“since': 3, 'blackmailer': 5, 'then——”': 2, 'coughed': 2, 'spun': 1, 'strictly': 6, '—she': 1, 'specify': 1, 'muttering': 1, 'possible—but': 1, 'all—yes': 1, 'then—ah': 1, 'rearrange': 2, 'needed': 3, 'in—in': 1, 'place—otherwise': 1, 'appointed': 1, 'whirled': 1, '—fourteen': 1, 'morrow': 7, 'sunday': 3, 'job': 6, 'but—i': 1, 'assumption': 1, 'guilty': 8, 'stupid—has': 1, 'inspector—for': 1, 'truth—and': 1, 'seek': 6, 'unturned': 1, 'nervous': 4, 'entrusted': 1, 'background': 3, 'intelligible': 1, 'meaningless': 2, 'meditations': 2, 'smart': 1, 'mistress': 2, 'bare': 1, 'bits': 1, 'etchings': 1, 'lady’s': 3, 'shabby': 1, 'covers': 2, 'inspection': 1, 'bartolozzi': 1, 'untidy': 2, 'winning': 3, 'employed': 1, 'utterance': 1, 'vanished': 3, 'cordiality': 1, 'froze': 1, 'ease': 2, '“ursula': 3, 'two—i': 1, 'satisfactory': 2, 'are—that': 1, 'folliott’s': 2, 'frozen': 1, 'underlying': 2, 'nervousness': 2, 'spark': 1, 'familiar': 4, 'apology': 1, 'tinge': 2, 'assure': 6, 'it—it': 1, 'practitioner': 1, 'lying': 8, 'questions—minded': 1, 'intensely': 1, 'thoroughly': 3, 'judged': 2, 'deception': 1, 'consequently': 1, 'unused': 1, 'practice': 4, 'rendered': 2, 'acutely': 1, 'centering': 1, 'around': 1, 'defeated': 1, 'disturbing': 1, 'beside': 4, 'exultation': 1, 'suppressed': 2, 'blaze': 1, 'newsmongers': 1, 'complacency': 1, '“guess': 1, 'members': 1, 'permitted': 4, 'sister—your': 1, 'mixed': 3, 'prince': 2, 'dancer': 2, 'paul': 2, 'mauretania—the': 1, 'snippets': 1, 'intriguing': 2, 'russian': 3, 'duchess—one': 1, 'grand': 3, 'hinting': 2, 'bolsheviks': 1, 'daughters': 1, 'managed': 3, 'czar’s': 1, 'solved': 2, 'baffling': 1, 'involve': 1, 'threatened': 1, 'gratitude': 1, 'plover’s': 1, 'size': 1, 'pin': 1, 'emerald': 1, 'rooms': 2, 'fiction': 3, 'super': 2, 'littered': 1, 'royal': 2, 'emeralds': 1, 'clients': 1, 'rubies': 1, 'pearls': 1, 'complacently': 3, 'be—to': 1, 'ingenuity': 1, 'unerringly': 1, 'appeal': 3, 'elderly': 1, 'duchess': 1, 'liberty': 3, 'importantly': 4, 'strained': 2, 'caroline—probably': 1, 'innuendoes': 2, 'coarse': 2, 'vulgar': 3, 'expressions': 1, 'link': 1, 'world—my': 1, 'princes': 1, 'émigrés': 1, 'spectacles': 1, 'liver': 3, 'pill': 1, 'grumpy': 1, 'medicine': 1, 'prescribing': 1, '“damn': 1, 'locally': 1, 'me—and': 2, 'makings': 1, 'insight': 1, 'psychological': 1, 'overflowing': 1, 'purring': 1, 'talked': 3, 'functions': 1, 'bitterly': 2, '“modesty': 1, 'american': 9, 'horribly': 1, 'induced': 1, 'produce': 2, 'disappearance': 1, 'overheard': 4, 'halter': 1, 'unruffled': 1, 'identical': 1, 'retorted': 1, 'sapiently': 1, '“might': 2, 'she’ll': 1, 'gets': 3, 'puts': 2, 'accord': 1, 'romantic': 1, 'fairy': 1, 'novels': 5, 'trashy': 1, 'unbelievingly': 1, 'memory': 2, 'checking': 1, 'bennett': 1, 'needle': 1, 'dolly': 1, 'grice': 1, 'liner': 2, 'see—that’s': 1, 'steward': 3, 'evans': 1, 'ulcer': 1, 'lastly——”': 1, 'significantly': 3, 'climax': 1, 'hissed': 1, 'disposal': 1, 'approved': 1, 'fortunate': 3, 'style—aided': 1, 's’s': 1, 'meaningly': 2, 'untruthfully': 1, 'consult': 4, '“precisely': 2, 'darkly': 1, '“another': 2, 'don': 1, 'blouse': 1, 'locket': 1, 'mauve': 1, 'tortuous': 2, 'interpreted': 2, 'least——': 1, 'arouse': 1, 'persistent': 1, '“james': 4, 'obediently': 1, 'coal': 1, 'price': 2, 'peace': 1, 'monday': 4, 'joint': 2, 'detail': 2, 'proceedings': 1, 'allowed': 5, 'absence': 3, 'unduly': 1, 'stressed': 1, 'coroner': 1, 'one—but': 1, 'whichever': 1, 'wired': 1, 'port': 1, 'england': 2, 'alert': 1, 'everywhere': 1, 'frequenting': 1, 'cordon': 1, 'evade': 1, 'left—there': 1, '“unless': 1, 'throw': 4, 'irrelevant': 3, 'demurred': 1, 'harps': 1, 'clews': 1, 'foreign': 4, 'comment': 2, 'l’inspecteur': 3, 'blind—the': 1, 'blind—': 1, '“beware': 1, 'street': 4, '—the': 2, 'dire': 2, 'blind': 6, 'alley': 1, 'it—the': 1, 'nowhere': 2, 'fingerprints—they': 1, 'faked': 1, 'fake': 1, 'true—they’re': 1, 'arms': 2, 'flinging': 1, 'enlarged': 2, 'photographs': 1, 'loops': 2, 'whorls': 1, 'entendu': 4, 'referred': 2, 'spend': 1, 'cosmetics': 1, 'considerable': 6, 'fussily': 1, '“including': 1, 'alternatives': 1, 'correspond': 2, 'two——”': 1, 'overlooking': 2, 'religious': 1, 'mean——”': 2, 'suggesting': 2, 'verify': 2, 'gloves': 2, 'victim’s': 1, 'confusing': 1, 'whorls—see': 1, 'frankly': 4, 'occur': 2, 'ignorance': 2, 'awkward': 3, 'strike': 4, 'backwards': 1, 'unconcern': 2, 'flecked': 1, 'dust': 2, 'speck': 1, 'disappointed': 1, 'endeavored': 1, 'patronizing': 1, 'twinkling': 1, 'amour': 1, 'devices': 1, 'propre': 1, '“little': 1, 'fernly—poirot': 1, 'board': 3, 'chairman': 1, 'meeting': 5, 'assembled': 2, '“messieurs': 2, 'mesdames': 4, 'plea': 1, 'whereabouts': 1, 'minute”—as': 1, 'speak—“say': 1, 'grows': 3, 'damning': 2, 'silence—this': 1, 'explaining': 1, 'flight—what': 1, 'guilt': 3, 'innocence': 2, '“too': 1, 'leant': 1, 'papa': 3, 'asks': 2, 'entrap': 1, 'you—swear': 1, 'solemnly—that': 1, 'of—of': 1, 'rap': 1, 'hardened': 1, 'intimates': 1, 'plaintive': 1, 'peculiar—most': 1, 'formally': 3, '“mother': 2, '“providence': 1, 'devout': 1, 'providence—a': 1, 'shapes': 1, 'divinity': 1, 'shakespeare’s': 1, 'ends': 1, 'runs': 2, 'line': 5, 'almighty': 1, 'responsible': 4, 'ankles': 1, 'ringing': 1, 'irresponsible': 1, 'loosen': 1, 'tension': 1, 'reproach': 1, 'loath': 2, 'heart—i': 1, 'trusting': 1, 'raids': 1, 'results': 2, 'actions': 5, 'control': 2, 'tearfully': 2, 'estate': 1, 'upsetting': 1, 'violently': 1, 'shell': 1, 'obstinately': 1, 'intentions': 1, 'money—with': 1, 'aghast': 1, 'announcement': 4, 'searchingly': 1, 'abruptly': 3, 'shrill': 2, 'protests': 2, 'motives': 3, 'appreciate': 2, 'precipitate': 1, 'disloyal': 1, 'appealed': 1, '“can’t': 2, 'congratulate': 2, 'loyalty': 1, 'misunderstand': 1, 'courage': 4, 'postpone': 1, 'solemnly—to': 1, 'you—ask': 1, 'frown': 1, 'pas': 3, 'de': 1, 'blagues': 1, 'hands—you': 1, 'hamper': 1, 'et': 3, 'continue': 1, 'messieurs': 2, 'ugly': 1, 'seeker': 1, 'aged': 2, 'contradiction': 1, 'probability': 2, 'know—in': 1, 'hurling': 1, 'provocatively': 1, 'flinched': 1, 'excepting': 1, 'humored': 1, 'imperturbable': 2, 'mean—in': 1, 'concealing': 8, '“but—just': 1, 'protest': 3, 'unimportant—trivial—which': 1, 'challenging': 1, 'truth—the': 1, 'dommage': 1, 'greeted': 5, 'irish': 2, 'hospitably': 1, 'siphon': 2, 'brewing': 1, 'chocolate': 2, 'beverage': 1, 'swelled': 3, 'twinkled': 2, 'obscurely': 1, 'employ': 2, 'untrue': 1, '“true': 1, 'doings': 1, 'grumpily': 1, 'hazarded': 2, 'evasively': 1, '“eh': 1, 'say—fishy': 1, 'generalized': 1, 'femmes': 1, 'invent': 3, 'haphazard—and': 1, 'miracle': 1, 'adds': 1, 'subconscious': 2, 'together—and': 1, 'intuition': 1, 'skilled': 1, 'sip': 1, 'cup': 4, 'indulgently': 1, 'engine': 1, 'works': 33, 'sees': 1, 'one—to': 1, 'cares': 1, 'liable': 2, 'evening—always': 1, 'speaks': 3, 'first—dr': 1, 'necessary—i': 1, '“because': 3, 'truth—or': 1, 'man—and': 1, 'romance': 3, 'stranger—just': 1, 'so—but': 1, 'hallucination': 1, 'maid': 3, 'him—that': 1, 'secrecy': 2, 'accent': 4, 'précisément': 4, 'takers': 2, 'heroin': 1, 'sniff': 2, '‘snow': 1, 'hydrochloride': 1, '“diamorphine': 1, 'attracted': 3, 'realized': 9, 'rendezvous': 2, 'convenient': 1, 'searched': 3, 'starched': 3, 'parlormaid’s': 1, 'dismiss': 1, 'servant': 4, 'confirm': 1, 'bewilder': 1, 'clearer': 1, 'theories': 3, 'scribbled': 1, 'excellent—you': 1, 'logically——”': 1, 'alas': 1, '—mr': 2, '—at': 1, 'evidenced': 1, '3': 13, '4': 6, 'scrape': 1, 'league': 2, 'blackmailed': 6, 'accomplice': 2, '“decidedly': 2, 'unaccounted': 1, 'chair——”': 1, 'shoved': 1, 'unconsciously': 1, '“given': 1, 'reconsidered': 1, 'refusal': 1, 'unexplained': 1, 'phut': 1, 'interview—well': 1, 'him—after': 1, 'stormy': 3, 'that—act': 1, 'guiltily': 1, '“motive': 1, 'mais': 2, 'separate': 2, 'oui': 3, 'stole': 2, 'elsewhere': 2, 'say—scrape': 1, 'feared': 2, 'some—how': 1, '—which': 1, '“dear': 1, 'disagree': 1, 'motives—it': 1, 'inclined': 4, 'chronicled': 1, 'divided': 2, 'phase': 1, 'ranges': 1, 'distinct': 2, 'presented': 2, 'failed': 5, 'discoveries—as': 1, 'task': 4, 'vital': 4, 'ring—he': 1, 'formed': 1, 'beyond': 3, 'sherlock': 1, 'watson': 1, 'beforehand': 4, 'piecemeal': 1, 'elucidation': 1, 'jig': 1, 'discovery': 5, 'contributed': 2, 'ended': 1, 'belongs': 2, 'renown': 1, 'incidents': 1, 'unmeaning': 1, 'boots': 18, 'chronological': 1, 'urgent': 2, 'extremis': 1, 'hastened': 4, 'expecting': 3, 'concede': 1, 'etiquette': 1, 'bony': 1, 'bedside': 1, 'spurious': 1, 'geniality': 1, 'practitioners': 1, 'general': 7, 'prostrated': 2, 'reaction': 1, 'precluded': 1, '“bunkum': 1, 'tonic': 1, 'concluded': 2, 'occasioned': 2, 'incapable': 1, 'approaches': 1, 'scene—yesterday': 1, 'cue': 1, 'scene': 8, '“doctor': 1, 'frenchman—or': 1, 'bullying': 1, 'belgian—or': 1, 'meant—shouting': 1, 'power': 2, 'assistance': 3, 'glimmering': 1, 'upstart': 1, 'comic': 1, 'creature': 2, 'revue': 1, 'too—just': 1, 'insisted': 2, 'independent': 3, 'advice': 3, 'he—he—positively': 1, 'apply': 2, 'tangent': 1, '“servants': 1, 'round—and': 1, 'shrewd': 3, 'balance': 1, 'weren’t': 6, 'naturally—she’s': 1, 'spiteful': 2, 'repeat': 1, 'sometimes—nothing': 1, 'premises': 2, 'outpourings': 1, 'justified': 1, 'scream': 3, 'though—as': 1, 'though——and': 1, 'tearful': 1, 'frilled': 2, 'poirot—explain': 1, 'know—because': 1, 'contend': 1, 'know—nobody': 1, 'know—what': 1, 'martyrdom—a': 1, 'martyrdom': 2, 'smallest': 1, 'dead—but': 1, 'bill': 1, 'over—just': 1, 'miserly': 1, 'hundreds': 2, 'wealthiest': 1, 'dab': 1, '“those': 2, 'mounted': 2, 'in——”': 1, 'appealingly': 1, 'condole': 1, 'striking': 1, 'peculiarity': 1, 'altered—became': 1, 'abusive': 2, 'becoming': 2, 'fluttering': 1, 'scotch': 2, 'gentleman—as': 1, 'letters—both': 1, 'bruce': 1, 'colin': 1, 'macpherson': 1, 'coincidence': 4, 'macdonald': 1, 'ancestry': 1, 'semitic': 1, '“ten': 1, 'reminiscently': 1, 'gathered': 1, 'delicate': 3, 'testamentary': 1, 'provide': 8, 'will—not': 1, 'arrangements': 1, 'prying—but': 1, 'ugliness': 1, 'ingeniously': 1, 'naked': 1, 'represent': 1, 'misjudge': 1, 'afternoon——”': 1, 'swallowed': 1, 'study—i': 1, 'there—i': 1, 'heaped': 1, 'underhand': 1, 'flash': 3, 'impulsive': 1, 'spur': 3, 'keys—very': 1, 'him—in': 1, 'careless': 2, 'helpfully': 1, 'diplomatic': 1, 'revealing': 1, 'subterfuges': 1, 'adopt': 2, 'secretive': 1, 'defence': 1, 'subterfuge': 1, 'surface': 2, 'specks': 1, 'looked—quite': 1, 'contemptuous': 1, 'aprons': 1, 'ma’am': 1, 'caps': 1, '‘not': 1, 'home’': 1, 'scruples': 1, 'noises': 1, 'gurgling': 1, 'table——let': 1, 'parlormaids': 1, 'qualities': 1, 'she’s—odd': 1, 'educated': 1, '‘what’s': 1, '‘nothing': 1, 'punch': 1, 'genius': 1, 'prompted': 2, 'sheer': 1, 'rouge': 1, 'powder': 1, 'silver—very': 1, '“yes—i—you': 1, 'see—there': 1, 'fetched': 1, 'christy’s': 1, 'went—and—and': 1, 'valued': 1, 'accepting': 3, 'refrained': 3, 'comments': 1, 'merits': 1, 'abstract': 1, 'surreptitious': 1, 'revealed': 3, 'honorable': 1, 'designs': 1, 'cared': 3, 'handkerchiefs': 1, 'recalled': 1, 'anxiously': 1, 'listen': 6, 'justifications': 1, 'conduct': 2, 'heretofore': 1, 'crying': 2, '“indeed—indeed': 1, 'appealing': 1, '“between': 1, 'eager': 1, 'affirmative': 1, 'droop': 1, 'helping': 1, 'instincts': 1, 'encouraged': 2, 'solemnity': 1, 'tremendous': 4, 'unbelievably': 1, 'altogether': 1, 'grasp': 1, 'hangs': 1, 'hotel': 3, 'dense': 1, 'annie’s': 1, 'clara': 2, 'dearest': 1, 'ganett’s': 3, 'simplicity': 1, 'loyally': 1, 'coöperated': 1, 'speed': 1, 'scored': 1, 'puzzling': 2, 'success': 3, 'challenge': 1, 'tactics': 1, 'subtle': 2, 'wrung': 1, 'mixture': 1, 'react': 1, 'hovering': 1, '“he’d': 1, '“came': 1, 'briefly': 2, 'topic': 1, 'exhausted': 1, '“aren’t': 2, '“across': 1, 'besetting': 1, 'sin': 1, 'exist': 1, '“curiosity': 1, 'comfortably': 3, '“stuff': 1, '“really': 5, 'pot': 4, 'jam': 2, 'medlar': 3, 'jelly': 3, 'tasted': 2, 'mending': 1, 'beastly': 1, 'honors': 1, 'enigma': 1, 'automatically': 1, '“sit': 1, 'stifling': 1, 'mania': 1, 'banalities': 1, 'discuss': 1, '“first—this—from': 1, '“two': 3, '“information—of': 1, 'clears': 1, 'confirming': 1, 'patently': 1, 'presence—which': 1, 'tampering': 1, 'agitation': 2, 'arise': 3, '“whom': 1, '“by': 4, 'discomposure': 1, 'flicker': 1, 'crestfallen': 1, 'explanations': 1, 'morning—is': 1, 'interview—apart': 1, 'indiscreet': 2, 'detecting': 1, 'budget': 1, 'september': 1, '16th': 1, 'dealing': 1, 'dated': 1, 'smuggling': 1, 'lurid': 1, 'picturesque': 1, 'catechized': 1, 'meaning': 7, 'awkwardly': 1, 'seating': 1, 'en': 1, 'verité': 1, 'pricking': 1, 'conscience': 4, 'plead': 1, 'debt—badly': 1, 'consequence—just': 1, 'nick': 2, 'engaging': 1, 'likable': 1, 'policeman—don’t': 1, 'money—think': 1, 'watertight': 1, 'onwards': 2, 'thundered': 1, 'prick': 2, 'hidden': 3, 'bagatelle—but': 1, 'room—who': 1, 'crimes': 1, 'sufficient': 1, 'relativity': 1, 'benefit': 1, 'uttering': 1, 'nonchalantly': 1, 'thing—their': 1, 'englishmen': 1, 'concealments': 3, '“sometimes': 1, 'assumed': 2, 'mightn’t': 1, 'energetically': 2, 'abstracted': 1, 'parker—not': 1, 'murderer—no': 1, 'terrorized': 1, 'rate': 4, 'guest': 2, 'before—no': 1, 'widens': 1, 'field': 1, 'experiment': 8, 'try': 5, 'confide': 1, 'reconstruct': 1, 'him—ah': 1, 'suave': 1, 'enact': 1, 'repaired': 1, 'chink': 2, 'decanter': 1, 'glasses': 6, 'seemingly': 1, 'custom': 1, '“reconstruction': 1, 'was—where': 1, 'hall—so': 1, 'allez': 1, '“play': 1, 'recollection': 1, 'theatrical': 1, '“admirable': 1, 'rubbing': 2, 'dignified': 1, '“has': 1, 'know——”': 1, 'admiringly': 1, 'wrinkled': 1, 'is—is': 1, 'patted': 4, '“put': 1, 'retracing': 1, 'entertainment': 1, 'guests': 2, 'popular': 1, 'waterproofs': 1, 'partake': 1, 'goloshes': 1, 'cake': 1, 'sandwiches': 1, 'carter': 9, 'evenings': 3, 'bridge—chatty': 1, 'bridge': 1, 'progress': 1, 'irritated': 1, 'partner': 1, 'criticisms': 1, 'acrimonious': 1, 'assisting': 1, 'disentangle': 1, 'wraps': 1, '“reminds': 1, 'passes': 3, 'afghan': 1, 'it—that’s': 1, 'deuce': 1, 'tabulated': 1, '“depend': 1, 'poured': 1, 'tiles': 5, '“washing': 1, 'facetiously': 1, 'club': 6, 'shanghai': 5, 'right—washing': 1, 'juggled': 1, 'east': 4, 'india': 3, 'tins': 1, 'war': 1, 'bully': 1, 'plum': 1, 'beef': 1, 'apple': 1, 'determinedly': 1, 'permit': 2, 'idiosyncrasies': 1, '“shall': 1, 'competition': 1, 'owing': 2, 'quickest': 1, 'tile': 1, 'discarded': 3, '“three': 1, 'frequently': 2, 'circles': 2, 'bamboos': 2, '“pung': 3, '“unpung': 1, 'claiming': 1, '“pung—no—unpung': 1, '“four': 1, 'villages': 1, 'significance': 1, 'interestedly': 2, '“chow': 4, 'temporarily': 1, '‘chow': 1, '‘chee’': 1, 'chow': 3, 'crushed': 1, 'discard': 2, 'bluff': 1, 'intent': 2, 'male': 2, 'pose': 1, 'affects': 1, 'indifferent': 1, 'deceived': 5, 'bamboo': 1, 'now—it': 1, 'circle': 1, 'pung': 2, 'dragon': 2, 'mayn’t': 2, '‘who': 1, 'deceased': 1, 'her—very': 1, 'opinion—and': 1, 'stabbing': 1, 'underworld': 1, 'angels': 1, 'criminals': 1, 'faces': 2, 'france': 1, 'thing—a': 1, 'bazaars': 1, 'interminable': 1, 'event': 1, 'corrections': 1, 'arithmetic': 1, 'faulty': 1, '“east': 1, 'characters': 2, '“chow—i': 1, '“their': 1, '“no—unpung': 1, '“far': 1, 'kong': 1, 'whistle': 8, 'pungs': 1, 'dragons': 2, 'greatest': 3, 'avoid': 2, 'clara—my': 1, 'know—is': 1, 'opinion—elsie’s—i': 1, 'gang': 1, 'girl—she’s': 1, 'unnatural': 1, 'out—very': 1, 'friendly': 2, 'girls’': 1, 'family—all': 1, 'impertinent': 1, 'respectful—but': 1, 'outwardly': 1, 'barefaced': 1, 'uninterested': 1, 'brisk': 2, 'pretending': 2, '“talking': 1, '“eh—what': 1, '“mah': 1, 'doubles': 1, 'conception': 1, 'cleverly': 1, 'enormous': 1, 'fail': 3, 'poorest': 1, 'variety': 2, 'severely': 1, 'saying—about': 1, 'map': 1, 'remark—i': 1, 'us—which': 1, 'gone—it': 1, 'rack': 1, 'clumsiness': 1, 'reproved': 1, 'heartedly': 1, '“cranchester': 1, 'train': 3, 'objections': 1, 'dislodges': 1, 'distracted': 2, 'exercises': 1, 'inventive': 1, 'consisting': 1, 'suits': 1, 'chows': 1, 'imperturbably': 1, 'counters': 2, 'urged': 2, '“after': 2, 'festive': 1, 'birds': 1, 'pattering': 1, 'genially': 2, 'sly': 1, 'hint': 1, 'disfavor': 1, 'counsel': 1, '“wise': 1, 'fellows': 1, 'dodges': 1, 'triumph': 3, 'say—that': 1, 'overwhelmed': 1, 'intoxicated': 2, 'winning—going': 1, 'upwards': 2, '“tin': 1, 'ho—the': 1, 'bulged': 1, '“upon': 1, 'goaded': 1, 'gibes': 1, 'reckless': 2, '‘from': 3, 'treasure': 1, '“march': 1, 'babel': 1, 'suppositions': 1, 'evolved': 1, 'propounded': 1, '“mark': 2, 'r’': 1, 'g': 1, 'surnames': 1, 'carryings': 1, 'evening—about': 1, 'anybody——”': 1, 'admires': 1, 'her—may': 1, 'artful': 1, 'meekly': 1, 'exhilaration': 1, 'ho': 1, 'tin': 1, 'wholesale': 1, 'spreading': 1, 'wildfire': 2, 'reproaches': 2, 'funeral': 1, 'melancholy': 1, 'impressive': 1, 'eleven': 1, 'indiscretion': 1, 'transpired': 1, 'occupied': 2, 'witness': 3, 'await': 1, 'glancing': 2, 'ventured': 2, 'this—that': 1, 'or——”': 1, 'you—i': 2, 'tinged': 1, 'reduced': 1, 'awaiting': 1, 'pleasantly': 2, 'pray': 1, 'articles': 1, 'deposited': 1, '“take': 2, 'bend': 1, 'seated': 2, 'morning—eh': 1, 'master—private': 1, 'beaming': 1, 'experiments': 1, '“sir': 2, 'farce': 1, 'excite': 1, 'injured': 2, 'never—never': 1, 'been——”': 1, 'i—i’ve': 1, '“insulted': 1, 'wasn’t—i——”': 1, 'rapped': 2, 'ellerby': 8, 'sir——”': 1, 'addicted': 2, 'bermuda': 1, 'partly': 1, 'trouble—a': 1, 'hushed': 1, 'flabbily': 1, 'useless': 3, 'reluctantly': 1, 'ashen': 1, 'moaned': 1, '“honest': 1, 'didn’t—i': 1, 'kill': 4, 'nerve—the': 1, 'god’s': 1, 'well——”': 1, 'smoothly': 2, '“well—well': 1, 'pickings': 1, 'leaned': 5, 'sincerity': 2, 'you—to': 1, 'bank': 2, 'presume': 1, 'slim': 1, 'perused': 1, 'entries': 1, 'national': 1, 'perceive': 2, 'purchased': 2, 'savings': 1, '£500': 1, 'certificates': 1, 'saved—the': 1, 'with—er—my': 1, 'year—very': 1, 'flutter': 1, 'rank': 1, 'won': 1, 'outsider': 1, 'jubilee': 1, 'it—£20': 1, 'not—so': 1, '“going': 1, 'credible': 2, 'that—unless': 1, 'actor': 1, 'genuinely': 1, 'believes': 1, 'indeed—he': 1, 'case—who——”': 1, 'accomplish': 1, 'else——”': 1, 'unfinished': 2, 'sentences': 1, 'sheepishly': 1, 'inadvertently': 1, 'commands': 1, 'sensation': 1, 'flying': 1, 'leapt': 1, 'hammond’s': 1, 'acted': 2, 'swift': 1, 'lawyer’s': 1, 'reserve': 2, 'relate': 1, 'straightway': 2, 'recital': 1, 'brings': 2, 'actual': 3, '“during': 1, 'securities': 1, 'reinvested': 1, 'lived': 1, 'support': 6, 'imagined': 3, 'dreamed': 3, 'claim': 2, 'totaled': 1, 'excuses': 1, 'deranged': 1, 'derange': 1, 'disorder': 1, 'mental': 3, 'applicable': 4, 'n’est': 1, '“disturbed': 1, 'zealous': 1, 'pense': 1, 'ne': 1, 'je': 1, 'banked': 1, 'scale': 1, 'or—well—major': 1, 'desperately': 1, '—that': 1, 'yet—of': 1, 'folk': 1, 'chops': 2, 'eating': 1, 'lunch—the': 1, 'appears': 3, 'onions': 1, 'tripe': 1, 'regaled': 1, 'staff': 3, 'productive': 1, 'embarrassment': 2, 'mendacity': 1, 'daunted': 1, 'magnificent': 4, 'seldom': 2, 'adhered': 1, 'vegetarian': 2, 'diet': 2, 'descanted': 1, 'delights': 1, 'ecstatically': 1, 'nut': 1, 'cutlets': 1, 'rarebit': 1, 'welsh': 1, 'foods': 1, 'dangers': 1, '“flesh”': 1, 'attacked': 1, 'enlightened': 1, 'ample': 1, 'bewilderment': 1, 'dentist': 2, 'tout': 2, 'tooth': 3, 'aches': 2, 'insists': 2, 'ache': 1, 'collapsed': 1, 'pricked': 1, 'balloon': 1, 'vicious': 1, 'here—weak': 1, 'dragging': 1, 'personalities': 1, 'are—oh': 1, 'that——”': 1, 'gallant': 1, '“eight': 1, 'mischief': 1, 'heaven': 1, 'adventuress': 1, 'gazing': 2, 'blowing': 1, 'snort': 1, '“adventuress': 1, 'adventuresses——”': 1, 'sticks': 1, 'not—how': 1, 'métier': 1, 'say—my': 1, 'caroline——”': 1, 'interrupt': 1, 'betters': 1, 'sun': 1, 'chicken': 1, 'alibis': 2, 'one—and': 1, 'rise': 2, 'curling': 1, 'gentle': 1, 'cigarette': 2, 'man—a': 1, 'weakness—deep': 1, 'be—and': 1, 'occurs': 2, 'difficulties—or': 1, 'secret—a': 1, 'stumble': 1, 'involving': 1, 'out—to': 1, 'money—he': 1, 'desires': 1, 'it—and': 1, 'it—just': 1, 'more—and': 1, 'greed': 1, 'greedy': 1, 'becomes': 1, 'likes—but': 1, 'overreaches': 1, 'wives': 2, 'graves': 1, 'husbands’': 1, 'bay': 1, 'proclaiming': 1, 'fling': 1, 'winds': 1, 'proverb': 1, 'golden': 1, 'exposure': 2, 'fiber': 1, 'was—say': 1, 'blunted': 1, 'losing': 1, 'battle': 1, 'fighting': 1, 'desperate': 1, 'ruin': 1, 'so—the': 2, 'spell': 1, 'analysis': 1, 'merciless': 1, 'ruthless': 1, 'vision': 1, 'danger': 2, '“afterwards': 2, 'arises': 2, 'unheard': 1, 'condemn': 1, 'replacing': 1, 'detained': 3, '“poirot': 2, 'visited': 2, 'jubilantly': 1, 'customer': 1, 'dope': 2, 'phone': 1, 'nothing’s': 1, 'muddle—that’s': 1, 'feasible': 1, 'saving': 1, 'bird': 1, '“precious': 1, 'wary': 1, 'abuse': 1, 'welcomed': 1, 'acclamation': 1, 'hayes': 4, 'superintendent': 7, 'moosior': 1, 'retirement': 1, 'monotony': 1, 'circulated': 1, '“description': 1, '——': 1, 'knowingly': 1, 'permission': 7, 'japp': 2, 'connected': 3, 'unofficially': 1, 'juncture': 2, 'primly': 1, 'bit': 3, 'prevent': 3, 'parley': 1, 'prisoner': 1, 'evidences': 1, 'seed': 1, 'strength': 1, 'physical': 3, 'illusion': 1, 'cherished': 1, 'remind': 3, '“stand': 1, 'visitors': 1, 'waver': 1, 'glared': 1, 'sullenly': 1, 'height’s': 1, 'hell’s': 1, '“recognize': 1, 'narrowed': 1, 'croaked': 2, 'gent': 2, '“snow': 1, 'duck': 1, 'cock': 1, 'receiving': 2, 'sanction': 1, 'mile': 6, 'saloon': 1, 'row': 2, 'kicked': 1, 'notebook': 1, '“inquiries': 1, 'complain': 1, 'civil': 2, 'warned': 1, 'cops': 1, 'concerns': 1, 'grinned': 1, 'blown': 1, 'britisher': 1, 'meditatively': 1, '“why’s': 1, '“under': 2, 'brick': 1, 'we’d': 1, 'story’s': 1, 'arrested—rather': 1, 'him—the': 1, 'fast': 1, 'birthplace': 2, 'famous': 1, 'roar': 1, '“many’s': 1, 'fanciful': 1, 'mock': 2, 'clever': 5, 'sage': 2, 'lunched': 1, 'unravelled': 1, 'thread': 1, 'overestimated': 1, 'tentative': 3, 'query': 1, 'mon': 4, 'ami': 4, 'incredulously': 4, 'pityingly': 1, 'hailed': 1, '“charles': 3, 'kent’s': 3, 'sally': 1, 'photograph': 1, 'remembers': 1, 'mentions': 1, 'him—she': 1, 'dropping': 2, 'refuses': 1, 'mule': 1, '“obstinate': 1, 'wire': 1, 'maliciously': 1, 'discomfiture': 1, 'uncomprehendingly': 1, 'forehead': 1, 'overspread': 1, '“bit': 1, 'crumpet': 1, 'nephew': 4, 'docile': 1, 'hatter': 1, 'rests': 1, 'everybody’s': 1, 'instill': 1, 'decency': 1, '“jump': 1, 'acquaint': 1, 'balmy': 2, 'useful': 4, 'bee': 1, 'bonnet': 1, 'knows—there': 1, 'courtesy': 1, 'o': 1, 'k': 1, '“seems': 1, 'murdering': 2, 'false': 2, 'pretences': 1, 'prove': 2, 'ruddy': 1, 'obtaining': 3, 'tossed': 2, 'disgruntled': 1, 'designed': 1, 'receptacle': 4, 'retrieved': 1, 'purely': 2, 'mechanical': 4, 'not—but': 1, 'you——”': 1, 'protestingly': 1, 'deaf—nor': 1, 'wrong—the': 1, 'wrong—premises': 1, 'heavily': 1, 'not—': 1, 'me—no': 1, 'day—you': 1, '“but—where': 1, 'idea—yes': 1, 'bills—there': 1, 'constant': 2, 'wit’s': 2, 'comparatively': 1, 'descends': 1, 'costs': 4, 'is—parker': 1, 'stairs—parker': 1, 'rush': 1, 'door—with': 1, 'repetition': 1, 'persisted': 2, 'hinges': 1, 'jumps': 1, 'conclusion': 3, 'theft': 1, 'learns': 1, 'provocation': 1, 'thief—especially': 1, 'retain': 1, 'esteem': 1, 'fist': 1, 'thump': 1, '“it’s—it’s': 1, 'you—you’ve': 1, 'tackle': 1, 'willingly': 1, 'whiter': 1, 'stay—please—yes': 1, 'suggests': 1, 'leading': 1, 'shifted': 1, 'implored': 2, 'frank': 1, 'lasted': 1, 'thief—yes': 1, 'nightmare': 1, 'buried': 3, 'huskily': 1, 'cheating': 1, 'promising': 1, 'pay—oh': 1, 'sorry—because': 1, 'underneath': 1, 'despicable': 1, 'that—as': 1, 'thief—but': 1, 'despise': 1, 'myself—but': 1, 'ralph—it': 1, 'blacker': 3, 'sticking': 1, 'see—always': 1, 'hopelessly': 2, 'hid': 1, 'flat': 1, 'shielding': 1, 'jerky': 1, '“monsieur—a': 1, 'fantasy': 1, 'truly': 1, 'say—it': 1, 'offended': 1, 'detaining': 1, 'things—why': 1, 'disgraceful': 1, 'good—that': 1, 'poirot—do': 1, 'restlessness': 1, 'closing': 1, 'rivet': 1, 'd’you': 1, 'loves': 3, 'paton—but': 1, 'capitaine': 1, 'insupportable': 1, 'love—no': 1, 'loyal': 2, 'cloud': 1, 'honor': 1, 'efforts': 4, 'ignored': 1, '“d’you': 1, 'inarticulate': 1, 'disability': 1, 'to—the': 1, '“think': 1, 'kid': 2, 'lonely': 1, 'danish': 1, 'grip': 1, 'anguish': 2, 'wince': 1, 'nursing': 2, 'tenderly': 1, 'kind—the': 1, 'jolt': 1, 'valiant': 2, 'punctuated': 1, 'complaints': 1, 'alters': 1, 'unhappily': 1, 'discoveries': 1, 'worthless': 1, 'thirty—that’s': 1, 'kent—we': 1, 'awhile': 1, 'now—nine': 1, 'ackroyd—asking': 1, 'clear—it': 1, 'direction—over': 1, 'dang': 1, 'telephoned': 1, 'superfluous': 1, 'workshop—i': 1, 'proud': 2, 'hates': 1, 'workroom': 1, 'wireless': 4, 'wreak': 1, 'havoc': 1, 'dustpan': 1, 'adjusting': 1, 'interior': 1, 'brush': 1, 'wholly': 1, 'unreliable': 1, 'denounced': 1, 'disapproval': 2, 'deep': 2, 'mechanism': 2, 'said—in': 1, 'ushering': 1, 'bang': 1, '“aha': 1, '“finished': 1, 'tilting': 1, 'savors': 1, 'delicious': 1, 'complot': 1, 'understand—and': 1, 'matter—which': 1, 'intrigue': 1, 'house—for': 1, 'appointment': 2, 'contrary': 2, 'presuming': 1, 'holding': 2, 'pincers': 1, 'development': 1, 'changes': 1, 'kaleidoscope—the': 1, 'aspect': 2, 'grumbled': 1, '“according': 1, 'fog': 1, 'you—you': 4, 'surprised—but': 1, 'expostulated': 1, '“that—perhaps': 1, 'not—like': 1, 'raglan—startled': 1, 'something—so': 1, 'pour': 1, 'ça': 2, 'induce': 1, 'chaos': 1, 'grant': 1, 'profited': 1, 'favor': 1, 'notepaper': 1, 'tragic': 1, 'embarking': 1, 'dumbfounded': 1, '“but—but': 1, 'beamed': 2, 'especially': 3, 'assured': 2, 'follow': 2, 'print': 2, 'stipulating': 1, 'beats': 2, 'bench': 1, 'machinery': 1, 'débris': 1, 'labors': 1, 'sympathetic': 1, 'own—trifling': 1, 'inventions': 1, 'inventor': 1, 'bell—that': 1, 'beauty': 1, 'remnants': 1, 'anew': 1, 'upright': 2, 'unwonted': 1, 'startlingly': 1, 'inward': 1, 'outward': 1, 'display': 2, 'manifestation': 1, 'russell—i': 1, 'muscle': 1, 'trifle': 1, 'wider': 1, 'defiance': 2, 'resemblance': 2, 'me—the': 1, 'ladylike—were': 1, 'painfully': 1, 'timbre': 1, 'imperceptible': 1, 'nod': 1, '“fortunately': 1, '“lucky': 1, 'fernly—who': 1, 'movement': 1, 'arisen': 1, 'drain': 1, 'swaying': 1, 'said—miss': 1, '“then——': 1, 'head—he': 1, 'terror': 2, 'reassuringly': 1, 'yes—but': 1, 'flared': 2, 'save': 3, 'him——”': 1, 'dared': 3, 'him—saying': 1, 'discreet': 1, 'flamed': 1, 'ago—long': 1, 'ago—down': 1, 'surname': 1, 'lodging': 1, 'badly': 3, 'passage': 1, 'so—so': 1, 'inkling—it': 1, 'boy—before': 1, '“straight': 1, 'detour': 1, '“ought': 1, 'i——”': 1, 'charged': 2, 'render': 2, 'kind—very': 1, 'unknown': 3, 'morning’s': 1, 'morning—some': 1, 'switched': 2, 'hurriedly': 2, 'untraceable': 1, 'undesirable': 1, '“stay': 1, 'succession': 1, 'anticipated': 1, 'elaborate': 2, 'mood': 4, '“pumping': 1, 'shameless': 1, 'sarcastic': 1, 'absently': 1, 'animation': 1, 'dealt': 2, 'stating': 1, 'untruly': 1, 'crippen': 1, 'broadmoor—it’s': 1, 'imbecile': 1, 'grief': 2, 'pitch': 1, 'institution': 1, 'exasperated': 1, '“pretty': 1, 'screwed': 1, 'spontaneously': 1, 'confidences': 2, 'christian': 1, 'martyr': 1, 'enjoying': 1, 'screw': 2, '“early': 1, '“before': 1, 'flapping': 1, 'window—the': 1, 'muffled': 1, 'glimpse': 2, 'mysteriously': 1, 'breathed': 1, 'amazed': 1, 'examined': 3, 'death—it': 1, 'inflicted': 1, 'omniscient': 1, 'james—at': 1, 'endowed': 1, '“having': 1, 'portion': 1, 'treble': 1, 'skirted': 1, 'imaginable': 1, 'impervious': 1, 'bowling': 1, 'blandly': 1, 'successfully': 1, 'enjoyed': 2, 'reduce': 1, 'your—er—guest': 1, '“delighted': 1, 'reposes': 1, 'tramp': 1, 'irrelevancy': 1, 'commission': 1, 'house—that': 1, 'ambassador': 1, 'them—yes': 1, 'dislike': 1, 'oyster': 1, 'unjust': 1, 'interpretation': 1, 'grounds': 1, 'rejoin': 1, 'hour’s': 1, 'sipping': 1, 'graciously': 1, 'happiness': 1, 'reliable': 1, 'needs': 1, 'man—some': 1, 'distinguished': 1, 'arrest': 1, '“geoffrey': 1, '“horrible': 2, 'shuddered': 1, 'canard': 1, 'newspaper’s': 1, 'mistake—a—what': 1, 'forbidden': 1, 'disgrace': 1, 'deliver': 1, 'man—he': 1, 'terrified': 1, 'borrow': 1, 'strict': 2, 'hypnosis': 1, '‘steal’': 1, 'shouts': 1, 'complex': 2, 'inhibition—or': 1, '—i': 1, 'words—and': 1, 'mix': 1, 'misunderstanding': 1, 'way—it': 1, 'together—hector': 1, 'secretary—with': 1, 'severe': 1, 'reassure': 1, 'thereupon': 1, 'starts': 1, 'edgeways': 1, 'homewards': 1, 'weeping': 1, 'child—but': 1, 'mutely': 1, 'outburst': 1, 'sobs': 1, 'see—everything': 1, 'mongering': 1, 'scandal': 1, 'ordeal': 1, '——”': 1, 'crumpled': 3, 'newspaper': 3, 'inserted': 1, '“newspaper': 1, 'paragraphs': 4, '“yet': 2, 'also——”': 1, 'verity': 1, 'that—yes': 1, 'marches': 3, 'innocent—but': 1, 'know—even': 1, 'settling': 1, 'masquerading': 1, '“masquerading': 1, 'wager': 1, 'reproduce': 1, 'seven—impoverished': 1, 'gentlefolk': 1, 'earn': 2, 'eldest': 1, 'nursery': 1, 'untrained': 1, 'governess—the': 1, '“lady': 1, 'label': 1, 'scorned': 1, 'despite': 2, 'aloofness': 1, 'job—quick': 1, 'competent': 1, 'plenty': 1, 'culminated': 1, 'marrying': 1, 'penniless': 1, 'deed': 1, 'debts': 3, 'easier': 1, 'leaf': 1, 'liabilities': 1, 'enraged': 1, 'bidden': 1, 'beat': 1, 'bush': 1, 'innate': 1, 'grasped': 1, 'pretence': 1, 'sides': 4, 'wishes—they': 1, 'dictated': 2, 'playing': 2, 'horizon': 1, 'hole': 2, 'financially': 1, 'envisage': 1, 'stipulated': 1, 'interval': 1, 'instinctively': 1, 'distaste': 1, 'duplicity': 2, 'inherent': 1, 'welcome': 1, 'crucial': 1, 'announce': 1, 'ralph—only': 1, 'apathetic': 1, 'bombshell': 1, 'acrimoniously': 1, 'parted': 4, 'steadfast': 1, 'sought': 1, 'one—it': 1, 'obsessed': 1, 'deceit': 1, 'mainly': 1, 'rancor': 1, 'practiced': 1, '“entrap”': 1, 'unforgivable': 2, 'stealing': 2, 'irretrievably': 1, 'prospects': 1, 'ruined': 2, 'reproached': 1, 'timed': 3, 'alter': 1, 'will—i': 1, 'consistently': 1, 'implications': 1, 'minutes—not': 1, 'insistence': 1, 'reflection': 1, '“yes—but': 1, '“until': 2, 'surely—oh': 1, '“prove': 1, 'think—they': 1, 'dawning': 1, '“nobody': 1, 'indignantly': 1, 'murmuring': 1, 'candidly': 1, 'music': 2, 'stepfather’s': 1, 'cruel': 1, 'night—so': 1, 'say—wouldn’t': 1, 'mind—trying': 1, 'coldest': 1, 'cruelest': 1, 'conceited': 1, 'unflattering': 1, 'untwisting': 1, 'wondered—but': 1, 'couldn’t—he': 1, 'openly': 1, 'bagatelle': 1, 'rien': 1, 'du': 1, 'know—did': 1, 'madame': 2, 'wagging': 1, 'forefinger': 2, 'eloquently': 1, 'torment': 1, 'you—be': 1, 'anyway—eh': 1, 'mademoiselle—i': 1, 'madame—to': 1, 'straightening': 1, 'tips': 1, 'longing': 1, 'you—the': 1, 'resides': 1, 'me—yes': 1, 'stumbling': 2, 'unawares—without': 1, 'behold': 1, 'record': 1, 'sparkled': 1, 'hastings’s': 1, 'narratives': 1, 'opportunity—probably': 1, 'to—unique': 1, 'incoherent': 1, 'hotter': 1, 'floundered': 1, 'mercifully': 1, 'embrace': 1, 'magnificent—you': 1, 'epatant': 1, 'them—this': 1, 'racked': 1, 'brains': 1, 'stammered': 1, 'little—er—': 1, 'comic—as': 1, 'trivialities': 1, 'rummaged': 1, 'pile': 1, 'manuscript': 8, 'chapters': 2, 'plate': 2, 'supped': 1, 'workshop': 2, 'finish': 2, 'correctly': 1, 'understands': 1, 'piled': 1, 'you—on': 1, 'modesty': 1, 'reticence': 3, 'thought—what': 1, 'scenes': 1, 'obtrude—in': 1, 'blushed': 1, 'candid': 1, 'jesting': 1, 'meticulous': 1, 'exactly—though': 1, 'recorded': 2, 'faithfully': 2, 'becomingly': 1, 'reticent': 1, 'performance': 1, 'stage': 1, 'suspects': 1, 'sirops': 1, 'biscuits': 1, 'lamp': 1, 'straighten': 1, 'mats': 1, 'lamps': 1, 'fussy': 1, 'grouped': 2, 'twilight': 1, 'presumed': 1, 'readiness': 1, '“some': 1, 'scientific': 1, 'machine': 2, 'bands': 1, 'wrists': 1, 'register': 1, 'invention': 2, 'begin—but': 1, 'shriek': 1, 'forestalled': 1, 'am—very': 1, 'behaved': 1, 'badly—especially': 1, 'needn’t': 1, 'pat': 1, 'meeting’s': 1, 'wail': 1, '“isn’t': 1, 'shortly': 1, '“excepting': 1, 'banter': 1, '“whew': 1, 'whistled': 1, 'guessing': 1, 'ripple': 1, 'uneasiness': 1, 'trap': 2, 'trap—a': 1, 'elizabeth': 1, 'john': 1, 'persons': 2, 'ackroyd——”': 1, 'wailed': 1, 'sternly': 1, 'things—a': 1, 'apron': 2, 'maid’s': 1, 'parlormaid—had': 1, 'maids—ursula': 1, 'night—the': 1, 'problem': 2, 'drugs—and': 1, 'atlantic': 1, 'sniffing': 1, '‘snow’': 1, 'supposition': 3, 'assume': 1, 'significant': 1, 'displayed': 2, 'cures': 1, 'conjunction': 1, 'ring—a': 1, 'learnt': 2, 'ring—with': 1, 'afternoon—a': 1, 'succeeding': 1, 'orderly': 1, '“incidentally': 1, 'wishing': 1, 'unexpectedly': 1, 'cleverest—my': 1, 'audacious': 1, 'impressed': 1, 'lodged': 1, 'liar': 1, 'alone—except': 1, '“blunt': 1, 'give—but': 1, 'thing—the': 1, 'them—has': 1, 'phrase': 5, 'dictating': 1, 'letter——”': 1, '“even': 1, 'unless': 4, 'was—well—going': 1, 'represented': 1, 'gasped': 2, 'invest': 1, 'childish': 1, 'right—no': 1, 'explains': 1, 'scraps': 1, 'fragments': 1, 'dictation': 1, 'deduced': 1, 'different—the': 1, 'conscious': 1, 'bourne’s': 1, 'brilliant': 1, 'unchanged': 1, 'essential': 1, 'paton——': 1, 'steadily': 1, 'funked': 1, 'court': 1, 'law—and': 1, 'forward——”': 1, 'is——”': 1, 'paton——”': 1, '“always': 1, 'is—': 1, 'idée': 1, 'fixe': 1, 'dramatic': 1, 'cries': 1, 'exclamations': 1, 'eloquent': 1, 'séance': 1, 'table—just': 1, 'suspicions': 1, 'hoping': 1, 'did——”': 1, 'ralph—or': 1, 'loved': 1, 'attach': 1, 'resolve': 1, 'incriminate': 1, 'gap': 1, 'filled': 1, 'graphically': 1, 'bunk': 1, 'attempted': 1, 'rude': 1, 'her—in': 1, 'manner—that': 1, 'insulted': 1, 'doing——”': 1, 'released': 1, 'culpable': 1, 'lodgings': 1, 'unfit': 1, 'homes': 1, 'saturday': 2, 'identifying': 1, 'formalities': 1, '“caroline’s': 1, 'went—but': 1, 'truthful': 1, 'abashed': 1, 'model': 1, 'add': 2, 'tramped': 1, 'lanes': 1, 'next—what': 1, 'alive—or': 1, 'but—it’s': 1, 'this—to': 1, 'criminal': 2, 'invite': 1, 'yes—i': 1, 'knew—at': 1, 'tense': 1, 'tore': 1, 'telegram': 1, 'resonant': 1, 'know—which': 1, 'know—now': 1, 'steamer': 1, 'message—from': 1, 'bowing': 1, 'remember—': 1, 'obeyed': 1, 'logs': 1, 'boot': 1, 'witnessed': 1, 'gigantic': 1, 'bombast—that': 1, 'comedy”': 1, '“playing': 1, 'menace': 1, 'reality': 1, 'indisputable': 1, 'words—a': 1, 'cigarettes': 1, 'smoked': 1, '“use': 1, 'approvingly': 1, 'open—not': 1, 'formerly': 1, 'ackroyd—before': 1, 'bait': 1, 'merci': 1, 'heroic': 1, 'guard': 1, 'out—and': 1, 'freedom': 1, 'stump': 1, 'reflective': 1, 'indisputably': 1, 'discrepancy': 2, 'deduction': 1, 'was—that': 1, 'judging': 1, 'of—in': 1, 'probability—the': 1, 'très': 1, 'preference': 1, 'fact—the': 1, 'supreme': 1, 'that—the': 1, 'parker—it': 1, 'abandoned': 1, 'obscured': 1, 'window—only': 1, '—but': 1, 'chair—and': 1, 'shadowy': 1, '“supposing': 1, 'inkling': 1, 'eliminated': 1, 'learned': 2, 'root': 1, 'theory—but': 1, 'night—why': 1, 'effects': 1, 'table—why': 1, 'focused': 1, 'bulk—it': 1, 'arriving': 2, 'shape': 1, 'fitted——”': 1, 'remove': 3, 'dictate': 1, 'typist': 1, 'turns': 1, 'speaking—not': 1, 'exclude': 1, 'likelihood': 1, '“possibly': 1, 'applied—something': 1, 'portrait': 1, 'qualifications': 1, 'imaginary': 1, 'ledge': 2, 'hypothesis': 1, 'inmates': 1, 'crepe': 1, 'soled': 1, '‘clean': 1, 'ascertain': 1, 'cleaned': 1, 'evening—in': 1, 'footwear': 2, 'alike—the': 1, 'point—laying': 1, 'frankly—to': 1, 'order—i': 1, 'investigations': 1, '—he': 1, 'fact—having': 1, 'murderer—a': 1, 'purloin': 1, 'recall': 1, 'recapitulate—now': 1, 'dictaphone—such': 1, 'fact—': 1, 'you—right': 1, '“discrepancy': 1, 'agreed—you': 1, 'included—that': 1, 'house—less': 1, 'nine—both': 1, 'night—not': 1, 'dawdle': 1, 'so—he': 1, 'unfastened': 1, 'climb': 2, 'climbing': 1, 'struggle': 1, 'left—as': 1, 'race': 1, 'ackroyd—it': 1, 'alibi—since': 1, 'home—and': 1, 'brooding': 1, '“safety': 1, 'attending': 1, 'unable': 1, 'accounting': 1, 'speculation—then': 1, 'mercy': 1, 'rally': 1, 'plausible': 1, 'block': 1, 'depended': 1, 'notion': 1, 'seas': 1, 'orion': 1, 'sailed': 1, 'receive': 3, 'follows—': 1, '‘no': 1, 'said—your': 1, 'interesting—but': 1, 'sphere': 1, 'politics': 1, 'said—the': 1, 'willing': 1, 'sleeping': 1, 'draught': 1, 'va': 1, 'cleared—': 1, 'sans': 1, 'abandoning': 1, 'yours—but': 1, 'prolific': 1, 'unwise': 1, 'succeed': 1, '“whatever': 1, 'yawn': 1, 'instructive': 1, 'politeness': 1, 'tired—but': 1, 'published': 1, 'pan': 1, 'failures': 1, 'disaster': 1, 'confiding': 1, 'honest—didn’t': 1, 'psychologically': 1, 'afterthought': 1, 'handy': 1, 'agitated': 1, 'refuting': 1, 'ralph—well': 1, 'adjust': 1, 'neater': 1, 'writer': 1, 'stars': 2, 'principle': 1, 'clever—based': 1, 'judicious': 1, 'little—just': 1, 'shove': 1, 'push': 1, 'agog': 1, 'logically': 1, '“strain': 1, 'enclose': 1, 'then—what': 1, 'poetic': 1, 'wrapper': 3, '—including': 1, 'refer': 1, 'comprising': 1, 'modern': 3, 'writers': 1, 'prominent': 1, 'printed': 3, 'titles': 1, 'taste': 2, 'from—books': 1, 'catalog': 1, 'vida': 2, 'hurst': 2, 'dunlap’s': 3, 'wherever': 3, 'authors': 1, 'foremost': 1, '“romances': 1, 'widely': 1, 'serialized': 1, 'throughout': 1, 'society—more': 1, 'gripping': 1, 'diana': 3, 'arthur': 1, 'vane': 1, 'senses': 1, 'tribulations': 1, 'trials': 1, 'nancy': 1, 'gage': 1, 'superficialities': 1, 'everlasting': 1, 'sonia': 4, 'marsh': 2, 'san': 1, 'francisco': 1, 'sailing': 1, 'smooth': 1, 'experiences': 1, 'harrowing': 1, 'marries': 2, 'sequel': 1, 'continues': 1, 'city': 3, 'falls': 1, 'rafael': 3, 'sabatini’s': 1, 'jesi': 1, 'italian': 1, 'diminutive': 1, 'sabatini': 2, 'lycee': 1, 'school': 2, 'switzerland': 1, 'oporto': 1, 'portugal': 1, 'alexandre': 1, 'dumas': 1, 'today': 1, 'lion’s': 1, 'shame': 1, 'motley': 1, 'lilies': 1, 'trampling': 1, 'doom': 1, 'saint': 2, 'banner': 1, 'carolinian': 1, 'martin’s': 1, 'wilding': 1, 'fortune’s': 1, 'bardelys': 1, 'snare': 1, 'hawk': 1, 'scaramouche': 1, 'grey’s': 2, 'zane': 4, 'rim': 1, 'tonto': 1, 'tappan’s': 1, 'burro': 1, 'vanishing': 1, 'thundering': 1, 'herd': 1, 'canyon': 2, 'wanderer': 1, 'wasteland': 1, 'rider': 1, 'forest': 1, 'wheat': 1, 'desert': 3, 'trail': 2, 'u': 8, 'border': 1, 'legion': 1, 'rainbow': 1, 'heritage': 1, 'purple': 1, 'riders': 1, 'plainsmen': 1, 'star': 1, 'ranger': 1, 'betty': 1, 'beast': 1, 'scouts': 1, 'helen': 1, 'wetmore': 1, 'cody': 1, 'bill”': 1, '“buffalo': 1, 'foreword': 1, 'grey': 1, 'boys': 1, 'roping': 1, 'lions': 1, 'ward': 1, 'jungle': 1, 'ken': 1, 'lion': 1, 'forester': 1, 'pitcher': 1, 'outfield': 1, 'baseball': 1, 'transcriber’s': 1, 'text': 1, 'italics': 1, 'underscores': 1, 'pages': 2, 'errors': 2, 'silently': 1, 'typographical': 1, 'editions': 3, 'one—the': 1, 'renamed': 1, 's': 9, 'protected': 5, 'creating': 4, 'owns': 2, 'distribute': 6, 'forth': 8, 'royalties': 3, 'rules': 1, 'copying': 4, 'distributing': 7, 'electronic': 26, 'protect': 2, 'gutenberg™': 54, 'concept': 2, 'trademark': 13, 'including': 9, 'copies': 7, 'complying': 3, 'creation': 1, 'reports': 1, 'performances': 1, 'research': 2, 'derivative': 3, 'away—you': 1, 'ebooks': 7, 'modified': 1, 'redistribution': 2, 'commercial': 1, 'mission': 4, 'promoting': 2, 'distribution': 6, 'associated': 7, '“project': 5, 'gutenberg”': 5, 'comply': 6, 'file': 1, 'section': 7, 'redistributing': 2, 'intellectual': 2, 'agreement': 18, 'abide': 1, 'cease': 1, 'destroy': 2, 'possession': 1, 'fee': 8, 'obtain': 3, 'refund': 9, '8': 4, 'entity': 3, 'e': 19, 'b': 2, 'c': 4, 'literary': 13, 'archive': 13, 'pglaf': 1, 'collection': 4, 'compilation': 1, 'foundation”': 1, 'domain': 2, 'unprotected': 1, 'performing': 3, 'based': 2, 'displaying': 4, 'sharing': 1, 'compliance': 5, 'format': 4, 'attached': 1, 'd': 1, 'govern': 1, 'countries': 1, 'addition': 1, 'downloading': 1, 'representations': 1, 'status': 4, 'prominently': 2, 'accessed': 1, 'performed': 1, 'copied': 2, 'viewed': 1, 'texts': 1, 'derived': 1, 'indicating': 1, 'holder': 4, 'fees': 4, 'charges': 1, 'providing': 4, 'requirements': 4, 'imposed': 1, 'additional': 2, 'linked': 1, 'unlink': 1, 'detach': 1, 'files': 1, '5': 4, 'perform': 1, 'redistribute': 1, 'convert': 1, 'binary': 1, '6': 2, 'compressed': 1, 'nonproprietary': 1, 'proprietary': 1, 'processing': 1, 'hypertext': 1, 'vanilla': 2, 'ascii”': 2, 'website': 4, 'expense': 1, 'user': 3, 'exporting': 1, 'alternate': 1, 'include': 1, 'specified': 2, 'viewing': 1, 'reasonable': 1, 'profits': 1, '•': 4, 'gross': 1, 'derive': 1, '20': 1, 'royalty': 3, 'calculated': 1, 'calculate': 1, 'taxes': 1, 'owed': 1, 'owner': 4, 'donate': 4, 'payments': 3, '60': 1, 'prepare': 2, 'periodic': 1, 'legally': 1, 'required': 1, 'tax': 6, 'donations': 15, '“information': 1, 'notifies': 1, 'receipt': 2, 'discontinue': 1, 'accordance': 2, 'f': 11, 'replacement': 5, 'defect': 3, 'reported': 1, '90': 2, 'group': 1, 'manager': 1, 'contact': 4, 'employees': 1, 'volunteers': 4, 'expend': 1, 'transcribe': 1, 'proofread': 1, 'stored': 1, '“defects': 1, 'incomplete': 1, 'inaccurate': 1, 'corrupt': 1, 'transcription': 1, 'damaged': 1, 'disk': 1, 'defective': 3, 'infringement': 1, 'damage': 2, 'virus': 1, 'computer': 1, 'codes': 1, 'equipment': 2, 'damages': 4, '“right': 1, 'warranty': 2, 'disclaimer': 3, 'refund”': 1, 'disclaim': 1, 'liability': 3, 'negligence': 1, 'remedies': 1, 'breach': 1, 'contract': 1, 'distributor': 1, 'indirect': 1, 'consequential': 1, 'punitive': 1, 'incidental': 1, 'elect': 1, 'lieu': 2, 'electronically': 2, 'opportunities': 1, 'is’': 1, '‘as': 1, 'implied': 2, 'warranties': 3, 'merchantability': 1, 'disclaimers': 1, 'exclusion': 1, 'types': 1, 'limitation': 3, 'violates': 1, 'maximum': 1, 'invalidity': 1, 'void': 1, 'provision': 1, 'unenforceability': 1, 'remaining': 1, 'indemnify': 1, 'indemnity': 1, 'employee': 1, 'agent': 1, 'promotion': 1, 'production': 1, 'harmless': 1, 'indirectly': 1, 'modification': 1, 'alteration': 1, 'deletions': 1, 'additions': 1, 'synonymous': 1, 'widest': 2, 'formats': 1, 'readable': 2, 'obsolete': 1, 'computers': 1, 'exists': 1, 'financial': 1, 'critical': 1, 'reaching': 1, 'gutenberg™’s': 1, 'goals': 1, 'ensuring': 1, '2001': 1, 'generations': 2, 'secure': 1, 'sections': 1, 'profit': 1, 'corporation': 1, '501': 1, 'educational': 1, 'organized': 1, 'mississippi': 1, 'exempt': 2, 'internal': 1, 'revenue': 1, 'federal': 2, 'foundation’s': 3, 'ein': 1, 'contributions': 2, '64': 1, '6221541': 1, 'deductible': 1, 'state’s': 1, '1500': 1, '809': 1, 'email': 2, 'lake': 1, 'ut': 1, '596': 1, '1887': 1, 'salt': 1, '84116': 1, '801': 1, 'widespread': 1, 'survive': 1, 'licensed': 1, 'increasing': 1, 'accessible': 1, 'outdated': 1, 'maintaining': 1, '000': 1, 'irs': 1, 'regulating': 1, '50': 1, 'charities': 1, 'uniform': 1, 'paperwork': 1, 'solicit': 2, 'locations': 1, 'determine': 1, 'prohibition': 1, 'solicitation': 1, 'unsolicited': 1, 'donors': 1, 'offers': 1, 'international': 1, 'gratefully': 1, 'treatment': 1, 'swamp': 1, 'current': 1, 'web': 1, 'donation': 1, 'addresses': 1, 'credit': 1, 'checks': 1, 'hart': 1, 'professor': 1, 'michael': 1, 'originator': 1, 'shared': 1, 'network': 1, 'loose': 1, 'volunteer': 1, 'pg': 1, 'facility': 1, 'includes': 1, 'newsletter': 1, 'subscribe': 1})\n"
          ]
        }
      ]
    },
    {
      "cell_type": "code",
      "source": [
        "model = Sequential()\n",
        "\n",
        "# la primera capa es de embedding entrenable. Recordar que se puede variar el tamaño\n",
        "# del embedding a entrenar\n",
        "model.add(Embedding(input_dim=vocab_size+1, output_dim=50, input_shape=(None,)))\n",
        "\n",
        "model.add(LSTM(100, return_sequences=True))\n",
        "# model.add(Dropout(0.2))\n",
        "\n",
        "model.add(LSTM(100, return_sequences=True))\n",
        "# model.add(Dense(32, activation='relu'))\n",
        "\n",
        "# Predicción de clasificación con softmax\n",
        "# La salida es del tamaño del vocabulario\n",
        "model.add(Dense(vocab_size+1, activation='softmax'))\n",
        "\n",
        "\n",
        "# Clasificación multiple categórica --> loss = categorical_crossentropy\n",
        "# notar que usamos la versión Sparse para utilizar sólo índices en lugar de OHE\n",
        "model.compile(loss=SparseCategoricalCrossentropy(), optimizer='rmsprop')\n",
        "\n",
        "model.summary()"
      ],
      "metadata": {
        "colab": {
          "base_uri": "https://localhost:8080/",
          "height": 327
        },
        "id": "EWfBoQNf--Wn",
        "outputId": "1b8482c1-715a-4696-f849-f3bfcfcb7ae6"
      },
      "execution_count": 84,
      "outputs": [
        {
          "output_type": "stream",
          "name": "stderr",
          "text": [
            "/usr/local/lib/python3.10/dist-packages/keras/src/layers/core/embedding.py:93: UserWarning: Do not pass an `input_shape`/`input_dim` argument to a layer. When using Sequential models, prefer using an `Input(shape)` object as the first layer in the model instead.\n",
            "  super().__init__(**kwargs)\n"
          ]
        },
        {
          "output_type": "display_data",
          "data": {
            "text/plain": [
              "\u001b[1mModel: \"sequential_8\"\u001b[0m\n"
            ],
            "text/html": [
              "<pre style=\"white-space:pre;overflow-x:auto;line-height:normal;font-family:Menlo,'DejaVu Sans Mono',consolas,'Courier New',monospace\"><span style=\"font-weight: bold\">Model: \"sequential_8\"</span>\n",
              "</pre>\n"
            ]
          },
          "metadata": {}
        },
        {
          "output_type": "display_data",
          "data": {
            "text/plain": [
              "┏━━━━━━━━━━━━━━━━━━━━━━━━━━━━━━━━━━━━━━┳━━━━━━━━━━━━━━━━━━━━━━━━━━━━━┳━━━━━━━━━━━━━━━━━┓\n",
              "┃\u001b[1m \u001b[0m\u001b[1mLayer (type)                        \u001b[0m\u001b[1m \u001b[0m┃\u001b[1m \u001b[0m\u001b[1mOutput Shape               \u001b[0m\u001b[1m \u001b[0m┃\u001b[1m \u001b[0m\u001b[1m        Param #\u001b[0m\u001b[1m \u001b[0m┃\n",
              "┡━━━━━━━━━━━━━━━━━━━━━━━━━━━━━━━━━━━━━━╇━━━━━━━━━━━━━━━━━━━━━━━━━━━━━╇━━━━━━━━━━━━━━━━━┩\n",
              "│ embedding_8 (\u001b[38;5;33mEmbedding\u001b[0m)              │ (\u001b[38;5;45mNone\u001b[0m, \u001b[38;5;45mNone\u001b[0m, \u001b[38;5;34m50\u001b[0m)            │         \u001b[38;5;34m358,800\u001b[0m │\n",
              "├──────────────────────────────────────┼─────────────────────────────┼─────────────────┤\n",
              "│ lstm_2 (\u001b[38;5;33mLSTM\u001b[0m)                        │ (\u001b[38;5;45mNone\u001b[0m, \u001b[38;5;45mNone\u001b[0m, \u001b[38;5;34m100\u001b[0m)           │          \u001b[38;5;34m60,400\u001b[0m │\n",
              "├──────────────────────────────────────┼─────────────────────────────┼─────────────────┤\n",
              "│ lstm_3 (\u001b[38;5;33mLSTM\u001b[0m)                        │ (\u001b[38;5;45mNone\u001b[0m, \u001b[38;5;45mNone\u001b[0m, \u001b[38;5;34m100\u001b[0m)           │          \u001b[38;5;34m80,400\u001b[0m │\n",
              "├──────────────────────────────────────┼─────────────────────────────┼─────────────────┤\n",
              "│ dense_7 (\u001b[38;5;33mDense\u001b[0m)                      │ (\u001b[38;5;45mNone\u001b[0m, \u001b[38;5;45mNone\u001b[0m, \u001b[38;5;34m7176\u001b[0m)          │         \u001b[38;5;34m724,776\u001b[0m │\n",
              "└──────────────────────────────────────┴─────────────────────────────┴─────────────────┘\n"
            ],
            "text/html": [
              "<pre style=\"white-space:pre;overflow-x:auto;line-height:normal;font-family:Menlo,'DejaVu Sans Mono',consolas,'Courier New',monospace\">┏━━━━━━━━━━━━━━━━━━━━━━━━━━━━━━━━━━━━━━┳━━━━━━━━━━━━━━━━━━━━━━━━━━━━━┳━━━━━━━━━━━━━━━━━┓\n",
              "┃<span style=\"font-weight: bold\"> Layer (type)                         </span>┃<span style=\"font-weight: bold\"> Output Shape                </span>┃<span style=\"font-weight: bold\">         Param # </span>┃\n",
              "┡━━━━━━━━━━━━━━━━━━━━━━━━━━━━━━━━━━━━━━╇━━━━━━━━━━━━━━━━━━━━━━━━━━━━━╇━━━━━━━━━━━━━━━━━┩\n",
              "│ embedding_8 (<span style=\"color: #0087ff; text-decoration-color: #0087ff\">Embedding</span>)              │ (<span style=\"color: #00d7ff; text-decoration-color: #00d7ff\">None</span>, <span style=\"color: #00d7ff; text-decoration-color: #00d7ff\">None</span>, <span style=\"color: #00af00; text-decoration-color: #00af00\">50</span>)            │         <span style=\"color: #00af00; text-decoration-color: #00af00\">358,800</span> │\n",
              "├──────────────────────────────────────┼─────────────────────────────┼─────────────────┤\n",
              "│ lstm_2 (<span style=\"color: #0087ff; text-decoration-color: #0087ff\">LSTM</span>)                        │ (<span style=\"color: #00d7ff; text-decoration-color: #00d7ff\">None</span>, <span style=\"color: #00d7ff; text-decoration-color: #00d7ff\">None</span>, <span style=\"color: #00af00; text-decoration-color: #00af00\">100</span>)           │          <span style=\"color: #00af00; text-decoration-color: #00af00\">60,400</span> │\n",
              "├──────────────────────────────────────┼─────────────────────────────┼─────────────────┤\n",
              "│ lstm_3 (<span style=\"color: #0087ff; text-decoration-color: #0087ff\">LSTM</span>)                        │ (<span style=\"color: #00d7ff; text-decoration-color: #00d7ff\">None</span>, <span style=\"color: #00d7ff; text-decoration-color: #00d7ff\">None</span>, <span style=\"color: #00af00; text-decoration-color: #00af00\">100</span>)           │          <span style=\"color: #00af00; text-decoration-color: #00af00\">80,400</span> │\n",
              "├──────────────────────────────────────┼─────────────────────────────┼─────────────────┤\n",
              "│ dense_7 (<span style=\"color: #0087ff; text-decoration-color: #0087ff\">Dense</span>)                      │ (<span style=\"color: #00d7ff; text-decoration-color: #00d7ff\">None</span>, <span style=\"color: #00d7ff; text-decoration-color: #00d7ff\">None</span>, <span style=\"color: #00af00; text-decoration-color: #00af00\">7176</span>)          │         <span style=\"color: #00af00; text-decoration-color: #00af00\">724,776</span> │\n",
              "└──────────────────────────────────────┴─────────────────────────────┴─────────────────┘\n",
              "</pre>\n"
            ]
          },
          "metadata": {}
        },
        {
          "output_type": "display_data",
          "data": {
            "text/plain": [
              "\u001b[1m Total params: \u001b[0m\u001b[38;5;34m1,224,376\u001b[0m (4.67 MB)\n"
            ],
            "text/html": [
              "<pre style=\"white-space:pre;overflow-x:auto;line-height:normal;font-family:Menlo,'DejaVu Sans Mono',consolas,'Courier New',monospace\"><span style=\"font-weight: bold\"> Total params: </span><span style=\"color: #00af00; text-decoration-color: #00af00\">1,224,376</span> (4.67 MB)\n",
              "</pre>\n"
            ]
          },
          "metadata": {}
        },
        {
          "output_type": "display_data",
          "data": {
            "text/plain": [
              "\u001b[1m Trainable params: \u001b[0m\u001b[38;5;34m1,224,376\u001b[0m (4.67 MB)\n"
            ],
            "text/html": [
              "<pre style=\"white-space:pre;overflow-x:auto;line-height:normal;font-family:Menlo,'DejaVu Sans Mono',consolas,'Courier New',monospace\"><span style=\"font-weight: bold\"> Trainable params: </span><span style=\"color: #00af00; text-decoration-color: #00af00\">1,224,376</span> (4.67 MB)\n",
              "</pre>\n"
            ]
          },
          "metadata": {}
        },
        {
          "output_type": "display_data",
          "data": {
            "text/plain": [
              "\u001b[1m Non-trainable params: \u001b[0m\u001b[38;5;34m0\u001b[0m (0.00 B)\n"
            ],
            "text/html": [
              "<pre style=\"white-space:pre;overflow-x:auto;line-height:normal;font-family:Menlo,'DejaVu Sans Mono',consolas,'Courier New',monospace\"><span style=\"font-weight: bold\"> Non-trainable params: </span><span style=\"color: #00af00; text-decoration-color: #00af00\">0</span> (0.00 B)\n",
              "</pre>\n"
            ]
          },
          "metadata": {}
        }
      ]
    },
    {
      "cell_type": "code",
      "source": [
        "class PplCallback(keras.callbacks.Callback):\n",
        "\n",
        "    '''\n",
        "    Este callback es una solución ad-hoc para calcular al final de cada epoch de\n",
        "    entrenamiento la métrica de Perplejidad sobre un conjunto de datos de validación.\n",
        "    La perplejidad es una métrica cuantitativa para evaluar la calidad de la generación de secuencias.\n",
        "    Además implementa la finalización del entrenamiento (Early Stopping)\n",
        "    si la perplejidad no mejora después de `patience` epochs.\n",
        "    '''\n",
        "\n",
        "    def __init__(self, val_data, history_ppl, patience=5):\n",
        "      # El callback lo inicializamos con secuencias de validación sobre las cuales\n",
        "      # mediremos la perplejidad y la paciencia para detener el entrenamiento.\n",
        "      self.val_data = val_data\n",
        "\n",
        "      self.target = []\n",
        "      self.padded = []\n",
        "\n",
        "      count = 0\n",
        "      self.info = []\n",
        "      self.history_ppl = []\n",
        "      self.min_score = np.inf\n",
        "      self.patience_counter = 0\n",
        "      self.patience = patience\n",
        "\n",
        "      # nos movemos en todas las secuencias de los datos de validación\n",
        "      for seq in self.val_data:\n",
        "\n",
        "        len_seq = len(seq)\n",
        "        # armamos todas las subsecuencias\n",
        "        subseq = [seq[:i] for i in range(len_seq)]\n",
        "        self.target.extend([seq[i] for i in range(len_seq)])\n",
        "\n",
        "        if len(subseq)!=0:\n",
        "\n",
        "          self.padded.append(pad_sequences(subseq, maxlen=max_context_size, padding='pre'))\n",
        "\n",
        "          self.info.append((count,count+len_seq))\n",
        "          count += len_seq\n",
        "\n",
        "      self.padded = np.vstack(self.padded)\n",
        "\n",
        "\n",
        "    def on_epoch_end(self, epoch, logs=None):\n",
        "\n",
        "        # en `scores` iremos guardando la perplejidad de cada secuencia\n",
        "        scores = []\n",
        "\n",
        "        predictions = self.model.predict(self.padded,verbose=0)\n",
        "\n",
        "        # para cada secuencia de validación\n",
        "        for start,end in self.info:\n",
        "\n",
        "          # en `probs` iremos guardando las probabilidades de los términos target\n",
        "          probs = [predictions[idx_seq,-1,idx_vocab] for idx_seq, idx_vocab in zip(range(start,end),self.target[start:end])]\n",
        "\n",
        "          # calculamos la perplejidad por medio de logaritmos\n",
        "          scores.append(np.exp(-np.sum(np.log(probs))/(end-start)))\n",
        "\n",
        "        # promediamos todos los scores e imprimimos el valor promedio\n",
        "        current_score = np.mean(scores)\n",
        "        history_ppl.append(current_score)\n",
        "        print(f'\\n mean perplexity: {current_score} \\n')\n",
        "\n",
        "        # chequeamos si tenemos que detener el entrenamiento\n",
        "        if current_score < self.min_score:\n",
        "          self.min_score = current_score\n",
        "          self.model.save(\"my_model.h5\")\n",
        "          print(\"Saved new model!\")\n",
        "          self.patience_counter = 0\n",
        "        else:\n",
        "          self.patience_counter += 1\n",
        "          if self.patience_counter == self.patience:\n",
        "            print(\"Stopping training...\")\n",
        "            self.model.stop_training = True"
      ],
      "metadata": {
        "id": "TCsmCm1z_wop"
      },
      "execution_count": 51,
      "outputs": []
    },
    {
      "cell_type": "code",
      "source": [
        "# fiteamos, nótese el agregado del callback con su inicialización. El batch_size lo podemos seleccionar a mano\n",
        "# en general, lo mejor es escoger el batch más grande posible que minimice el tiempo de cada época.\n",
        "# En la variable `history_ppl` se guardarán los valores de perplejidad para cada época.\n",
        "history_ppl = []\n",
        "hist = model.fit(X, y, epochs=30, callbacks=[PplCallback(tokenized_sentences_val,history_ppl)], batch_size=64)"
      ],
      "metadata": {
        "colab": {
          "base_uri": "https://localhost:8080/"
        },
        "id": "L6IlXHnl_1an",
        "outputId": "e74bf935-2ffe-4252-ddb2-a850060ba29e"
      },
      "execution_count": 85,
      "outputs": [
        {
          "output_type": "stream",
          "name": "stdout",
          "text": [
            "Epoch 1/30\n",
            "\u001b[1m1004/1005\u001b[0m \u001b[32m━━━━━━━━━━━━━━━━━━━\u001b[0m\u001b[37m━\u001b[0m \u001b[1m0s\u001b[0m 10ms/step - loss: 4.5559"
          ]
        },
        {
          "output_type": "stream",
          "name": "stderr",
          "text": [
            "WARNING:absl:You are saving your model as an HDF5 file via `model.save()` or `keras.saving.save_model(model)`. This file format is considered legacy. We recommend using instead the native Keras format, e.g. `model.save('my_model.keras')` or `keras.saving.save_model(model, 'my_model.keras')`. \n"
          ]
        },
        {
          "output_type": "stream",
          "name": "stdout",
          "text": [
            "\n",
            " mean perplexity: 3990.188233507778 \n",
            "\n",
            "Saved new model!\n",
            "\b\b\b\b\b\b\b\b\b\b\b\b\b\b\b\b\b\b\b\b\b\b\b\b\b\b\b\b\b\b\b\b\b\b\b\b\b\b\b\b\b\b\b\b\b\b\b\b\b\b\b\b\b\b\b\b\b\b\r\u001b[1m1005/1005\u001b[0m \u001b[32m━━━━━━━━━━━━━━━━━━━━\u001b[0m\u001b[37m\u001b[0m \u001b[1m20s\u001b[0m 18ms/step - loss: 4.5546\n",
            "Epoch 2/30\n",
            "\u001b[1m1000/1005\u001b[0m \u001b[32m━━━━━━━━━━━━━━━━━━━\u001b[0m\u001b[37m━\u001b[0m \u001b[1m0s\u001b[0m 11ms/step - loss: 3.5812"
          ]
        },
        {
          "output_type": "stream",
          "name": "stderr",
          "text": [
            "WARNING:absl:You are saving your model as an HDF5 file via `model.save()` or `keras.saving.save_model(model)`. This file format is considered legacy. We recommend using instead the native Keras format, e.g. `model.save('my_model.keras')` or `keras.saving.save_model(model, 'my_model.keras')`. \n"
          ]
        },
        {
          "output_type": "stream",
          "name": "stdout",
          "text": [
            "\n",
            " mean perplexity: 2924.9753921238553 \n",
            "\n",
            "Saved new model!\n",
            "\b\b\b\b\b\b\b\b\b\b\b\b\b\b\b\b\b\b\b\b\b\b\b\b\b\b\b\b\b\b\b\b\b\b\b\b\b\b\b\b\b\b\b\b\b\b\b\b\b\b\b\b\b\b\b\b\b\b\r\u001b[1m1005/1005\u001b[0m \u001b[32m━━━━━━━━━━━━━━━━━━━━\u001b[0m\u001b[37m\u001b[0m \u001b[1m18s\u001b[0m 18ms/step - loss: 3.5810\n",
            "Epoch 3/30\n",
            "\u001b[1m1003/1005\u001b[0m \u001b[32m━━━━━━━━━━━━━━━━━━━\u001b[0m\u001b[37m━\u001b[0m \u001b[1m0s\u001b[0m 10ms/step - loss: 3.4673"
          ]
        },
        {
          "output_type": "stream",
          "name": "stderr",
          "text": [
            "WARNING:absl:You are saving your model as an HDF5 file via `model.save()` or `keras.saving.save_model(model)`. This file format is considered legacy. We recommend using instead the native Keras format, e.g. `model.save('my_model.keras')` or `keras.saving.save_model(model, 'my_model.keras')`. \n"
          ]
        },
        {
          "output_type": "stream",
          "name": "stdout",
          "text": [
            "\n",
            " mean perplexity: 2306.213730560758 \n",
            "\n",
            "Saved new model!\n",
            "\b\b\b\b\b\b\b\b\b\b\b\b\b\b\b\b\b\b\b\b\b\b\b\b\b\b\b\b\b\b\b\b\b\b\b\b\b\b\b\b\b\b\b\b\b\b\b\b\b\b\b\b\b\b\b\b\b\b\r\u001b[1m1005/1005\u001b[0m \u001b[32m━━━━━━━━━━━━━━━━━━━━\u001b[0m\u001b[37m\u001b[0m \u001b[1m18s\u001b[0m 18ms/step - loss: 3.4672\n",
            "Epoch 4/30\n",
            "\u001b[1m1001/1005\u001b[0m \u001b[32m━━━━━━━━━━━━━━━━━━━\u001b[0m\u001b[37m━\u001b[0m \u001b[1m0s\u001b[0m 10ms/step - loss: 3.3619"
          ]
        },
        {
          "output_type": "stream",
          "name": "stderr",
          "text": [
            "WARNING:absl:You are saving your model as an HDF5 file via `model.save()` or `keras.saving.save_model(model)`. This file format is considered legacy. We recommend using instead the native Keras format, e.g. `model.save('my_model.keras')` or `keras.saving.save_model(model, 'my_model.keras')`. \n"
          ]
        },
        {
          "output_type": "stream",
          "name": "stdout",
          "text": [
            "\n",
            " mean perplexity: 2023.4644398647572 \n",
            "\n",
            "Saved new model!\n",
            "\b\b\b\b\b\b\b\b\b\b\b\b\b\b\b\b\b\b\b\b\b\b\b\b\b\b\b\b\b\b\b\b\b\b\b\b\b\b\b\b\b\b\b\b\b\b\b\b\b\b\b\b\b\b\b\b\b\b\r\u001b[1m1005/1005\u001b[0m \u001b[32m━━━━━━━━━━━━━━━━━━━━\u001b[0m\u001b[37m\u001b[0m \u001b[1m18s\u001b[0m 18ms/step - loss: 3.3618\n",
            "Epoch 5/30\n",
            "\u001b[1m1000/1005\u001b[0m \u001b[32m━━━━━━━━━━━━━━━━━━━\u001b[0m\u001b[37m━\u001b[0m \u001b[1m0s\u001b[0m 10ms/step - loss: 3.2779"
          ]
        },
        {
          "output_type": "stream",
          "name": "stderr",
          "text": [
            "WARNING:absl:You are saving your model as an HDF5 file via `model.save()` or `keras.saving.save_model(model)`. This file format is considered legacy. We recommend using instead the native Keras format, e.g. `model.save('my_model.keras')` or `keras.saving.save_model(model, 'my_model.keras')`. \n"
          ]
        },
        {
          "output_type": "stream",
          "name": "stdout",
          "text": [
            "\n",
            " mean perplexity: 1879.318932447573 \n",
            "\n",
            "Saved new model!\n",
            "\b\b\b\b\b\b\b\b\b\b\b\b\b\b\b\b\b\b\b\b\b\b\b\b\b\b\b\b\b\b\b\b\b\b\b\b\b\b\b\b\b\b\b\b\b\b\b\b\b\b\b\b\b\b\b\b\b\b\r\u001b[1m1005/1005\u001b[0m \u001b[32m━━━━━━━━━━━━━━━━━━━━\u001b[0m\u001b[37m\u001b[0m \u001b[1m17s\u001b[0m 17ms/step - loss: 3.2778\n",
            "Epoch 6/30\n",
            "\u001b[1m1001/1005\u001b[0m \u001b[32m━━━━━━━━━━━━━━━━━━━\u001b[0m\u001b[37m━\u001b[0m \u001b[1m0s\u001b[0m 10ms/step - loss: 3.2323"
          ]
        },
        {
          "output_type": "stream",
          "name": "stderr",
          "text": [
            "WARNING:absl:You are saving your model as an HDF5 file via `model.save()` or `keras.saving.save_model(model)`. This file format is considered legacy. We recommend using instead the native Keras format, e.g. `model.save('my_model.keras')` or `keras.saving.save_model(model, 'my_model.keras')`. \n"
          ]
        },
        {
          "output_type": "stream",
          "name": "stdout",
          "text": [
            "\n",
            " mean perplexity: 1764.476767389035 \n",
            "\n",
            "Saved new model!\n",
            "\b\b\b\b\b\b\b\b\b\b\b\b\b\b\b\b\b\b\b\b\b\b\b\b\b\b\b\b\b\b\b\b\b\b\b\b\b\b\b\b\b\b\b\b\b\b\b\b\b\b\b\b\b\b\b\b\b\b\r\u001b[1m1005/1005\u001b[0m \u001b[32m━━━━━━━━━━━━━━━━━━━━\u001b[0m\u001b[37m\u001b[0m \u001b[1m18s\u001b[0m 17ms/step - loss: 3.2322\n",
            "Epoch 7/30\n",
            "\u001b[1m1000/1005\u001b[0m \u001b[32m━━━━━━━━━━━━━━━━━━━\u001b[0m\u001b[37m━\u001b[0m \u001b[1m0s\u001b[0m 10ms/step - loss: 3.1799\n",
            " mean perplexity: 1776.0324689946724 \n",
            "\n",
            "\u001b[1m1005/1005\u001b[0m \u001b[32m━━━━━━━━━━━━━━━━━━━━\u001b[0m\u001b[37m\u001b[0m \u001b[1m17s\u001b[0m 17ms/step - loss: 3.1798\n",
            "Epoch 8/30\n",
            "\u001b[1m1000/1005\u001b[0m \u001b[32m━━━━━━━━━━━━━━━━━━━\u001b[0m\u001b[37m━\u001b[0m \u001b[1m0s\u001b[0m 10ms/step - loss: 3.1142"
          ]
        },
        {
          "output_type": "stream",
          "name": "stderr",
          "text": [
            "WARNING:absl:You are saving your model as an HDF5 file via `model.save()` or `keras.saving.save_model(model)`. This file format is considered legacy. We recommend using instead the native Keras format, e.g. `model.save('my_model.keras')` or `keras.saving.save_model(model, 'my_model.keras')`. \n"
          ]
        },
        {
          "output_type": "stream",
          "name": "stdout",
          "text": [
            "\n",
            " mean perplexity: 1683.9619703016176 \n",
            "\n",
            "Saved new model!\n",
            "\b\b\b\b\b\b\b\b\b\b\b\b\b\b\b\b\b\b\b\b\b\b\b\b\b\b\b\b\b\b\b\b\b\b\b\b\b\b\b\b\b\b\b\b\b\b\b\b\b\b\b\b\b\b\b\b\b\b\r\u001b[1m1005/1005\u001b[0m \u001b[32m━━━━━━━━━━━━━━━━━━━━\u001b[0m\u001b[37m\u001b[0m \u001b[1m18s\u001b[0m 18ms/step - loss: 3.1141\n",
            "Epoch 9/30\n",
            "\u001b[1m1003/1005\u001b[0m \u001b[32m━━━━━━━━━━━━━━━━━━━\u001b[0m\u001b[37m━\u001b[0m \u001b[1m0s\u001b[0m 10ms/step - loss: 3.0563\n",
            " mean perplexity: 1746.115627950734 \n",
            "\n",
            "\u001b[1m1005/1005\u001b[0m \u001b[32m━━━━━━━━━━━━━━━━━━━━\u001b[0m\u001b[37m\u001b[0m \u001b[1m18s\u001b[0m 18ms/step - loss: 3.0563\n",
            "Epoch 10/30\n",
            "\u001b[1m1000/1005\u001b[0m \u001b[32m━━━━━━━━━━━━━━━━━━━\u001b[0m\u001b[37m━\u001b[0m \u001b[1m0s\u001b[0m 10ms/step - loss: 3.0121\n",
            " mean perplexity: 1764.8844053520563 \n",
            "\n",
            "\u001b[1m1005/1005\u001b[0m \u001b[32m━━━━━━━━━━━━━━━━━━━━\u001b[0m\u001b[37m\u001b[0m \u001b[1m17s\u001b[0m 17ms/step - loss: 3.0120\n",
            "Epoch 11/30\n",
            "\u001b[1m1003/1005\u001b[0m \u001b[32m━━━━━━━━━━━━━━━━━━━\u001b[0m\u001b[37m━\u001b[0m \u001b[1m0s\u001b[0m 10ms/step - loss: 2.9656\n",
            " mean perplexity: 1768.9028265730656 \n",
            "\n",
            "\u001b[1m1005/1005\u001b[0m \u001b[32m━━━━━━━━━━━━━━━━━━━━\u001b[0m\u001b[37m\u001b[0m \u001b[1m17s\u001b[0m 17ms/step - loss: 2.9656\n",
            "Epoch 12/30\n",
            "\u001b[1m1004/1005\u001b[0m \u001b[32m━━━━━━━━━━━━━━━━━━━\u001b[0m\u001b[37m━\u001b[0m \u001b[1m0s\u001b[0m 10ms/step - loss: 2.9248\n",
            " mean perplexity: 1845.7206318707647 \n",
            "\n",
            "\u001b[1m1005/1005\u001b[0m \u001b[32m━━━━━━━━━━━━━━━━━━━━\u001b[0m\u001b[37m\u001b[0m \u001b[1m18s\u001b[0m 17ms/step - loss: 2.9248\n",
            "Epoch 13/30\n",
            "\u001b[1m1003/1005\u001b[0m \u001b[32m━━━━━━━━━━━━━━━━━━━\u001b[0m\u001b[37m━\u001b[0m \u001b[1m0s\u001b[0m 10ms/step - loss: 2.8907\n",
            " mean perplexity: 2009.953704309737 \n",
            "\n",
            "Stopping training...\n",
            "\u001b[1m1005/1005\u001b[0m \u001b[32m━━━━━━━━━━━━━━━━━━━━\u001b[0m\u001b[37m\u001b[0m \u001b[1m18s\u001b[0m 18ms/step - loss: 2.8907\n"
          ]
        }
      ]
    },
    {
      "cell_type": "code",
      "source": [
        "import matplotlib.pyplot as plt\n",
        "import seaborn as sns\n",
        "\n",
        "# Podemos graficar la evolución de la perplejidad con las épocas.\n",
        "# Recordar que el valor de perplejidad del modelo trivial es el tamaño del vocabulario.\n",
        "epoch_count = range(1, len(history_ppl) + 1)\n",
        "sns.lineplot(x=epoch_count,  y=history_ppl)\n",
        "plt.show()"
      ],
      "metadata": {
        "colab": {
          "base_uri": "https://localhost:8080/",
          "height": 430
        },
        "id": "3HmLwKGNAvle",
        "outputId": "6f24aa33-2cf8-42bb-fb5d-bdd18806134f"
      },
      "execution_count": 93,
      "outputs": [
        {
          "output_type": "display_data",
          "data": {
            "text/plain": [
              "<Figure size 640x480 with 1 Axes>"
            ],
            "image/png": "[encoded data removed]"
          },
          "metadata": {}
        }
      ]
    },
    {
      "cell_type": "code",
      "source": [
        "# Cargamos el mejor modelo guardado del entrenamiento para hacer inferencia\n",
        "model = keras.models.load_model('my_model.h5')"
      ],
      "metadata": {
        "colab": {
          "base_uri": "https://localhost:8080/"
        },
        "id": "7PKCImroBbEy",
        "outputId": "5e4558eb-738f-45e5-8bbb-343b82b576f2"
      },
      "execution_count": 55,
      "outputs": [
        {
          "output_type": "stream",
          "name": "stderr",
          "text": [
            "WARNING:absl:Compiled the loaded model, but the compiled metrics have yet to be built. `model.compile_metrics` will be empty until you train or evaluate the model.\n"
          ]
        }
      ]
    },
    {
      "cell_type": "code",
      "source": [
        "# Se puede usar gradio para probar el modelo\n",
        "# Gradio es una herramienta muy útil para crear interfaces para ensayar modelos\n",
        "# https://gradio.app/\n",
        "\n",
        "!pip install -q gradio"
      ],
      "metadata": {
        "colab": {
          "base_uri": "https://localhost:8080/"
        },
        "id": "JuvuipjfCf-4",
        "outputId": "f7ac2bae-79c8-45d2-8ecd-f3462d7307db"
      },
      "execution_count": 56,
      "outputs": [
        {
          "output_type": "stream",
          "name": "stdout",
          "text": [
            "\u001b[2K     \u001b[90m━━━━━━━━━━━━━━━━━━━━━━━━━━━━━━━━━━━━━━━━\u001b[0m \u001b[32m50.6/50.6 kB\u001b[0m \u001b[31m4.4 MB/s\u001b[0m eta \u001b[36m0:00:00\u001b[0m\n",
            "\u001b[2K   \u001b[90m━━━━━━━━━━━━━━━━━━━━━━━━━━━━━━━━━━━━━━━━\u001b[0m \u001b[32m56.7/56.7 MB\u001b[0m \u001b[31m41.5 MB/s\u001b[0m eta \u001b[36m0:00:00\u001b[0m\n",
            "\u001b[2K   \u001b[90m━━━━━━━━━━━━━━━━━━━━━━━━━━━━━━━━━━━━━━━━\u001b[0m \u001b[32m319.8/319.8 kB\u001b[0m \u001b[31m23.4 MB/s\u001b[0m eta \u001b[36m0:00:00\u001b[0m\n",
            "\u001b[2K   \u001b[90m━━━━━━━━━━━━━━━━━━━━━━━━━━━━━━━━━━━━━━━━\u001b[0m \u001b[32m94.6/94.6 kB\u001b[0m \u001b[31m8.5 MB/s\u001b[0m eta \u001b[36m0:00:00\u001b[0m\n",
            "\u001b[2K   \u001b[90m━━━━━━━━━━━━━━━━━━━━━━━━━━━━━━━━━━━━━━━━\u001b[0m \u001b[32m76.4/76.4 kB\u001b[0m \u001b[31m6.4 MB/s\u001b[0m eta \u001b[36m0:00:00\u001b[0m\n",
            "\u001b[2K   \u001b[90m━━━━━━━━━━━━━━━━━━━━━━━━━━━━━━━━━━━━━━━━\u001b[0m \u001b[32m78.0/78.0 kB\u001b[0m \u001b[31m6.9 MB/s\u001b[0m eta \u001b[36m0:00:00\u001b[0m\n",
            "\u001b[2K   \u001b[90m━━━━━━━━━━━━━━━━━━━━━━━━━━━━━━━━━━━━━━━━\u001b[0m \u001b[32m447.4/447.4 kB\u001b[0m \u001b[31m32.3 MB/s\u001b[0m eta \u001b[36m0:00:00\u001b[0m\n",
            "\u001b[2K   \u001b[90m━━━━━━━━━━━━━━━━━━━━━━━━━━━━━━━━━━━━━━━━\u001b[0m \u001b[32m144.5/144.5 kB\u001b[0m \u001b[31m14.4 MB/s\u001b[0m eta \u001b[36m0:00:00\u001b[0m\n",
            "\u001b[2K   \u001b[90m━━━━━━━━━━━━━━━━━━━━━━━━━━━━━━━━━━━━━━━━\u001b[0m \u001b[32m11.0/11.0 MB\u001b[0m \u001b[31m125.9 MB/s\u001b[0m eta \u001b[36m0:00:00\u001b[0m\n",
            "\u001b[2K   \u001b[90m━━━━━━━━━━━━━━━━━━━━━━━━━━━━━━━━━━━━━━━━\u001b[0m \u001b[32m73.2/73.2 kB\u001b[0m \u001b[31m7.2 MB/s\u001b[0m eta \u001b[36m0:00:00\u001b[0m\n",
            "\u001b[2K   \u001b[90m━━━━━━━━━━━━━━━━━━━━━━━━━━━━━━━━━━━━━━━━\u001b[0m \u001b[32m63.7/63.7 kB\u001b[0m \u001b[31m6.4 MB/s\u001b[0m eta \u001b[36m0:00:00\u001b[0m\n",
            "\u001b[2K   \u001b[90m━━━━━━━━━━━━━━━━━━━━━━━━━━━━━━━━━━━━━━━━\u001b[0m \u001b[32m58.3/58.3 kB\u001b[0m \u001b[31m5.9 MB/s\u001b[0m eta \u001b[36m0:00:00\u001b[0m\n",
            "\u001b[2K   \u001b[90m━━━━━━━━━━━━━━━━━━━━━━━━━━━━━━━━━━━━━━━━\u001b[0m \u001b[32m130.2/130.2 kB\u001b[0m \u001b[31m12.8 MB/s\u001b[0m eta \u001b[36m0:00:00\u001b[0m\n",
            "\u001b[?25h"
          ]
        }
      ]
    },
    {
      "cell_type": "code",
      "source": [
        "import gradio as gr\n",
        "\n",
        "def model_response(human_text):\n",
        "\n",
        "    # Encodeamos\n",
        "    encoded = tok.texts_to_sequences([human_text])[0]\n",
        "    # Si tienen distinto largo\n",
        "    encoded = pad_sequences([encoded], maxlen=max_context_size, padding='pre')\n",
        "\n",
        "    # Predicción softmax\n",
        "    y_hat = np.argmax(model.predict(encoded)[0,-1,:])\n",
        "\n",
        "\n",
        "    # Debemos buscar en el vocabulario la palabra\n",
        "    # que corresopnde al indice (y_hat) predicho por le modelo\n",
        "    out_word = ''\n",
        "    for word, index in tok.word_index.items():\n",
        "        if index == y_hat:\n",
        "            out_word = word\n",
        "            break\n",
        "\n",
        "    # Agrego la palabra a la frase predicha\n",
        "    return human_text + ' ' + out_word\n",
        "\n",
        "iface = gr.Interface(\n",
        "    fn=model_response,\n",
        "    inputs=[\"textbox\"],\n",
        "    outputs=\"text\")\n",
        "\n",
        "iface.launch(debug=True)"
      ],
      "metadata": {
        "colab": {
          "base_uri": "https://localhost:8080/",
          "height": 750
        },
        "id": "4c_bWGH3CpIP",
        "outputId": "19810a2e-89c3-4dd6-f329-35947d687793"
      },
      "execution_count": 57,
      "outputs": [
        {
          "output_type": "stream",
          "name": "stdout",
          "text": [
            "Running Gradio in a Colab notebook requires sharing enabled. Automatically setting `share=True` (you can turn this off by setting `share=False` in `launch()` explicitly).\n",
            "\n",
            "Colab notebook detected. This cell will run indefinitely so that you can see errors and logs. To turn off, set debug=False in launch().\n",
            "* Running on public URL: https://03b32058e905bfbd67.gradio.live\n",
            "\n",
            "This share link expires in 72 hours. For free permanent hosting and GPU upgrades, run `gradio deploy` from the terminal in the working directory to deploy to Hugging Face Spaces (https://huggingface.co/spaces)\n"
          ]
        },
        {
          "output_type": "display_data",
          "data": {
            "text/plain": [
              "<IPython.core.display.HTML object>"
            ],
            "text/html": [
              "<div><iframe src=\"https://03b32058e905bfbd67.gradio.live\" width=\"100%\" height=\"500\" allow=\"autoplay; camera; microphone; clipboard-read; clipboard-write;\" frameborder=\"0\" allowfullscreen></iframe></div>"
            ]
          },
          "metadata": {}
        },
        {
          "output_type": "stream",
          "name": "stdout",
          "text": [
            "\u001b[1m1/1\u001b[0m \u001b[32m━━━━━━━━━━━━━━━━━━━━\u001b[0m\u001b[37m\u001b[0m \u001b[1m0s\u001b[0m 185ms/step\n",
            "\u001b[1m1/1\u001b[0m \u001b[32m━━━━━━━━━━━━━━━━━━━━\u001b[0m\u001b[37m\u001b[0m \u001b[1m0s\u001b[0m 17ms/step\n",
            "\u001b[1m1/1\u001b[0m \u001b[32m━━━━━━━━━━━━━━━━━━━━\u001b[0m\u001b[37m\u001b[0m \u001b[1m0s\u001b[0m 18ms/step\n",
            "\u001b[1m1/1\u001b[0m \u001b[32m━━━━━━━━━━━━━━━━━━━━\u001b[0m\u001b[37m\u001b[0m \u001b[1m0s\u001b[0m 17ms/step\n",
            "Keyboard interruption in main thread... closing server.\n",
            "Killing tunnel 127.0.0.1:7860 <> https://03b32058e905bfbd67.gradio.live\n"
          ]
        },
        {
          "output_type": "execute_result",
          "data": {
            "text/plain": []
          },
          "metadata": {},
          "execution_count": 57
        }
      ]
    },
    {
      "cell_type": "code",
      "source": [
        "#Presenta el mismo problema que con los Beatles, se repite permanentemente la palabra 'the'"
      ],
      "metadata": {
        "id": "pVBWGMLOCwSX"
      },
      "execution_count": 58,
      "outputs": []
    },
    {
      "cell_type": "code",
      "source": [
        "def generate_seq(model, tokenizer, seed_text, max_length, n_words):\n",
        "    \"\"\"\n",
        "        Exec model sequence prediction\n",
        "\n",
        "        Args:\n",
        "            model (keras): modelo entrenado\n",
        "            tokenizer (keras tokenizer): tonenizer utilizado en el preprocesamiento\n",
        "            seed_text (string): texto de entrada (input_seq)\n",
        "            max_length (int): máxima longitud de la sequencia de entrada\n",
        "            n_words (int): números de palabras a agregar a la sequencia de entrada\n",
        "        returns:\n",
        "            output_text (string): sentencia con las \"n_words\" agregadas\n",
        "    \"\"\"\n",
        "    output_text = seed_text\n",
        "\t  # generate a fixed number of words\n",
        "    for _ in range(n_words):\n",
        "\t\t  # Tokenizamos\n",
        "      encoded = tokenizer.texts_to_sequences([output_text])[0]\n",
        "\n",
        "\t\t  # Si tienen distinto largo\n",
        "      encoded = pad_sequences([encoded], maxlen=max_length, padding='pre')\n",
        "\n",
        "\t\t  # Predicción softmax\n",
        "      y_hat = np.argmax(model.predict(encoded)[0,-1,:])\n",
        "\n",
        "      # Vamos concatenando las predicciones\n",
        "      out_word = ''\n",
        "\n",
        "      # Debemos buscar en el vocabulario la palabra\n",
        "      # que corresopnde al indice (y_hat) predicho por le modelo\n",
        "      for word, index in tokenizer.word_index.items():\n",
        "        if index == y_hat:\n",
        "          out_word = word\n",
        "          break\n",
        "\n",
        "\t\t  # Agrego las palabras a la frase predicha\n",
        "      output_text += ' ' + out_word\n",
        "\n",
        "    return output_text"
      ],
      "metadata": {
        "id": "IavajZ9hDMCS"
      },
      "execution_count": 59,
      "outputs": []
    },
    {
      "cell_type": "code",
      "source": [
        "input_text='it was mere idle talk'\n",
        "\n",
        "generate_seq(model, tok, input_text, max_length=max_context_size, n_words=3)"
      ],
      "metadata": {
        "colab": {
          "base_uri": "https://localhost:8080/",
          "height": 87
        },
        "id": "NjaaydioDUpg",
        "outputId": "0b957bdf-6122-41f9-a995-318dfe037085"
      },
      "execution_count": 61,
      "outputs": [
        {
          "output_type": "stream",
          "name": "stdout",
          "text": [
            "\u001b[1m1/1\u001b[0m \u001b[32m━━━━━━━━━━━━━━━━━━━━\u001b[0m\u001b[37m\u001b[0m \u001b[1m0s\u001b[0m 18ms/step\n",
            "\u001b[1m1/1\u001b[0m \u001b[32m━━━━━━━━━━━━━━━━━━━━\u001b[0m\u001b[37m\u001b[0m \u001b[1m0s\u001b[0m 19ms/step\n",
            "\u001b[1m1/1\u001b[0m \u001b[32m━━━━━━━━━━━━━━━━━━━━\u001b[0m\u001b[37m\u001b[0m \u001b[1m0s\u001b[0m 17ms/step\n"
          ]
        },
        {
          "output_type": "execute_result",
          "data": {
            "text/plain": [
              "'it was mere idle talk to a man'"
            ],
            "application/vnd.google.colaboratory.intrinsic+json": {
              "type": "string"
            }
          },
          "metadata": {},
          "execution_count": 61
        }
      ]
    },
    {
      "cell_type": "code",
      "source": [
        "#Busco una palabra que se use mucho, 'mentioned' frecuencia = 79\n",
        "\n",
        "input_text='i haven\\'t mentioned it'\n",
        "\n",
        "generate_seq(model, tok, input_text, max_length=max_context_size, n_words=5)"
      ],
      "metadata": {
        "colab": {
          "base_uri": "https://localhost:8080/",
          "height": 122
        },
        "id": "pULAhS1eDmig",
        "outputId": "5f647156-e5d4-46e5-bd03-3f60f840a5fc"
      },
      "execution_count": 63,
      "outputs": [
        {
          "output_type": "stream",
          "name": "stdout",
          "text": [
            "\u001b[1m1/1\u001b[0m \u001b[32m━━━━━━━━━━━━━━━━━━━━\u001b[0m\u001b[37m\u001b[0m \u001b[1m0s\u001b[0m 16ms/step\n",
            "\u001b[1m1/1\u001b[0m \u001b[32m━━━━━━━━━━━━━━━━━━━━\u001b[0m\u001b[37m\u001b[0m \u001b[1m0s\u001b[0m 16ms/step\n",
            "\u001b[1m1/1\u001b[0m \u001b[32m━━━━━━━━━━━━━━━━━━━━\u001b[0m\u001b[37m\u001b[0m \u001b[1m0s\u001b[0m 16ms/step\n",
            "\u001b[1m1/1\u001b[0m \u001b[32m━━━━━━━━━━━━━━━━━━━━\u001b[0m\u001b[37m\u001b[0m \u001b[1m0s\u001b[0m 17ms/step\n",
            "\u001b[1m1/1\u001b[0m \u001b[32m━━━━━━━━━━━━━━━━━━━━\u001b[0m\u001b[37m\u001b[0m \u001b[1m0s\u001b[0m 17ms/step\n"
          ]
        },
        {
          "output_type": "execute_result",
          "data": {
            "text/plain": [
              "\"i haven't mentioned it to be a man of\""
            ],
            "application/vnd.google.colaboratory.intrinsic+json": {
              "type": "string"
            }
          },
          "metadata": {},
          "execution_count": 63
        }
      ]
    },
    {
      "cell_type": "code",
      "source": [
        "#Probamos un modelo solo con simple RNN, many to many con return seq = true\n",
        "from keras.layers import SimpleRNN\n",
        "from keras.optimizers import RMSprop\n",
        "from sklearn.preprocessing import MinMaxScaler\n",
        "\n",
        "scaler = MinMaxScaler()\n",
        "X_scaled= scaler.fit_transform(X)  # Ajusta el escalador a tus datos ya que al correr el modelo la ppl y loss dan nan\n",
        "\n",
        "optimizer = RMSprop(learning_rate=0.00001, clipnorm=1.0) #Ponemos este optimizer ya que queremos ajustar el LR, ya que al correr el modelo la ppl y loss dan nan\n",
        "model_rnn = Sequential()\n",
        "model_rnn.add(Embedding(input_dim=vocab_size+1, output_dim=50, input_shape=(None,)))\n",
        "model_rnn.add(SimpleRNN(128, return_sequences=True))  # Activar return_sequences para many-to-many\n",
        "model_rnn.add(Dropout(0.2))\n",
        "model_rnn.add(SimpleRNN(128, return_sequences=True))\n",
        "model_rnn.add(Dense(vocab_size, activation='softmax'))  # Capa de salida\n",
        "\n",
        "model_rnn.compile(loss=SparseCategoricalCrossentropy(), optimizer=optimizer)\n",
        "\n",
        "model_rnn.summary()"
      ],
      "metadata": {
        "colab": {
          "base_uri": "https://localhost:8080/",
          "height": 361
        },
        "id": "W-XKkRQbEZCA",
        "outputId": "8f7138ab-1aca-435e-9b56-1fb141164309"
      },
      "execution_count": 73,
      "outputs": [
        {
          "output_type": "stream",
          "name": "stderr",
          "text": [
            "/usr/local/lib/python3.10/dist-packages/keras/src/layers/core/embedding.py:93: UserWarning: Do not pass an `input_shape`/`input_dim` argument to a layer. When using Sequential models, prefer using an `Input(shape)` object as the first layer in the model instead.\n",
            "  super().__init__(**kwargs)\n"
          ]
        },
        {
          "output_type": "display_data",
          "data": {
            "text/plain": [
              "\u001b[1mModel: \"sequential_6\"\u001b[0m\n"
            ],
            "text/html": [
              "<pre style=\"white-space:pre;overflow-x:auto;line-height:normal;font-family:Menlo,'DejaVu Sans Mono',consolas,'Courier New',monospace\"><span style=\"font-weight: bold\">Model: \"sequential_6\"</span>\n",
              "</pre>\n"
            ]
          },
          "metadata": {}
        },
        {
          "output_type": "display_data",
          "data": {
            "text/plain": [
              "┏━━━━━━━━━━━━━━━━━━━━━━━━━━━━━━━━━━━━━━┳━━━━━━━━━━━━━━━━━━━━━━━━━━━━━┳━━━━━━━━━━━━━━━━━┓\n",
              "┃\u001b[1m \u001b[0m\u001b[1mLayer (type)                        \u001b[0m\u001b[1m \u001b[0m┃\u001b[1m \u001b[0m\u001b[1mOutput Shape               \u001b[0m\u001b[1m \u001b[0m┃\u001b[1m \u001b[0m\u001b[1m        Param #\u001b[0m\u001b[1m \u001b[0m┃\n",
              "┡━━━━━━━━━━━━━━━━━━━━━━━━━━━━━━━━━━━━━━╇━━━━━━━━━━━━━━━━━━━━━━━━━━━━━╇━━━━━━━━━━━━━━━━━┩\n",
              "│ embedding_6 (\u001b[38;5;33mEmbedding\u001b[0m)              │ (\u001b[38;5;45mNone\u001b[0m, \u001b[38;5;45mNone\u001b[0m, \u001b[38;5;34m50\u001b[0m)            │         \u001b[38;5;34m358,800\u001b[0m │\n",
              "├──────────────────────────────────────┼─────────────────────────────┼─────────────────┤\n",
              "│ simple_rnn_8 (\u001b[38;5;33mSimpleRNN\u001b[0m)             │ (\u001b[38;5;45mNone\u001b[0m, \u001b[38;5;45mNone\u001b[0m, \u001b[38;5;34m128\u001b[0m)           │          \u001b[38;5;34m22,912\u001b[0m │\n",
              "├──────────────────────────────────────┼─────────────────────────────┼─────────────────┤\n",
              "│ dropout_5 (\u001b[38;5;33mDropout\u001b[0m)                  │ (\u001b[38;5;45mNone\u001b[0m, \u001b[38;5;45mNone\u001b[0m, \u001b[38;5;34m128\u001b[0m)           │               \u001b[38;5;34m0\u001b[0m │\n",
              "├──────────────────────────────────────┼─────────────────────────────┼─────────────────┤\n",
              "│ simple_rnn_9 (\u001b[38;5;33mSimpleRNN\u001b[0m)             │ (\u001b[38;5;45mNone\u001b[0m, \u001b[38;5;45mNone\u001b[0m, \u001b[38;5;34m128\u001b[0m)           │          \u001b[38;5;34m32,896\u001b[0m │\n",
              "├──────────────────────────────────────┼─────────────────────────────┼─────────────────┤\n",
              "│ dense_5 (\u001b[38;5;33mDense\u001b[0m)                      │ (\u001b[38;5;45mNone\u001b[0m, \u001b[38;5;45mNone\u001b[0m, \u001b[38;5;34m7175\u001b[0m)          │         \u001b[38;5;34m925,575\u001b[0m │\n",
              "└──────────────────────────────────────┴─────────────────────────────┴─────────────────┘\n"
            ],
            "text/html": [
              "<pre style=\"white-space:pre;overflow-x:auto;line-height:normal;font-family:Menlo,'DejaVu Sans Mono',consolas,'Courier New',monospace\">┏━━━━━━━━━━━━━━━━━━━━━━━━━━━━━━━━━━━━━━┳━━━━━━━━━━━━━━━━━━━━━━━━━━━━━┳━━━━━━━━━━━━━━━━━┓\n",
              "┃<span style=\"font-weight: bold\"> Layer (type)                         </span>┃<span style=\"font-weight: bold\"> Output Shape                </span>┃<span style=\"font-weight: bold\">         Param # </span>┃\n",
              "┡━━━━━━━━━━━━━━━━━━━━━━━━━━━━━━━━━━━━━━╇━━━━━━━━━━━━━━━━━━━━━━━━━━━━━╇━━━━━━━━━━━━━━━━━┩\n",
              "│ embedding_6 (<span style=\"color: #0087ff; text-decoration-color: #0087ff\">Embedding</span>)              │ (<span style=\"color: #00d7ff; text-decoration-color: #00d7ff\">None</span>, <span style=\"color: #00d7ff; text-decoration-color: #00d7ff\">None</span>, <span style=\"color: #00af00; text-decoration-color: #00af00\">50</span>)            │         <span style=\"color: #00af00; text-decoration-color: #00af00\">358,800</span> │\n",
              "├──────────────────────────────────────┼─────────────────────────────┼─────────────────┤\n",
              "│ simple_rnn_8 (<span style=\"color: #0087ff; text-decoration-color: #0087ff\">SimpleRNN</span>)             │ (<span style=\"color: #00d7ff; text-decoration-color: #00d7ff\">None</span>, <span style=\"color: #00d7ff; text-decoration-color: #00d7ff\">None</span>, <span style=\"color: #00af00; text-decoration-color: #00af00\">128</span>)           │          <span style=\"color: #00af00; text-decoration-color: #00af00\">22,912</span> │\n",
              "├──────────────────────────────────────┼─────────────────────────────┼─────────────────┤\n",
              "│ dropout_5 (<span style=\"color: #0087ff; text-decoration-color: #0087ff\">Dropout</span>)                  │ (<span style=\"color: #00d7ff; text-decoration-color: #00d7ff\">None</span>, <span style=\"color: #00d7ff; text-decoration-color: #00d7ff\">None</span>, <span style=\"color: #00af00; text-decoration-color: #00af00\">128</span>)           │               <span style=\"color: #00af00; text-decoration-color: #00af00\">0</span> │\n",
              "├──────────────────────────────────────┼─────────────────────────────┼─────────────────┤\n",
              "│ simple_rnn_9 (<span style=\"color: #0087ff; text-decoration-color: #0087ff\">SimpleRNN</span>)             │ (<span style=\"color: #00d7ff; text-decoration-color: #00d7ff\">None</span>, <span style=\"color: #00d7ff; text-decoration-color: #00d7ff\">None</span>, <span style=\"color: #00af00; text-decoration-color: #00af00\">128</span>)           │          <span style=\"color: #00af00; text-decoration-color: #00af00\">32,896</span> │\n",
              "├──────────────────────────────────────┼─────────────────────────────┼─────────────────┤\n",
              "│ dense_5 (<span style=\"color: #0087ff; text-decoration-color: #0087ff\">Dense</span>)                      │ (<span style=\"color: #00d7ff; text-decoration-color: #00d7ff\">None</span>, <span style=\"color: #00d7ff; text-decoration-color: #00d7ff\">None</span>, <span style=\"color: #00af00; text-decoration-color: #00af00\">7175</span>)          │         <span style=\"color: #00af00; text-decoration-color: #00af00\">925,575</span> │\n",
              "└──────────────────────────────────────┴─────────────────────────────┴─────────────────┘\n",
              "</pre>\n"
            ]
          },
          "metadata": {}
        },
        {
          "output_type": "display_data",
          "data": {
            "text/plain": [
              "\u001b[1m Total params: \u001b[0m\u001b[38;5;34m1,340,183\u001b[0m (5.11 MB)\n"
            ],
            "text/html": [
              "<pre style=\"white-space:pre;overflow-x:auto;line-height:normal;font-family:Menlo,'DejaVu Sans Mono',consolas,'Courier New',monospace\"><span style=\"font-weight: bold\"> Total params: </span><span style=\"color: #00af00; text-decoration-color: #00af00\">1,340,183</span> (5.11 MB)\n",
              "</pre>\n"
            ]
          },
          "metadata": {}
        },
        {
          "output_type": "display_data",
          "data": {
            "text/plain": [
              "\u001b[1m Trainable params: \u001b[0m\u001b[38;5;34m1,340,183\u001b[0m (5.11 MB)\n"
            ],
            "text/html": [
              "<pre style=\"white-space:pre;overflow-x:auto;line-height:normal;font-family:Menlo,'DejaVu Sans Mono',consolas,'Courier New',monospace\"><span style=\"font-weight: bold\"> Trainable params: </span><span style=\"color: #00af00; text-decoration-color: #00af00\">1,340,183</span> (5.11 MB)\n",
              "</pre>\n"
            ]
          },
          "metadata": {}
        },
        {
          "output_type": "display_data",
          "data": {
            "text/plain": [
              "\u001b[1m Non-trainable params: \u001b[0m\u001b[38;5;34m0\u001b[0m (0.00 B)\n"
            ],
            "text/html": [
              "<pre style=\"white-space:pre;overflow-x:auto;line-height:normal;font-family:Menlo,'DejaVu Sans Mono',consolas,'Courier New',monospace\"><span style=\"font-weight: bold\"> Non-trainable params: </span><span style=\"color: #00af00; text-decoration-color: #00af00\">0</span> (0.00 B)\n",
              "</pre>\n"
            ]
          },
          "metadata": {}
        }
      ]
    },
    {
      "cell_type": "code",
      "source": [
        "history_ppl_simplernn = []\n",
        "\n",
        "hist = model_rnn.fit(X_scaled, y, epochs=30, callbacks=[PplCallback(tokenized_sentences_val,history_ppl_simplernn)], batch_size=64)\n",
        "\n",
        "#Sigue dando NaN, puede ser que sea vanishing gradients"
      ],
      "metadata": {
        "colab": {
          "base_uri": "https://localhost:8080/"
        },
        "id": "US2Bo-qOPXZG",
        "outputId": "93e4662b-190c-473d-fdf6-4dc98d6fd433"
      },
      "execution_count": 74,
      "outputs": [
        {
          "output_type": "stream",
          "name": "stdout",
          "text": [
            "Epoch 1/30\n",
            "\u001b[1m1005/1005\u001b[0m \u001b[32m━━━━━━━━━━━━━━━━━━━━\u001b[0m\u001b[37m\u001b[0m \u001b[1m0s\u001b[0m 9ms/step - loss: nan\n",
            " mean perplexity: nan \n",
            "\n",
            "\u001b[1m1005/1005\u001b[0m \u001b[32m━━━━━━━━━━━━━━━━━━━━\u001b[0m\u001b[37m\u001b[0m \u001b[1m22s\u001b[0m 17ms/step - loss: nan\n",
            "Epoch 2/30\n",
            "\u001b[1m1000/1005\u001b[0m \u001b[32m━━━━━━━━━━━━━━━━━━━\u001b[0m\u001b[37m━\u001b[0m \u001b[1m0s\u001b[0m 6ms/step - loss: nan\n",
            " mean perplexity: nan \n",
            "\n",
            "\u001b[1m1005/1005\u001b[0m \u001b[32m━━━━━━━━━━━━━━━━━━━━\u001b[0m\u001b[37m\u001b[0m \u001b[1m13s\u001b[0m 13ms/step - loss: nan\n",
            "Epoch 3/30\n",
            "\u001b[1m 998/1005\u001b[0m \u001b[32m━━━━━━━━━━━━━━━━━━━\u001b[0m\u001b[37m━\u001b[0m \u001b[1m0s\u001b[0m 6ms/step - loss: nan\n",
            " mean perplexity: nan \n",
            "\n",
            "\u001b[1m1005/1005\u001b[0m \u001b[32m━━━━━━━━━━━━━━━━━━━━\u001b[0m\u001b[37m\u001b[0m \u001b[1m13s\u001b[0m 13ms/step - loss: nan\n",
            "Epoch 4/30\n",
            "\u001b[1m 997/1005\u001b[0m \u001b[32m━━━━━━━━━━━━━━━━━━━\u001b[0m\u001b[37m━\u001b[0m \u001b[1m0s\u001b[0m 6ms/step - loss: nan\n",
            " mean perplexity: nan \n",
            "\n",
            "\u001b[1m1005/1005\u001b[0m \u001b[32m━━━━━━━━━━━━━━━━━━━━\u001b[0m\u001b[37m\u001b[0m \u001b[1m13s\u001b[0m 13ms/step - loss: nan\n",
            "Epoch 5/30\n",
            "\u001b[1m1001/1005\u001b[0m \u001b[32m━━━━━━━━━━━━━━━━━━━\u001b[0m\u001b[37m━\u001b[0m \u001b[1m0s\u001b[0m 6ms/step - loss: nan\n",
            " mean perplexity: nan \n",
            "\n",
            "Stopping training...\n",
            "\u001b[1m1005/1005\u001b[0m \u001b[32m━━━━━━━━━━━━━━━━━━━━\u001b[0m\u001b[37m\u001b[0m \u001b[1m13s\u001b[0m 13ms/step - loss: nan\n"
          ]
        }
      ]
    },
    {
      "cell_type": "code",
      "source": [
        "from keras.layers import GRU\n",
        "#Probamos con un modelo de GRU\n",
        "\n",
        "model_gru = Sequential()\n",
        "\n",
        "# Capa de embedding entrenable\n",
        "model_gru.add(Embedding(input_dim=vocab_size + 1, output_dim=50, input_shape=(None,)))\n",
        "\n",
        "# Cambiamos LSTM por GRU\n",
        "model_gru.add(GRU(100, return_sequences=True))\n",
        "\n",
        "model_gru.add(GRU(100, return_sequences=True))\n",
        "\n",
        "# Predicción de clasificación con softmax\n",
        "model_gru.add(Dense(vocab_size + 1, activation='softmax'))\n",
        "\n",
        "# Clasificación múltiple categórica --> loss = categorical_crossentropy\n",
        "model_gru.compile(loss=SparseCategoricalCrossentropy(), optimizer='rmsprop')\n",
        "\n",
        "model_gru.summary()"
      ],
      "metadata": {
        "colab": {
          "base_uri": "https://localhost:8080/",
          "height": 327
        },
        "id": "aoH8QJegTDLX",
        "outputId": "e05c2374-3bd9-46b9-bae1-d754b110792f"
      },
      "execution_count": 75,
      "outputs": [
        {
          "output_type": "stream",
          "name": "stderr",
          "text": [
            "/usr/local/lib/python3.10/dist-packages/keras/src/layers/core/embedding.py:93: UserWarning: Do not pass an `input_shape`/`input_dim` argument to a layer. When using Sequential models, prefer using an `Input(shape)` object as the first layer in the model instead.\n",
            "  super().__init__(**kwargs)\n"
          ]
        },
        {
          "output_type": "display_data",
          "data": {
            "text/plain": [
              "\u001b[1mModel: \"sequential_7\"\u001b[0m\n"
            ],
            "text/html": [
              "<pre style=\"white-space:pre;overflow-x:auto;line-height:normal;font-family:Menlo,'DejaVu Sans Mono',consolas,'Courier New',monospace\"><span style=\"font-weight: bold\">Model: \"sequential_7\"</span>\n",
              "</pre>\n"
            ]
          },
          "metadata": {}
        },
        {
          "output_type": "display_data",
          "data": {
            "text/plain": [
              "┏━━━━━━━━━━━━━━━━━━━━━━━━━━━━━━━━━━━━━━┳━━━━━━━━━━━━━━━━━━━━━━━━━━━━━┳━━━━━━━━━━━━━━━━━┓\n",
              "┃\u001b[1m \u001b[0m\u001b[1mLayer (type)                        \u001b[0m\u001b[1m \u001b[0m┃\u001b[1m \u001b[0m\u001b[1mOutput Shape               \u001b[0m\u001b[1m \u001b[0m┃\u001b[1m \u001b[0m\u001b[1m        Param #\u001b[0m\u001b[1m \u001b[0m┃\n",
              "┡━━━━━━━━━━━━━━━━━━━━━━━━━━━━━━━━━━━━━━╇━━━━━━━━━━━━━━━━━━━━━━━━━━━━━╇━━━━━━━━━━━━━━━━━┩\n",
              "│ embedding_7 (\u001b[38;5;33mEmbedding\u001b[0m)              │ (\u001b[38;5;45mNone\u001b[0m, \u001b[38;5;45mNone\u001b[0m, \u001b[38;5;34m50\u001b[0m)            │         \u001b[38;5;34m358,800\u001b[0m │\n",
              "├──────────────────────────────────────┼─────────────────────────────┼─────────────────┤\n",
              "│ gru (\u001b[38;5;33mGRU\u001b[0m)                            │ (\u001b[38;5;45mNone\u001b[0m, \u001b[38;5;45mNone\u001b[0m, \u001b[38;5;34m100\u001b[0m)           │          \u001b[38;5;34m45,600\u001b[0m │\n",
              "├──────────────────────────────────────┼─────────────────────────────┼─────────────────┤\n",
              "│ gru_1 (\u001b[38;5;33mGRU\u001b[0m)                          │ (\u001b[38;5;45mNone\u001b[0m, \u001b[38;5;45mNone\u001b[0m, \u001b[38;5;34m100\u001b[0m)           │          \u001b[38;5;34m60,600\u001b[0m │\n",
              "├──────────────────────────────────────┼─────────────────────────────┼─────────────────┤\n",
              "│ dense_6 (\u001b[38;5;33mDense\u001b[0m)                      │ (\u001b[38;5;45mNone\u001b[0m, \u001b[38;5;45mNone\u001b[0m, \u001b[38;5;34m7176\u001b[0m)          │         \u001b[38;5;34m724,776\u001b[0m │\n",
              "└──────────────────────────────────────┴─────────────────────────────┴─────────────────┘\n"
            ],
            "text/html": [
              "<pre style=\"white-space:pre;overflow-x:auto;line-height:normal;font-family:Menlo,'DejaVu Sans Mono',consolas,'Courier New',monospace\">┏━━━━━━━━━━━━━━━━━━━━━━━━━━━━━━━━━━━━━━┳━━━━━━━━━━━━━━━━━━━━━━━━━━━━━┳━━━━━━━━━━━━━━━━━┓\n",
              "┃<span style=\"font-weight: bold\"> Layer (type)                         </span>┃<span style=\"font-weight: bold\"> Output Shape                </span>┃<span style=\"font-weight: bold\">         Param # </span>┃\n",
              "┡━━━━━━━━━━━━━━━━━━━━━━━━━━━━━━━━━━━━━━╇━━━━━━━━━━━━━━━━━━━━━━━━━━━━━╇━━━━━━━━━━━━━━━━━┩\n",
              "│ embedding_7 (<span style=\"color: #0087ff; text-decoration-color: #0087ff\">Embedding</span>)              │ (<span style=\"color: #00d7ff; text-decoration-color: #00d7ff\">None</span>, <span style=\"color: #00d7ff; text-decoration-color: #00d7ff\">None</span>, <span style=\"color: #00af00; text-decoration-color: #00af00\">50</span>)            │         <span style=\"color: #00af00; text-decoration-color: #00af00\">358,800</span> │\n",
              "├──────────────────────────────────────┼─────────────────────────────┼─────────────────┤\n",
              "│ gru (<span style=\"color: #0087ff; text-decoration-color: #0087ff\">GRU</span>)                            │ (<span style=\"color: #00d7ff; text-decoration-color: #00d7ff\">None</span>, <span style=\"color: #00d7ff; text-decoration-color: #00d7ff\">None</span>, <span style=\"color: #00af00; text-decoration-color: #00af00\">100</span>)           │          <span style=\"color: #00af00; text-decoration-color: #00af00\">45,600</span> │\n",
              "├──────────────────────────────────────┼─────────────────────────────┼─────────────────┤\n",
              "│ gru_1 (<span style=\"color: #0087ff; text-decoration-color: #0087ff\">GRU</span>)                          │ (<span style=\"color: #00d7ff; text-decoration-color: #00d7ff\">None</span>, <span style=\"color: #00d7ff; text-decoration-color: #00d7ff\">None</span>, <span style=\"color: #00af00; text-decoration-color: #00af00\">100</span>)           │          <span style=\"color: #00af00; text-decoration-color: #00af00\">60,600</span> │\n",
              "├──────────────────────────────────────┼─────────────────────────────┼─────────────────┤\n",
              "│ dense_6 (<span style=\"color: #0087ff; text-decoration-color: #0087ff\">Dense</span>)                      │ (<span style=\"color: #00d7ff; text-decoration-color: #00d7ff\">None</span>, <span style=\"color: #00d7ff; text-decoration-color: #00d7ff\">None</span>, <span style=\"color: #00af00; text-decoration-color: #00af00\">7176</span>)          │         <span style=\"color: #00af00; text-decoration-color: #00af00\">724,776</span> │\n",
              "└──────────────────────────────────────┴─────────────────────────────┴─────────────────┘\n",
              "</pre>\n"
            ]
          },
          "metadata": {}
        },
        {
          "output_type": "display_data",
          "data": {
            "text/plain": [
              "\u001b[1m Total params: \u001b[0m\u001b[38;5;34m1,189,776\u001b[0m (4.54 MB)\n"
            ],
            "text/html": [
              "<pre style=\"white-space:pre;overflow-x:auto;line-height:normal;font-family:Menlo,'DejaVu Sans Mono',consolas,'Courier New',monospace\"><span style=\"font-weight: bold\"> Total params: </span><span style=\"color: #00af00; text-decoration-color: #00af00\">1,189,776</span> (4.54 MB)\n",
              "</pre>\n"
            ]
          },
          "metadata": {}
        },
        {
          "output_type": "display_data",
          "data": {
            "text/plain": [
              "\u001b[1m Trainable params: \u001b[0m\u001b[38;5;34m1,189,776\u001b[0m (4.54 MB)\n"
            ],
            "text/html": [
              "<pre style=\"white-space:pre;overflow-x:auto;line-height:normal;font-family:Menlo,'DejaVu Sans Mono',consolas,'Courier New',monospace\"><span style=\"font-weight: bold\"> Trainable params: </span><span style=\"color: #00af00; text-decoration-color: #00af00\">1,189,776</span> (4.54 MB)\n",
              "</pre>\n"
            ]
          },
          "metadata": {}
        },
        {
          "output_type": "display_data",
          "data": {
            "text/plain": [
              "\u001b[1m Non-trainable params: \u001b[0m\u001b[38;5;34m0\u001b[0m (0.00 B)\n"
            ],
            "text/html": [
              "<pre style=\"white-space:pre;overflow-x:auto;line-height:normal;font-family:Menlo,'DejaVu Sans Mono',consolas,'Courier New',monospace\"><span style=\"font-weight: bold\"> Non-trainable params: </span><span style=\"color: #00af00; text-decoration-color: #00af00\">0</span> (0.00 B)\n",
              "</pre>\n"
            ]
          },
          "metadata": {}
        }
      ]
    },
    {
      "cell_type": "code",
      "source": [
        "history_ppl_gru = []\n",
        "hist_gru = model_gru.fit(X, y, epochs=30, callbacks=[PplCallback(tokenized_sentences_val,history_ppl_gru)], batch_size=64)"
      ],
      "metadata": {
        "colab": {
          "base_uri": "https://localhost:8080/"
        },
        "id": "H5CCngdqPmEa",
        "outputId": "4d891373-6954-4a41-9c60-a336fff987aa"
      },
      "execution_count": 76,
      "outputs": [
        {
          "output_type": "stream",
          "name": "stdout",
          "text": [
            "Epoch 1/30\n",
            "\u001b[1m1001/1005\u001b[0m \u001b[32m━━━━━━━━━━━━━━━━━━━\u001b[0m\u001b[37m━\u001b[0m \u001b[1m0s\u001b[0m 10ms/step - loss: 4.3043"
          ]
        },
        {
          "output_type": "stream",
          "name": "stderr",
          "text": [
            "WARNING:absl:You are saving your model as an HDF5 file via `model.save()` or `keras.saving.save_model(model)`. This file format is considered legacy. We recommend using instead the native Keras format, e.g. `model.save('my_model.keras')` or `keras.saving.save_model(model, 'my_model.keras')`. \n"
          ]
        },
        {
          "output_type": "stream",
          "name": "stdout",
          "text": [
            "\n",
            " mean perplexity: 2360.973131491359 \n",
            "\n",
            "Saved new model!\n",
            "\b\b\b\b\b\b\b\b\b\b\b\b\b\b\b\b\b\b\b\b\b\b\b\b\b\b\b\b\b\b\b\b\b\b\b\b\b\b\b\b\b\b\b\b\b\b\b\b\b\b\b\b\b\b\b\b\b\b\r\u001b[1m1005/1005\u001b[0m \u001b[32m━━━━━━━━━━━━━━━━━━━━\u001b[0m\u001b[37m\u001b[0m \u001b[1m19s\u001b[0m 17ms/step - loss: 4.3015\n",
            "Epoch 2/30\n",
            "\u001b[1m1001/1005\u001b[0m \u001b[32m━━━━━━━━━━━━━━━━━━━\u001b[0m\u001b[37m━\u001b[0m \u001b[1m0s\u001b[0m 10ms/step - loss: 3.3658\n",
            " mean perplexity: 2604.190766708327 \n",
            "\n",
            "\u001b[1m1005/1005\u001b[0m \u001b[32m━━━━━━━━━━━━━━━━━━━━\u001b[0m\u001b[37m\u001b[0m \u001b[1m17s\u001b[0m 17ms/step - loss: 3.3656\n",
            "Epoch 3/30\n",
            "\u001b[1m1003/1005\u001b[0m \u001b[32m━━━━━━━━━━━━━━━━━━━\u001b[0m\u001b[37m━\u001b[0m \u001b[1m0s\u001b[0m 10ms/step - loss: 3.2316\n",
            " mean perplexity: 3531.187772683813 \n",
            "\n",
            "\u001b[1m1005/1005\u001b[0m \u001b[32m━━━━━━━━━━━━━━━━━━━━\u001b[0m\u001b[37m\u001b[0m \u001b[1m17s\u001b[0m 17ms/step - loss: 3.2315\n",
            "Epoch 4/30\n",
            "\u001b[1m1003/1005\u001b[0m \u001b[32m━━━━━━━━━━━━━━━━━━━\u001b[0m\u001b[37m━\u001b[0m \u001b[1m0s\u001b[0m 10ms/step - loss: 3.1280"
          ]
        },
        {
          "output_type": "stream",
          "name": "stderr",
          "text": [
            "WARNING:absl:You are saving your model as an HDF5 file via `model.save()` or `keras.saving.save_model(model)`. This file format is considered legacy. We recommend using instead the native Keras format, e.g. `model.save('my_model.keras')` or `keras.saving.save_model(model, 'my_model.keras')`. \n"
          ]
        },
        {
          "output_type": "stream",
          "name": "stdout",
          "text": [
            "\n",
            " mean perplexity: 2067.5009407739 \n",
            "\n",
            "Saved new model!\n",
            "\b\b\b\b\b\b\b\b\b\b\b\b\b\b\b\b\b\b\b\b\b\b\b\b\b\b\b\b\b\b\b\b\b\b\b\b\b\b\b\b\b\b\b\b\b\b\b\b\b\b\b\b\b\b\b\b\b\b\r\u001b[1m1005/1005\u001b[0m \u001b[32m━━━━━━━━━━━━━━━━━━━━\u001b[0m\u001b[37m\u001b[0m \u001b[1m17s\u001b[0m 17ms/step - loss: 3.1280\n",
            "Epoch 5/30\n",
            "\u001b[1m1000/1005\u001b[0m \u001b[32m━━━━━━━━━━━━━━━━━━━\u001b[0m\u001b[37m━\u001b[0m \u001b[1m0s\u001b[0m 10ms/step - loss: 3.0936"
          ]
        },
        {
          "output_type": "stream",
          "name": "stderr",
          "text": [
            "WARNING:absl:You are saving your model as an HDF5 file via `model.save()` or `keras.saving.save_model(model)`. This file format is considered legacy. We recommend using instead the native Keras format, e.g. `model.save('my_model.keras')` or `keras.saving.save_model(model, 'my_model.keras')`. \n"
          ]
        },
        {
          "output_type": "stream",
          "name": "stdout",
          "text": [
            "\n",
            " mean perplexity: 2016.6713556540672 \n",
            "\n",
            "Saved new model!\n",
            "\b\b\b\b\b\b\b\b\b\b\b\b\b\b\b\b\b\b\b\b\b\b\b\b\b\b\b\b\b\b\b\b\b\b\b\b\b\b\b\b\b\b\b\b\b\b\b\b\b\b\b\b\b\b\b\b\b\b\r\u001b[1m1005/1005\u001b[0m \u001b[32m━━━━━━━━━━━━━━━━━━━━\u001b[0m\u001b[37m\u001b[0m \u001b[1m17s\u001b[0m 17ms/step - loss: 3.0935\n",
            "Epoch 6/30\n",
            "\u001b[1m1003/1005\u001b[0m \u001b[32m━━━━━━━━━━━━━━━━━━━\u001b[0m\u001b[37m━\u001b[0m \u001b[1m0s\u001b[0m 10ms/step - loss: 3.0440"
          ]
        },
        {
          "output_type": "stream",
          "name": "stderr",
          "text": [
            "WARNING:absl:You are saving your model as an HDF5 file via `model.save()` or `keras.saving.save_model(model)`. This file format is considered legacy. We recommend using instead the native Keras format, e.g. `model.save('my_model.keras')` or `keras.saving.save_model(model, 'my_model.keras')`. \n"
          ]
        },
        {
          "output_type": "stream",
          "name": "stdout",
          "text": [
            "\n",
            " mean perplexity: 1983.0379249096952 \n",
            "\n",
            "Saved new model!\n",
            "\b\b\b\b\b\b\b\b\b\b\b\b\b\b\b\b\b\b\b\b\b\b\b\b\b\b\b\b\b\b\b\b\b\b\b\b\b\b\b\b\b\b\b\b\b\b\b\b\b\b\b\b\b\b\b\b\b\b\r\u001b[1m1005/1005\u001b[0m \u001b[32m━━━━━━━━━━━━━━━━━━━━\u001b[0m\u001b[37m\u001b[0m \u001b[1m17s\u001b[0m 17ms/step - loss: 3.0439\n",
            "Epoch 7/30\n",
            "\u001b[1m1001/1005\u001b[0m \u001b[32m━━━━━━━━━━━━━━━━━━━\u001b[0m\u001b[37m━\u001b[0m \u001b[1m0s\u001b[0m 10ms/step - loss: 3.0010\n",
            " mean perplexity: 2201.182204147027 \n",
            "\n",
            "\u001b[1m1005/1005\u001b[0m \u001b[32m━━━━━━━━━━━━━━━━━━━━\u001b[0m\u001b[37m\u001b[0m \u001b[1m17s\u001b[0m 17ms/step - loss: 3.0009\n",
            "Epoch 8/30\n",
            "\u001b[1m1000/1005\u001b[0m \u001b[32m━━━━━━━━━━━━━━━━━━━\u001b[0m\u001b[37m━\u001b[0m \u001b[1m0s\u001b[0m 10ms/step - loss: 2.9487"
          ]
        },
        {
          "output_type": "stream",
          "name": "stderr",
          "text": [
            "WARNING:absl:You are saving your model as an HDF5 file via `model.save()` or `keras.saving.save_model(model)`. This file format is considered legacy. We recommend using instead the native Keras format, e.g. `model.save('my_model.keras')` or `keras.saving.save_model(model, 'my_model.keras')`. \n"
          ]
        },
        {
          "output_type": "stream",
          "name": "stdout",
          "text": [
            "\n",
            " mean perplexity: 1876.0646748429278 \n",
            "\n",
            "Saved new model!\n",
            "\b\b\b\b\b\b\b\b\b\b\b\b\b\b\b\b\b\b\b\b\b\b\b\b\b\b\b\b\b\b\b\b\b\b\b\b\b\b\b\b\b\b\b\b\b\b\b\b\b\b\b\b\b\b\b\b\b\b\r\u001b[1m1005/1005\u001b[0m \u001b[32m━━━━━━━━━━━━━━━━━━━━\u001b[0m\u001b[37m\u001b[0m \u001b[1m17s\u001b[0m 17ms/step - loss: 2.9487\n",
            "Epoch 9/30\n",
            "\u001b[1m1000/1005\u001b[0m \u001b[32m━━━━━━━━━━━━━━━━━━━\u001b[0m\u001b[37m━\u001b[0m \u001b[1m0s\u001b[0m 10ms/step - loss: 2.9242"
          ]
        },
        {
          "output_type": "stream",
          "name": "stderr",
          "text": [
            "WARNING:absl:You are saving your model as an HDF5 file via `model.save()` or `keras.saving.save_model(model)`. This file format is considered legacy. We recommend using instead the native Keras format, e.g. `model.save('my_model.keras')` or `keras.saving.save_model(model, 'my_model.keras')`. \n"
          ]
        },
        {
          "output_type": "stream",
          "name": "stdout",
          "text": [
            "\n",
            " mean perplexity: 1820.9713203783922 \n",
            "\n",
            "Saved new model!\n",
            "\b\b\b\b\b\b\b\b\b\b\b\b\b\b\b\b\b\b\b\b\b\b\b\b\b\b\b\b\b\b\b\b\b\b\b\b\b\b\b\b\b\b\b\b\b\b\b\b\b\b\b\b\b\b\b\b\b\b\r\u001b[1m1005/1005\u001b[0m \u001b[32m━━━━━━━━━━━━━━━━━━━━\u001b[0m\u001b[37m\u001b[0m \u001b[1m17s\u001b[0m 17ms/step - loss: 2.9242\n",
            "Epoch 10/30\n",
            "\u001b[1m1003/1005\u001b[0m \u001b[32m━━━━━━━━━━━━━━━━━━━\u001b[0m\u001b[37m━\u001b[0m \u001b[1m0s\u001b[0m 10ms/step - loss: 2.8927\n",
            " mean perplexity: 1883.9324958477998 \n",
            "\n",
            "\u001b[1m1005/1005\u001b[0m \u001b[32m━━━━━━━━━━━━━━━━━━━━\u001b[0m\u001b[37m\u001b[0m \u001b[1m17s\u001b[0m 17ms/step - loss: 2.8927\n",
            "Epoch 11/30\n",
            "\u001b[1m1000/1005\u001b[0m \u001b[32m━━━━━━━━━━━━━━━━━━━\u001b[0m\u001b[37m━\u001b[0m \u001b[1m0s\u001b[0m 10ms/step - loss: 2.8666\n",
            " mean perplexity: 1827.0826193205278 \n",
            "\n",
            "\u001b[1m1005/1005\u001b[0m \u001b[32m━━━━━━━━━━━━━━━━━━━━\u001b[0m\u001b[37m\u001b[0m \u001b[1m17s\u001b[0m 17ms/step - loss: 2.8665\n",
            "Epoch 12/30\n",
            "\u001b[1m1004/1005\u001b[0m \u001b[32m━━━━━━━━━━━━━━━━━━━\u001b[0m\u001b[37m━\u001b[0m \u001b[1m0s\u001b[0m 10ms/step - loss: 2.8313\n",
            " mean perplexity: 2994.475544950934 \n",
            "\n",
            "\u001b[1m1005/1005\u001b[0m \u001b[32m━━━━━━━━━━━━━━━━━━━━\u001b[0m\u001b[37m\u001b[0m \u001b[1m17s\u001b[0m 17ms/step - loss: 2.8313\n",
            "Epoch 13/30\n",
            "\u001b[1m1003/1005\u001b[0m \u001b[32m━━━━━━━━━━━━━━━━━━━\u001b[0m\u001b[37m━\u001b[0m \u001b[1m0s\u001b[0m 10ms/step - loss: 2.8038\n",
            " mean perplexity: 1874.9366985433464 \n",
            "\n",
            "\u001b[1m1005/1005\u001b[0m \u001b[32m━━━━━━━━━━━━━━━━━━━━\u001b[0m\u001b[37m\u001b[0m \u001b[1m17s\u001b[0m 17ms/step - loss: 2.8037\n",
            "Epoch 14/30\n",
            "\u001b[1m1001/1005\u001b[0m \u001b[32m━━━━━━━━━━━━━━━━━━━\u001b[0m\u001b[37m━\u001b[0m \u001b[1m0s\u001b[0m 10ms/step - loss: 2.7779\n",
            " mean perplexity: 1879.38603499212 \n",
            "\n",
            "Stopping training...\n",
            "\u001b[1m1005/1005\u001b[0m \u001b[32m━━━━━━━━━━━━━━━━━━━━\u001b[0m\u001b[37m\u001b[0m \u001b[1m17s\u001b[0m 17ms/step - loss: 2.7779\n"
          ]
        }
      ]
    },
    {
      "cell_type": "code",
      "source": [
        "#Acá me doy cuenta que he estado salvando todos los modelos con el mismo nombre, no sé si se estarán reescribiendo\n",
        "model_gru = keras.models.load_model('my_model.h5')"
      ],
      "metadata": {
        "colab": {
          "base_uri": "https://localhost:8080/"
        },
        "id": "Es5cZCHwVRu3",
        "outputId": "f22f8231-15aa-4f5b-8ad5-b5063cfc9fd8"
      },
      "execution_count": 78,
      "outputs": [
        {
          "output_type": "stream",
          "name": "stderr",
          "text": [
            "WARNING:absl:Compiled the loaded model, but the compiled metrics have yet to be built. `model.compile_metrics` will be empty until you train or evaluate the model.\n"
          ]
        }
      ]
    },
    {
      "cell_type": "code",
      "source": [
        "#Acá con GRU sigue enfocado en la palabra 'the' por lo que no sé si estoy usando mal gradio o la callback function y sigo usando el modelo original con LSTM\n",
        "#o es que efectivamente no hay mucha diferencia entre el performance de LSTM y GRU con esta cantidad de datos\n",
        "\n",
        "def model_response(human_text):\n",
        "\n",
        "    # Encodeamos\n",
        "    encoded = tok.texts_to_sequences([human_text])[0]\n",
        "    # Si tienen distinto largo\n",
        "    encoded = pad_sequences([encoded], maxlen=max_context_size, padding='pre')\n",
        "\n",
        "    # Predicción softmax\n",
        "    y_hat = np.argmax(model_gru.predict(encoded)[0,-1,:])\n",
        "\n",
        "\n",
        "    # Debemos buscar en el vocabulario la palabra\n",
        "    # que corresopnde al indice (y_hat) predicho por le modelo\n",
        "    out_word = ''\n",
        "    for word, index in tok.word_index.items():\n",
        "        if index == y_hat:\n",
        "            out_word = word\n",
        "            break\n",
        "\n",
        "    # Agrego la palabra a la frase predicha\n",
        "    return human_text + ' ' + out_word\n",
        "\n",
        "iface = gr.Interface(\n",
        "    fn=model_response,\n",
        "    inputs=[\"textbox\"],\n",
        "    outputs=\"text\")\n",
        "\n",
        "iface.launch(debug=True)"
      ],
      "metadata": {
        "colab": {
          "base_uri": "https://localhost:8080/",
          "height": 715
        },
        "id": "hzuj7ukhVjCd",
        "outputId": "1b82cd4b-4472-4232-c8d0-b79df1e5320b"
      },
      "execution_count": 79,
      "outputs": [
        {
          "output_type": "stream",
          "name": "stdout",
          "text": [
            "Running Gradio in a Colab notebook requires sharing enabled. Automatically setting `share=True` (you can turn this off by setting `share=False` in `launch()` explicitly).\n",
            "\n",
            "Colab notebook detected. This cell will run indefinitely so that you can see errors and logs. To turn off, set debug=False in launch().\n",
            "* Running on public URL: https://9dffc79f24c69cbf12.gradio.live\n",
            "\n",
            "This share link expires in 72 hours. For free permanent hosting and GPU upgrades, run `gradio deploy` from the terminal in the working directory to deploy to Hugging Face Spaces (https://huggingface.co/spaces)\n"
          ]
        },
        {
          "output_type": "display_data",
          "data": {
            "text/plain": [
              "<IPython.core.display.HTML object>"
            ],
            "text/html": [
              "<div><iframe src=\"https://9dffc79f24c69cbf12.gradio.live\" width=\"100%\" height=\"500\" allow=\"autoplay; camera; microphone; clipboard-read; clipboard-write;\" frameborder=\"0\" allowfullscreen></iframe></div>"
            ]
          },
          "metadata": {}
        },
        {
          "output_type": "stream",
          "name": "stdout",
          "text": [
            "\u001b[1m1/1\u001b[0m \u001b[32m━━━━━━━━━━━━━━━━━━━━\u001b[0m\u001b[37m\u001b[0m \u001b[1m0s\u001b[0m 152ms/step\n",
            "\u001b[1m1/1\u001b[0m \u001b[32m━━━━━━━━━━━━━━━━━━━━\u001b[0m\u001b[37m\u001b[0m \u001b[1m0s\u001b[0m 18ms/step\n",
            "Keyboard interruption in main thread... closing server.\n",
            "Killing tunnel 127.0.0.1:7860 <> https://9dffc79f24c69cbf12.gradio.live\n"
          ]
        },
        {
          "output_type": "execute_result",
          "data": {
            "text/plain": []
          },
          "metadata": {},
          "execution_count": 79
        }
      ]
    },
    {
      "cell_type": "code",
      "source": [
        "# BEAM SEARCH con el modelo original. Instancié nuevamente el modelo y lo entrené para poder usarlo acá ya que creo que al usar varias veces la callback funciton los fui pisando\n",
        "\n",
        "# funcionalidades para hacer encoding y decoding\n",
        "\n",
        "def encode(text,max_length=max_context_size):\n",
        "\n",
        "    encoded = tok.texts_to_sequences([text])[0]\n",
        "    encoded = pad_sequences([encoded], maxlen=max_length, padding='pre')\n",
        "\n",
        "    return encoded\n",
        "\n",
        "def decode(seq):\n",
        "    return tok.sequences_to_texts([seq])"
      ],
      "metadata": {
        "id": "2hjrV1ujW-Ib"
      },
      "execution_count": 86,
      "outputs": []
    },
    {
      "cell_type": "code",
      "source": [
        "from scipy.special import softmax\n",
        "\n",
        "# función que selecciona candidatos para el beam search\n",
        "def select_candidates(pred,num_beams,vocab_size,history_probs,history_tokens,temp,mode):\n",
        "\n",
        "  # colectar todas las probabilidades para la siguiente búsqueda\n",
        "  pred_large = []\n",
        "\n",
        "  for idx,pp in enumerate(pred):\n",
        "    pred_large.extend(np.log(pp+1E-10)+history_probs[idx])\n",
        "\n",
        "  pred_large = np.array(pred_large)\n",
        "\n",
        "  # criterio de selección\n",
        "  if mode == 'det':\n",
        "    idx_select = np.argsort(pred_large)[::-1][:num_beams] # beam search determinista\n",
        "  elif mode == 'sto':\n",
        "    idx_select = np.random.choice(np.arange(pred_large.shape[0]), num_beams, p=softmax(pred_large/temp)) # beam search con muestreo aleatorio\n",
        "  else:\n",
        "    raise ValueError(f'Wrong selection mode. {mode} was given. det and sto are supported.')\n",
        "\n",
        "  # traducir a índices de token en el vocabulario\n",
        "  new_history_tokens = np.concatenate((np.array(history_tokens)[idx_select//vocab_size],\n",
        "                        np.array([idx_select%vocab_size]).T),\n",
        "                      axis=1)\n",
        "\n",
        "  # devolver el producto de las probabilidades (log) y la secuencia de tokens seleccionados\n",
        "  return pred_large[idx_select.astype(int)], new_history_tokens.astype(int)\n",
        "\n",
        "\n",
        "def beam_search(model,num_beams,num_words,input,temp=1,mode='det'):\n",
        "\n",
        "    # first iteration\n",
        "\n",
        "    # encode\n",
        "    encoded = encode(input)\n",
        "\n",
        "    # first prediction\n",
        "    y_hat = model.predict(encoded,verbose=0)[0,-1,:]\n",
        "\n",
        "    # get vocabulary size\n",
        "    vocab_size = y_hat.shape[0]\n",
        "\n",
        "    # initialize history\n",
        "    history_probs = [0]*num_beams\n",
        "    history_tokens = [encoded[0]]*num_beams\n",
        "\n",
        "    # select num_beams candidates\n",
        "    history_probs, history_tokens = select_candidates([y_hat],\n",
        "                                        num_beams,\n",
        "                                        vocab_size,\n",
        "                                        history_probs,\n",
        "                                        history_tokens,\n",
        "                                        temp,\n",
        "                                        mode)\n",
        "\n",
        "    # beam search loop\n",
        "    for i in range(num_words-1):\n",
        "\n",
        "      preds = []\n",
        "\n",
        "      for hist in history_tokens:\n",
        "\n",
        "        # actualizar secuencia de tokens\n",
        "        input_update = np.array([hist[i+1:]]).copy()\n",
        "\n",
        "        # predicción\n",
        "        y_hat = model.predict(input_update,verbose=0)[0,-1,:]\n",
        "\n",
        "        preds.append(y_hat)\n",
        "\n",
        "      history_probs, history_tokens = select_candidates(preds,\n",
        "                                                        num_beams,\n",
        "                                                        vocab_size,\n",
        "                                                        history_probs,\n",
        "                                                        history_tokens,\n",
        "                                                        temp,\n",
        "                                                        mode)\n",
        "\n",
        "    return history_tokens"
      ],
      "metadata": {
        "id": "Lh9Btb5BYbWE"
      },
      "execution_count": 87,
      "outputs": []
    },
    {
      "cell_type": "code",
      "source": [
        "# Observemos salidas con distintas temperaturas con determinista\n",
        "print(decode(beam_search(model,num_beams=10,num_words=5,input=\"Make certain that\", temp=1)[0]))\n",
        "print(decode(beam_search(model,num_beams=10,num_words=5,input=\"Make certain that\", temp=0.5)[0]))\n",
        "print(decode(beam_search(model,num_beams=10,num_words=5,input=\"Make certain that\", temp=2)[0]))\n",
        "print(decode(beam_search(model,num_beams=10,num_words=5,input=\"Make certain that\", temp=10)[0]))\n",
        "print(decode(beam_search(model,num_beams=10,num_words=5,input=\"Make certain that\", temp=20)[0]))"
      ],
      "metadata": {
        "colab": {
          "base_uri": "https://localhost:8080/"
        },
        "id": "WEN8v8TQY0DY",
        "outputId": "55281a91-c663-4deb-9e86-e588915bc0f8"
      },
      "execution_count": 89,
      "outputs": [
        {
          "output_type": "stream",
          "name": "stdout",
          "text": [
            "['make certain that i had been at the']\n",
            "['make certain that i had been at the']\n",
            "['make certain that i had been at the']\n",
            "['make certain that i had been at the']\n",
            "['make certain that i had been at the']\n"
          ]
        }
      ]
    },
    {
      "cell_type": "code",
      "source": [
        "# Observemos salidas con distintas temperaturas con sto\n",
        "print(decode(beam_search(model,num_beams=10,num_words=5,input=\"Make certain that\", temp=1, mode='sto')[0]))\n",
        "print(decode(beam_search(model,num_beams=10,num_words=5,input=\"Make certain that\", temp=0.5, mode='sto')[0]))\n",
        "print(decode(beam_search(model,num_beams=10,num_words=5,input=\"Make certain that\", temp=2, mode='sto')[0]))\n",
        "print(decode(beam_search(model,num_beams=10,num_words=5,input=\"Make certain that\", temp=10, mode='sto')[0]))\n",
        "print(decode(beam_search(model,num_beams=10,num_words=5,input=\"Make certain that\", temp=20, mode='sto')[0]))"
      ],
      "metadata": {
        "colab": {
          "base_uri": "https://localhost:8080/"
        },
        "id": "Dr2tntdQbRfU",
        "outputId": "f3f5f2e3-584b-4f22-910c-8e37788a8e51"
      },
      "execution_count": 92,
      "outputs": [
        {
          "output_type": "stream",
          "name": "stdout",
          "text": [
            "['make certain that i want to you have']\n",
            "['make certain that i know ” i said']\n",
            "['make certain that this very than boxes he—he—positively']\n",
            "['make certain that to—shall stammered characters proprietary it—that’s']\n",
            "['make certain that minute shorn mrs chimed hydrochloride']\n"
          ]
        }
      ]
    }
  ]
}